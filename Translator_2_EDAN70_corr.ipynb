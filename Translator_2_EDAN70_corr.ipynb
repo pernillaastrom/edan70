{
 "cells": [
  {
   "cell_type": "markdown",
   "metadata": {},
   "source": [
    "# Machine Translation with Transformers\n",
    "\n",
    "Corpora: Tatoeba https://tatoeba.org/downloads and the Anki curated version: https://www.manythings.org/anki/\n",
    "\n",
    "Authors: Maja Rygård and Alice Tottie and Pernilla Åström"
   ]
  },
  {
   "cell_type": "code",
   "execution_count": 4,
   "metadata": {},
   "outputs": [],
   "source": [
    "import sys\n",
    "from torch import Tensor\n",
    "import torch\n",
    "import torch.nn as nn\n",
    "from torch.nn import Transformer\n",
    "from torch.utils.data import dataset\n",
    "from torch.nn.utils.rnn import pad_sequence\n",
    "import random\n",
    "from torch.optim.lr_scheduler import LambdaLR\n",
    "import numpy as np\n",
    "import math\n",
    "import matplotlib.pyplot as plt\n",
    "from tqdm import tqdm\n",
    "import sentencepiece as spm\n",
    "from torch.utils.data import Dataset, DataLoader\n",
    "from torcheval.metrics.functional import bleu_score"
   ]
  },
  {
   "cell_type": "code",
   "execution_count": 5,
   "metadata": {},
   "outputs": [
    {
     "data": {
      "text/plain": [
       "<torch._C.Generator at 0x11e6c2010>"
      ]
     },
     "execution_count": 5,
     "metadata": {},
     "output_type": "execute_result"
    }
   ],
   "source": [
    "random.seed(1234)\n",
    "np.random.seed(1234)\n",
    "torch.manual_seed(1234)"
   ]
  },
  {
   "cell_type": "code",
   "execution_count": 6,
   "metadata": {},
   "outputs": [],
   "source": [
    "#!pip install -U 'numpy<2'"
   ]
  },
  {
   "cell_type": "code",
   "execution_count": 7,
   "metadata": {},
   "outputs": [
    {
     "data": {
      "text/plain": [
       "device(type='cpu')"
      ]
     },
     "execution_count": 7,
     "metadata": {},
     "output_type": "execute_result"
    }
   ],
   "source": [
    "# if torch.cuda.is_available():\n",
    "#    device = 'cuda'\n",
    "# else:\n",
    "#    device = 'cpu'\n",
    "device = 'mps'\n",
    "device = 'cpu'\n",
    "DEVICE = torch.device(device)\n",
    "DEVICE"
   ]
  },
  {
   "cell_type": "code",
   "execution_count": 8,
   "metadata": {},
   "outputs": [],
   "source": [
    "data_path = 'swe_eng.tsv'"
   ]
  },
  {
   "cell_type": "code",
   "execution_count": 9,
   "metadata": {},
   "outputs": [],
   "source": [
    "data = open(\"swe_eng.tsv\", \"r\").read()\n",
    "data = data[1:]\n",
    "lines = data.split(\"\\n\")"
   ]
  },
  {
   "cell_type": "code",
   "execution_count": 10,
   "metadata": {},
   "outputs": [
    {
     "data": {
      "text/plain": [
       "['337413\\tVi trodde att det var ett flygande tefat.\\t248176\\tWe believed it to be a flying saucer.',\n",
       " '341910\\tDetta är huset jag bodde i när jag var barn.\\t56221\\tThis is the house where I lived when I was a child.']"
      ]
     },
     "execution_count": 10,
     "metadata": {},
     "output_type": "execute_result"
    }
   ],
   "source": [
    "lines[:2]"
   ]
  },
  {
   "cell_type": "code",
   "execution_count": 11,
   "metadata": {},
   "outputs": [],
   "source": [
    "input_texts = []\n",
    "target_texts = []\n",
    "for line in lines:\n",
    "    if len(line.strip()) > 0:\n",
    "        _, eng, _, swe = tuple(line.split(\"\\t\"))\n",
    "        input_texts.append(eng)\n",
    "        target_texts.append(swe)"
   ]
  },
  {
   "cell_type": "code",
   "execution_count": 12,
   "metadata": {
    "scrolled": true
   },
   "outputs": [],
   "source": [
    "# num_samples = 5000\n",
    "# input_texts = []\n",
    "# target_texts = []\n",
    "\n",
    "# with open(data_path, \"r\", encoding=\"utf-8\") as f:\n",
    "#    lines = f.readlines()\n",
    "\n",
    "# for line in lines[: min(num_samples, len(lines) - 1)]:\n",
    "#    input_text, target_text, _ = line.strip().split(\"\\t\")\n",
    "#    input_texts.append(input_text)\n",
    "#    target_texts.append(target_text)\n",
    "\n",
    "# print(input_texts)\n",
    "# print(target_texts)\n",
    "\n",
    "with open(\"all_texts.txt\", \"w\", encoding='utf-8') as f:\n",
    "    for input_text, target_text in zip(input_texts, target_texts):\n",
    "        f.write(input_text + '\\n')\n",
    "        f.write(target_text + '\\n')"
   ]
  },
  {
   "cell_type": "code",
   "execution_count": 13,
   "metadata": {},
   "outputs": [
    {
     "name": "stdout",
     "output_type": "stream",
     "text": [
      "Där såg han det han hade drömt om.\n",
      "He saw there what he had dreamed about.\n"
     ]
    }
   ],
   "source": [
    "print(input_texts[500])\n",
    "\n",
    "print(target_texts[500])"
   ]
  },
  {
   "cell_type": "code",
   "execution_count": 14,
   "metadata": {},
   "outputs": [],
   "source": [
    "num_samples = len(input_texts)"
   ]
  },
  {
   "cell_type": "code",
   "execution_count": 15,
   "metadata": {},
   "outputs": [
    {
     "data": {
      "text/plain": [
       "32430"
      ]
     },
     "execution_count": 15,
     "metadata": {},
     "output_type": "execute_result"
    }
   ],
   "source": [
    "TRAIN_PERCENTAGE = 0.8\n",
    "train_val = int(TRAIN_PERCENTAGE * num_samples)\n",
    "train_val"
   ]
  },
  {
   "cell_type": "code",
   "execution_count": 16,
   "metadata": {},
   "outputs": [],
   "source": [
    "text_pairs = list(zip(input_texts, target_texts))\n",
    "random.shuffle(text_pairs)\n",
    "input_texts, target_texts = zip(*text_pairs)\n",
    "input_texts, target_texts = list(input_texts), list(target_texts)"
   ]
  },
  {
   "cell_type": "code",
   "execution_count": 17,
   "metadata": {},
   "outputs": [],
   "source": [
    "train_input_texts = input_texts[:train_val]\n",
    "train_target_texts = target_texts[:train_val]\n",
    "\n",
    "val_input_texts = input_texts[train_val:]\n",
    "val_target_texts = target_texts[train_val:]"
   ]
  },
  {
   "cell_type": "code",
   "execution_count": 18,
   "metadata": {},
   "outputs": [],
   "source": []
  },
  {
   "cell_type": "code",
   "execution_count": 19,
   "metadata": {},
   "outputs": [],
   "source": [
    "# Running in a notebook hangs the cell. Run it from an external program\n",
    "# spm.SentencePieceTrainer.train('--input=all_texts.txt --model_prefix=m --vocab_size=13700 --model_type=bpe --pad_id=3,logstream=sys.stdout')"
   ]
  },
  {
   "cell_type": "code",
   "execution_count": 20,
   "metadata": {},
   "outputs": [
    {
     "data": {
      "text/plain": [
       "True"
      ]
     },
     "execution_count": 20,
     "metadata": {},
     "output_type": "execute_result"
    }
   ],
   "source": [
    "sp = spm.SentencePieceProcessor()\n",
    "sp.load('m.model')\n",
    "\n",
    "sp.SetEncodeExtraOptions(\"bos:eos\")\n",
    "sp.SetDecodeExtraOptions(\"bos:eos\")"
   ]
  },
  {
   "cell_type": "code",
   "execution_count": 21,
   "metadata": {},
   "outputs": [],
   "source": [
    "UNK_IDX, BOS_IDX, EOS_IDX, PAD_IDX = 0, 1, 2, 3"
   ]
  },
  {
   "cell_type": "code",
   "execution_count": 22,
   "metadata": {},
   "outputs": [],
   "source": [
    "def text2codes(texts, sp):\n",
    "    codes = []\n",
    "    for text in texts:\n",
    "        code = sp.encode_as_ids(text)\n",
    "        codes.append(torch.tensor(code))\n",
    "\n",
    "    return codes"
   ]
  },
  {
   "cell_type": "code",
   "execution_count": 23,
   "metadata": {},
   "outputs": [
    {
     "data": {
      "text/plain": [
       "(['Du är en bra ledare.',\n",
       "  'Jag är rädd att jag inte kan göra mig förstådd på franska.',\n",
       "  'Säg mig vad jag ska tänka.'],\n",
       " [\"You're a good leader.\",\n",
       "  \"I'm afraid I won't be able to make myself understood in French.\",\n",
       "  'Tell me what to think.'])"
      ]
     },
     "execution_count": 23,
     "metadata": {},
     "output_type": "execute_result"
    }
   ],
   "source": [
    "train_input_texts[:3], train_target_texts[:3]"
   ]
  },
  {
   "cell_type": "code",
   "execution_count": 24,
   "metadata": {},
   "outputs": [
    {
     "data": {
      "text/plain": [
       "[tensor([    1,   206,    47,    72,   498, 11489, 13645,     2]),\n",
       " tensor([    1,    43,    47,  1368,    63,   127,    66,   189,   317,   137,\n",
       "           555,  1300, 13644,    95,   945, 13645,     2]),\n",
       " tensor([    1,  2302,   137,   442,   127,   352,  3192, 13645,     2])]"
      ]
     },
     "execution_count": 24,
     "metadata": {},
     "output_type": "execute_result"
    }
   ],
   "source": [
    "text2codes(train_input_texts, sp)[:3]"
   ]
  },
  {
   "cell_type": "code",
   "execution_count": 25,
   "metadata": {},
   "outputs": [
    {
     "data": {
      "text/plain": [
       "[tensor([    1,   163, 13664,    52,    11,   514, 10316, 13645,     2]),\n",
       " tensor([    1,    22, 13664, 13647,  1796,    22,   690, 13664, 13637,    93,\n",
       "          2097,    53,   775,  1961,  5465,    38,   819, 13645,     2]),\n",
       " tensor([    1,  2096,   131,   410,    53,   401, 13645,     2])]"
      ]
     },
     "execution_count": 25,
     "metadata": {},
     "output_type": "execute_result"
    }
   ],
   "source": [
    "text2codes(train_target_texts, sp)[:3]"
   ]
  },
  {
   "cell_type": "code",
   "execution_count": 26,
   "metadata": {},
   "outputs": [],
   "source": [
    "def codes2text(codes, sp):\n",
    "    texts = []\n",
    "    for code in codes:\n",
    "        text = sp.decode_ids(code.tolist())\n",
    "        texts.append(text)\n",
    "    return texts"
   ]
  },
  {
   "cell_type": "code",
   "execution_count": 27,
   "metadata": {},
   "outputs": [
    {
     "data": {
      "text/plain": [
       "['Du är en bra ledare.',\n",
       " 'Jag är rädd att jag inte kan göra mig förstådd på franska.',\n",
       " 'Säg mig vad jag ska tänka.']"
      ]
     },
     "execution_count": 27,
     "metadata": {},
     "output_type": "execute_result"
    }
   ],
   "source": [
    "codes2text(text2codes(train_input_texts, sp)[:3], sp)"
   ]
  },
  {
   "cell_type": "code",
   "execution_count": 28,
   "metadata": {},
   "outputs": [],
   "source": [
    "class PositionalEncoding(nn.Module):\n",
    "    def __init__(self,\n",
    "                 emb_size: int,\n",
    "                 dropout: float,\n",
    "                 maxlen: int = 5000):\n",
    "        super().__init__()\n",
    "        den = torch.exp(- torch.arange(0, emb_size, 2)\n",
    "                        * math.log(10000) / emb_size)\n",
    "        pos = torch.arange(0, maxlen).reshape(maxlen, 1)\n",
    "        pos_embedding = torch.zeros((maxlen, emb_size))\n",
    "        pos_embedding[:, 0::2] = torch.sin(pos * den)\n",
    "        pos_embedding[:, 1::2] = torch.cos(pos * den)\n",
    "        pos_embedding = pos_embedding.unsqueeze(-2)\n",
    "\n",
    "        self.dropout = nn.Dropout(dropout)\n",
    "        self.register_buffer('pos_embedding', pos_embedding)\n",
    "        self.emb_size = emb_size\n",
    "\n",
    "    def forward(self, token_embedding: Tensor):\n",
    "        return self.dropout(token_embedding * math.sqrt(self.emb_size)\n",
    "                            + self.pos_embedding[:token_embedding.size(0), :])"
   ]
  },
  {
   "cell_type": "code",
   "execution_count": 29,
   "metadata": {},
   "outputs": [],
   "source": [
    "pe = PositionalEncoding(10, 0.1)"
   ]
  },
  {
   "cell_type": "code",
   "execution_count": 30,
   "metadata": {},
   "outputs": [
    {
     "data": {
      "text/plain": [
       "tensor([[[0., 0., 0., 0., 0., 0., 0., 0., 0., 0.],\n",
       "         [0., 0., 0., 0., 0., 0., 0., 0., 0., 0.],\n",
       "         [0., 0., 0., 0., 0., 0., 0., 0., 0., 0.],\n",
       "         [0., 0., 0., 0., 0., 0., 0., 0., 0., 0.],\n",
       "         [0., 0., 0., 0., 0., 0., 0., 0., 0., 0.]]])"
      ]
     },
     "execution_count": 30,
     "metadata": {},
     "output_type": "execute_result"
    }
   ],
   "source": [
    "torch.zeros(1, 5, 10)"
   ]
  },
  {
   "cell_type": "code",
   "execution_count": 31,
   "metadata": {},
   "outputs": [
    {
     "data": {
      "text/plain": [
       "tensor([[[0.0000, 1.1111, 0.0000, 1.1111, 0.0000, 1.1111, 0.0000, 1.1111,\n",
       "          0.0000, 0.0000],\n",
       "         [0.0000, 1.1111, 0.0000, 1.1111, 0.0000, 1.1111, 0.0000, 1.1111,\n",
       "          0.0000, 1.1111],\n",
       "         [0.0000, 1.1111, 0.0000, 1.1111, 0.0000, 1.1111, 0.0000, 1.1111,\n",
       "          0.0000, 1.1111],\n",
       "         [0.0000, 1.1111, 0.0000, 1.1111, 0.0000, 0.0000, 0.0000, 1.1111,\n",
       "          0.0000, 1.1111],\n",
       "         [0.0000, 1.1111, 0.0000, 1.1111, 0.0000, 1.1111, 0.0000, 1.1111,\n",
       "          0.0000, 1.1111]]])"
      ]
     },
     "execution_count": 31,
     "metadata": {},
     "output_type": "execute_result"
    }
   ],
   "source": [
    "pe(torch.zeros(1, 5, 10))"
   ]
  },
  {
   "cell_type": "code",
   "execution_count": 32,
   "metadata": {},
   "outputs": [],
   "source": [
    "class Seq2SeqTransformer(nn.Module):\n",
    "    def __init__(self,\n",
    "                 num_encoder_layers: int,\n",
    "                 num_decoder_layers: int,\n",
    "                 emb_size: int,\n",
    "                 nhead: int,\n",
    "                 vocab_size: int,\n",
    "                 dim_feedforward: int = 512,\n",
    "                 dropout: float = 0.1):\n",
    "        super().__init__()\n",
    "        self.transformer = Transformer(d_model=emb_size,\n",
    "                                       nhead=nhead,\n",
    "                                       num_encoder_layers=num_encoder_layers,\n",
    "                                       num_decoder_layers=num_decoder_layers,\n",
    "                                       dim_feedforward=dim_feedforward,\n",
    "                                       dropout=dropout)\n",
    "\n",
    "        self.emb_size = emb_size\n",
    "        self.embedding = nn.Embedding(\n",
    "            vocab_size, emb_size, padding_idx=PAD_IDX)\n",
    "        self.positional_encoding = PositionalEncoding(\n",
    "            emb_size, dropout=dropout)\n",
    "\n",
    "        self.generator = nn.Linear(emb_size, vocab_size, bias=False)\n",
    "        self.generator.weight = self.embedding.weight\n",
    "\n",
    "    def forward(self,\n",
    "                src: Tensor,\n",
    "                trg: Tensor,\n",
    "                src_mask: Tensor,\n",
    "                tgt_mask: Tensor,\n",
    "                src_padding_mask: Tensor,\n",
    "                tgt_padding_mask: Tensor,\n",
    "                memory_key_padding_mask: Tensor):\n",
    "        src_emb = self.positional_encoding(self.embedding(src))\n",
    "        tgt_emb = self.positional_encoding(self.embedding(trg))\n",
    "        outs = self.transformer(src_emb, tgt_emb, src_mask, tgt_mask, None,\n",
    "                                src_padding_mask, tgt_padding_mask, memory_key_padding_mask)\n",
    "        return self.generator(outs)\n",
    "\n",
    "    def encode(self, src: Tensor, src_mask: Tensor):\n",
    "        return self.transformer.encoder(self.positional_encoding(\n",
    "            self.embedding(src)), src_mask)\n",
    "\n",
    "    def decode(self, tgt: Tensor, memory: Tensor, tgt_mask: Tensor):\n",
    "        return self.transformer.decoder(self.positional_encoding(\n",
    "            self.embedding(tgt)), memory,\n",
    "            tgt_mask)"
   ]
  },
  {
   "cell_type": "code",
   "execution_count": 33,
   "metadata": {},
   "outputs": [
    {
     "data": {
      "text/plain": [
       "tensor([[0., -inf, -inf, -inf, -inf, -inf, -inf, -inf, -inf, -inf],\n",
       "        [0., 0., -inf, -inf, -inf, -inf, -inf, -inf, -inf, -inf],\n",
       "        [0., 0., 0., -inf, -inf, -inf, -inf, -inf, -inf, -inf],\n",
       "        [0., 0., 0., 0., -inf, -inf, -inf, -inf, -inf, -inf],\n",
       "        [0., 0., 0., 0., 0., -inf, -inf, -inf, -inf, -inf],\n",
       "        [0., 0., 0., 0., 0., 0., -inf, -inf, -inf, -inf],\n",
       "        [0., 0., 0., 0., 0., 0., 0., -inf, -inf, -inf],\n",
       "        [0., 0., 0., 0., 0., 0., 0., 0., -inf, -inf],\n",
       "        [0., 0., 0., 0., 0., 0., 0., 0., 0., -inf],\n",
       "        [0., 0., 0., 0., 0., 0., 0., 0., 0., 0.]])"
      ]
     },
     "execution_count": 33,
     "metadata": {},
     "output_type": "execute_result"
    }
   ],
   "source": [
    "nn.Transformer.generate_square_subsequent_mask(10)"
   ]
  },
  {
   "cell_type": "code",
   "execution_count": 34,
   "metadata": {},
   "outputs": [],
   "source": [
    "def create_mask(src, tgt):\n",
    "    src_seq_len = src.shape[0]\n",
    "    tgt_seq_len = tgt.shape[0]\n",
    "\n",
    "    tgt_mask = nn.Transformer.generate_square_subsequent_mask(tgt_seq_len)\n",
    "    src_mask = torch.zeros((src_seq_len, src_seq_len),\n",
    "                           device=DEVICE).type(torch.bool)\n",
    "\n",
    "    src_padding_mask = (src == PAD_IDX).transpose(0, 1)\n",
    "    tgt_padding_mask = (tgt == PAD_IDX).transpose(0, 1).type(torch.float32)\n",
    "    return src_mask, tgt_mask, src_padding_mask, tgt_padding_mask"
   ]
  },
  {
   "cell_type": "code",
   "execution_count": 35,
   "metadata": {},
   "outputs": [],
   "source": [
    "src = pad_sequence(text2codes(\n",
    "    train_input_texts[:3], sp), padding_value=PAD_IDX)\n",
    "tgt = pad_sequence(text2codes(\n",
    "    train_target_texts[:3], sp), padding_value=PAD_IDX)"
   ]
  },
  {
   "cell_type": "code",
   "execution_count": 36,
   "metadata": {},
   "outputs": [
    {
     "data": {
      "text/plain": [
       "(['Du är en bra ledare.',\n",
       "  'Jag är rädd att jag inte kan göra mig förstådd på franska.',\n",
       "  'Säg mig vad jag ska tänka.'],\n",
       " [\"You're a good leader.\",\n",
       "  \"I'm afraid I won't be able to make myself understood in French.\",\n",
       "  'Tell me what to think.'])"
      ]
     },
     "execution_count": 36,
     "metadata": {},
     "output_type": "execute_result"
    }
   ],
   "source": [
    "train_input_texts[:3], train_target_texts[:3]"
   ]
  },
  {
   "cell_type": "code",
   "execution_count": 37,
   "metadata": {},
   "outputs": [
    {
     "data": {
      "text/plain": [
       "tensor([[    1,     1,     1],\n",
       "        [  206,    43,  2302],\n",
       "        [   47,    47,   137],\n",
       "        [   72,  1368,   442],\n",
       "        [  498,    63,   127],\n",
       "        [11489,   127,   352],\n",
       "        [13645,    66,  3192],\n",
       "        [    2,   189, 13645],\n",
       "        [    3,   317,     2],\n",
       "        [    3,   137,     3],\n",
       "        [    3,   555,     3],\n",
       "        [    3,  1300,     3],\n",
       "        [    3, 13644,     3],\n",
       "        [    3,    95,     3],\n",
       "        [    3,   945,     3],\n",
       "        [    3, 13645,     3],\n",
       "        [    3,     2,     3]])"
      ]
     },
     "execution_count": 37,
     "metadata": {},
     "output_type": "execute_result"
    }
   ],
   "source": [
    "src"
   ]
  },
  {
   "cell_type": "code",
   "execution_count": 38,
   "metadata": {},
   "outputs": [
    {
     "data": {
      "text/plain": [
       "tensor([[    1,     1,     1],\n",
       "        [  163,    22,  2096],\n",
       "        [13664, 13664,   131],\n",
       "        [   52, 13647,   410],\n",
       "        [   11,  1796,    53],\n",
       "        [  514,    22,   401],\n",
       "        [10316,   690, 13645],\n",
       "        [13645, 13664,     2],\n",
       "        [    2, 13637,     3],\n",
       "        [    3,    93,     3],\n",
       "        [    3,  2097,     3],\n",
       "        [    3,    53,     3],\n",
       "        [    3,   775,     3],\n",
       "        [    3,  1961,     3],\n",
       "        [    3,  5465,     3],\n",
       "        [    3,    38,     3],\n",
       "        [    3,   819,     3],\n",
       "        [    3, 13645,     3],\n",
       "        [    3,     2,     3]])"
      ]
     },
     "execution_count": 38,
     "metadata": {},
     "output_type": "execute_result"
    }
   ],
   "source": [
    "tgt"
   ]
  },
  {
   "cell_type": "code",
   "execution_count": 39,
   "metadata": {},
   "outputs": [
    {
     "data": {
      "text/plain": [
       "(tensor([[False, False, False, False, False, False, False, False, False, False,\n",
       "          False, False, False, False, False, False, False],\n",
       "         [False, False, False, False, False, False, False, False, False, False,\n",
       "          False, False, False, False, False, False, False],\n",
       "         [False, False, False, False, False, False, False, False, False, False,\n",
       "          False, False, False, False, False, False, False],\n",
       "         [False, False, False, False, False, False, False, False, False, False,\n",
       "          False, False, False, False, False, False, False],\n",
       "         [False, False, False, False, False, False, False, False, False, False,\n",
       "          False, False, False, False, False, False, False],\n",
       "         [False, False, False, False, False, False, False, False, False, False,\n",
       "          False, False, False, False, False, False, False],\n",
       "         [False, False, False, False, False, False, False, False, False, False,\n",
       "          False, False, False, False, False, False, False],\n",
       "         [False, False, False, False, False, False, False, False, False, False,\n",
       "          False, False, False, False, False, False, False],\n",
       "         [False, False, False, False, False, False, False, False, False, False,\n",
       "          False, False, False, False, False, False, False],\n",
       "         [False, False, False, False, False, False, False, False, False, False,\n",
       "          False, False, False, False, False, False, False],\n",
       "         [False, False, False, False, False, False, False, False, False, False,\n",
       "          False, False, False, False, False, False, False],\n",
       "         [False, False, False, False, False, False, False, False, False, False,\n",
       "          False, False, False, False, False, False, False],\n",
       "         [False, False, False, False, False, False, False, False, False, False,\n",
       "          False, False, False, False, False, False, False],\n",
       "         [False, False, False, False, False, False, False, False, False, False,\n",
       "          False, False, False, False, False, False, False],\n",
       "         [False, False, False, False, False, False, False, False, False, False,\n",
       "          False, False, False, False, False, False, False],\n",
       "         [False, False, False, False, False, False, False, False, False, False,\n",
       "          False, False, False, False, False, False, False],\n",
       "         [False, False, False, False, False, False, False, False, False, False,\n",
       "          False, False, False, False, False, False, False]]),\n",
       " tensor([[0., -inf, -inf, -inf, -inf, -inf, -inf, -inf, -inf, -inf, -inf, -inf, -inf, -inf, -inf, -inf, -inf, -inf, -inf],\n",
       "         [0., 0., -inf, -inf, -inf, -inf, -inf, -inf, -inf, -inf, -inf, -inf, -inf, -inf, -inf, -inf, -inf, -inf, -inf],\n",
       "         [0., 0., 0., -inf, -inf, -inf, -inf, -inf, -inf, -inf, -inf, -inf, -inf, -inf, -inf, -inf, -inf, -inf, -inf],\n",
       "         [0., 0., 0., 0., -inf, -inf, -inf, -inf, -inf, -inf, -inf, -inf, -inf, -inf, -inf, -inf, -inf, -inf, -inf],\n",
       "         [0., 0., 0., 0., 0., -inf, -inf, -inf, -inf, -inf, -inf, -inf, -inf, -inf, -inf, -inf, -inf, -inf, -inf],\n",
       "         [0., 0., 0., 0., 0., 0., -inf, -inf, -inf, -inf, -inf, -inf, -inf, -inf, -inf, -inf, -inf, -inf, -inf],\n",
       "         [0., 0., 0., 0., 0., 0., 0., -inf, -inf, -inf, -inf, -inf, -inf, -inf, -inf, -inf, -inf, -inf, -inf],\n",
       "         [0., 0., 0., 0., 0., 0., 0., 0., -inf, -inf, -inf, -inf, -inf, -inf, -inf, -inf, -inf, -inf, -inf],\n",
       "         [0., 0., 0., 0., 0., 0., 0., 0., 0., -inf, -inf, -inf, -inf, -inf, -inf, -inf, -inf, -inf, -inf],\n",
       "         [0., 0., 0., 0., 0., 0., 0., 0., 0., 0., -inf, -inf, -inf, -inf, -inf, -inf, -inf, -inf, -inf],\n",
       "         [0., 0., 0., 0., 0., 0., 0., 0., 0., 0., 0., -inf, -inf, -inf, -inf, -inf, -inf, -inf, -inf],\n",
       "         [0., 0., 0., 0., 0., 0., 0., 0., 0., 0., 0., 0., -inf, -inf, -inf, -inf, -inf, -inf, -inf],\n",
       "         [0., 0., 0., 0., 0., 0., 0., 0., 0., 0., 0., 0., 0., -inf, -inf, -inf, -inf, -inf, -inf],\n",
       "         [0., 0., 0., 0., 0., 0., 0., 0., 0., 0., 0., 0., 0., 0., -inf, -inf, -inf, -inf, -inf],\n",
       "         [0., 0., 0., 0., 0., 0., 0., 0., 0., 0., 0., 0., 0., 0., 0., -inf, -inf, -inf, -inf],\n",
       "         [0., 0., 0., 0., 0., 0., 0., 0., 0., 0., 0., 0., 0., 0., 0., 0., -inf, -inf, -inf],\n",
       "         [0., 0., 0., 0., 0., 0., 0., 0., 0., 0., 0., 0., 0., 0., 0., 0., 0., -inf, -inf],\n",
       "         [0., 0., 0., 0., 0., 0., 0., 0., 0., 0., 0., 0., 0., 0., 0., 0., 0., 0., -inf],\n",
       "         [0., 0., 0., 0., 0., 0., 0., 0., 0., 0., 0., 0., 0., 0., 0., 0., 0., 0., 0.]]),\n",
       " tensor([[False, False, False, False, False, False, False, False,  True,  True,\n",
       "           True,  True,  True,  True,  True,  True,  True],\n",
       "         [False, False, False, False, False, False, False, False, False, False,\n",
       "          False, False, False, False, False, False, False],\n",
       "         [False, False, False, False, False, False, False, False, False,  True,\n",
       "           True,  True,  True,  True,  True,  True,  True]]),\n",
       " tensor([[0., 0., 0., 0., 0., 0., 0., 0., 0., 1., 1., 1., 1., 1., 1., 1., 1., 1.,\n",
       "          1.],\n",
       "         [0., 0., 0., 0., 0., 0., 0., 0., 0., 0., 0., 0., 0., 0., 0., 0., 0., 0.,\n",
       "          0.],\n",
       "         [0., 0., 0., 0., 0., 0., 0., 0., 1., 1., 1., 1., 1., 1., 1., 1., 1., 1.,\n",
       "          1.]]))"
      ]
     },
     "execution_count": 39,
     "metadata": {},
     "output_type": "execute_result"
    }
   ],
   "source": [
    "create_mask(src, tgt)"
   ]
  },
  {
   "cell_type": "code",
   "execution_count": 40,
   "metadata": {},
   "outputs": [],
   "source": [
    "VOCAB_SIZE = 13700\n",
    "EMB_SIZE = 512\n",
    "NHEAD = 8\n",
    "FFN_HID_DIM = 512\n",
    "BATCH_SIZE = 128\n",
    "NUM_ENCODER_LAYERS = 6\n",
    "NUM_DECODER_LAYERS = 6"
   ]
  },
  {
   "cell_type": "code",
   "execution_count": 41,
   "metadata": {},
   "outputs": [],
   "source": [
    "def rate(step, model_size, factor, warmup):\n",
    "    if step == 0:\n",
    "        step = 1\n",
    "    return factor * (\n",
    "        model_size ** (-0.5) * min(step ** (-0.5), step * warmup ** (-1.5))\n",
    "    )"
   ]
  },
  {
   "cell_type": "code",
   "execution_count": 42,
   "metadata": {},
   "outputs": [
    {
     "name": "stderr",
     "output_type": "stream",
     "text": [
      "/opt/anaconda3/lib/python3.12/site-packages/torch/nn/modules/transformer.py:307: UserWarning: enable_nested_tensor is True, but self.use_nested_tensor is False because encoder_layer.self_attn.batch_first was not True(use batch_first for better inference performance)\n",
      "  warnings.warn(f\"enable_nested_tensor is True, but self.use_nested_tensor is False because {why_not_sparsity_fast_path}\")\n"
     ]
    }
   ],
   "source": [
    "transformer = Seq2SeqTransformer(NUM_ENCODER_LAYERS, NUM_DECODER_LAYERS, EMB_SIZE,\n",
    "                                 NHEAD, VOCAB_SIZE, FFN_HID_DIM)\n",
    "\n",
    "for p in transformer.parameters():\n",
    "    if p.dim() > 1:\n",
    "        nn.init.xavier_uniform_(p)\n",
    "\n",
    "transformer = transformer.to(DEVICE)\n",
    "\n",
    "loss_fn = torch.nn.CrossEntropyLoss(ignore_index=PAD_IDX, label_smoothing=0.1)\n",
    "\n",
    "optimizer = torch.optim.Adam(\n",
    "    transformer.parameters(), lr=1, betas=(0.9, 0.98), eps=1e-6\n",
    ")\n",
    "lr_scheduler = LambdaLR(\n",
    "    optimizer=optimizer,\n",
    "    lr_lambda=lambda step: rate(\n",
    "        step, model_size=transformer.emb_size, factor=0.25, warmup=4000\n",
    "    ),\n",
    ")"
   ]
  },
  {
   "cell_type": "code",
   "execution_count": 43,
   "metadata": {},
   "outputs": [
    {
     "data": {
      "text/plain": [
       "[<matplotlib.lines.Line2D at 0x16be40920>]"
      ]
     },
     "execution_count": 43,
     "metadata": {},
     "output_type": "execute_result"
    },
    {
     "data": {
      "image/png": "[encoded data removed]",
      "text/plain": [
       "<Figure size 640x480 with 1 Axes>"
      ]
     },
     "metadata": {},
     "output_type": "display_data"
    }
   ],
   "source": [
    "plt.plot([rate(i, transformer.emb_size, 0.25, 4000)\n",
    "         for i in range(0, 15*1000)])"
   ]
  },
  {
   "cell_type": "code",
   "execution_count": 44,
   "metadata": {},
   "outputs": [],
   "source": [
    "class PairDataset(Dataset):\n",
    "    def __init__(self, input_texts, target_texts, token2idx):\n",
    "        self.input_texts = input_texts\n",
    "        self.target_texts = target_texts\n",
    "        self.token2idx = token2idx\n",
    "\n",
    "    def __len__(self):\n",
    "        return len(self.input_texts)\n",
    "\n",
    "    def __getitem__(self, idx):\n",
    "        src_batch = text2codes([input_texts[idx]], self.token2idx)\n",
    "        tgt_batch = text2codes([target_texts[idx]], self.token2idx)\n",
    "\n",
    "        return src_batch[0], tgt_batch[0]\n",
    "\n",
    "    def collate(self, batch):\n",
    "        src_batch, tgt_batch = list(zip(*batch))\n",
    "        src_batch = pad_sequence(src_batch, padding_value=PAD_IDX)\n",
    "        tgt_batch = pad_sequence(tgt_batch, padding_value=PAD_IDX)\n",
    "\n",
    "        return src_batch, tgt_batch"
   ]
  },
  {
   "cell_type": "code",
   "execution_count": 45,
   "metadata": {},
   "outputs": [],
   "source": [
    "train_dataset = PairDataset(train_input_texts, train_target_texts, sp)\n",
    "train_dataloader = DataLoader(train_dataset, batch_size=32,\n",
    "                              shuffle=True, collate_fn=train_dataset.collate)"
   ]
  },
  {
   "cell_type": "code",
   "execution_count": 46,
   "metadata": {},
   "outputs": [],
   "source": [
    "val_dataset = PairDataset(val_input_texts, val_target_texts, sp)\n",
    "val_dataloader = DataLoader(\n",
    "    val_dataset, batch_size=32, collate_fn=val_dataset.collate)"
   ]
  },
  {
   "cell_type": "code",
   "execution_count": 47,
   "metadata": {},
   "outputs": [],
   "source": [
    "def train_epoch(model, optimizer, dataloader):\n",
    "    model.train()\n",
    "    losses = 0\n",
    "    sent_cnt = 0\n",
    "    correct, total = 0, 0\n",
    "    for src_batch, tgt_batch in tqdm(dataloader):\n",
    "        src = src_batch.to(DEVICE)\n",
    "        tgt = tgt_batch.to(DEVICE)\n",
    "\n",
    "        tgt_input = tgt[:-1, :]\n",
    "\n",
    "        src_mask, tgt_mask, src_padding_mask, tgt_padding_mask = create_mask(\n",
    "            src, tgt_input)\n",
    "\n",
    "        logits = model(src,\n",
    "                       tgt_input,\n",
    "                       src_mask,\n",
    "                       tgt_mask,\n",
    "                       src_padding_mask,\n",
    "                       tgt_padding_mask,\n",
    "                       src_padding_mask)\n",
    "\n",
    "        optimizer.zero_grad()\n",
    "\n",
    "        tgt_out = tgt[1:, :]\n",
    "        loss = loss_fn(\n",
    "            logits.reshape(-1, logits.shape[-1]), tgt_out.reshape(-1))\n",
    "\n",
    "        if torch.isnan(loss):\n",
    "            print(\"N_logits(NaN) == %d\" % torch.sum(\n",
    "                torch.isnan(logits.reshape(-1, logits.shape[-1]))))\n",
    "            raise ValueError(\"loss is nan\")\n",
    "\n",
    "        loss.backward()\n",
    "        optimizer.step()\n",
    "        lr_scheduler.step()\n",
    "        losses += loss.item()\n",
    "\n",
    "        with torch.no_grad():\n",
    "            sent_cnt += tgt_out.size()[-1]\n",
    "\n",
    "            total += torch.numel(tgt_input)\n",
    "            _, char_pred = torch.max(logits, -1)\n",
    "            correct += (char_pred == tgt_out).sum().item()\n",
    "\n",
    "    return losses / sent_cnt, correct / total"
   ]
  },
  {
   "cell_type": "code",
   "execution_count": 48,
   "metadata": {},
   "outputs": [],
   "source": [
    "def evaluate(model, dataloader):\n",
    "    model.eval()\n",
    "    losses = 0\n",
    "    sent_cnt = 0\n",
    "    correct, total = 0, 0\n",
    "\n",
    "    for src_batch, tgt_batch in dataloader:\n",
    "        src = src_batch.to(DEVICE)\n",
    "        tgt = tgt_batch.to(DEVICE)\n",
    "\n",
    "        tgt_input = tgt[:-1, :]\n",
    "\n",
    "        src_mask, tgt_mask, src_padding_mask, tgt_padding_mask = create_mask(\n",
    "            src, tgt_input)\n",
    "\n",
    "        logits = model(src, tgt_input, src_mask, tgt_mask,\n",
    "                       src_padding_mask, tgt_padding_mask, src_padding_mask)\n",
    "\n",
    "        tgt_out = tgt[1:, :]\n",
    "        loss = loss_fn(\n",
    "            logits.reshape(-1, logits.shape[-1]), tgt_out.reshape(-1))\n",
    "        losses += loss.item()\n",
    "        sent_cnt += tgt_out.size()[-1]\n",
    "\n",
    "        total += torch.numel(tgt_input)\n",
    "        _, char_pred = torch.max(logits, -1)\n",
    "        correct += (char_pred == tgt_out).sum().item()\n",
    "\n",
    "    return losses / sent_cnt, correct / total"
   ]
  },
  {
   "cell_type": "code",
   "execution_count": 49,
   "metadata": {},
   "outputs": [
    {
     "name": "stderr",
     "output_type": "stream",
     "text": [
      "100%|██████████| 1014/1014 [05:12<00:00,  3.24it/s]\n"
     ]
    },
    {
     "name": "stdout",
     "output_type": "stream",
     "text": [
      "Epoch: 1, Train loss: 0.217, Val loss: 0.166, Train acc.: 0.091, Val acc.: 0.156, Epoch time = 312.585s\n"
     ]
    },
    {
     "name": "stderr",
     "output_type": "stream",
     "text": [
      "100%|██████████| 1014/1014 [05:01<00:00,  3.37it/s]\n"
     ]
    },
    {
     "name": "stdout",
     "output_type": "stream",
     "text": [
      "Epoch: 2, Train loss: 0.155, Val loss: 0.141, Train acc.: 0.175, Val acc.: 0.209, Epoch time = 301.262s\n"
     ]
    },
    {
     "name": "stderr",
     "output_type": "stream",
     "text": [
      "100%|██████████| 1014/1014 [04:59<00:00,  3.38it/s]\n"
     ]
    },
    {
     "name": "stdout",
     "output_type": "stream",
     "text": [
      "Epoch: 3, Train loss: 0.137, Val loss: 0.127, Train acc.: 0.209, Val acc.: 0.238, Epoch time = 299.666s\n"
     ]
    },
    {
     "name": "stderr",
     "output_type": "stream",
     "text": [
      "100%|██████████| 1014/1014 [05:00<00:00,  3.37it/s]\n"
     ]
    },
    {
     "name": "stdout",
     "output_type": "stream",
     "text": [
      "Epoch: 4, Train loss: 0.126, Val loss: 0.116, Train acc.: 0.229, Val acc.: 0.256, Epoch time = 300.474s\n"
     ]
    },
    {
     "name": "stderr",
     "output_type": "stream",
     "text": [
      "100%|██████████| 1014/1014 [05:02<00:00,  3.35it/s]\n"
     ]
    },
    {
     "name": "stdout",
     "output_type": "stream",
     "text": [
      "Epoch: 5, Train loss: 0.117, Val loss: 0.107, Train acc.: 0.243, Val acc.: 0.276, Epoch time = 302.266s\n"
     ]
    },
    {
     "name": "stderr",
     "output_type": "stream",
     "text": [
      "100%|██████████| 1014/1014 [04:57<00:00,  3.41it/s]\n"
     ]
    },
    {
     "name": "stdout",
     "output_type": "stream",
     "text": [
      "Epoch: 6, Train loss: 0.109, Val loss: 0.099, Train acc.: 0.261, Val acc.: 0.297, Epoch time = 297.545s\n"
     ]
    },
    {
     "name": "stderr",
     "output_type": "stream",
     "text": [
      "100%|██████████| 1014/1014 [04:47<00:00,  3.52it/s]\n"
     ]
    },
    {
     "name": "stdout",
     "output_type": "stream",
     "text": [
      "Epoch: 7, Train loss: 0.102, Val loss: 0.092, Train acc.: 0.278, Val acc.: 0.314, Epoch time = 287.761s\n"
     ]
    },
    {
     "name": "stderr",
     "output_type": "stream",
     "text": [
      "100%|██████████| 1014/1014 [04:46<00:00,  3.54it/s]\n"
     ]
    },
    {
     "name": "stdout",
     "output_type": "stream",
     "text": [
      "Epoch: 8, Train loss: 0.096, Val loss: 0.087, Train acc.: 0.292, Val acc.: 0.330, Epoch time = 286.329s\n"
     ]
    },
    {
     "name": "stderr",
     "output_type": "stream",
     "text": [
      "100%|██████████| 1014/1014 [04:47<00:00,  3.53it/s]\n"
     ]
    },
    {
     "name": "stdout",
     "output_type": "stream",
     "text": [
      "Epoch: 9, Train loss: 0.091, Val loss: 0.082, Train acc.: 0.305, Val acc.: 0.342, Epoch time = 287.090s\n"
     ]
    },
    {
     "name": "stderr",
     "output_type": "stream",
     "text": [
      "100%|██████████| 1014/1014 [04:51<00:00,  3.48it/s]\n"
     ]
    },
    {
     "name": "stdout",
     "output_type": "stream",
     "text": [
      "Epoch: 10, Train loss: 0.087, Val loss: 0.079, Train acc.: 0.315, Val acc.: 0.352, Epoch time = 291.454s\n"
     ]
    },
    {
     "name": "stderr",
     "output_type": "stream",
     "text": [
      "100%|██████████| 1014/1014 [04:51<00:00,  3.48it/s]\n"
     ]
    },
    {
     "name": "stdout",
     "output_type": "stream",
     "text": [
      "Epoch: 11, Train loss: 0.084, Val loss: 0.076, Train acc.: 0.323, Val acc.: 0.360, Epoch time = 291.713s\n"
     ]
    },
    {
     "name": "stderr",
     "output_type": "stream",
     "text": [
      "100%|██████████| 1014/1014 [04:51<00:00,  3.48it/s]\n"
     ]
    },
    {
     "name": "stdout",
     "output_type": "stream",
     "text": [
      "Epoch: 12, Train loss: 0.082, Val loss: 0.074, Train acc.: 0.328, Val acc.: 0.366, Epoch time = 291.401s\n"
     ]
    },
    {
     "name": "stderr",
     "output_type": "stream",
     "text": [
      "100%|██████████| 1014/1014 [04:50<00:00,  3.49it/s]\n"
     ]
    },
    {
     "name": "stdout",
     "output_type": "stream",
     "text": [
      "Epoch: 13, Train loss: 0.079, Val loss: 0.071, Train acc.: 0.335, Val acc.: 0.374, Epoch time = 290.794s\n"
     ]
    },
    {
     "name": "stderr",
     "output_type": "stream",
     "text": [
      "100%|██████████| 1014/1014 [04:53<00:00,  3.45it/s]\n"
     ]
    },
    {
     "name": "stdout",
     "output_type": "stream",
     "text": [
      "Epoch: 14, Train loss: 0.077, Val loss: 0.069, Train acc.: 0.340, Val acc.: 0.379, Epoch time = 293.711s\n"
     ]
    },
    {
     "name": "stderr",
     "output_type": "stream",
     "text": [
      "100%|██████████| 1014/1014 [04:50<00:00,  3.49it/s]\n"
     ]
    },
    {
     "name": "stdout",
     "output_type": "stream",
     "text": [
      "Epoch: 15, Train loss: 0.075, Val loss: 0.068, Train acc.: 0.348, Val acc.: 0.383, Epoch time = 290.744s\n"
     ]
    },
    {
     "name": "stderr",
     "output_type": "stream",
     "text": [
      "100%|██████████| 1014/1014 [04:53<00:00,  3.46it/s]\n"
     ]
    },
    {
     "name": "stdout",
     "output_type": "stream",
     "text": [
      "Epoch: 16, Train loss: 0.074, Val loss: 0.066, Train acc.: 0.348, Val acc.: 0.388, Epoch time = 293.476s\n"
     ]
    },
    {
     "name": "stderr",
     "output_type": "stream",
     "text": [
      "100%|██████████| 1014/1014 [04:58<00:00,  3.39it/s]\n"
     ]
    },
    {
     "name": "stdout",
     "output_type": "stream",
     "text": [
      "Epoch: 17, Train loss: 0.072, Val loss: 0.065, Train acc.: 0.354, Val acc.: 0.393, Epoch time = 298.918s\n"
     ]
    },
    {
     "name": "stderr",
     "output_type": "stream",
     "text": [
      "100%|██████████| 1014/1014 [04:59<00:00,  3.38it/s]\n"
     ]
    },
    {
     "name": "stdout",
     "output_type": "stream",
     "text": [
      "Epoch: 18, Train loss: 0.071, Val loss: 0.064, Train acc.: 0.357, Val acc.: 0.396, Epoch time = 299.610s\n"
     ]
    },
    {
     "name": "stderr",
     "output_type": "stream",
     "text": [
      "100%|██████████| 1014/1014 [05:00<00:00,  3.37it/s]\n"
     ]
    },
    {
     "name": "stdout",
     "output_type": "stream",
     "text": [
      "Epoch: 19, Train loss: 0.070, Val loss: 0.063, Train acc.: 0.361, Val acc.: 0.399, Epoch time = 300.862s\n"
     ]
    },
    {
     "name": "stderr",
     "output_type": "stream",
     "text": [
      "100%|██████████| 1014/1014 [04:49<00:00,  3.50it/s]\n"
     ]
    },
    {
     "name": "stdout",
     "output_type": "stream",
     "text": [
      "Epoch: 20, Train loss: 0.069, Val loss: 0.061, Train acc.: 0.367, Val acc.: 0.402, Epoch time = 289.540s\n"
     ]
    },
    {
     "name": "stderr",
     "output_type": "stream",
     "text": [
      "100%|██████████| 1014/1014 [04:49<00:00,  3.50it/s]\n"
     ]
    },
    {
     "name": "stdout",
     "output_type": "stream",
     "text": [
      "Epoch: 21, Train loss: 0.068, Val loss: 0.061, Train acc.: 0.368, Val acc.: 0.405, Epoch time = 289.582s\n"
     ]
    },
    {
     "name": "stderr",
     "output_type": "stream",
     "text": [
      "100%|██████████| 1014/1014 [04:52<00:00,  3.46it/s]\n"
     ]
    },
    {
     "name": "stdout",
     "output_type": "stream",
     "text": [
      "Epoch: 22, Train loss: 0.067, Val loss: 0.060, Train acc.: 0.370, Val acc.: 0.409, Epoch time = 292.665s\n"
     ]
    },
    {
     "name": "stderr",
     "output_type": "stream",
     "text": [
      "100%|██████████| 1014/1014 [04:47<00:00,  3.52it/s]\n"
     ]
    },
    {
     "name": "stdout",
     "output_type": "stream",
     "text": [
      "Epoch: 23, Train loss: 0.066, Val loss: 0.059, Train acc.: 0.371, Val acc.: 0.411, Epoch time = 287.945s\n"
     ]
    },
    {
     "name": "stderr",
     "output_type": "stream",
     "text": [
      "100%|██████████| 1014/1014 [04:46<00:00,  3.54it/s]\n"
     ]
    },
    {
     "name": "stdout",
     "output_type": "stream",
     "text": [
      "Epoch: 24, Train loss: 0.065, Val loss: 0.058, Train acc.: 0.375, Val acc.: 0.414, Epoch time = 286.765s\n"
     ]
    },
    {
     "name": "stderr",
     "output_type": "stream",
     "text": [
      "100%|██████████| 1014/1014 [04:47<00:00,  3.53it/s]\n"
     ]
    },
    {
     "name": "stdout",
     "output_type": "stream",
     "text": [
      "Epoch: 25, Train loss: 0.064, Val loss: 0.057, Train acc.: 0.379, Val acc.: 0.416, Epoch time = 287.562s\n"
     ]
    },
    {
     "name": "stderr",
     "output_type": "stream",
     "text": [
      "100%|██████████| 1014/1014 [04:45<00:00,  3.55it/s]\n"
     ]
    },
    {
     "name": "stdout",
     "output_type": "stream",
     "text": [
      "Epoch: 26, Train loss: 0.063, Val loss: 0.057, Train acc.: 0.379, Val acc.: 0.418, Epoch time = 285.271s\n"
     ]
    },
    {
     "name": "stderr",
     "output_type": "stream",
     "text": [
      "100%|██████████| 1014/1014 [04:45<00:00,  3.56it/s]\n"
     ]
    },
    {
     "name": "stdout",
     "output_type": "stream",
     "text": [
      "Epoch: 27, Train loss: 0.063, Val loss: 0.056, Train acc.: 0.381, Val acc.: 0.420, Epoch time = 285.096s\n"
     ]
    },
    {
     "name": "stderr",
     "output_type": "stream",
     "text": [
      "100%|██████████| 1014/1014 [04:44<00:00,  3.57it/s]\n"
     ]
    },
    {
     "name": "stdout",
     "output_type": "stream",
     "text": [
      "Epoch: 28, Train loss: 0.062, Val loss: 0.056, Train acc.: 0.388, Val acc.: 0.422, Epoch time = 284.149s\n"
     ]
    },
    {
     "name": "stderr",
     "output_type": "stream",
     "text": [
      "100%|██████████| 1014/1014 [04:44<00:00,  3.57it/s]\n"
     ]
    },
    {
     "name": "stdout",
     "output_type": "stream",
     "text": [
      "Epoch: 29, Train loss: 0.061, Val loss: 0.055, Train acc.: 0.383, Val acc.: 0.424, Epoch time = 284.350s\n"
     ]
    },
    {
     "name": "stderr",
     "output_type": "stream",
     "text": [
      "100%|██████████| 1014/1014 [04:41<00:00,  3.61it/s]\n"
     ]
    },
    {
     "name": "stdout",
     "output_type": "stream",
     "text": [
      "Epoch: 30, Train loss: 0.061, Val loss: 0.055, Train acc.: 0.388, Val acc.: 0.425, Epoch time = 281.152s\n"
     ]
    },
    {
     "name": "stderr",
     "output_type": "stream",
     "text": [
      "100%|██████████| 1014/1014 [04:42<00:00,  3.59it/s]\n"
     ]
    },
    {
     "name": "stdout",
     "output_type": "stream",
     "text": [
      "Epoch: 31, Train loss: 0.060, Val loss: 0.054, Train acc.: 0.389, Val acc.: 0.427, Epoch time = 282.365s\n"
     ]
    },
    {
     "name": "stderr",
     "output_type": "stream",
     "text": [
      "100%|██████████| 1014/1014 [04:41<00:00,  3.61it/s]\n"
     ]
    },
    {
     "name": "stdout",
     "output_type": "stream",
     "text": [
      "Epoch: 32, Train loss: 0.060, Val loss: 0.054, Train acc.: 0.390, Val acc.: 0.428, Epoch time = 281.148s\n"
     ]
    },
    {
     "name": "stderr",
     "output_type": "stream",
     "text": [
      "100%|██████████| 1014/1014 [04:42<00:00,  3.59it/s]\n"
     ]
    },
    {
     "name": "stdout",
     "output_type": "stream",
     "text": [
      "Epoch: 33, Train loss: 0.059, Val loss: 0.053, Train acc.: 0.394, Val acc.: 0.429, Epoch time = 282.349s\n"
     ]
    },
    {
     "name": "stderr",
     "output_type": "stream",
     "text": [
      "100%|██████████| 1014/1014 [04:43<00:00,  3.57it/s]\n"
     ]
    },
    {
     "name": "stdout",
     "output_type": "stream",
     "text": [
      "Epoch: 34, Train loss: 0.058, Val loss: 0.053, Train acc.: 0.393, Val acc.: 0.431, Epoch time = 283.793s\n"
     ]
    },
    {
     "name": "stderr",
     "output_type": "stream",
     "text": [
      "100%|██████████| 1014/1014 [04:44<00:00,  3.57it/s]\n"
     ]
    },
    {
     "name": "stdout",
     "output_type": "stream",
     "text": [
      "Epoch: 35, Train loss: 0.058, Val loss: 0.052, Train acc.: 0.395, Val acc.: 0.432, Epoch time = 284.053s\n"
     ]
    },
    {
     "name": "stderr",
     "output_type": "stream",
     "text": [
      "100%|██████████| 1014/1014 [04:43<00:00,  3.58it/s]\n"
     ]
    },
    {
     "name": "stdout",
     "output_type": "stream",
     "text": [
      "Epoch: 36, Train loss: 0.058, Val loss: 0.052, Train acc.: 0.398, Val acc.: 0.434, Epoch time = 283.493s\n"
     ]
    },
    {
     "name": "stderr",
     "output_type": "stream",
     "text": [
      "100%|██████████| 1014/1014 [04:44<00:00,  3.57it/s]\n"
     ]
    },
    {
     "name": "stdout",
     "output_type": "stream",
     "text": [
      "Epoch: 37, Train loss: 0.057, Val loss: 0.052, Train acc.: 0.399, Val acc.: 0.435, Epoch time = 284.116s\n"
     ]
    },
    {
     "name": "stderr",
     "output_type": "stream",
     "text": [
      "100%|██████████| 1014/1014 [04:44<00:00,  3.56it/s]\n"
     ]
    },
    {
     "name": "stdout",
     "output_type": "stream",
     "text": [
      "Epoch: 38, Train loss: 0.057, Val loss: 0.051, Train acc.: 0.397, Val acc.: 0.436, Epoch time = 284.444s\n"
     ]
    },
    {
     "name": "stderr",
     "output_type": "stream",
     "text": [
      "100%|██████████| 1014/1014 [04:45<00:00,  3.55it/s]\n"
     ]
    },
    {
     "name": "stdout",
     "output_type": "stream",
     "text": [
      "Epoch: 39, Train loss: 0.056, Val loss: 0.051, Train acc.: 0.399, Val acc.: 0.436, Epoch time = 285.858s\n"
     ]
    },
    {
     "name": "stderr",
     "output_type": "stream",
     "text": [
      "100%|██████████| 1014/1014 [04:46<00:00,  3.54it/s]\n"
     ]
    },
    {
     "name": "stdout",
     "output_type": "stream",
     "text": [
      "Epoch: 40, Train loss: 0.056, Val loss: 0.051, Train acc.: 0.402, Val acc.: 0.438, Epoch time = 286.141s\n"
     ]
    },
    {
     "name": "stderr",
     "output_type": "stream",
     "text": [
      "100%|██████████| 1014/1014 [04:45<00:00,  3.55it/s]\n"
     ]
    },
    {
     "name": "stdout",
     "output_type": "stream",
     "text": [
      "Epoch: 41, Train loss: 0.056, Val loss: 0.051, Train acc.: 0.401, Val acc.: 0.438, Epoch time = 285.942s\n"
     ]
    },
    {
     "name": "stderr",
     "output_type": "stream",
     "text": [
      "100%|██████████| 1014/1014 [04:44<00:00,  3.57it/s]\n"
     ]
    },
    {
     "name": "stdout",
     "output_type": "stream",
     "text": [
      "Epoch: 42, Train loss: 0.055, Val loss: 0.050, Train acc.: 0.404, Val acc.: 0.439, Epoch time = 284.291s\n"
     ]
    },
    {
     "name": "stderr",
     "output_type": "stream",
     "text": [
      "100%|██████████| 1014/1014 [04:43<00:00,  3.58it/s]\n"
     ]
    },
    {
     "name": "stdout",
     "output_type": "stream",
     "text": [
      "Epoch: 43, Train loss: 0.055, Val loss: 0.050, Train acc.: 0.405, Val acc.: 0.440, Epoch time = 283.403s\n"
     ]
    },
    {
     "name": "stderr",
     "output_type": "stream",
     "text": [
      "100%|██████████| 1014/1014 [04:46<00:00,  3.53it/s]\n"
     ]
    },
    {
     "name": "stdout",
     "output_type": "stream",
     "text": [
      "Epoch: 44, Train loss: 0.055, Val loss: 0.050, Train acc.: 0.404, Val acc.: 0.440, Epoch time = 286.985s\n"
     ]
    },
    {
     "name": "stderr",
     "output_type": "stream",
     "text": [
      "100%|██████████| 1014/1014 [04:44<00:00,  3.56it/s]\n"
     ]
    },
    {
     "name": "stdout",
     "output_type": "stream",
     "text": [
      "Epoch: 45, Train loss: 0.054, Val loss: 0.050, Train acc.: 0.404, Val acc.: 0.441, Epoch time = 284.751s\n"
     ]
    },
    {
     "name": "stderr",
     "output_type": "stream",
     "text": [
      "100%|██████████| 1014/1014 [04:45<00:00,  3.56it/s]\n"
     ]
    },
    {
     "name": "stdout",
     "output_type": "stream",
     "text": [
      "Epoch: 46, Train loss: 0.054, Val loss: 0.050, Train acc.: 0.406, Val acc.: 0.441, Epoch time = 285.132s\n"
     ]
    },
    {
     "name": "stderr",
     "output_type": "stream",
     "text": [
      "100%|██████████| 1014/1014 [04:45<00:00,  3.55it/s]\n"
     ]
    },
    {
     "name": "stdout",
     "output_type": "stream",
     "text": [
      "Epoch: 47, Train loss: 0.054, Val loss: 0.049, Train acc.: 0.408, Val acc.: 0.442, Epoch time = 285.459s\n"
     ]
    },
    {
     "name": "stderr",
     "output_type": "stream",
     "text": [
      "100%|██████████| 1014/1014 [04:44<00:00,  3.56it/s]\n"
     ]
    },
    {
     "name": "stdout",
     "output_type": "stream",
     "text": [
      "Epoch: 48, Train loss: 0.054, Val loss: 0.049, Train acc.: 0.409, Val acc.: 0.442, Epoch time = 284.549s\n"
     ]
    },
    {
     "name": "stderr",
     "output_type": "stream",
     "text": [
      "100%|██████████| 1014/1014 [04:46<00:00,  3.54it/s]\n"
     ]
    },
    {
     "name": "stdout",
     "output_type": "stream",
     "text": [
      "Epoch: 49, Train loss: 0.053, Val loss: 0.049, Train acc.: 0.408, Val acc.: 0.443, Epoch time = 286.826s\n"
     ]
    },
    {
     "name": "stderr",
     "output_type": "stream",
     "text": [
      "100%|██████████| 1014/1014 [04:45<00:00,  3.55it/s]\n"
     ]
    },
    {
     "name": "stdout",
     "output_type": "stream",
     "text": [
      "Epoch: 50, Train loss: 0.053, Val loss: 0.049, Train acc.: 0.410, Val acc.: 0.443, Epoch time = 285.370s\n"
     ]
    },
    {
     "name": "stderr",
     "output_type": "stream",
     "text": [
      "100%|██████████| 1014/1014 [04:44<00:00,  3.56it/s]\n"
     ]
    },
    {
     "name": "stdout",
     "output_type": "stream",
     "text": [
      "Epoch: 51, Train loss: 0.053, Val loss: 0.049, Train acc.: 0.412, Val acc.: 0.443, Epoch time = 284.450s\n"
     ]
    },
    {
     "name": "stderr",
     "output_type": "stream",
     "text": [
      "100%|██████████| 1014/1014 [04:45<00:00,  3.55it/s]\n"
     ]
    },
    {
     "name": "stdout",
     "output_type": "stream",
     "text": [
      "Epoch: 52, Train loss: 0.053, Val loss: 0.049, Train acc.: 0.412, Val acc.: 0.444, Epoch time = 285.355s\n"
     ]
    },
    {
     "name": "stderr",
     "output_type": "stream",
     "text": [
      "100%|██████████| 1014/1014 [04:41<00:00,  3.60it/s]\n"
     ]
    },
    {
     "name": "stdout",
     "output_type": "stream",
     "text": [
      "Epoch: 53, Train loss: 0.053, Val loss: 0.049, Train acc.: 0.414, Val acc.: 0.444, Epoch time = 281.825s\n"
     ]
    },
    {
     "name": "stderr",
     "output_type": "stream",
     "text": [
      "100%|██████████| 1014/1014 [04:43<00:00,  3.58it/s]\n"
     ]
    },
    {
     "name": "stdout",
     "output_type": "stream",
     "text": [
      "Epoch: 54, Train loss: 0.052, Val loss: 0.049, Train acc.: 0.414, Val acc.: 0.444, Epoch time = 283.285s\n"
     ]
    },
    {
     "name": "stderr",
     "output_type": "stream",
     "text": [
      "100%|██████████| 1014/1014 [04:42<00:00,  3.58it/s]\n"
     ]
    },
    {
     "name": "stdout",
     "output_type": "stream",
     "text": [
      "Epoch: 55, Train loss: 0.052, Val loss: 0.049, Train acc.: 0.413, Val acc.: 0.445, Epoch time = 282.938s\n"
     ]
    },
    {
     "name": "stderr",
     "output_type": "stream",
     "text": [
      "100%|██████████| 1014/1014 [04:43<00:00,  3.58it/s]\n"
     ]
    },
    {
     "name": "stdout",
     "output_type": "stream",
     "text": [
      "Epoch: 56, Train loss: 0.052, Val loss: 0.049, Train acc.: 0.414, Val acc.: 0.445, Epoch time = 283.384s\n"
     ]
    },
    {
     "name": "stderr",
     "output_type": "stream",
     "text": [
      "100%|██████████| 1014/1014 [04:42<00:00,  3.59it/s]\n"
     ]
    },
    {
     "name": "stdout",
     "output_type": "stream",
     "text": [
      "Epoch: 57, Train loss: 0.052, Val loss: 0.048, Train acc.: 0.415, Val acc.: 0.445, Epoch time = 282.230s\n"
     ]
    },
    {
     "name": "stderr",
     "output_type": "stream",
     "text": [
      "100%|██████████| 1014/1014 [04:45<00:00,  3.55it/s]\n"
     ]
    },
    {
     "name": "stdout",
     "output_type": "stream",
     "text": [
      "Epoch: 58, Train loss: 0.052, Val loss: 0.048, Train acc.: 0.416, Val acc.: 0.445, Epoch time = 285.546s\n"
     ]
    },
    {
     "name": "stderr",
     "output_type": "stream",
     "text": [
      "100%|██████████| 1014/1014 [04:43<00:00,  3.58it/s]\n"
     ]
    },
    {
     "name": "stdout",
     "output_type": "stream",
     "text": [
      "Epoch: 59, Train loss: 0.052, Val loss: 0.048, Train acc.: 0.414, Val acc.: 0.446, Epoch time = 283.261s\n"
     ]
    },
    {
     "name": "stderr",
     "output_type": "stream",
     "text": [
      "100%|██████████| 1014/1014 [04:43<00:00,  3.58it/s]\n"
     ]
    },
    {
     "name": "stdout",
     "output_type": "stream",
     "text": [
      "Epoch: 60, Train loss: 0.052, Val loss: 0.048, Train acc.: 0.415, Val acc.: 0.446, Epoch time = 283.399s\n"
     ]
    },
    {
     "name": "stderr",
     "output_type": "stream",
     "text": [
      "100%|██████████| 1014/1014 [04:42<00:00,  3.59it/s]\n"
     ]
    },
    {
     "name": "stdout",
     "output_type": "stream",
     "text": [
      "Epoch: 61, Train loss: 0.051, Val loss: 0.048, Train acc.: 0.417, Val acc.: 0.446, Epoch time = 282.352s\n"
     ]
    },
    {
     "name": "stderr",
     "output_type": "stream",
     "text": [
      "100%|██████████| 1014/1014 [04:42<00:00,  3.59it/s]\n"
     ]
    },
    {
     "name": "stdout",
     "output_type": "stream",
     "text": [
      "Epoch: 62, Train loss: 0.051, Val loss: 0.048, Train acc.: 0.418, Val acc.: 0.446, Epoch time = 282.492s\n"
     ]
    },
    {
     "name": "stderr",
     "output_type": "stream",
     "text": [
      "100%|██████████| 1014/1014 [04:43<00:00,  3.58it/s]\n"
     ]
    },
    {
     "name": "stdout",
     "output_type": "stream",
     "text": [
      "Epoch: 63, Train loss: 0.051, Val loss: 0.048, Train acc.: 0.415, Val acc.: 0.447, Epoch time = 283.474s\n"
     ]
    },
    {
     "name": "stderr",
     "output_type": "stream",
     "text": [
      "100%|██████████| 1014/1014 [04:42<00:00,  3.59it/s]\n"
     ]
    },
    {
     "name": "stdout",
     "output_type": "stream",
     "text": [
      "Epoch: 64, Train loss: 0.051, Val loss: 0.048, Train acc.: 0.419, Val acc.: 0.447, Epoch time = 282.336s\n"
     ]
    },
    {
     "name": "stderr",
     "output_type": "stream",
     "text": [
      "100%|██████████| 1014/1014 [04:43<00:00,  3.58it/s]\n"
     ]
    },
    {
     "name": "stdout",
     "output_type": "stream",
     "text": [
      "Epoch: 65, Train loss: 0.051, Val loss: 0.048, Train acc.: 0.418, Val acc.: 0.447, Epoch time = 283.455s\n"
     ]
    },
    {
     "name": "stderr",
     "output_type": "stream",
     "text": [
      "100%|██████████| 1014/1014 [04:44<00:00,  3.56it/s]\n"
     ]
    },
    {
     "name": "stdout",
     "output_type": "stream",
     "text": [
      "Epoch: 66, Train loss: 0.051, Val loss: 0.048, Train acc.: 0.419, Val acc.: 0.447, Epoch time = 284.637s\n"
     ]
    },
    {
     "name": "stderr",
     "output_type": "stream",
     "text": [
      "100%|██████████| 1014/1014 [04:46<00:00,  3.54it/s]\n"
     ]
    },
    {
     "name": "stdout",
     "output_type": "stream",
     "text": [
      "Epoch: 67, Train loss: 0.051, Val loss: 0.048, Train acc.: 0.419, Val acc.: 0.447, Epoch time = 286.122s\n"
     ]
    },
    {
     "name": "stderr",
     "output_type": "stream",
     "text": [
      "100%|██████████| 1014/1014 [04:47<00:00,  3.52it/s]\n"
     ]
    },
    {
     "name": "stdout",
     "output_type": "stream",
     "text": [
      "Epoch: 68, Train loss: 0.050, Val loss: 0.048, Train acc.: 0.417, Val acc.: 0.448, Epoch time = 287.792s\n"
     ]
    },
    {
     "name": "stderr",
     "output_type": "stream",
     "text": [
      "100%|██████████| 1014/1014 [04:44<00:00,  3.57it/s]\n"
     ]
    },
    {
     "name": "stdout",
     "output_type": "stream",
     "text": [
      "Epoch: 69, Train loss: 0.050, Val loss: 0.047, Train acc.: 0.420, Val acc.: 0.448, Epoch time = 284.405s\n"
     ]
    },
    {
     "name": "stderr",
     "output_type": "stream",
     "text": [
      "100%|██████████| 1014/1014 [04:46<00:00,  3.54it/s]\n"
     ]
    },
    {
     "name": "stdout",
     "output_type": "stream",
     "text": [
      "Epoch: 70, Train loss: 0.050, Val loss: 0.047, Train acc.: 0.421, Val acc.: 0.448, Epoch time = 286.653s\n"
     ]
    },
    {
     "name": "stderr",
     "output_type": "stream",
     "text": [
      "100%|██████████| 1014/1014 [04:43<00:00,  3.58it/s]\n"
     ]
    },
    {
     "name": "stdout",
     "output_type": "stream",
     "text": [
      "Epoch: 71, Train loss: 0.050, Val loss: 0.047, Train acc.: 0.420, Val acc.: 0.448, Epoch time = 283.251s\n"
     ]
    },
    {
     "name": "stderr",
     "output_type": "stream",
     "text": [
      "100%|██████████| 1014/1014 [04:43<00:00,  3.58it/s]\n"
     ]
    },
    {
     "name": "stdout",
     "output_type": "stream",
     "text": [
      "Epoch: 72, Train loss: 0.050, Val loss: 0.047, Train acc.: 0.419, Val acc.: 0.448, Epoch time = 283.547s\n"
     ]
    },
    {
     "name": "stderr",
     "output_type": "stream",
     "text": [
      "100%|██████████| 1014/1014 [04:42<00:00,  3.59it/s]\n"
     ]
    },
    {
     "name": "stdout",
     "output_type": "stream",
     "text": [
      "Epoch: 73, Train loss: 0.050, Val loss: 0.047, Train acc.: 0.420, Val acc.: 0.448, Epoch time = 282.717s\n"
     ]
    },
    {
     "name": "stderr",
     "output_type": "stream",
     "text": [
      "100%|██████████| 1014/1014 [04:43<00:00,  3.58it/s]\n"
     ]
    },
    {
     "name": "stdout",
     "output_type": "stream",
     "text": [
      "Epoch: 74, Train loss: 0.050, Val loss: 0.047, Train acc.: 0.420, Val acc.: 0.449, Epoch time = 283.184s\n"
     ]
    },
    {
     "name": "stderr",
     "output_type": "stream",
     "text": [
      "100%|██████████| 1014/1014 [04:42<00:00,  3.59it/s]\n"
     ]
    },
    {
     "name": "stdout",
     "output_type": "stream",
     "text": [
      "Epoch: 75, Train loss: 0.050, Val loss: 0.047, Train acc.: 0.422, Val acc.: 0.449, Epoch time = 282.175s\n"
     ]
    },
    {
     "name": "stderr",
     "output_type": "stream",
     "text": [
      "100%|██████████| 1014/1014 [04:44<00:00,  3.57it/s]\n"
     ]
    },
    {
     "name": "stdout",
     "output_type": "stream",
     "text": [
      "Epoch: 76, Train loss: 0.050, Val loss: 0.047, Train acc.: 0.422, Val acc.: 0.449, Epoch time = 284.211s\n"
     ]
    },
    {
     "name": "stderr",
     "output_type": "stream",
     "text": [
      "100%|██████████| 1014/1014 [04:46<00:00,  3.54it/s]\n"
     ]
    },
    {
     "name": "stdout",
     "output_type": "stream",
     "text": [
      "Epoch: 77, Train loss: 0.050, Val loss: 0.047, Train acc.: 0.424, Val acc.: 0.449, Epoch time = 286.228s\n"
     ]
    },
    {
     "name": "stderr",
     "output_type": "stream",
     "text": [
      "100%|██████████| 1014/1014 [04:49<00:00,  3.50it/s]\n"
     ]
    },
    {
     "name": "stdout",
     "output_type": "stream",
     "text": [
      "Epoch: 78, Train loss: 0.049, Val loss: 0.047, Train acc.: 0.423, Val acc.: 0.449, Epoch time = 289.642s\n"
     ]
    },
    {
     "name": "stderr",
     "output_type": "stream",
     "text": [
      "100%|██████████| 1014/1014 [04:45<00:00,  3.56it/s]\n"
     ]
    },
    {
     "name": "stdout",
     "output_type": "stream",
     "text": [
      "Epoch: 79, Train loss: 0.049, Val loss: 0.047, Train acc.: 0.423, Val acc.: 0.449, Epoch time = 285.219s\n"
     ]
    },
    {
     "name": "stderr",
     "output_type": "stream",
     "text": [
      "100%|██████████| 1014/1014 [04:46<00:00,  3.54it/s]\n"
     ]
    },
    {
     "name": "stdout",
     "output_type": "stream",
     "text": [
      "Epoch: 80, Train loss: 0.049, Val loss: 0.047, Train acc.: 0.423, Val acc.: 0.449, Epoch time = 286.491s\n"
     ]
    }
   ],
   "source": [
    "from timeit import default_timer as timer\n",
    "NUM_EPOCHS = 80\n",
    "train_losses = []\n",
    "train_accs = []\n",
    "val_losses = []\n",
    "val_accs = []\n",
    "\n",
    "for epoch in range(1, NUM_EPOCHS + 1):\n",
    "    start_time = timer()\n",
    "    train_loss, train_acc = train_epoch(\n",
    "        transformer, optimizer, train_dataloader)\n",
    "    train_losses += [train_loss]\n",
    "    train_accs += [train_acc]\n",
    "    end_time = timer()\n",
    "    val_loss, val_acc = evaluate(transformer, val_dataloader)\n",
    "    val_losses += [val_loss]\n",
    "    val_accs += [val_acc]\n",
    "    print((f\"Epoch: {epoch}, Train loss: {train_loss:.3f}, Val loss: {val_loss:.3f}, Train acc.: {train_acc:.3f}, Val acc.: {val_acc:.3f}, Epoch time = {(end_time - start_time):.3f}s\"))"
   ]
  },
  {
   "cell_type": "code",
   "execution_count": 50,
   "metadata": {},
   "outputs": [],
   "source": [
    "torch.save(transformer, 'model_tateoba.pth')"
   ]
  },
  {
   "cell_type": "code",
   "execution_count": 51,
   "metadata": {},
   "outputs": [],
   "source": [
    "epochs = range(NUM_EPOCHS)"
   ]
  },
  {
   "cell_type": "code",
   "execution_count": 52,
   "metadata": {},
   "outputs": [
    {
     "data": {
      "image/png": "[encoded data removed]",
      "text/plain": [
       "<Figure size 640x480 with 1 Axes>"
      ]
     },
     "metadata": {},
     "output_type": "display_data"
    }
   ],
   "source": [
    "plt.plot(epochs, train_losses, 'bo', label='Training loss')\n",
    "plt.plot(epochs, val_losses, 'b', label='Validation loss')\n",
    "plt.title('Training and validation loss')\n",
    "plt.xlabel('Epochs')\n",
    "plt.ylabel('Loss')\n",
    "plt.legend()\n",
    "plt.show()"
   ]
  },
  {
   "cell_type": "code",
   "execution_count": 53,
   "metadata": {},
   "outputs": [
    {
     "data": {
      "image/png": "[encoded data removed]",
      "text/plain": [
       "<Figure size 640x480 with 1 Axes>"
      ]
     },
     "metadata": {},
     "output_type": "display_data"
    }
   ],
   "source": [
    "plt.plot(epochs, train_accs, 'bo', label='Training acc')\n",
    "plt.plot(epochs, val_accs, 'b', label='Validation acc')\n",
    "plt.title('Training and validation accuracy')\n",
    "plt.xlabel('Epochs')\n",
    "plt.ylabel('Accuracy')\n",
    "plt.show()"
   ]
  },
  {
   "cell_type": "code",
   "execution_count": 54,
   "metadata": {},
   "outputs": [],
   "source": [
    "def beam_search_decode(model, src, src_mask, max_len, start_symbol, beam_size=5):\n",
    "    # DEVICE = src.device\n",
    "    src = src.to(DEVICE)\n",
    "    src_mask = src_mask.to(DEVICE)\n",
    "\n",
    "    memory = model.encode(src, src_mask)\n",
    "    ys = torch.ones(1, 1).fill_(start_symbol).type(torch.long).to(DEVICE)\n",
    "\n",
    "    beam = [(ys, 0)]\n",
    "\n",
    "    for _ in range(max_len-1):\n",
    "        candidates = []\n",
    "\n",
    "        for ys, score in beam:\n",
    "            ys = ys.to(DEVICE)\n",
    "            memory = memory.to(DEVICE)\n",
    "            tgt_mask = (nn.Transformer.generate_square_subsequent_mask(ys.size(0))\n",
    "                        .type(torch.bool)).to(DEVICE)\n",
    "            out = model.decode(ys, memory, tgt_mask)\n",
    "            out = out.transpose(0, 1)\n",
    "            prob = model.generator(out[:, -1])\n",
    "            topk_probs, topk_words = torch.topk(prob, beam_size, dim=1)\n",
    "\n",
    "            for i in range(beam_size):\n",
    "                next_word = topk_words[0][i].item()\n",
    "                new_score = score + topk_probs[0][i].item()\n",
    "                new_ys = torch.cat(\n",
    "                    [ys, torch.tensor([[next_word]], device=DEVICE)], dim=0)\n",
    "                candidates.append((new_ys, new_score))\n",
    "\n",
    "        beam = sorted(candidates, key=lambda x: x[1], reverse=True)[:beam_size]\n",
    "\n",
    "        end_flag = all([torch.eq(candidate[0][-1], EOS_IDX)\n",
    "                       for candidate, _ in beam])\n",
    "        if end_flag:\n",
    "            break\n",
    "\n",
    "    best_candidate = max(beam, key=lambda x: x[1])\n",
    "\n",
    "    return best_candidate[0]"
   ]
  },
  {
   "cell_type": "code",
   "execution_count": null,
   "metadata": {},
   "outputs": [],
   "source": [
    "# WHEN NOT USING BEAM SEARCH, USE THIS CODE BELOW INSTEAD\n",
    "\n",
    "# def greedy_decode(model, src, src_mask, max_len, start_symbol):\n",
    "#     src = src.to(DEVICE)\n",
    "#     src_mask = src_mask.to(DEVICE)\n",
    "\n",
    "#     memory = model.encode(src, src_mask)\n",
    "#     ys = torch.ones(1, 1).fill_(start_symbol).type(torch.long).to(DEVICE)\n",
    "#     # print(ys)\n",
    "#     for i in range(max_len-1):\n",
    "#         memory = memory.to(DEVICE)\n",
    "#         tgt_mask = (generate_square_subsequent_mask(ys.size(0))\n",
    "#                     .type(torch.bool)).to(DEVICE)\n",
    "#         out = model.decode(ys, memory, tgt_mask)\n",
    "#         out = out.transpose(0, 1)\n",
    "#         prob = model.generator(out[:, -1])\n",
    "#         _, next_word = torch.max(prob, dim=1)\n",
    "#         next_word = next_word.item()\n",
    "\n",
    "#         ys = torch.cat([ys,\n",
    "#                         torch.ones(1, 1).type_as(src.data).fill_(next_word)], dim=0)\n",
    "#         # print(ys) # Remove the comment to understand the loop\n",
    "#         if next_word == 2:\n",
    "#             break\n",
    "#     return ys"
   ]
  },
  {
   "cell_type": "code",
   "execution_count": 55,
   "metadata": {},
   "outputs": [
    {
     "data": {
      "text/plain": [
       "tensor([[    1],\n",
       "        [ 1565],\n",
       "        [13675],\n",
       "        [    2]])"
      ]
     },
     "execution_count": 55,
     "metadata": {},
     "output_type": "execute_result"
    }
   ],
   "source": [
    "text2codes(['Go!'], sp)[0].view(-1, 1)"
   ]
  },
  {
   "cell_type": "code",
   "execution_count": 56,
   "metadata": {},
   "outputs": [],
   "source": [
    "def translate(model: torch.nn.Module, src_sentence: str):\n",
    "    model.eval()\n",
    "    src = text2codes([src_sentence], sp)[0].view(-1, 1)\n",
    "    num_tokens = src.shape[0]\n",
    "    src_mask = (torch.zeros(num_tokens, num_tokens)).type(torch.bool)\n",
    "\n",
    "    tgt_tokens = beam_search_decode(\n",
    "        model, src, src_mask, max_len=num_tokens + 20, start_symbol=BOS_IDX, beam_size=3).flatten()\n",
    "\n",
    "    tgt_chars_specials = codes2text([tgt_tokens], sp)\n",
    "    tgt_words = []\n",
    "    for token in tgt_chars_specials:\n",
    "        if token not in ['<s>', '</s>', '<unk>']:\n",
    "            tgt_words.append(token.strip())\n",
    "    tgt_sentence = ' '.join(tgt_words)\n",
    "    return tgt_sentence"
   ]
  },
  {
   "cell_type": "code",
   "execution_count": 58,
   "metadata": {},
   "outputs": [
    {
     "data": {
      "text/plain": [
       "'I drink water every day.'"
      ]
     },
     "execution_count": 58,
     "metadata": {},
     "output_type": "execute_result"
    }
   ],
   "source": [
    "tgt_sent = translate(transformer, 'Jag dricker vatten varje dag')\n",
    "tgt_sent"
   ]
  },
  {
   "cell_type": "code",
   "execution_count": 59,
   "metadata": {
    "scrolled": true
   },
   "outputs": [
    {
     "data": {
      "text/plain": [
       "'Can you translate a second sentence?'"
      ]
     },
     "execution_count": 59,
     "metadata": {},
     "output_type": "execute_result"
    }
   ],
   "source": [
    "tgt_sent = translate(transformer, 'Kan du översätta en enkel mening?')\n",
    "tgt_sent"
   ]
  },
  {
   "cell_type": "code",
   "execution_count": 60,
   "metadata": {},
   "outputs": [
    {
     "data": {
      "text/plain": [
       "\"What's your name?\""
      ]
     },
     "execution_count": 60,
     "metadata": {},
     "output_type": "execute_result"
    }
   ],
   "source": [
    "tgt_sent = translate(transformer, 'Vad heter du?')\n",
    "tgt_sent"
   ]
  },
  {
   "cell_type": "code",
   "execution_count": 73,
   "metadata": {},
   "outputs": [],
   "source": [
    "swe = [\"Jag bor i ett stort rött hus.\", \"Solen är väldigt stor och varm.\", \"Idag är det väldigt kallt och blåsigt!\", \"Vill du ha salt till din pasta?\", \"Du behöver glasögon, för du kan inte se.\",\n",
    "       \"Min hund är är åtta år gammal.\", \"Jag har på mig byxor och en tröja.\", \"Det är en eld i byggnaden!\", \"Gillar du att plugga på din dator?\", \"Bussen var väldigt full idag.\"]\n",
    "eng = [\"I live in a big red house.\", \"The sun is very big and hot.\", \"Today it's very cold and windy!\", \"Would you like to have some salt for your pasta?\", \"You need glasses, because you can't see.\",\n",
    "       \"My dog is eigth years old.\", \"I'm wearing pants and a shirt.\", \"It is a fire in the building!\", \"Do you like to study on your computer?\", \"The bus was very full today.\"]"
   ]
  },
  {
   "cell_type": "code",
   "execution_count": 77,
   "metadata": {
    "scrolled": true
   },
   "outputs": [
    {
     "data": {
      "text/plain": [
       "['I live in a big house. a large house.',\n",
       " 'The sun is very large and warm.',\n",
       " 'Today is very cold and cold!!',\n",
       " 'Do you want to salt for your pasta?',\n",
       " \"You need to be glasses, because you can't see.\",\n",
       " 'My dog is eight years old.',\n",
       " \"I'm wearing the pants and a sweater.\",\n",
       " 'A fire is a red building!',\n",
       " 'Do you like to study for your computer?',\n",
       " 'The bus was very drunk today.']"
      ]
     },
     "execution_count": 77,
     "metadata": {},
     "output_type": "execute_result"
    }
   ],
   "source": [
    "cand = []\n",
    "for sent in swe:\n",
    "    cand.append(translate(transformer, sent))\n",
    "cand"
   ]
  },
  {
   "cell_type": "code",
   "execution_count": 96,
   "metadata": {},
   "outputs": [
    {
     "data": {
      "text/plain": [
       "tensor(0.4116)"
      ]
     },
     "execution_count": 96,
     "metadata": {},
     "output_type": "execute_result"
    }
   ],
   "source": [
    "bleu_score(cand, eng)"
   ]
  },
  {
   "cell_type": "code",
   "execution_count": 101,
   "metadata": {},
   "outputs": [
    {
     "name": "stderr",
     "output_type": "stream",
     "text": [
      "100%|██████████| 8108/8108 [1:10:23<00:00,  1.92it/s]\n"
     ]
    },
    {
     "data": {
      "text/plain": [
       "['Mary is smart and beautiful.',\n",
       " 'I saw you porine.',\n",
       " \"I'll get it out.\",\n",
       " 'Tom is waiting for Mary..',\n",
       " 'The long woman is beautiful.',\n",
       " 'Everyone likes me.',\n",
       " 'Elephant consks consist of ivber.ory.',\n",
       " 'The future of theves are not very light. light. light, light',\n",
       " '\"Who did you talk to?\" \"You just knew your mother?\" \"You just had a mother.\"',\n",
       " 'Why do you not eat pineapple?',\n",
       " 'He refused to shut the door.',\n",
       " 'Tom is married a teacher. a teacher.',\n",
       " 'Whose suitcase is that??',\n",
       " 'Are you not going inside?',\n",
       " 'Tom checked the electric chair in the chair.ay.',\n",
       " \"This is the first time I've written a letter in Spanish.m Spanish.\",\n",
       " 'The reg is the rules. the rules.',\n",
       " 'Tom has big ears.',\n",
       " 'Why have the two nost nostosts?',\n",
       " 'Yanni and Skura were both in the basement.',\n",
       " 'Where do you have your parents?',\n",
       " 'Mary spent several years to the history of the story.',\n",
       " 'We are both number.',\n",
       " 'Everybody sat on the floor!',\n",
       " \"Who's the oldest person in the world??\",\n",
       " 'Are you following me?',\n",
       " 'Take care of Tom. Tom.',\n",
       " \"I'm looking for an old man.\",\n",
       " 'Tom is doing that sometimes.',\n",
       " \"Tell Mary I'm not gonna go to Boston with her..\",\n",
       " 'She carried a beautiful dress. like a beautiful dress.',\n",
       " 'I also wanted to know.',\n",
       " 'I drank the coffee.',\n",
       " 'I saw you well.imed. you can sit out.',\n",
       " 'Are you in a bad mood?',\n",
       " 'Tom is the first but decf.',\n",
       " 'I am coming.',\n",
       " 'My aunt lives in a only house in the country.. in the country',\n",
       " 'There are many old building there..',\n",
       " 'I love the smell coffee in the morning.',\n",
       " 'Be upped.',\n",
       " 'That word of the originia is called original.',\n",
       " 'Tom is limping.',\n",
       " \"He fell in love with her, but she didn't even know her name.\",\n",
       " 'Ziri left the island. left.',\n",
       " 'Mother left me a message. left. left me left.',\n",
       " 'I was weak.',\n",
       " 'Did they buy it? did they buy it?',\n",
       " 'I should have gone with him.',\n",
       " 'Who am I talking with?',\n",
       " \"Mary's grandma do not have any teeth.\",\n",
       " 'I hope you brought you an umbrella.',\n",
       " 'Welcome!',\n",
       " 'I read him the letter.',\n",
       " 'Did you ever read a few AMs of A movie?',\n",
       " 'Stand up, everyone meet up.',\n",
       " 'What did Tom say?',\n",
       " 'Where did you buy the ticket?',\n",
       " 'She cut down the front of the ocean.mvem-',\n",
       " 'It would be a very dangerous for the two of the couple.',\n",
       " \"I'm sorry of school. at school.\",\n",
       " 'I am going to go and raised tomorrow.',\n",
       " \"It's not important.\",\n",
       " 'Tom said he thought Mary could take the plage.o.',\n",
       " \"I'll get back in your way.\",\n",
       " 'He is here any one else.?',\n",
       " \"I still haven't done that.\",\n",
       " 'Did Tom know that he was doing that on the wrong one?',\n",
       " 'They were simple.imp. were simple.',\n",
       " 'Tom witnessed the murder.',\n",
       " \"He does not like it. I'm not either.\",\n",
       " \"I'm suicide.\",\n",
       " 'We have to admit his work with her.',\n",
       " 'How was your day doing today?',\n",
       " \"You got'd hurt.\",\n",
       " 's sweating.',\n",
       " 'I did the date.',\n",
       " 'My child likes not a dentist.',\n",
       " 'This tastes like chicken.',\n",
       " 'How is your married married?',\n",
       " 'Is Tom black? Tom?',\n",
       " \"If I'd be, I'd be listening to Tom's advice. advice.\",\n",
       " 'A thousand thanks!',\n",
       " 'Has Tom called?',\n",
       " 'I do not think there is a doctor here.',\n",
       " 'You may stay.',\n",
       " 'Do you speak it?',\n",
       " 'You are a beautiful girl.',\n",
       " 'We were having lunch.',\n",
       " \"Tom isn't a Jew.\",\n",
       " 'Do you want some coffee?',\n",
       " 'You seem absent.',\n",
       " \"It's not raining. It's snowing.\",\n",
       " 'Tom is Cusing you.',\n",
       " 'This is incorrect.',\n",
       " 'Tom was fired.',\n",
       " 'Was my taxi driver?',\n",
       " 'I am accustomed to working hard.',\n",
       " 'I do not like horror food.',\n",
       " 'Do you often play at the Oua?',\n",
       " 'Give me the report. give me the report.',\n",
       " 'What can you tell us?',\n",
       " 'Do you speak Khmer?',\n",
       " 'My French is shitty.ittittitty.',\n",
       " 'Attack!!!',\n",
       " 'Tom told them not to do that...',\n",
       " 'How many friends do you have?',\n",
       " 'Who is she?',\n",
       " 'Guess who is coming this evening..',\n",
       " \"Next time, I'll try something more.\",\n",
       " \"That doesn't make any difference.\",\n",
       " \"Somebody's stolen all my money.\",\n",
       " 'Tom is doing the at avele. up.',\n",
       " \"I'm a politician.\",\n",
       " 'How did she reaate by the new hit?',\n",
       " 'Everybody needs love. all need our love.',\n",
       " 'I fell in love.',\n",
       " \"It's not a joke.\",\n",
       " 'Have you ever heard this word?',\n",
       " \"You'd better be running.\",\n",
       " 'I do not understand the problem.',\n",
       " 'It is on your desk.',\n",
       " 'Are you Lect.',\n",
       " \"We just haven't got enough time.\",\n",
       " 'Tom had cancer.',\n",
       " 'He is always right.',\n",
       " 'Are you still in the office?',\n",
       " 'Better often practice his sports.',\n",
       " 'Cimies are eating fish.. fish. fish',\n",
       " \"It's not a gun.\",\n",
       " 'He sat all the silent and looked out.!',\n",
       " 'What train you are going to take?',\n",
       " 'He slipped and fell.ed..',\n",
       " 'Give me the clock. give me the clock,',\n",
       " \"I've been doing that for three years.\",\n",
       " 'Tom swumched with Mary.',\n",
       " 'She talked him to do that even know that she was not a real idea. an idea. no idea.',\n",
       " 'I owe you a beer.',\n",
       " 'He has never fallen down.',\n",
       " \"I'd not recommend it.\",\n",
       " \"I didn't call.\",\n",
       " 'It is pretty standard.',\n",
       " 'This is seven.',\n",
       " 'He was listening.',\n",
       " 'Tom prefers speaking in French.',\n",
       " 'How do you make decisions?',\n",
       " 'I can take you a ride? can make you?',\n",
       " 'Tom hurt.',\n",
       " 'Your ware of the  ⁇ 1m. No  ⁇ .',\n",
       " 'Our proposal was notat.',\n",
       " 'It is easy to forget that the microphone are on. over.',\n",
       " 'What do I get in return? I get in?',\n",
       " 'Tom and Mary werea- one girl.',\n",
       " 'My family is get my career.',\n",
       " 'There was almost nothing in the room. were almost in the room.',\n",
       " \"I'll be check.\",\n",
       " \"It's a difficult situation.\",\n",
       " 'Do you remember the first time we went to Boston??',\n",
       " 'His brother cannot sing..',\n",
       " 'avas are my favorite color.',\n",
       " 'I am elckery.',\n",
       " \"You've been OK!\",\n",
       " 'I give a fuck about what you say!',\n",
       " 'She lent the poor. helped helped they helped the poor.',\n",
       " 'How did your day go?',\n",
       " 'His vara of English is out of all.',\n",
       " 'Are you finished?',\n",
       " 'Life is a big Jter.',\n",
       " 'I walk to work.. walk.',\n",
       " 'Did you have dreams?',\n",
       " \"I'm getting forty-aest.icks of shoes.\",\n",
       " 'Nobody is waiting for you. are waiting.',\n",
       " 'I hate jogging.',\n",
       " 'This wine tastes a good.',\n",
       " \"It's really not that easy.\",\n",
       " 'Sami was cleaneding his closet.',\n",
       " 'Would you like to get married or first?',\n",
       " 'Someone rang the door back.',\n",
       " 'A looky look on his face is his native cat. A strong-as as their real real life.oable child.',\n",
       " 'The die is green. is green.',\n",
       " 'Tom is in the room for three.',\n",
       " 'You have to adjust you.',\n",
       " 'He never talked about it.',\n",
       " 'Where can I buy some food?',\n",
       " 'They went back to their bedroom.',\n",
       " 'He dorted the legsts.stquct åtate.',\n",
       " 'He died yesterday. died.',\n",
       " 'What are you thinking about?',\n",
       " 'A terrible about this living in the living room.',\n",
       " 'Why did they say anything?',\n",
       " 'No one came.',\n",
       " 'I wanted to be an independentic time.',\n",
       " 'Let go into the dog.. the dog.',\n",
       " 'Mennad will not get angry.',\n",
       " \"They don't seem happy.\",\n",
       " 'Alps cannot cook. things.',\n",
       " 'The doctor told Mr to give up smoking.',\n",
       " 'He told us to be calm...',\n",
       " 'Your son is waiting my daughter.',\n",
       " 'My hands are itchy.',\n",
       " 'How did you get to know her?',\n",
       " 'The nailig is good.',\n",
       " 'I love beer.',\n",
       " 'Is anyone going to eat that?',\n",
       " 'I really like to be jogging.',\n",
       " 'How long does it take on foot?',\n",
       " 'Many of the students were tired.',\n",
       " 'We do not know where we are.',\n",
       " 'He were promotion for the human time.ons.',\n",
       " 'The Dakia is on.o..',\n",
       " 'Today is the tomorrow we worried about yesterday.uververs yesterday.. yesterday.',\n",
       " 'Three days, Tom was dead.',\n",
       " 'I watched Tom do the talk..',\n",
       " 'I wonder if Tom is telling the truth.',\n",
       " \"I assume you're ready to take the take up..\",\n",
       " 'How long do we have?',\n",
       " 'I could be patient.',\n",
       " 'At first, I realized it.',\n",
       " 'his house is just about three kilometers from here.',\n",
       " 'I already know it was a dream. a dream.',\n",
       " 'We want nothing from you.',\n",
       " 'I speak Luxembourgic.',\n",
       " 'No one is on this ship but our ship.',\n",
       " 'We are coming tomorrow.',\n",
       " \"I don't know the name of that temple.\",\n",
       " 'Tom visited me on Monday. visit Tom visited visited me on Monday.',\n",
       " 'Tom has a huge vocabulary. have an huge vocabulary.',\n",
       " \"He didn't need to bring an umbrella.\",\n",
       " 'The situation is a lot worse than we had imagined. finally.',\n",
       " \"How many do you dolphin on this He's possess? many there an\",\n",
       " 'Live your life! your life!',\n",
       " 'You give me that much. give me a',\n",
       " 'Are you guys watching?',\n",
       " 'Do you think Tom is alone?',\n",
       " \"We'll interrupt here.\",\n",
       " 'I only wish it were that easy.',\n",
       " 'I may be able to talk to Tom.',\n",
       " 'Have a good day. a good day.',\n",
       " 'What kind of olent in Australia?',\n",
       " 'I want to go to school today.',\n",
       " \"Didn't it occur to you to shut the windows?\",\n",
       " 'Tom has marical identity.',\n",
       " 'What is this?',\n",
       " 'My grandmother lives in the omia. live.',\n",
       " 'Did it really be?',\n",
       " 'What do you owe Tom?',\n",
       " 'Today, I saw a tracer. a time.',\n",
       " 'I have a lot to make.',\n",
       " 'He is a good man.',\n",
       " 'I was watching TV this morning.',\n",
       " 'One of you two must attend the meeting..',\n",
       " 'How do we find out?',\n",
       " 'It is not an easy being honest.',\n",
       " 'I have no money, but I have dreams.',\n",
       " 'Sami was sitting and for a bath.',\n",
       " 'He showed me her picture. showed me a mother.',\n",
       " 'The cat is on the carpet.',\n",
       " 'My house is near school. house.',\n",
       " 'The church is in the middle of the village.',\n",
       " 'We love you so much.',\n",
       " '\"How old are you?\" \"I\\'m 1 ⁇  years 1 ⁇  years old.\"',\n",
       " \"I'll call Tom again.\",\n",
       " 'The capital is a small country.',\n",
       " 'I am so embarrassed.',\n",
       " 'Tom was too meting.',\n",
       " 'We run every day.',\n",
       " 'I prefer red wine.',\n",
       " 'Stay behind me.',\n",
       " 'I still believe in love. still believe still believe in love.',\n",
       " 'You do a good job. a good job.',\n",
       " 'What a great day! a great day!',\n",
       " 'I want the book.',\n",
       " 'Follow this street about five minutes. get five minutes.',\n",
       " 'Do you know them?',\n",
       " 'Only love can break your heart..',\n",
       " 'I cannot stop the bleeding.',\n",
       " \"You're honest.\",\n",
       " 'Did I be wrong? I',\n",
       " 'Do the apples or wash them.',\n",
       " 'I know the song. know.',\n",
       " 'Tom is fluent in French.',\n",
       " 'Fadil and Layla got married. and got married got married married married married married married',\n",
       " 'It looked real. real looking.',\n",
       " \"I'm a newot.\",\n",
       " 'I have no idea.',\n",
       " 'I like Chinese Chinese food.',\n",
       " 'I should go now.',\n",
       " 'Both you are both students. are students.',\n",
       " 'At the cold, we got used to cold. drunk.',\n",
       " 'They had to take off the leg of the summer. off.',\n",
       " 'They were looking for a girl.',\n",
       " 'Have you ever told the truth?',\n",
       " 'I am learning Esperanto in my country.',\n",
       " 'I like Chinese.',\n",
       " 'We cannot leave them.',\n",
       " \"I've already told Tom that three times, he still has not done that.. still done it.\",\n",
       " 'She has put her house up for sale. for her house.',\n",
       " 'What did Tom get up?',\n",
       " 'The duck had 100 dollars in black. black.',\n",
       " 'I bought a do some eggs.',\n",
       " 'The drink is very small.',\n",
       " 'Tom is a very close friends to me.',\n",
       " 'He is a little one snch.',\n",
       " 'She is still at school..',\n",
       " \"You're watching this.\",\n",
       " 'I think that Tom will come to Boston on October 20th..',\n",
       " \"We'll bring plenty of food.\",\n",
       " 'Tom and Mary are young. and Mary are young.',\n",
       " 'Tom needs something to do.',\n",
       " 'Do I must pay you?',\n",
       " 'The worst thing about the summer is the long.',\n",
       " 'Have you ever read this pond in this pond?',\n",
       " 'Help us, Tom. us.',\n",
       " 'Tom wanted to buy Mary a present..',\n",
       " 'Tom survived the mystery out.teome.',\n",
       " 'Japan needed to contact in the Oestest..',\n",
       " \"You won't like Tom.\",\n",
       " 'Please remember it.',\n",
       " 'Please turn the door behind you.',\n",
       " \"I've not been trying to do that in the way.\",\n",
       " 'I forgot my dog. forgoter.',\n",
       " 'I have four computers, but two are the old, and I am not used to use them.',\n",
       " 'Watch.',\n",
       " 'They cannot stop us. cannot stop us.',\n",
       " 'She was wrong.',\n",
       " 'I can feel better. like that.',\n",
       " 'I really like your music.',\n",
       " 'I have not so much money with me.',\n",
       " \"You've ruined it!\",\n",
       " \"I've never seen so many other-sil in one place.\",\n",
       " 'He is on the train.',\n",
       " 'Sami hid the cad.',\n",
       " 'The cost ofadop is last much. me.',\n",
       " 'Tickick is a fake wandic.',\n",
       " 'My heart is on the fire. heart.',\n",
       " 'Tom has a dangerous job. a dangerous job.',\n",
       " 'The girl is jumping.',\n",
       " 'Give me your weapons. give me your weapons.',\n",
       " 'Do you still want me to help you?',\n",
       " 'Christmas fell to one Saturday all year.',\n",
       " 'Do you understand Hungarian?',\n",
       " \"I've just come back from Sweden.\",\n",
       " 'Are you kids hungry?',\n",
       " 'It rained a lot in the winter.',\n",
       " 'Even a small boy knows this.',\n",
       " 'I was sitting under a tree and read the newspaper.',\n",
       " 'Do you play golf?',\n",
       " 'She is always very calm and mum.',\n",
       " \"I've never been abroad.\",\n",
       " 'This is not paper.',\n",
       " 'The party was told to be seen that in the blood war for a lot of storis, and around the Unitedants about two on which they were going around the United years are away..icedants to have been going to have been able to do very much much very much',\n",
       " 'There are not so many sight of the town in this town. city.',\n",
       " 'When I look back that time, everything looks a dream. had a dream. a dream',\n",
       " \"That's all you get..\",\n",
       " 'Tom is back in a living.',\n",
       " 'Who was the floor?',\n",
       " 'He hates är.',\n",
       " 'I can scarcely.',\n",
       " 'Ne of the capital of Finland is called.',\n",
       " 'No matter how much she eats, so she never show you. weight. weight! weight',\n",
       " 'How did you get in?',\n",
       " \"I've never eaten raw fish.\",\n",
       " 'My bicycle is in need of repair.',\n",
       " 'He used too much for A. used for A.',\n",
       " 'Tom lost his French Volilels.',\n",
       " 'The doctor consemated at the matter before he gave some medicine. for how to do whatever he has.. for time',\n",
       " 'We are not comalical coffee on this apolce.',\n",
       " 'Could I order now?',\n",
       " 'The airport broke into some fons of the traffic-souts all to be picked up from there. sure he went up.',\n",
       " 'How do you do the fidid?',\n",
       " 'Do they dream?',\n",
       " 'I must find him.',\n",
       " 'I do not want to close you!',\n",
       " \"No, please. I'm pregnant.\",\n",
       " \"Would you mind if I'll get you?\",\n",
       " \"I've done so many mistakes.\",\n",
       " 'Come back.',\n",
       " 'I can drive you.',\n",
       " 'In Sweden, I make the sypho\" in \"m\".',\n",
       " \"That's part of my job. work.\",\n",
       " \"Unfortunately, it's true. true.\",\n",
       " 'Did you enjoy the game?',\n",
       " 'Tom discussed the problem with Mary.',\n",
       " 'Please get out at here. be getting also be getting immediately.',\n",
       " 'Will you wait for us at the station??',\n",
       " \"You're making me a glad of me.\",\n",
       " 'Can I have a receipt?',\n",
       " 'Where is the butter? is the the butter?',\n",
       " 'I know the song.',\n",
       " \"Tell me you're tired..\",\n",
       " 'You are impolite.',\n",
       " 'We must find it.',\n",
       " 'Mosperys is not a little without it needs. a very much. like',\n",
       " \"If you are a lot about home, you're crying a lot of lost. you're sorry.\",\n",
       " 'Tom repaired his bicycle.',\n",
       " 'All I want to go and go to fishing..',\n",
       " \"You're a witness.\",\n",
       " 'Takes change. change change.',\n",
       " 'Melanie likes to eat pizza.',\n",
       " 'To the work, I will give up at my over-adadess for my arm. For bit bit bit bit bit for my arm.',\n",
       " 'Do not take the risk.',\n",
       " 'He took my wings. took my wings and took my wings two wings',\n",
       " 'I cannot be the only only one who thinks Tom and Mary are are crazy. am.',\n",
       " 'How much does this tax cost?',\n",
       " 'I feel like playing, too.',\n",
       " 'I was at a movie theater. at the movie.',\n",
       " 'I am to the gym.',\n",
       " 'It has stopped raining.',\n",
       " 'The kitten means to his people.se.',\n",
       " 'Is Tom crazy??',\n",
       " \"I'm on the wind.\",\n",
       " 'They bques that he can be dead.!',\n",
       " 'The company took a new car on TV..',\n",
       " 'The children are in the sand of the sand..',\n",
       " \"Tom didn't even help Mary.\",\n",
       " \"I don't speak Bseian.\",\n",
       " 'Where is the entrance?',\n",
       " 'Tom is just a ditt here.',\n",
       " 'She was just about to take up the baby.',\n",
       " 'The world is an elel.',\n",
       " 'Tom is kusing you.',\n",
       " 'Women are equal to know for equal.',\n",
       " 'I can open the window. can open.',\n",
       " \"I've never seen this  ⁇ .\",\n",
       " 'The women are working.',\n",
       " 'Why never cooks?',\n",
       " 'You never understand my joke.',\n",
       " 'The weather was better. good.',\n",
       " 'Life is a music.',\n",
       " 'There are room in the sea.age.',\n",
       " \"Tom's dog killed the cat.\",\n",
       " 'Melanie is busy just now.',\n",
       " 'Is it raining all night? raining?',\n",
       " 'Watch out for the job were interview.ed.!',\n",
       " \"It's time for us to go home...\",\n",
       " 'Tom cannot stand.',\n",
       " 'What is an needed. is a',\n",
       " 'I took my school on the conference.. conference.',\n",
       " 'When will you go?',\n",
       " \"It's there..\",\n",
       " \"I know that you're hiding behind the back..\",\n",
       " 'I did not tell Tom I was married.',\n",
       " 'Call me!',\n",
       " 'Boston has grown quickly before the last ten years. been ten.',\n",
       " 'We are going to play a game.',\n",
       " 'You really should be talking to Tom.',\n",
       " 'Do I need to pay you?',\n",
       " 'Will die?',\n",
       " 'This company is made from the next year. next year.',\n",
       " 'I have no money.',\n",
       " '\"Are these the last-Esmices?\" \"The Mary all the patas-l for our hospital.\".\".\".\" did.\"',\n",
       " 'I am not visiting in Australia.',\n",
       " \"I'm not wearing that.\",\n",
       " 'Have you ever heard Tom singing?',\n",
       " 'Tom went back to his car to bring his umbrella.',\n",
       " 'What will the child go?',\n",
       " 'I cannot think Tom can speak sign.',\n",
       " 'You cannot go out there.',\n",
       " 'Who knows not?',\n",
       " 'Tom is not currently collecting outymentmentmentment.',\n",
       " 'We lost. lost we lost.',\n",
       " 'The wind blew all day. wind blew wind wind blew over all day',\n",
       " 'I heard that Tom had great concert for America for several years before he got married.. got married.. two years two since he got eaten.',\n",
       " 'His giftal is over an storal with an storal.',\n",
       " 'Tom cannot see you.',\n",
       " 'Your question has no answer.',\n",
       " 'I fed the dog.',\n",
       " 'I need the til. need to take a fire.',\n",
       " 'I want to be his friend.',\n",
       " 'I am thirsty for  ⁇ 0.',\n",
       " 'The picture looksat, because it has no care of the spish.',\n",
       " 'The hair is very hair.',\n",
       " 'She died in 1 ⁇ 0.',\n",
       " 'Otts start to observe Europe.',\n",
       " 'I am as busy.',\n",
       " 'How do people manage to sleep on the plane?',\n",
       " 'I hate Instagram.',\n",
       " 'My stomach hurts. hurt hurt hurt hurt hurt hurt hurt.',\n",
       " 'Drink me, Tom..., Tom.',\n",
       " 'We are wimled to make time.',\n",
       " 'I am an old man now.',\n",
       " 'What do you have a choice?',\n",
       " 'Can we speak French? we speak French?',\n",
       " \"I'd prefer you to call Tom.\",\n",
       " 'Tom took one of his gloves.',\n",
       " 'Leave Tom for me. Tom.',\n",
       " 'The horse is down.',\n",
       " 'Bill is large of computer.',\n",
       " 'I know Tom is a taxi driver..',\n",
       " 'I play chess every day.',\n",
       " 'The baby is drinking water.',\n",
       " 'Tom is just like you.',\n",
       " 'Some sentences are too long.',\n",
       " 'I hope Tom understands.',\n",
       " 'He is very wise.',\n",
       " 'This book is about China.',\n",
       " 'My pocket is in my pocket.',\n",
       " 'I love Jorienia.',\n",
       " 'Ziri kissed Rima. kissed.',\n",
       " 'How long has he been absent?',\n",
       " 'The museum close at  ⁇ 00 a.m.',\n",
       " \"It's still humid.\",\n",
       " 'How high is the mountain?',\n",
       " 'No one is shas.',\n",
       " 'Tom is in trouble.',\n",
       " 'Tom forgave me.',\n",
       " 'She questioned his proteical. his fault.',\n",
       " 'I was not too busy.',\n",
       " 'You must save us.',\n",
       " 'Tom forgot to turn in the basement.',\n",
       " 'When do we want it?',\n",
       " 'This should be helping.',\n",
       " 'Is he a doctor? a doctor?',\n",
       " 'Hello everybody!!',\n",
       " 'I am pretty certain.',\n",
       " 'Why are you at home?',\n",
       " 'She called her mother.',\n",
       " 'The box was full of books. bought.',\n",
       " 'This sentence is too long.',\n",
       " 'My father neither smoke nor drinks.',\n",
       " 'Birds are singing in the morning. sing.',\n",
       " 'She knows how to write. like a',\n",
       " 'I meet Tom every day.',\n",
       " 'Neither he nor his wife was present.!',\n",
       " 'I am accustomed to working hard.',\n",
       " 'A cat is a cat in the box.',\n",
       " 'A very way this way.',\n",
       " 'Thank you for telling us. us.',\n",
       " 'I recently met him.',\n",
       " 'My name is five weeks behind..',\n",
       " 'The police did him out of order to follow.',\n",
       " 'Drop the ball to me..!',\n",
       " \"Tom probably doesn't know that Mary is athlet.\",\n",
       " \"Don't be so lazy.\",\n",
       " '\"Tll her teeth are too weak in the girl. told the boy.',\n",
       " 'Why does everyone have to learn English?',\n",
       " 'Tom is studying at Harvard.',\n",
       " 'I am a big fan.',\n",
       " 'The language of the storices are countries and be rude!!!',\n",
       " 'What are you thinking about?',\n",
       " 'Who is singing this song?',\n",
       " 'does 1 ⁇ 1 in 1 ⁇ 2. also also also also also workage alltid',\n",
       " 'I was not alone.',\n",
       " 'That was hard.',\n",
       " 'Put it something. was like it.',\n",
       " 'Tom was kntinging.',\n",
       " 'Tom loves Mary.',\n",
       " 'The first to the label is been The field..',\n",
       " 'How many friends do you have?',\n",
       " 'What is this for??',\n",
       " 'Let me explain. explain.',\n",
       " \"You should've turned by a meat.\",\n",
       " \"What're you going?\",\n",
       " 'I advised him to come back immediately.',\n",
       " \"She's careful.\",\n",
       " 'Tom and I turn up what to do.ll do.',\n",
       " 'I opened the door and saw a good cat-inteit, things in her eyes. eyes eyes eyes eyes blue eyes,',\n",
       " 'Tom is divorced.',\n",
       " 'Finishing this job by Tuesday will be easy. be easy.',\n",
       " 'I really love Tom.',\n",
       " 'Feck!',\n",
       " 'I want more milk.',\n",
       " 'Tom will stay for another three days.',\n",
       " 'With whom did you talk?',\n",
       " 'Tom has not brushed his teeth yet.',\n",
       " 'I am a human being.',\n",
       " 'I like this place.',\n",
       " \"Believe it or not, to build the computer's found a lot about her joke.ating an great-fquants about.. her great than a great accident.iating a\",\n",
       " 'The old person died in their room. old old old old old old old old old old old',\n",
       " 'I do not know where my parents are.',\n",
       " 'I want to have five meat.',\n",
       " 'He seems that we are in the same boat.',\n",
       " 'My back is hurting again.end my back.',\n",
       " 'The airport was awesome.ast.',\n",
       " 'Ziri likes Rima.',\n",
       " 'He kicked most of his men.',\n",
       " 'Welcome to hell!',\n",
       " 'Tom and I spoke a long time., I had long long long long long long long time',\n",
       " 'Can I have a little more milk?',\n",
       " \"Tom's brother found a knife.\",\n",
       " 'Ziri is not afraid.',\n",
       " 'When will you go back?',\n",
       " 'No, I went out. went.',\n",
       " 'I saw my friend drinking wine there....',\n",
       " 'Tom is talkative.',\n",
       " 'The next concert will be held in June.',\n",
       " 'I have more than enough.',\n",
       " 'Greek is a difficult language.',\n",
       " 'God is an crown here.',\n",
       " \"Tom doesn't answer.\",\n",
       " 'We cannot trust anyone.',\n",
       " \"You're wanted on the telephone.\",\n",
       " 'What was your doctor really?',\n",
       " \"This dog saved his life's life.\",\n",
       " 'I should have told Mary that I loved her.',\n",
       " 'We eat soup with a har.',\n",
       " 'You must catch the animals alive.',\n",
       " 'A cat is sleeping on a chair.',\n",
       " 'I only wish Tom was here.',\n",
       " \"I am freezing in my nose. I'm going to get on my socks.\",\n",
       " \"What's the time?\",\n",
       " \"Tom probably isn't going to do that by himself.\",\n",
       " 'Can I get the money back?',\n",
       " 'Is that a behöverpat?or??',\n",
       " 'This is the house that Jack built. built.',\n",
       " 'He is married to a dentist.',\n",
       " 'Fadil likes sausus.',\n",
       " 'How tall are they?',\n",
       " 'Did you enjoy the wait or what the driver was turned off??',\n",
       " \"The others doesn't work.\",\n",
       " \"It haven't always been easy.\",\n",
       " 'Up to the hide, she was a princess to meet a squirrel from the boy and a boy..ue a boy from a castle..ure of the boy had a boy from a lie from a',\n",
       " 'Did you buy a completely new car?',\n",
       " 'Be contented.',\n",
       " 'The  ⁇ 0s were the middle of the other speechs. went to the lap. have went hoooooooooooooo',\n",
       " \"I'll always need you.\",\n",
       " 'Ch was, also people.',\n",
       " 'She cannot have dad furniture school.',\n",
       " \"Who's the live of the world??\",\n",
       " 'The animal is eating.',\n",
       " 'The Vection of the beach into the beach.',\n",
       " 'We will not do it again for a bit.',\n",
       " \"I'm proud of you all.\",\n",
       " 'Cheer down.en a',\n",
       " 'Next next, please!!',\n",
       " 'Fein to ice.. ice ice.',\n",
       " 'I hate week.',\n",
       " 'They have no somewhere to take the way.',\n",
       " \"Tom says he won't be vain.\",\n",
       " 'What is that sound?',\n",
       " \"Tom said he didn't kiss Mary.\",\n",
       " 'After the Christmas stop, we all going out some Christmaser and have Christmas at the Christmas Christmas. Christmas Christmas Christmas Christmas Christmas Christmas Christmas Christmas',\n",
       " 'ion what you like. like.. like it.',\n",
       " 'The big day is drawing near. big big big big big big big big big',\n",
       " 'I really got engaged.',\n",
       " 'Tom sang for us.',\n",
       " 'We need to clean our house in the bedroom.',\n",
       " 'I like tennis.',\n",
       " 'Tom is starting to get ten.',\n",
       " 'The old cow was down.',\n",
       " 'Stay in the Tug.!',\n",
       " 'I put the envelope down. put the envelope.',\n",
       " \"Tom doesn't even know my name.\",\n",
       " \"I lent him some money, but he hasn't returned it yet. have been yet. yet got it yet got them.\",\n",
       " 'I am not thirsty.',\n",
       " 'I cannot change who I am.',\n",
       " 'They took their way. please.',\n",
       " \"Will you look after our pets while we're away?\",\n",
       " \"Tom wasn't very keen on the idea.\",\n",
       " 'We could not get a child.',\n",
       " 'Just do what I say.',\n",
       " 'Do you like insects?',\n",
       " \"You'll go to Ireland.\",\n",
       " \"She's ruined her clothes.\",\n",
       " 'Can I draw your exolss??',\n",
       " \"I've got a little ideas.\",\n",
       " 'How sensation is it?',\n",
       " 'I do not need any help.',\n",
       " 'The party was wumed out.',\n",
       " 'His family is doing well.',\n",
       " 'Did you pay for Tom what Mary has done?',\n",
       " 'He has not wearing two weeks.',\n",
       " 'Tom was sure he was too short..',\n",
       " 'Not a chance!',\n",
       " 'I like Tom and Mary.',\n",
       " 'Who was he talking with? he?',\n",
       " 'I may go out if it has been raining.',\n",
       " 'He does not have a know and no energy.',\n",
       " 'I understand.',\n",
       " 'Tom passed out.',\n",
       " 'Can I do it today?',\n",
       " 'I am divorced.',\n",
       " 'Did you warn Tom?',\n",
       " 'The cat is sleeping under the sofa.',\n",
       " 'Hello all!',\n",
       " 'I think he is a skillic person.',\n",
       " 'The person from Egypt speaks Arabic.',\n",
       " 'Where can we speak cheese? can we speak cheese?',\n",
       " 'Who is your favorite super hero?',\n",
       " 'Yanni was a good heart.',\n",
       " 'Tell me what to do...',\n",
       " \"I didn't go to school. for school.\",\n",
       " 'He has too many books.',\n",
       " \"I knew it'd happen sooner or later. later.\",\n",
       " 'My body is not as done as it used to be. used to be.',\n",
       " 'You have work to do.',\n",
       " 'Do you agree with your sister?',\n",
       " 'Tom told Mary everything.im.',\n",
       " 'We have the key.',\n",
       " \"The life doesn't live very long.\",\n",
       " 'She is a hand in the company. came.',\n",
       " 'Japan happens out of the fourages every year. broke years.',\n",
       " 'Many trees lose the snow in the winter.',\n",
       " 'All you are to do is wait and see. have to see.',\n",
       " \"This computer is cleaning every day it's about to die.... die.\",\n",
       " 'You succeeded!',\n",
       " 'Tom forgot to feed his dog.',\n",
       " \"We're probably going to go now.\",\n",
       " 'I look very looking forward to it. will look it.',\n",
       " 'I saw her yesterday.o.. I saw her yesterday.',\n",
       " 'She is very beautiful.',\n",
       " 'They gave up.',\n",
       " 'He never never woke.',\n",
       " 'I never buy sugar.',\n",
       " 'I never liked it.',\n",
       " 'We were so close.',\n",
       " 'Who is Tom now??',\n",
       " 'Tom is not at all. feel sure.',\n",
       " 'She died last night. died.',\n",
       " 'They are spinning wool.',\n",
       " 'Please sit in the way. be, please.',\n",
       " 'Did you turn off the stove?',\n",
       " 'Did Tom forget to pay?',\n",
       " 'Is that not the truth?',\n",
       " 'He is an guilty to the loos.. guilty.',\n",
       " 'Go back, Tom., Tom...',\n",
       " \"What's the minimum salary in the English?\",\n",
       " 'That was unrereival.',\n",
       " '⁇ uit me.',\n",
       " 'She has a stop at the sea.',\n",
       " \"I'll shoot.\",\n",
       " 'I need the truth.',\n",
       " 'Sickness is put up in the airplane. watch.',\n",
       " 'She is in the kitchen..',\n",
       " 'That was his last word.',\n",
       " 'Can I call you back?',\n",
       " 'What do I look much?',\n",
       " 'He is in the kitchen and cooks. food.',\n",
       " 'I have another option. have an option.',\n",
       " 'The loss of my daughter has been called me ⁇  has been called me the side of know.',\n",
       " 'Tom looks happy.',\n",
       " 'I wanted to know where Tom lived.',\n",
       " 'Do you speak Turkish?',\n",
       " 'Fadil cannot usea.',\n",
       " \"I'll call you a cab.\",\n",
       " 'Please let Tom do his job. work. work.',\n",
       " 'Tom is a fireer.',\n",
       " \"No one else knows what he's talking about..\",\n",
       " 'There will be a lot of time for that later. later.',\n",
       " 'A new milk contains ts thirty-dimle.',\n",
       " \"It's not possible.\",\n",
       " 'He attaked.',\n",
       " 'Think about your future.uance. think of your future.',\n",
       " 'There is a wrong sentence.',\n",
       " 'I am learning how to drive.',\n",
       " 'No one is in the mountain..',\n",
       " 'He made it out.',\n",
       " 'I know who did it...',\n",
       " \"One second, I'll just get the pen and the paper.\",\n",
       " 'Did anything happen to him?',\n",
       " 'Tom said that he wanted to die..',\n",
       " 'I want to change nothing.',\n",
       " 'At all dogs live. all dogs about dogs all dogs dogs dogs',\n",
       " 'We gave them money, and clothes..',\n",
       " 'What is taking so long?',\n",
       " \"The cost of course should be higher.'ve been higher.\",\n",
       " \"It's better than nothing.\",\n",
       " 'I know Mary is more beautiful than I am.... know.',\n",
       " \"Tom hasn't cleaned his room yet. yet.\",\n",
       " 'Tom needs blood.',\n",
       " 'I intended her, but I forgot to do that.... to do',\n",
       " 'I thought she was pregnant. that she was pregnant.',\n",
       " \"I'd like a bottle of the pastm.\",\n",
       " 'This is a tyckeric.it.',\n",
       " 'Go and get it first. first.',\n",
       " 'The judge strugged the body in the lake.',\n",
       " 'He is always short of money.',\n",
       " 'Would you like to eat for dinner on the porch?',\n",
       " 'I am livid.',\n",
       " 'The ceiling is leaking.',\n",
       " 'My dad will help me for found..',\n",
       " 'Layla borrowed a gun from Sami. a gun.',\n",
       " 'In the blind, it is a lie to the king.i a king.',\n",
       " 'I stay home.',\n",
       " 'We are drinking tea.',\n",
       " \"Tom's bike was stolen by a snaster.\",\n",
       " 'I want an explanation and I want it now!',\n",
       " 'It was quiet.',\n",
       " 'Tom forgave the sword.',\n",
       " 'What do you think I did??',\n",
       " 'What did you see?',\n",
       " 'He drinks alone in the amyagm.',\n",
       " 'The dog is a very specialer..',\n",
       " 'Do you speak Japanese?',\n",
       " 'I was so nervous that she would get off.',\n",
       " \"I'd like to speak some words with them.\",\n",
       " 'This tree is the only one in the entire tventh of the  ⁇ 000000.',\n",
       " 'Tom thought me. thought me.',\n",
       " 'How did Tom find us?',\n",
       " 'Did Tom do Mary hurt?',\n",
       " \"I'm always interested in the doh.\",\n",
       " 'They refused.',\n",
       " 'I was talking at the class. was speaking.',\n",
       " 'Do you miss Tom?',\n",
       " 'Watch out of her! her!',\n",
       " 'If you want to talk so talk. speak.',\n",
       " 'She is coming!',\n",
       " 'I have a huge things to do.le.',\n",
       " 'Did you have fun the TV?',\n",
       " 'The contrast ur ur urage urens in the traffic but around the small. have over  ⁇ 00 years....',\n",
       " 'Craack!',\n",
       " 'I doubt it. doubt it.',\n",
       " 'We must must respect individual.',\n",
       " 'I see no trouble with this.',\n",
       " 'Do they sell books?',\n",
       " 'Tom is a fashiondressed.',\n",
       " 'This is the flag of the flag.',\n",
       " 'See you later, Tom..',\n",
       " 'Where are you guys?',\n",
       " 'He expression of his way in her birthday is. an doubt.',\n",
       " 'Tom got a child. got caught.',\n",
       " 'This child has beenings..',\n",
       " 'Tom accidentally took his tea. made his tea.',\n",
       " 'He survived.',\n",
       " 'He did not think it was funny. not been funny.',\n",
       " 'I will not talk to you about this back.',\n",
       " 'Did you have breakfast?',\n",
       " 'Why are you on this ship?',\n",
       " 'He heard the bad deter.',\n",
       " 'Give me my money. of money. give me my money.',\n",
       " 'May I have your attention for two hour?',\n",
       " \"I've already done what Tom and Mary asked to do. to do.\",\n",
       " 'Most of the officen lost their jobs. her jobs. her work. people work work',\n",
       " 'Did you visit him?',\n",
       " 'We did what we had to do to survive..',\n",
       " 'Tom said he could not walk.',\n",
       " 'Go across it. it will look it.',\n",
       " 'I am not interested in any result.',\n",
       " 'I just found it.',\n",
       " 'I know who killed Tom. know a lot.',\n",
       " 'I am no good for you. you.',\n",
       " 'Tom and Mary thought that they could win. that they could win.',\n",
       " 'Tom is missing you.',\n",
       " 'I saw you watching.',\n",
       " 'It is sailing me to go out. going to go out..',\n",
       " 'Tom would never have hurt you.',\n",
       " 'Be watchful.',\n",
       " 'How much did I lost?',\n",
       " 'He is back again.',\n",
       " 'She speaks to a Russian as a living driver.',\n",
       " 'I cannot sleep about the night.',\n",
       " 'He did not want to speak English.',\n",
       " 'Can you wait outside?',\n",
       " \"I'm flying to you tomorrow.\",\n",
       " 'Get off, your disguck., please.',\n",
       " 'Tom saw the clall. saw a cl can see the clip',\n",
       " 'Dear the problem.ction. like the problem.',\n",
       " 'I have lost my wallet.',\n",
       " 'You cannot save everyone.',\n",
       " 'The room was empty except for a shababie bed.',\n",
       " \"I'm an insomnia.\",\n",
       " 'He has come the long way.',\n",
       " 'This is a horse.',\n",
       " \"Don't be such a bus!\",\n",
       " 'I thought Tom was left.',\n",
       " 'Go the map has been looking for. been looking...',\n",
       " 'I found out something. find find find out.',\n",
       " 'Is it raining in London?',\n",
       " 'It really stopped.',\n",
       " 'Could you write it down? you?',\n",
       " 'He weighs a lot more than before.',\n",
       " 'Doick in this front.',\n",
       " \"I didn't read the book and I don't want to do that either.\",\n",
       " \"I'd like to rent a car.\",\n",
       " 'She became a policeman. became a policeman.',\n",
       " 'Your question is not to hear the game.',\n",
       " 'Mf ⁇  is knocking on the door....',\n",
       " 'Holding if he looks handsome in that corner.ish it..',\n",
       " 'Can you measure it? you?',\n",
       " 'I do not feel good today and prefer to stay at home..',\n",
       " 'A easy to make up when you go on.urule is over.eating.',\n",
       " 'I probably should go.',\n",
       " 'I can understand what you say.',\n",
       " 'Life is fun.',\n",
       " 'Birds have wings.',\n",
       " 'What are you doing next? you like?',\n",
       " 'I took my train from the city to Tokyo the next few hours. hours for several hours. for hours for hours for hours',\n",
       " 'You have to see that in at watching.',\n",
       " 'This corn is fresh.',\n",
       " 'You will need a key.',\n",
       " 'What do you eat at the moment?',\n",
       " 'Tom gave Mary money to buy chocolate chocolate.',\n",
       " 'Spanish is his native language.',\n",
       " 'You would enjoy it, if you asked a question about your too much and give their much people.',\n",
       " 'I must buy one.',\n",
       " 'It is garbage.',\n",
       " 'There are many Americans who can speak Japanese. speak Japanese.',\n",
       " 'Tom liked that idea. up.',\n",
       " \"Sami moved into Layla's apartment.\",\n",
       " 'I remember this word.',\n",
       " 'They make toys in that factory.',\n",
       " \"I've already been looking all over them.\",\n",
       " 'If you do not work, you should eat.',\n",
       " \"Tom can't hurt me.\",\n",
       " 'Why was Tom scared?',\n",
       " 'He wained all his old furniture.',\n",
       " 'I am waiting here.',\n",
       " 'Why are you glusing Tom?',\n",
       " \"You are not going to get up in the hour, don't you??\",\n",
       " 'You have to be kidding me.',\n",
       " 'We will have to wait.',\n",
       " 'This dog is not mine.',\n",
       " 'Do you want to swim today?',\n",
       " 'He is telling a lie.',\n",
       " 'här believes in a life death death.',\n",
       " 'Where is the laundry?',\n",
       " 'Tom was hit by a couple of Boston when he was three years old. old.',\n",
       " 'It is almost six.',\n",
       " \"What's your favoriteest talate?\",\n",
       " 'I am glad I caught you.',\n",
       " 'Who bought this?',\n",
       " 'Are we going to survive? we to survive?',\n",
       " 'He burned his house.',\n",
       " 'Call by a way.',\n",
       " 'Be positive.',\n",
       " 'This is a gold gold pugch.',\n",
       " 'The cost of the island is fresh.able. her friend',\n",
       " \"It's irrelevant.\",\n",
       " 'Tell me a safe..',\n",
       " 'He set down the telephone number.',\n",
       " 'I like that store.',\n",
       " 'Never talk to me.',\n",
       " 'Dpate the over wrong.',\n",
       " 'We can fix this?',\n",
       " \"We don't get in here.\",\n",
       " 'I do not eat meat, the fishworks, and live  ⁇  the cat produquer.',\n",
       " 'I lent him a living. lent him.',\n",
       " 'Do you have any time to come tomorrow?',\n",
       " 'He will not get up early.',\n",
       " \"I'm sure it's not a thing.'s something.\",\n",
       " \"Who else was Tom's party?\",\n",
       " 'Water is important for people. are important.',\n",
       " 'How old is this lawn lawn lawn?',\n",
       " 'The e-d word to that mim... eim.',\n",
       " 'They will come here once.',\n",
       " 'But he really wanted to have a son.?',\n",
       " 'You killed Tom.',\n",
       " 'Oa and breakfast are used to India, and the same gun, and not the same..wwwide....',\n",
       " 'Is Tom a finns?',\n",
       " 'Happy birthday to you!!',\n",
       " 'Has he arrived yet??',\n",
       " 'I need some money now.',\n",
       " 'I love that restaurant.',\n",
       " 'You should not go out.',\n",
       " 'Do you want anything to eat?',\n",
       " 'I saw you in the newspaper today. you saw you in the newspaper.',\n",
       " 'Tom is not blind, but Mary is. it is.',\n",
       " 'Who had to come?',\n",
       " 'Do you know what color she likes?',\n",
       " 'Is it that bad?',\n",
       " 'You are lucky to be a good mood today.',\n",
       " 'Tom is reading the Bible.',\n",
       " 'Have you seen Tom yet? you?',\n",
       " 'Someone knocked on the door.',\n",
       " 'There are more beer in the refrigerator.',\n",
       " 'What has changed since then?',\n",
       " \"I'd like to study Arabic.\",\n",
       " \"It's fun.\",\n",
       " \"There is no bad weather, just for bad clothes.'s clothes.\",\n",
       " 'If you want me to go, I do not.',\n",
       " 'How do Tom and Mary have?',\n",
       " 'My largest problem is to give me the dishes what to do next...',\n",
       " 'The place you bought is better than mine.?',\n",
       " 'It was a slowly and paining.',\n",
       " 'Tom must have had a key.',\n",
       " 'Is your pain in?',\n",
       " 'I am already starting to feel better.',\n",
       " 'I have red eyes.',\n",
       " 'I speak Turkish.',\n",
       " 'The laundry is still vert.',\n",
       " 'Tom lied to you.',\n",
       " 'I have blue eyes.',\n",
       " \"I thought you'd like it.d like it.\",\n",
       " 'What is this for?',\n",
       " 'She has blond hair.',\n",
       " 'Rainy days make me unhappy.!',\n",
       " 'I know you want to talk to him. know you know him.',\n",
       " 'This tree is not even going to be here in the scene of the living in the world.iced',\n",
       " 'Those who dig a hole for others will fall therein.in.',\n",
       " \"Tom asked if I'd like to cook.\",\n",
       " 'I sell my Tels.',\n",
       " 'It could be well to pass the passport.',\n",
       " 'Thanks for took care of my dog. for my dog.',\n",
       " 'The Japanese person took a lot of last.el.',\n",
       " 'This is my room. my room.',\n",
       " 'When he was younger, he worked at a hand shop...',\n",
       " 'I like to go to school..',\n",
       " 'The second of the time, it has been a strongest in murder.ant..ak in the',\n",
       " 'Is it just a Viarar?',\n",
       " \"I'll get to the hospital.\",\n",
       " 'Tom is a bicycle.',\n",
       " 'Who does not like Christmas?',\n",
       " 'I will miss you a lot.',\n",
       " 'I know a quent. like a question.',\n",
       " \"I'm out of the great.\",\n",
       " 'I can do it.',\n",
       " 'Give me an half past apples.',\n",
       " 'Could you please lock the door?',\n",
       " 'Leave the cat in peace. from peace.',\n",
       " \"If you speak about your name, I'm talking to you.. for my  ⁇ 0. for you\",\n",
       " ...]"
      ]
     },
     "execution_count": 101,
     "metadata": {},
     "output_type": "execute_result"
    }
   ],
   "source": [
    "cand = []\n",
    "for sent in tqdm(val_input_texts):\n",
    "    cand.append(translate(transformer, sent))\n",
    "cand"
   ]
  },
  {
   "cell_type": "code",
   "execution_count": 103,
   "metadata": {},
   "outputs": [
    {
     "data": {
      "text/plain": [
       "tensor(0.3425)"
      ]
     },
     "execution_count": 103,
     "metadata": {},
     "output_type": "execute_result"
    }
   ],
   "source": [
    "bleu_score(cand, val_target_texts)"
   ]
  }
 ],
 "metadata": {
  "kernelspec": {
   "display_name": "Python 3 (ipykernel)",
   "language": "python",
   "name": "python3"
  },
  "language_info": {
   "codemirror_mode": {
    "name": "ipython",
    "version": 3
   },
   "file_extension": ".py",
   "mimetype": "text/x-python",
   "name": "python",
   "nbconvert_exporter": "python",
   "pygments_lexer": "ipython3",
   "version": "3.12.4"
  }
 },
 "nbformat": 4,
 "nbformat_minor": 4
}
