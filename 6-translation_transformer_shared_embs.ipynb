{
 "cells": [
  {
   "cell_type": "markdown",
   "metadata": {},
   "source": [
    "# Character-level Encoder-Decoder Transformer\n",
    "\n",
    "In this notebook, you will create a machine-translation system that will accept a sentence in a language of your choice and translate it in another language also of your choice.\n",
    "\n",
    "As architecture, you will use the transformer described in _Attention Is All You Need_ (https://arxiv.org/abs/1706.03762). The complete programming from scratch of such an architecture would take more time than that of a lab. That is why the notebook contains all the code. You will merely run separate modules and assemble them. In the end, this will result in a complete encoder-decoder. \n",
    "\n",
    "You will train this encoder-decoder for a translation task and you will observe its performance. To make training possible, you will use characters as input and output instead of words or subwords.\n",
    "\n",
    "The power of the student's computers vary greatly. In consequence, depending on your machine, reduce the size of the dataset and simplify the architecture (use less stacks, less heads) as much as you need to be able to run the program quickly. After the lab, should you wish it, feel free to improve the program and build a more realistic translation system.\n",
    "\n",
    "Finally, please do not run the cells blindly. The objective of the lab is that you understand the transformer by executing it step-by-step. The instructors will ask you to explain cell.\n",
    "\n",
    "Acknowledgments: As starting point to write the notebook, we used a tutorial from PyTorch available at: https://pytorch.org/tutorials/beginner/translation_transformer.html?highlight=translation\n",
    "\n",
    "We modified it to remove the torchtext dependencies and use a character input.\n",
    "\n",
    "__Pierre Nugues__ and __Marcus Klang__\n",
    "\n",
    "History: \n",
    "- V1, Pierre, creation from PyTorch tutorial\n",
    "- V2, Marcus, answering questions and improvements notably dataloader\n",
    "- V3, Pierre, separate train and val, cleaning\n",
    "- V4, Pierre, shared embeddings\n"
   ]
  },
  {
   "cell_type": "markdown",
   "metadata": {},
   "source": [
    "## Introduction\n",
    "This program shows how to implement a basic character-level translation model with a transformer. You will translate the sentences from English to French or another language character by character. Note that a more elaborate model would use words or subwords.\n",
    "\n",
    "### Summary of the algorithm\n",
    "- We start with input sequences from a language (e.g. English sentences)\n",
    "    and corresponding target sequences from another language\n",
    "    (e.g. French sentences).\n",
    "- A transformer encoder encodes the source sentence. The result is called `memory` in the program;\n",
    "- A transformer decoder uses the encoded source sentence and an auto-regressive process to generate the target sequence.\n",
    "- The loss is the cross-entropy ebtween the decoded characters and the target ones\n",
    "- In inference mode, when we decode unknown input sequences using these steps:\n",
    "    - Encode the input sequence (`memory`)\n",
    "    - Feed the decoder with the encoded sequence \n",
    "    - Start with a target sequence of size 1\n",
    "        (just the start-of-sequence character)\n",
    "    - Sample the next character using these predictions\n",
    "        (we simply use argmax, the second output of `torch.max()`).\n",
    "    - Append the sampled character to the target sequence\n",
    "    - Repeat until we generate the end-of-sequence character or we\n",
    "        hit the character limit."
   ]
  },
  {
   "cell_type": "markdown",
   "metadata": {},
   "source": [
    "## Download the data"
   ]
  },
  {
   "cell_type": "markdown",
   "metadata": {},
   "source": [
    "Have a look at the http://www.manythings.org/anki/ site and select a corpus with at least 10,000 pairs. You should understand the target language well. Ideally, it should be your mother tongue.\n",
    "Then uncomment and run the lines below."
   ]
  },
  {
   "cell_type": "code",
   "execution_count": null,
   "metadata": {},
   "outputs": [],
   "source": [
    "\n"
   ]
  },
  {
   "cell_type": "markdown",
   "metadata": {},
   "source": [
    "## Imports"
   ]
  },
  {
   "cell_type": "code",
   "execution_count": 633,
   "metadata": {},
   "outputs": [],
   "source": [
    "from typing import Tuple\n",
    "\n",
    "from torch import Tensor\n",
    "import torch\n",
    "import torch.nn as nn\n",
    "from torch.nn import Transformer\n",
    "from torch.utils.data import dataset\n",
    "from torch.nn.utils.rnn import pad_sequence\n",
    "\n",
    "import random\n",
    "from torch.optim.lr_scheduler import LambdaLR\n",
    "import numpy as np\n",
    "import math\n",
    "\n",
    "import matplotlib.pyplot as plt\n",
    "from tqdm import tqdm\n"
   ]
  },
  {
   "cell_type": "code",
   "execution_count": 634,
   "metadata": {},
   "outputs": [],
   "source": [
    "import sentencepiece as spm"
   ]
  },
  {
   "cell_type": "code",
   "execution_count": 583,
   "metadata": {},
   "outputs": [
    {
     "data": {
      "text/plain": [
       "<torch._C.Generator at 0x1127a9b90>"
      ]
     },
     "execution_count": 583,
     "metadata": {},
     "output_type": "execute_result"
    }
   ],
   "source": [
    "random.seed(1234)\n",
    "np.random.seed(1234)\n",
    "torch.manual_seed(1234)\n"
   ]
  },
  {
   "cell_type": "markdown",
   "metadata": {},
   "source": [
    "## Architecture\n",
    "We select the computing architecture"
   ]
  },
  {
   "cell_type": "code",
   "execution_count": 584,
   "metadata": {},
   "outputs": [
    {
     "data": {
      "text/plain": [
       "device(type='cpu')"
      ]
     },
     "execution_count": 584,
     "metadata": {},
     "output_type": "execute_result"
    }
   ],
   "source": [
    "if torch.cuda.is_available():\n",
    "    device = 'cuda'\n",
    "# elif torch.backends.mps.is_available():\n",
    "#    device = 'mps'\n",
    "else:\n",
    "    device = 'cpu'\n",
    "DEVICE = torch.device(device)\n",
    "DEVICE\n"
   ]
  },
  {
   "cell_type": "markdown",
   "metadata": {},
   "source": [
    "## Dataset"
   ]
  },
  {
   "cell_type": "markdown",
   "metadata": {},
   "source": [
    "### Creating the pairs"
   ]
  },
  {
   "cell_type": "code",
   "execution_count": 585,
   "metadata": {},
   "outputs": [],
   "source": [
    "data_path = 'swe.txt'\n"
   ]
  },
  {
   "cell_type": "code",
   "execution_count": 586,
   "metadata": {},
   "outputs": [],
   "source": [
    "num_samples = 5000  # Number of samples to train on.\n"
   ]
  },
  {
   "cell_type": "code",
   "execution_count": 587,
   "metadata": {},
   "outputs": [
    {
     "name": "stdout",
     "output_type": "stream",
     "text": [
      "['Go.', 'Run!', 'Run.', 'Who?', 'Duck!', 'Help!', 'Hide.', 'Jump!', 'Jump.', 'Stop!', 'Wait!', 'Wait.', 'Hello!', 'Hurry!', 'Hurry!', 'Hurry!', 'I ran.', 'I see.', 'I see.', 'I won!', 'Relax.', 'Shoot!', 'Smile.', 'Sorry?', 'Attack!', 'Cheers!', 'He ran.', 'Hug me.', 'I care.', 'I fell.', 'I knit.', 'I sang.', 'I swim.', 'No way!', 'Really?', 'Really?', 'Thanks!', 'Thanks.', 'We try.', 'Ask Tom.', 'Awesome!', 'Be cool.', 'Be kind.', 'Be kind.', 'Be nice.', 'Come in.', 'Come on.', 'Drop it!', 'Get Tom.', 'Get out!', 'Get out!', 'Go away!', 'Go away.', 'He runs.', 'Help me.', 'Hug Tom.', 'I agree.', 'I agree.', 'I cried.', 'I swore.', 'I tried.', 'I waved.', \"It's OK.\", 'Kiss me.', 'Me, too.', 'Perfect!', 'See you.', 'Show me.', 'Shut up!', 'Stop it.', 'Tell me.', 'Wake up!', 'Wash up.', 'We lost.', 'Back off!', 'Back off!', 'Be still.', 'Be still.', 'Can I go?', 'Cheer up!', 'Cheer up!', 'Drive on.', 'Find Tom.', 'Fix this.', 'Fix this.', 'Get away!', 'Get away!', 'Get away!', 'Get down.', 'Get lost!', 'Get lost!', 'Go on in.', 'Grab Tom.', 'Have fun.', 'He tries.', 'How deep?', 'How deep?', 'Humor me.', 'Humor me.', 'Hurry up.', 'Hurry up.', 'I forgot.', 'I got it.', 'I jumped.', 'I nodded.', 'I prayed.', 'I shaved.', 'I sighed.', 'I smiled.', 'I stayed.', 'I stayed.', 'I use it.', \"I'll pay.\", \"I'm back.\", \"I'm busy.\", \"I'm cold.\", \"I'm deaf.\", \"I'm fine.\", \"I'm free.\", \"I'm free.\", \"I'm full.\", \"I'm home.\", \"I'm late.\", \"I'm next.\", \"I'm next.\", \"I'm tall.\", \"I'm warm.\", 'It helps.', 'It hurts.', \"It's Tom.\", \"It's fun.\", \"It's fun.\", \"It's fun.\", \"It's fun.\", 'Keep out.', 'Keep out.', 'Kiss Tom.', 'Leave it.', 'Leave it.', 'Leave me.', 'Leave us.', 'Marry me.', 'May I go?', 'May I go?', 'She died.', 'Speak up!', 'Speak up!', 'Stand by.', 'Stand by.', 'Stand by.', 'Stand up!', 'Stand up!', 'Stand up!', 'Stay put.', 'Stay put.', 'Stay put.', 'Stay put.', 'Stay put.', 'Tom lies.', 'Tom spit.', 'Tom wept.', \"Tom's up.\", 'Trust me!', 'Use this.', 'Use this.', 'Use this.', 'Use this.', 'Use this.', 'Warn Tom.', 'Watch me.', 'Watch us.', 'Watch us.', 'What for?', 'Who died?', 'Who died?', 'Who quit?', \"Who's he?\", 'Write me.', 'Aim. Fire!', 'Answer me.', 'Apologize.', 'Be seated.', 'Be seated.', 'Birds fly.', 'Bless you.', 'Calm down!', 'Calm down.', 'Calm down.', 'Come back.', 'Cool down.', 'Do it now.', \"Don't cry.\", \"Don't die.\", \"Don't lie.\", \"Don't run.\", 'Excuse me.', 'Fantastic!', 'Fold here.', 'Follow me.', 'Follow me.', 'Follow me.', 'Follow us.', 'Follow us.', 'Follow us.', 'Forget it.', 'Goodnight.', 'Grab that.', 'Have some.', 'He shaved.', \"He's a DJ.\", \"He's fast.\", \"He's rich.\", \"He's sexy.\", 'I am cold.', 'I am cold.', 'I am tall.', 'I can run.', 'I can ski.', 'I coughed.', 'I fainted.', 'I give up.', 'I got hit.', 'I got hit.', 'I had fun.', 'I hurried.', 'I love it.', 'I promise.', 'I saw one.', 'I saw one.', 'I slipped.', 'I sweated.', 'I woke up.', \"I'll call.\", \"I'll call.\", \"I'll cook.\", \"I'll cook.\", \"I'll live.\", \"I'll live.\", \"I'm angry.\", \"I'm awake.\", \"I'm bored.\", \"I'm broke.\", \"I'm happy.\", \"I'm quiet.\", \"I'm quiet.\", \"I'm ready!\", \"I'm ready!\", \"I'm ready!\", \"I'm right.\", \"I'm short.\", \"I'm smart.\", \"I'm sober.\", \"I'm sorry.\", \"I'm stuck.\", \"I'm stuck.\", \"I'm stuck.\", \"I'm tired.\", \"I'm upset.\", \"I'm young.\", 'Is it bad?', 'It snowed.', \"It's 9:15.\", \"It's cool.\", \"It's cool.\", \"It's dark.\", \"It's fair.\", \"It's fine.\", \"It's free.\", \"It's good.\", \"It's good.\", \"It's good.\", \"It's good.\", \"It's hard.\", \"It's hard.\", \"It's hard.\", \"It's here.\", \"It's here.\", \"It's here.\", \"It's huge.\", \"It's huge.\", \"It's huge.\", \"It's huge.\", \"It's love.\", \"It's mine.\", \"It's mine.\", \"It's okay.\", \"It's ours.\", \"It's ours.\", \"It's real.\", \"It's real.\", \"It's real.\", \"It's sand.\", \"It's time.\", \"It's time.\", \"It's true!\", \"It's true.\", 'Keep down.', 'Keep down.', 'Keep them.', 'Keep this.', 'Keep this.', 'Keep warm.', 'Keep warm.', 'Let it go.', 'Let me go!', 'Let me in.', \"Let's try.\", 'Look away.', 'Move over.', 'Of course!', 'Of course!', 'Of course.', 'Open fire!', 'See below.', 'Seriously?', 'Seriously?', \"She's hot.\", 'Sit still.', 'Sit still.', 'Stay away.', 'Stay away.', 'Stay calm.', 'Stay here.', 'Stop that.', 'Stop that.', 'Take mine.', 'Take mine.', 'Take mine.', 'Take mine.', 'Thank you.', \"That's OK.\", \"That's OK.\", 'Then what?', 'Then what?', 'They lied.', 'They swam.', 'Think big.', 'Tom cried.', 'Tom dived.', 'Tom swims.', 'Tom swore.', 'Tom waved.', \"Tom's fat.\", \"Tom's fat.\", \"Tom's mad.\", \"Tom's sad.\", \"Tom's shy.\", 'Try again.', 'Try it on.', 'Turn left.', 'We failed.', 'We forgot.', 'We waited.', 'We yawned.', \"We'll see.\", \"We'll win.\", \"We've won!\", \"What's up?\", \"What's up?\", 'Who is he?', 'Who knows?', \"Who's she?\", 'Wonderful!', 'You idiot!', 'You stink.', 'Am I wrong?', 'Are you OK?', 'Be content.', 'Be on time.', 'Be patient.', 'Be patient.', 'Be patient.', 'Be serious.', 'Birds sing.', 'Bring food.', 'Bring help.', 'Bring help.', 'Bring wine.', 'Bring wine.', 'Can I help?', 'Carry this.', 'Check that.', 'Check this.', 'Come alone.', 'Come armed.', 'Come armed.', 'Definitely!', 'Definitely!', 'Definitely!', 'Definitely!', 'Do it soon.', \"Don't jump!\", \"Don't look.\", \"Don't move!\", \"Don't move!\", \"Don't push.\", \"Don't sing.\", \"Don't stop.\", \"Don't talk!\", \"Don't talk.\", \"Don't wait.\", \"Don't yell.\", 'Duty calls.', 'Eat slowly.', 'Eat slowly.', 'Examine it.', 'Examine it.', 'Examine it.', 'Fire burns.', 'Follow Tom.', 'Follow Tom.', 'Forget Tom.', 'Forget him.', 'Forgive us.', 'Get a life.', 'Get off me.', 'Get off me.', 'Get off me.', 'Go wash up.', 'God exists.', 'God exists.', 'Good night.', 'He hung up.', 'He hung up.', 'He is here!', 'He is kind.', 'He is kind.', 'He is lazy.', 'He is poor.', 'He laughed.', 'He made it.', 'He made it.', 'He reacted.', \"He's Swiss.\", \"He's lying.\", \"He's smart.\", \"He's smart.\", 'Here it is.', 'Hey, relax.', 'How clever!', 'How tragic!', 'Hurry back.', 'Hurry home.', 'I am right.', 'I am short.', 'I am smart.', 'I can stay.', 'I can stay.', 'I can swim.', 'I can wait.', 'I chew gum.', 'I doubt it.', 'I doubt it.', 'I eat here.', 'I eat rice.', 'I feel fit.', 'I feel sad.', 'I hate ads.', 'I hate you.', 'I know her.', 'I know him.', 'I like him.', 'I like pie.', 'I like pie.', 'I like tea.', 'I like tea.', 'I like you.', 'I like you.', 'I like you.', 'I like you.', 'I love her.', 'I love him.', 'I love you.', 'I love you.', 'I miss you.', 'I miss you.', 'I must run.', 'I need ice.', 'I need you.', 'I need you.', 'I panicked.', 'I promised.', 'I remember.', 'I remember.', 'I survived.', 'I think so.', 'I was fair.', 'I was weak.', \"I'll check.\", \"I'll do it.\", \"I'll do it.\", \"I'll do it.\", \"I'll do it.\", \"I'm a hero.\", \"I'm coming.\", \"I'm honest.\", \"I'm hungry.\", \"I'm rested.\", \"I'm scared.\", \"I'm taller.\", 'Is Tom mad?', 'Is Tom mad?', 'Is he busy?', 'Is he tall?', 'Is it blue?', 'Is it blue?', 'Is it free?', 'Is it love?', 'Is it time?', 'Is it time?', 'Is it true?', 'Is that so?', 'Is that so?', 'It happens.', \"It'll work.\", \"It's a fox.\", \"It's blank.\", \"It's blank.\", \"It's blank.\", \"It's clear.\", \"It's clear.\", \"It's clear.\", \"It's empty.\", \"It's empty.\", \"It's my CD.\", \"It's my CD.\", \"It's on me.\", \"It's safer.\", \"It's scary.\", \"It's scary.\", \"It's shiny.\", \"It's stuck.\", \"It's stuck.\", \"It's there.\", \"It's there.\", \"It's there.\", 'Just do it.', 'Keep notes.', 'Keep still.', 'Let him go!', 'Let it dry.', 'Let it dry.', 'Let me out!', 'Let me pay.', 'Let me see.', 'Let me win.', 'Lighten up.', 'Look at me.', 'Love hurts.', 'Never mind!', 'No comment.', 'No comment.', 'No problem!', 'Now get in.', 'Now get in.', 'Once again.', 'Please sit.', 'Run for it!', 'Run for it!', 'Say please.', 'Say please.', 'Say please.', 'She smiled.', \"She's busy.\", 'Sing along.', 'Stay there.', 'Step aside.', 'Step on it!', 'Take a bus.', 'Take cover!', 'Talk to me!', \"That's Tom.\", \"That's sad.\", \"That's sad.\", 'They slept.', 'They stood.', 'They tried.', 'They voted.', 'Time flies.', 'Time flies.', 'Time is up.', 'Tom braked.', 'Tom burped.', 'Tom cheats.', 'Tom drives.', 'Tom got up.', 'Tom hit me.', 'Tom is out.', 'Tom nodded.', 'Tom phoned.', 'Tom smiles.', 'Tom winked.', \"Tom'll pay.\", \"Tom's dead.\", \"Tom's deaf.\", \"Tom's died.\", \"Tom's fast.\", \"Tom's free.\", \"Tom's free.\", \"Tom's glad.\", \"Tom's gone.\", \"Tom's gone.\", \"Tom's gone.\", \"Tom's here.\", \"Tom's home.\", \"Tom's hurt.\", \"Tom's left.\", \"Tom's mean.\", \"Tom's mean.\", \"Tom's safe.\", \"Tom's safe.\", \"Tom's safe.\", \"Tom's safe.\", \"Tom's sick.\", \"Tom's weak.\", 'Turn right.', 'Wait a bit.', 'Watch this.', 'Watch this.', 'We are men.', 'We had fun.', \"We're boys.\", \"We're deaf.\", \"We're here.\", \"We're sick.\", \"What's new?\", 'Where am I?', 'Who is she?', 'Who saw me?', 'Wood burns.', 'You did it!', 'You may go.', \"You're old.\", \"You're old.\", 'Am I hungry!', 'Am I stupid?', 'Are you mad?', 'Are you mad?', 'Are you mad?', 'Are you new?', 'Are you sad?', 'Be creative.', 'Be creative.', 'Be discreet.', 'Be discreet.', 'Be friendly.', 'Be friendly.', 'Be generous.', 'Be generous.', 'Be merciful.', 'Be prepared.', 'Be punctual.', 'Be punctual.', 'Be ruthless.', 'Be ruthless.', 'Be sensible.', 'Be specific.', 'Be specific.', 'Be tolerant.', 'Be tolerant.', 'Be vigilant.', 'Be vigilant.', 'Be watchful.', 'Be watchful.', \"Beer's good.\", 'Can you row?', 'Check again.', 'Come aboard.', 'Come closer.', 'Come inside.', 'Comfort Tom.', 'Contact Tom.', 'Contact Tom.', 'Did you win?', 'Did you win?', 'Do it again!', 'Do it again.', 'Do it later.', 'Do it right.', \"Don't argue.\", \"Don't cheat.\", \"Don't do it!\", \"Don't do it.\", \"Don't do it.\", \"Don't fight.\", \"Don't gloat.\", \"Don't leave.\", \"Don't shoot!\", \"Don't smile.\", \"Don't speak.\", \"Don't speak.\", \"Don't stand.\", \"Don't stare.\", \"Don't worry.\", 'Follow them.', 'Follow them.', 'Get a knife.', 'Get a knife.', 'Get a knife.', 'Get changed.', 'Get changed.', 'Get dressed.', 'Get dressed.', 'Go get help.', 'Go with Tom.', 'Go with Tom.', 'He can come.', 'He can read.', 'He can swim.', 'He found it.', 'He found it.', 'He insisted.', 'He is alone.', 'He is hated.', 'He is lying.', 'He loves me.', 'He was hurt.', 'He was hurt.', \"He's a liar.\", \"He's faking.\", \"He's my son.\", \"He's strong.\", 'Here she is!', 'How are you?', 'How are you?', 'How are you?', 'I also went.', 'I am coming.', 'I am online.', 'I am taller.', 'I assume so.', 'I can drive.', \"I can't eat.\", \"I can't sew.\", 'I dug a pit.', 'I eat alone.', 'I eat fruit.', 'I found you.', 'I got a job.', 'I got a job.', 'I got stuck.', 'I got tired.', 'I had a cat.', 'I hate beer.', 'I hate hats.', 'I hate mice.', 'I hate milk.', 'I hate work.', 'I have news.', 'I heard you.', 'I heard you.', 'I like both.', 'I like cake.', 'I like cake.', 'I like cats.', 'I like cats.', 'I like dogs.', 'I like dogs.', 'I like jazz.', 'I like math.', 'I like this.', 'I like wine.', 'I like wine.', 'I live here.', 'I love Mary.', 'I love beer.', 'I love rock.', 'I love snow.', 'I love them.', 'I loved her.', 'I must hide.', 'I never cry.', 'I overslept.', 'I recovered.', 'I saw to it.', 'I see a box.', 'I sell cars.', 'I thank you.', 'I thank you.', 'I trust you.', 'I trust you.', 'I want rice.', 'I want wine.', 'I was angry.', 'I was fired.', 'I was lucky.', 'I was naive.', 'I was there.', 'I was tired.', 'I work here.', 'I work here.', \"I'll change.\", \"I'll get by.\", \"I'll get it.\", \"I'll get it.\", \"I'm a vegan.\", \"I'm at home.\", \"I'm certain.\", \"I'm curious.\", \"I'm furious.\", \"I'm furious.\", \"I'm healthy.\", \"I'm healthy.\", \"I'm married.\", \"I'm praying.\", \"I'm reading.\", \"I'm reading.\", \"I'm serious.\", \"I'm serious.\", \"I'm serious.\", \"I'm so full.\", \"I'm starved.\", \"I'm teasing.\", \"I'm the law.\", \"I'm thirsty.\", \"I'm touched.\", \"I'm winning.\", 'Is Tom next?', 'Is it a fox?', 'Is it foggy?', 'Is it legal?', 'Is it white?', 'Is it white?', 'Is she nice?', 'Is that Tom?', 'It happened.', 'It may hurt.', 'It may hurt.', \"It's Monday.\", \"It's a joke.\", \"It's cloudy.\", \"It's futile.\", \"It's locked.\", \"It's my job.\", \"It's my job.\", \"It's normal.\", \"It's normal.\", 'Just get in.', 'Let me help.', 'Let me live.', 'Life is fun.', 'Lunch is on.', 'Lunch is on.', 'May I smoke?', 'Memorize it.', 'My dog died.', 'Nobody came.', 'Please come.', 'Please stop!', 'Please wait.', 'Put it back.', 'Remember it.', 'Say nothing.', 'Shake hands.', 'She bit him.', 'She hit him.', 'She hit him.', 'She hit him.', 'She is dead.', 'She is kind.', 'She is lazy.', 'She slipped.', 'Stand still!', 'Stand still!', 'Stay inside.', 'Stay strong.', 'Stop moving.', 'Stop trying.', 'Take my car.', 'Take my car.', 'Talk slower.', 'Talk slowly.', 'Thanks, Tom.', \"That's cool.\", \"That's fine.\", \"That's free.\", \"That's good.\", \"That's life.\", \"That's life.\", \"That's mine.\", \"That's okay.\", \"That's true.\", \"The TV's on.\", 'They called.', 'They danced.', 'They kissed.', 'They kissed.', 'They obeyed.', 'They smiled.', 'They waited.', \"They're old.\", 'This is bad.', 'Tom blinked.', 'Tom can sew.', 'Tom coughed.', 'Tom fainted.', 'Tom giggled.', 'Tom got big.', 'Tom got bit.', 'Tom is back.', 'Tom is bald.', 'Tom is dead.', 'Tom is deaf.', 'Tom is fair.', 'Tom is fast.', 'Tom is free.', 'Tom is full.', 'Tom is here.', 'Tom is mean.', 'Tom is mean.', 'Tom is poor.', 'Tom is safe.', 'Tom is tall.', 'Tom is weak.', 'Tom made it.', 'Tom made it.', 'Tom made it.', 'Tom made it.', 'Tom painted.', 'Tom saw her.', 'Tom shouted.', 'Tom slipped.', 'Tom teaches.', 'Tom vomited.', 'Tom was big.', \"Tom'll call.\", \"Tom'll come.\", \"Tom'll help.\", \"Tom'll live.\", \"Tom'll live.\", \"Tom'll quit.\", \"Tom'll stay.\", \"Tom'll wait.\", \"Tom's alert.\", \"Tom's alert.\", \"Tom's alert.\", \"Tom's alert.\", \"Tom's alive.\", \"Tom's alone.\", \"Tom's alone.\", \"Tom's angry.\", \"Tom's awake.\", \"Tom's bored.\", \"Tom's crazy.\", \"Tom's crazy.\", \"Tom's drunk.\", \"Tom's dying.\", \"Tom's early.\", \"Tom's flaky.\", \"Tom's flaky.\", \"Tom's flaky.\", \"Tom's funny.\", \"Tom's lucky.\", \"Tom's lucky.\", \"Tom's lying.\", \"Tom's pushy.\", \"Tom's pushy.\", \"Tom's right.\", \"Tom's smart.\", \"Tom's tired.\", \"Tom's wrong.\", \"Tom's young.\", 'Turn it off.', 'Wait for me.', 'Was I wrong?', 'Wave to Tom.', 'We are here.', 'We are sick.', 'We ate eggs.', 'We broke up.', 'We help Tom.', 'We need you.', 'We promised.', 'We survived.', \"We're dying.\", \"We're going.\", \"We're going.\", \"We're going.\", \"We're going.\", \"We're ready.\", \"We're ready.\", \"We're ready.\", 'What is new?', \"What's next?\", \"What's next?\", \"What's next?\", \"What's this?\", 'Where is he?', 'Who escaped?', \"Who's first?\", \"Who's first?\", \"Who's first?\", 'Work slowly.', 'You hurt me.', 'You hurt me.', 'You hurt me.', 'You hurt me.', \"You're here.\", \"You're late.\", \"You're late.\", \"You're lazy.\", \"You're lazy.\", \"You're loud.\", \"You're loud.\", \"You're mine.\", 'Am I in love?', 'Are we alone?', 'Are you done?', 'Are you here?', 'Are you here?', 'Are you hurt?', 'Are you lost?', 'Are you safe?', 'Are you safe?', 'Are you safe?', 'Are you sane?', 'Are you sane?', 'Are you sane?', 'Are you sane?', 'Are you sure?', 'Are you sure?', 'Are you sure?', 'Boil one egg.', 'Bring backup.', 'Can you come?', 'Can you read?', 'Can you read?', 'Can you swim?', 'Can you walk?', 'Come forward.', 'Come forward.', 'Come quickly!', 'Come with me.', 'Come with us.', 'Did Tom call?', 'Did Tom call?', 'Did Tom vote?', 'Did you vote?', 'Do I look OK?', 'Do I look OK?', 'Do it Monday.', 'Do it anyway.', 'Do you agree?', 'Do you smoke?', 'Do you smoke?', 'Do you snore?', \"Don't ask me.\", \"Don't be sad.\", \"Don't kid me!\", \"Don't let go.\", \"Don't scream.\", 'Drive faster.', 'Drive safely.', 'Examine them.', 'Examine them.', 'Examine this.', 'Fear nothing.', 'Fear nothing.', 'Find the cat.', 'Fish, please.', 'Ghosts exist.', 'Go back, Tom.', 'Go there now.', 'Good morning.', 'Good morning.', 'Grow up, Tom.', 'Hang on, Tom.', 'Have a drink.', 'Have a drink.', 'Have another.', 'He has a car.', 'He has a dog.', 'He has a dog.', 'He is a poet.', 'He is eating.', 'He likes tea.', 'He likes tea.', 'He loves her.', 'He mocked me.', 'He was alone.', 'He was alone.', 'He was brave.', 'He was great.', 'He was great.', 'He will come.', 'He will walk.', \"He's so cute.\", 'Help me, Tom.', 'Help us, Tom.', 'How dare you!', 'How exciting!', 'How pathetic!', 'How romantic!', \"How's school?\", \"How's school?\", \"How's school?\", 'I am Chinese.', 'I am at home.', 'I am so sick.', 'I apologized.', 'I ate caviar.', 'I can get it.', 'I can try it.', 'I chased Tom.', \"I don't care.\", \"I don't care.\", \"I don't date.\", \"I don't mind.\", \"I don't swim.\", 'I drank milk.', 'I drink milk.', 'I drove here.', 'I framed Tom.', 'I got caught.', 'I hate liars.', 'I hate sushi.', 'I have a cat.', 'I have a dog.', 'I have a job.', 'I have a kid.', 'I have a pen.', 'I have a pen.', 'I have to go.', 'I hear music.', 'I improvised.', 'I know a way.', 'I know a way.', 'I know a way.', 'I learn fast.', 'I like bears.', 'I like bears.', 'I like chess.', 'I like fruit.', 'I like fruit.', 'I love trips.', 'I made it up.', 'I meant well.', 'I might stay.', 'I need a hat.', 'I need a job.', 'I need a pen.', 'I need paint.', 'I needed you.', 'I needed you.', 'I rarely cry.', 'I read books.', 'I saw a goat.', 'I see a book.', 'I see a star.', 'I sell shoes.', 'I understand.', 'I understand.', 'I understood.', 'I understood.', 'I walk a lot.', 'I walk a lot.', 'I want a nap.', 'I want fries.', 'I want money.', 'I was absent.', 'I was hungry.', 'I wimped out.', \"I won't lose!\", \"I won't move.\", \"I won't move.\", \"I won't move.\", 'I wonder why.', \"I'll be fine.\", \"I'll be here.\", \"I'll be here.\", \"I'll be here.\", \"I'll get one.\", \"I'll get one.\", \"I'll pay you.\", \"I'll save it.\", \"I'm a coward.\", \"I'm a doctor.\", \"I'm a priest.\", \"I'm artistic.\", \"I'm artistic.\", \"I'm artistic.\", \"I'm bleeding.\", \"I'm busy now.\", \"I'm creative.\", \"I'm drowning.\", \"I'm escaping.\", \"I'm finished.\", \"I'm freezing.\", \"I'm grieving.\", \"I'm horrible.\", \"I'm innocent.\", \"I'm like you.\", \"I'm not home.\", \"I'm not sure.\", \"I'm off beer.\", \"I'm relieved.\", \"I'm sick now.\", \"I'm so happy.\", \"I'm stressed.\", \"I'm sweating.\", \"I'm the best.\", \"I'm ticklish.\", \"I'm to blame.\", \"I'm very fat.\", \"I've got you.\", \"I've got you.\", 'Is Monday OK?', 'Is Monday OK?', 'Is Monday OK?', 'Is Monday OK?', 'Is Tom crazy?', 'Is that blue?', 'Is that true?', 'Is this love?', 'Is this mink?', 'It scared me.', 'It was arson.', 'It was black.', 'It was black.', 'It was night.', 'It was noisy.', 'It was noisy.', 'It was quiet.', 'It was quiet.', 'It was round.', 'It was round.', \"It's a robot.\", \"It's awkward.\", \"It's bedtime.\", \"It's garbage.\", \"It's genuine.\", \"It's genuine.\", \"It's genuine.\", \"It's genuine.\", \"It's hailing.\", \"It's no joke.\", \"It's similar.\", \"It's similar.\", \"It's similar.\", \"It's similar.\", \"It's strange.\", \"It's strange.\", \"It's strange.\", \"It's strange.\", \"It's too big.\", \"It's too hot.\", \"It's working.\", \"It's working.\", \"It's working.\", \"It's working.\", 'Keep dancing.', 'Keep running.', 'Keep smiling.', 'Keep talking.', 'Keep working.', 'Ladies first.', 'Let Tom live.', 'Let Tom stay.', 'Let Tom wait.', 'Let me alone.', 'Let me alone.', 'Let me do it.', 'Life goes on.', 'Life is long.', 'Look at this.', 'Mary came in.', 'Meat, please.', 'Men are pigs.', 'Milk the cow.', 'My ears hurt.', 'My eyes hurt.', 'My feet hurt.', 'My leg hurts.', 'Need I go on?', 'No one knows.', 'No one moved.', 'Nobody knows.', 'Pick a color.', 'Please relax.', 'Please relax.', 'Point it out.', 'Point it out.', 'Put it there.', 'Run and hide.', 'Shame on you!', 'She has wine.', 'She helps us.', 'She is eight.', 'She is happy.', 'She is quiet.', 'She is quiet.', 'She is young.', 'She knows me.', 'She liked it.', 'She liked it.', 'She liked it.', 'She liked it.', 'She loves us.', 'She went out.', 'Speak slower.', 'Stay with us.', 'Stop smoking.', 'Stop talking.', 'Stop the car.', 'Sweet dreams!', 'That is mine.', 'That is mine.', \"That's a lie.\", \"That's awful.\", \"That's awful.\", \"That's my CD.\", \"That's right!\", \"That's smart.\", \"That's weird.\", 'They are big.', 'They cheered.', 'They crashed.', 'They crashed.', 'They crashed.', 'They crashed.', 'They crashed.', 'They crashed.', 'They gave up.', 'They laughed.', 'They refused.', 'They said no.', 'They said no.', 'They sweated.', 'They want me.', \"They'll fail.\", \"They'll grow.\", \"They're blue.\", \"They're blue.\", \"They're cops.\", \"They're done.\", \"They're done.\", \"They're eggs.\", \"They're here.\", 'This is hard.', 'This is mine.', 'Time ran out.', 'Time ran out.', 'Tom finished.', 'Tom finished.', 'Tom followed.', 'Tom got away.', 'Tom got home.', 'Tom got home.', 'Tom got lost.', 'Tom has died.', 'Tom has guts.', 'Tom has guts.', 'Tom hated it.', 'Tom hated it.', 'Tom hates TV.', 'Tom hates me.', 'Tom heard it.', 'Tom helps me.', 'Tom helps us.', 'Tom hired me.', 'Tom hit Mary.', 'Tom is alive.', 'Tom is alive.', 'Tom is awake.', 'Tom is awful.', 'Tom is black.', 'Tom is broke.', 'Tom is cruel.', 'Tom is dizzy.', 'Tom is heavy.', 'Tom is lying.', 'Tom is naive.', 'Tom lay down.', 'Tom needs me.', 'Tom said yes.', 'Tom saved me.', 'Tom saw them.', 'Tom shrugged.', 'Tom survived.', 'Tom was full.', 'Tom was nosy.', 'Tom was sick.', \"Tom's amused.\", \"Tom's crying.\", \"Tom's eating.\", \"Tom's famous.\", \"Tom's filthy.\", \"Tom's filthy.\", \"Tom's groggy.\", \"Tom's groggy.\", \"Tom's guilty.\", \"Tom's hungry.\", \"Tom's insane.\", \"Tom's insane.\", \"Tom's insane.\", \"Tom's insane.\", \"Tom's joking.\", \"Tom's lonely.\", \"Tom's not in.\", \"Tom's not in.\", \"Tom's polite.\", \"Tom's scared.\", \"Tom's silent.\", \"Tom's stoned.\", \"Tom's strict.\", \"Tom's strong.\", 'Tom, wake up.', 'Wait outside.', 'Wash the dog.', 'We are Arabs.', 'We buried it.', 'We buried it.', 'We came last.', 'We can begin.', \"We can't win.\", 'We get on OK.', 'We get on OK.', 'We got fined.', 'We live here.', 'We must talk.', 'We must talk.', 'We must talk.', 'We must talk.', 'We need help.', 'We want beer!', 'We work fast.', \"We'll manage.\", \"We're afraid.\", \"We're crying.\", \"We're guests.\", \"We're heroes.\", \"We're hungry.\", \"We're inside.\", \"We're inside.\", \"We're minors.\", \"We're people.\", \"We're scared.\", \"We're trying.\", 'What a storm!', 'What a storm!', 'What a voice!', 'What is this?', 'What is this?', 'What is this?', 'Who sent Tom?', 'Who survived?', 'Years passed.', 'You are late.', 'You are lazy!', 'You are lazy!', 'You look fat.', 'You may stay.', 'You may stay.', 'You may stay.', 'You may stay.', 'You may swim.', 'You seem sad.', 'You survived.', 'You survived.', \"You're dying.\", \"You're dying.\", \"You're lying!\", \"You're weird.\", \"You've grown.\", \"You've grown.\", 'A dog bit Tom.', 'Am I dreaming?', 'Am I safe now?', 'Any questions?', 'Anything else?', 'Are we idiots?', 'Are we stupid?', 'Are we stupid?', 'Are you a fan?', 'Are you alive?', 'Are you alive?', 'Are you crazy?', 'Are you ready?', 'Are you ready?', 'Are you tired?', 'Are you twins?', 'Be respectful.', 'Beat it, kids!', 'Beat the eggs.', 'Bring the key.', 'Call me later.', 'Call the cops.', 'Can I ask who?', 'Can I have it?', 'Can Tom do it?', 'Can we go now?', 'Come tomorrow.', 'Did I do that?', 'Did I do that?', 'Did you do it?', 'Did you do it?', 'Do I know Tom?', 'Do I know him?', 'Do I need one?', 'Do cats dream?', 'Do it at once.', 'Do it quickly.', 'Do it quickly.', 'Do it quietly.', 'Do you follow?', 'Do you follow?', 'Do you follow?', 'Do you follow?', 'Do you follow?', 'Do you get it?', 'Do you see it?', 'Does Tom know?', 'Does Tom know?', 'Does Tom sing?', 'Dogs can swim.', \"Don't be mean.\", \"Don't be rude.\", \"Don't be rude.\", \"Don't be rude.\", \"Don't do this.\", \"Don't do this.\", \"Don't give up!\", \"Don't hurt me!\", \"Don't hurt me!\", \"Don't hurt me!\", \"Don't sass me.\", \"Don't sass me.\", 'Draw a circle.', 'Flowers bloom.', 'Get a move on.', 'Get a move on.', 'Get a move on.', 'Get a move on.', 'Get a move on.', 'Get a move on.', 'Get a move on.', 'Get over here.', 'Get some help.', 'Get well soon!', 'Get well soon!', 'Get well soon!', 'Give it to me.', 'Give it to me.', 'Give me a day.', 'Give me a gun.', 'Give me a hug.', 'Give me a job.', 'Give me a job.', 'Give me a sec.', 'Go get a beer.', 'Go get coffee.', 'Guess who won.', 'Hand it to me.', 'Hand it to me.', 'Hand it to me.', 'Hang on to it.', 'Have a cookie.', 'He drank beer.', 'He dug a hole.', 'He felt tired.', 'He grows rice.', 'He has a blog.', 'He hugged her.', 'He is at home.', 'He is my type!', 'He is running.', 'He killed him.', 'He lied to us.', 'He looks pale.', 'He seems kind.', 'He sells cars.', 'He walks fast.', 'He was crying.', 'He went blind.', \"He's annoying.\", \"He's annoying.\", \"He's no saint.\", \"He's not sick.\", \"He's studying.\", \"He's studying.\", 'Here he comes.', 'Hide yourself.', 'His nose bled.', 'Hold on to it.', 'Hold the rope.', 'Hold the rope.', 'How about you?', 'How bad is it?', 'How do you do?', 'How hot is it?', 'How hot is it?', 'How late am I?', 'How old is he?', 'Hurry up, Tom.', 'I always walk.', 'I am not sure.', 'I ate quickly.', 'I believe you.', 'I bought eggs.', 'I burned them.', 'I can be fair.', 'I can be good.', 'I can be nice.', 'I can buy two.', 'I can buy two.', 'I can do both.', 'I can do both.', 'I can do more.', 'I can do more.', 'I can do that.', \"I can't dance.\", \"I can't sleep.\", 'I contributed.', 'I cried today.', 'I cried today.', 'I did my part.', 'I did nothing.', \"I didn't call.\", \"I didn't sing.\", \"I didn't vote.\", 'I do like Tom.', 'I drank juice.', 'I exaggerated.', 'I fed the dog.', 'I feel lonely.', 'I fell asleep.', 'I fell for it.', 'I fell for it.', 'I felt hungry.', 'I had no clue.', 'I had no idea.', 'I had to hide.', 'I have a cold.', 'I have a life.', 'I have a ring.', 'I have a wife.', 'I have asthma.', 'I have cancer.', 'I have sinned.', 'I hear voices.', 'I hope we win.', 'I let Tom win.', 'I let you win.', 'I let you win.', 'I lied to Tom.', 'I lied to you.', 'I lied to you.', 'I like cheese.', 'I like movies.', 'I like movies.', 'I like my job.', 'I like spoons.', 'I like spoons.', 'I like tennis.', 'I like trains.', 'I like trains.', 'I like winter.', 'I live nearby.', 'I love apples.', 'I love horses.', 'I love my cat.', 'I love my mom.', 'I love myself.', 'I love winter.', 'I made a deal.', 'I miss Boston.', 'I must go now.', 'I must go now.', 'I need a plan.', 'I need a week.', 'I need coffee.', 'I need it now.', 'I need to try.', 'I needed this.', 'I ought to go.', 'I owe Tom one.', 'I own a yacht.', 'I own a yacht.', 'I play violin.', 'I prefer dogs.', 'I put it back.', 'I run a motel.', 'I saw Tom die.', 'I saw a plane.', 'I saw to that.', 'I saw to that.', 'I see my ship.', 'I sold a book.', 'I sold the TV.', 'I told a joke.', 'I trusted him.', 'I use Firefox.', 'I want a bike.', 'I want a cake.', 'I want caviar.', 'I want coffee.', 'I want it all.', 'I want it all.', 'I want it all.', 'I want to win.', 'I was ashamed.', 'I was ashamed.', 'I was at home.', 'I was drugged.', 'I was in love.', 'I was in love.', 'I was running.', 'I was worried.', 'I woke you up.', 'I work nights.', \"I'll go first.\", \"I'll go first.\", \"I'll help you.\", \"I'll help you.\", \"I'll help you.\", \"I'll miss you.\", \"I'll tell you.\", \"I'll tell you.\", \"I'll tell you.\", \"I'm a big fan.\", \"I'm a big fan.\", \"I'm a man now.\", \"I'm a student.\", \"I'm a student.\", \"I'm beautiful.\", \"I'm depressed.\", \"I'm desperate.\", \"I'm energetic.\", \"I'm giving up.\", \"I'm here, too.\", \"I'm important.\", \"I'm just lazy.\", \"I'm motivated.\", \"I'm motivated.\", \"I'm no expert.\", \"I'm no expert.\", \"I'm not brave.\", \"I'm not proud.\", \"I'm objective.\", \"I'm satisfied.\", \"I'm satisfied.\", \"I'm so lonely.\", \"I'm surviving.\", \"I'm terrified.\", \"I'm too young.\", \"I'm very busy.\", \"I'm very cool.\", 'Is Tom stupid?', 'Is my time up?', 'Is that paper?', \"Isn't it wild?\", 'It could work.', 'It had snowed.', 'It takes time.', \"It won't hurt.\", \"It won't work.\", \"It won't work.\", \"It won't work.\", \"It's Saturday.\", \"It's accurate.\", \"It's an apple.\", \"It's deserted.\", \"It's happened.\", \"It's my horse.\", \"It's possible.\", \"It's too cold.\", \"It's too cold.\", \"It's too loud.\", \"It's too loud.\", \"It's very big.\", 'Keep climbing.', 'Keep in touch!', 'Let him do it.', 'Let me get it.', 'Let me get it.', \"Let's give up.\", \"Let's try one.\", \"Let's try one.\", \"Let's try one.\", 'Life is crazy.', 'Listen to Tom.', 'Lock the door!', 'Mary is weird.', 'May I go home?', \"Mom's at work.\", 'My car is new.', 'My dog is big.', 'My foot hurts.', 'My head aches.', \"My name's Tom.\", 'Nobody saw me.', \"Nobody's home.\", 'Now we can go.', 'Now we can go.', 'OK, listen up.', 'Oil the chain.', 'Open the door.', 'Our team lost.', 'Out of my way!', 'Pace yourself.', 'Pace yourself.', 'Pick a number.', 'Rest in peace.', 'Russia is big.', 'Say something.', 'Shall I go on?', 'She avoids me.', 'She bent down.', 'She bent down.', 'She came last.', 'She got angry.', 'She hated him.', 'She hates him.', 'She helps him.', 'She is a twin.', 'She is active.', 'She is crying.', 'She is eating.', 'She is eating.', 'She just left.', 'She likes him.', 'She looks sad.', 'She looks sad.', 'She loves Tom.', 'She loves him.', 'She needs you.', 'She was brave.', 'She was naive.', 'She was young.', 'She went home.', 'She went home.', 'She went home.', \"She's awesome.\", \"She's dieting.\", \"She's my type.\", \"She's my wife.\", 'Sit down, Tom.', 'Space is cold.', 'Start running.', 'Stay positive.', 'Stay positive.', 'Stay positive.', 'Stop shooting!', 'Stop shooting.', 'Stop worrying.', 'Sweep my room.', 'Take only one.', 'Tastes differ.', 'That was hard.', 'That was huge.', 'That was huge.', 'That was mean.', 'That was ours.', 'That was wild.', \"That's Saturn.\", \"That's a pity.\", \"That's a plan.\", \"That's absurd!\", \"That's better.\", \"That's doable.\", \"That's my dad.\", \"That's plenty.\", \"That's simple.\", \"That's so you.\", 'The girls won.', 'The girls won.', 'They canceled.', 'They embraced.', 'They found us.', 'They loved it.', 'They loved it.', 'They need him.', 'They screamed.', \"They're broke.\", \"They're broke.\", \"They're close.\", \"They're crazy.\", \"They're crazy.\", \"They're young.\", 'This is a fox.', 'This is a fox.', 'This is a pen.', 'This is weird.', 'This is weird.', 'This is weird.', 'This is weird.', 'This was free.', 'This was free.', 'Throw Tom out.', 'Tom bent down.', 'Tom bought it.', 'Tom bought it.', 'Tom bought it.', 'Tom bought it.', 'Tom bought it.', 'Tom came last.', 'Tom did great.', 'Tom did great.', 'Tom disagrees.', 'Tom drank tea.', 'Tom exercised.', 'Tom exercises.', 'Tom felt hurt.', 'Tom got dizzy.', 'Tom got fired.', 'Tom got fired.', 'Tom got happy.', 'Tom has a dog.', 'Tom has goats.', 'Tom has plans.', 'Tom has plans.', 'Tom hates you.', 'Tom hates you.', 'Tom hesitated.', 'Tom is a baby.', 'Tom is a baby.', 'Tom is a jock.', 'Tom is a jock.', 'Tom is a jock.', 'Tom is a nerd.', 'Tom is a slob.', 'Tom is a slob.', 'Tom is a slob.', 'Tom is a slob.', 'Tom is abroad.', 'Tom is absent.', 'Tom is absent.', 'Tom is absent.', 'Tom is active.', 'Tom is active.', 'Tom is amused.', 'Tom is bitter.', 'Tom is bright.', 'Tom is chatty.', 'Tom is chatty.', 'Tom is chubby.', 'Tom is clever.', 'Tom is crafty.', 'Tom is crafty.', 'Tom is cranky.', 'Tom is cranky.', 'Tom is direct.', 'Tom is driven.', 'Tom is eating.', 'Tom is famous.', 'Tom is greedy.', 'Tom is greedy.', 'Tom is hiding.', 'Tom is my age.', 'Tom is no fun.', 'Tom is no fun.', 'Tom is polite.', 'Tom is scared.', 'Tom is stingy.', 'Tom is strict.', 'Tom is strong.', 'Tom is trying.', 'Tom left home.', 'Tom left home.', 'Tom let me in.', 'Tom let us go.', 'Tom likes him.', 'Tom likes him.', 'Tom likes you.', 'Tom likes you.', 'Tom looks ill.', 'Tom looks old.', 'Tom recovered.', 'Tom recovered.', 'Tom recovered.', 'Tom runs fast.', 'Tom succeeded.', 'Tom wants one.', 'Tom was dizzy.', 'Tom was hired.', 'Tom was right.', 'Tom went back.', 'Tom went back.', \"Tom'll manage.\", \"Tom's adopted.\", \"Tom's anxious.\", \"Tom's arrived.\", \"Tom's choking.\", \"Tom's cooking.\", \"Tom's correct.\", \"Tom's engaged.\", \"Tom's escaped.\", \"Tom's fainted.\", \"Tom's frantic.\", \"Tom's helping.\", \"Tom's helping.\", \"Tom's limping.\", \"Tom's married.\", \"Tom's missing.\", \"Tom's not fat.\", \"Tom's packing.\", \"Tom's resting.\", \"Tom's retired.\", \"Tom's sincere.\", \"Tom's sincere.\", \"Tom's strange.\", \"Tom's waiting.\", \"Tom's winning.\", \"Tom's working.\", \"Tom's worried.\", \"Tom's worried.\", \"Tom's worried.\", 'Try and do it.', 'Try and do it.', 'Wait a moment.', 'Wait till six.', 'Was Tom alone?', 'Was Tom right?', 'Water, please.', 'We apologized.', 'We can end it.', 'We can end it.', 'We can use it.', 'We can use it.', \"We can't fail.\", \"We can't wait.\", 'We drink milk.', 'We got a flat.', 'We like music.', 'We need to go.', 'We need tools.', 'We saw it all.', 'We sell fruit.', 'We took a cab.', 'We understand.', 'We want peace.', 'We wanted Tom.', 'We were broke.', 'We were right.', \"We'll make it.\", \"We'll survive.\", \"We're anxious.\", \"We're barbers.\", \"We're careful.\", \"We're careful.\", \"We're careful.\", \"We're enemies.\", \"We're firemen.\", \"We're married.\", \"We're parents.\", \"We're priests.\", \"We're too old.\", 'What a relief!', 'What a relief!', 'What do I get?', 'What happened?', \"What'll we do?\", \"What'll we do?\", 'When was that?', 'Where are you?', 'Where are you?', 'Where is that?', 'Which is mine?', 'Who asked you?', 'Who called me?', 'Who found Tom?', 'Who found her?', 'Who found her?', 'Who hates you?', 'Who hates you?', 'Who hates you?', 'Who hates you?', 'Who says that?', \"Who's driving?\", \"Who's winning?\", 'Why change it?', 'Will she come?', 'You came back.', 'You can do it.', 'You can do it.', 'You can do it.', 'You can do it.', 'You can relax.', 'You can relax.', \"You can't see.\", \"You can't see.\", 'You have mail.', 'You look busy.', 'You look pale.', 'You look sick.', 'You need this.', 'You need this.', 'You should go.', 'You smell bad.', 'You talk fast.', 'You talk fast.', 'You talk fast.', 'You talk fast.', 'You talk fast.', 'You talk fast.', \"You're a snob.\", \"You're biased.\", \"You're no fun.\", \"You're single.\", \"You're so hot.\", \"You're so hot.\", \"You're stupid.\", \"You're stupid.\", \"You're unfair.\", \"You're unfair.\", 'Am I a suspect?', 'Are they armed?', 'Are we friends?', 'Are we sinking?', 'Are you asleep?', 'Are you biased?', 'Are you biased?', 'Are you biased?', 'Are you biased?', 'Are you biased?', 'Are you biased?', 'Are you biased?', 'Are you biased?', 'Are you crying?', 'Are you crying?', 'Are you exempt?', 'Are you hungry?', 'Are you hungry?', 'Are you sleepy?', \"Aren't I right?\", \"Aren't you Tom?\", 'Be kind to Tom.', 'Be nice to Tom.', 'Be nice to her.', 'Birds lay eggs.', 'Birds lay eggs.', 'Can I be there?', 'Can I call you?', 'Can I call you?', 'Can I come too?', 'Can I have one?', 'Can I help you?', 'Can I join you?', 'Can I see them?', 'Can I see them?', 'Can I see them?', 'Can I see them?', 'Can I see, too?', 'Can I sit down?', 'Can I sit here?', 'Can I talk now?', 'Can I use this?', 'Can we come in?', 'Can we do that?', 'Can we go home?', 'Can we join in?', 'Can we keep it?', 'Can we make it?', 'Can we move it?', 'Can you fix it?', 'Can you sit up?', 'Can you sit up?', 'Clean the room.', 'Close the gate.', 'Close the gate.', 'Coffee is life.', 'Comb your hair.', 'Come back here.', 'Come back soon.', 'Come sit by me.', 'Cows eat grass.', \"Dad isn't home.\", \"Dad's not home.\", 'Dancing is fun.', 'Dancing is fun.', 'Dice the apple.', 'Did I wake you?', 'Did Tom buy it?', 'Did it go well?', 'Did we do well?', 'Did we have it?', 'Did we make it?', 'Did you all go?', 'Did you fix it?', 'Did you get it?', 'Did you try it?', 'Did you use it?', \"Dinner's ready!\", \"Dinner's ready!\", 'Do I need this?', 'Do I need this?', 'Do as Tom says.', 'Do as you like.', 'Do as you like.', 'Do it now, Tom.', 'Do it this way.', 'Do it this way.', 'Do it tomorrow.', 'Do it yourself.', 'Do the laundry.', 'Do the laundry.', 'Do we have one?', 'Do we know you?', 'Do we know you?', 'Do you hear it?', 'Do you like it?', 'Do you like it?', 'Do you like me?', 'Do you love it?', 'Do you miss it?', 'Do you miss me?', 'Do you promise?', 'Do you promise?', 'Do you read me?', 'Do you read me?', 'Does it matter?', \"Don't be angry.\", \"Don't be crude.\", \"Don't be silly.\", \"Don't complain.\", \"Don't stand up.\", \"Don't stand up.\", \"Don't stand up.\", \"Don't struggle.\", \"Don't touch me!\", \"Don't watch TV.\", \"Don't you care?\", 'Eat everything.', 'Everybody down!', 'Everybody knew.', 'Everybody left.', 'Everybody paid.', 'Everyone gasps.', 'Everyone gasps.', \"Everyone's out.\", 'Fight like men.', 'Flies lay eggs.', 'Food is scarce.', 'Get in the car.', 'Get in the car.', 'Get me my food.', 'Get off of Tom.', 'Get rid of Tom.', 'Get rid of Tom.', 'Get some sleep.', 'Get to it, Tom.', 'Give it to Tom.', 'Give it to her.', 'Give it to her.', 'Give it to him.', 'Give it to him.', 'Give me a beer.', 'Give me a ride.', 'Give me a sign.', 'Give me a week.', 'Give me my bag.', 'Go and see Tom.', 'Go get changed.', 'Go have a beer.', 'Go pick Tom up.', 'Go talk to Tom.', 'Good afternoon.', 'Good afternoon.', 'Goodnight, Tom.', 'Goodnight, Tom.', 'Grab your gear.', 'Grab your gear.', 'Happy New Year!', 'Happy New Year!', 'Has Tom called?', 'Have they gone?', 'Have you eaten?', 'Have you slept?', 'He admired her.', 'He asked me to.', 'He asked me to.', 'He became rich.', 'He deserved it.', \"He doesn't run.\", 'He got the job.', 'He had a radio.', 'He held a ball.', 'He is a writer.', 'He is handsome.', 'He is homeless.', 'He is my enemy.', 'He lives alone.', 'He looks tired.', 'He looks young.', 'He loves music.', 'He owes me one.', 'He seems tired.', 'He seems tired.', 'He seems tired.', 'He trusted you.', 'He walked home.', 'He walked home.', 'He was at home.', 'He was my boss.', 'He was thirsty.', 'He was thirsty.', 'He worked hard.', \"He's a bit shy.\", \"He's a bit shy.\", 'Here comes Tom.', 'Here they come.', \"Here's the bus.\", \"Here's the car.\", 'Hi, come on in.', 'His head ached.', 'His head ached.', \"His name's Tom.\", 'Hit the brakes.', 'Hold it for me.', 'How am I doing?', 'How bad was it?', 'How bad was it?', 'How can I help?', 'How can I help?', 'How cold is it?', 'How did you do?', 'How do I do it?', 'How do we look?', 'How far was it?', 'How hard is it?', 'How high is it?', 'How high is it?', 'How late is it?', \"How's it going?\", 'I already know.', 'I am not happy.', 'I ate a banana.', 'I ate them all.', 'I ate too much.', 'I became blind.', 'I called ahead.', 'I came to help.', 'I can bring it.', 'I can call Tom.', 'I can hear you.', 'I can help out.', 'I can help you.', 'I can kill you.', 'I can kill you.', 'I can see them.', 'I can take Tom.', 'I can take Tom.', 'I can top that.', 'I can try that.', 'I caught a fly.', 'I did it again.', 'I did warn Tom.', \"I didn't do it.\", \"I didn't sleep.\", 'I dislike eggs.', 'I do mean that.', \"I don't get it.\", 'I drink coffee.', 'I fell in love.', 'I followed him.', 'I followed him.', 'I gave it away.', 'I gave it away.', 'I gave it back.', 'I gave it back.', 'I get the idea.', 'I go to school.', 'I got pregnant.', 'I got you this.', 'I grew up here.', 'I had a mishap.', 'I had some fun.', 'I had to leave.', 'I had to leave.', 'I hate Mondays.', 'I hate Tom now.', 'I hate it, too.', 'I hate jogging.', 'I hate karaoke.', 'I hate karaoke.', 'I hate my body.', 'I hate my hair.', 'I hate needles.', 'I hate spiders.', 'I hate to iron.', 'I hate to iron.', 'I have a badge.', 'I have a badge.', 'I have a badge.', 'I have a badge.', 'I have a badge.', 'I have a fever.', 'I have a flute.', 'I have a horse.', 'I have an idea.', 'I have had fun.', 'I have had fun.', 'I have no kids.', 'I have the map.', 'I have to help.', 'I have to hide.', 'I have to rest.', 'I have to stay.', 'I have to wait.', 'I heard a thud.', 'I heard voices.', 'I hurt my foot.', 'I hurt my foot.', 'I insulted Tom.', 'I just met him.', 'I just want it.', 'I keep a diary.', 'I keep a diary.', 'I keep my word.', 'I let Tom down.', 'I let Tom down.', 'I let Tom down.', 'I let Tom down.', 'I let Tom live.', 'I let Tom live.', 'I let Tom talk.', 'I like driving.', 'I like jogging.', 'I like lasagna.', 'I like lobster.', 'I like lobster.', 'I like reading.', 'I like reading.', 'I like the sun.', 'I like the sun.', 'I like to fish.', 'I live upstate.', 'I lost control.', 'I love bananas.', 'I love karaoke.', 'I love the sun.', 'I made that up.', 'I may be right.', 'I met Tom here.', 'I met him once.', 'I miss my wife.', 'I must be calm.', 'I must buy one.', 'I must go home.', 'I need a knife.', 'I need a towel.', 'I need friends.', 'I need insulin.', 'I need my coat.', 'I need my coat.', 'I need my coat.', 'I need one now.', 'I need surgery.', 'I need you now.', 'I never go out.', 'I never saw it.', 'I often travel.', 'I paid in cash.', 'I paid in cash.', 'I pay Tom well.', 'I refuse to go.', 'I rewarded Tom.', 'I said get out.', 'I said lay off.', 'I said not now.', 'I said shut up.', 'I said take it.', 'I saw Tom fall.', 'I saw her swim.', 'I saw him once.', 'I saw one once.', 'I saw the file.', 'I saw the game.', 'I see the book.', 'I serve no one.', 'I should relax.', 'I sure am cold.', 'I sure hope so.', 'I swore at Tom.', 'I threw it out.', 'I took it easy.', 'I walk to work.', 'I want a flute.', 'I want the fan.', 'I want to vote.', 'I was all ears.', 'I was off duty.', 'I was on leave.', 'I was sleeping.', 'I was sweating.', 'I was to blame.', 'I was too fast.', 'I will stop it.', 'I will stop it.', 'I will take it.', 'I won the race.', 'I work for Tom.', 'I wrote to Tom.', \"I'll apologize.\", \"I'll bring Tom.\", \"I'll do it now.\", \"I'll handle it.\", \"I'll handle it.\", \"I'll miss that.\", \"I'll pay extra.\", \"I'll pay extra.\", \"I'll pay extra.\", \"I'll shoot you.\", \"I'll shoot you.\", \"I'll shoot you.\", \"I'll wait here.\", \"I'll wait here.\", \"I'm Tom's wife.\", \"I'm a musician.\", \"I'm a pacifist.\", \"I'm an atheist.\", \"I'm dead tired.\", \"I'm doing okay.\", \"I'm farsighted.\", \"I'm frustrated.\", \"I'm going home.\", \"I'm happy here.\", \"I'm happy here.\", \"I'm in the car.\", \"I'm just a kid.\", \"I'm mad at you.\", \"I'm not bitter.\", \"I'm not hungry.\", \"I'm not stupid.\", \"I'm right here.\", \"I'm speechless.\", \"I'm the killer.\", \"I've been busy.\", \"I've done that.\", 'If only I knew!', 'Is Tom singing?', 'Is Tom smiling?', 'Is he American?', 'Is he Japanese?', 'Is he Japanese?', 'Is he sleeping?', 'Is it that bad?', 'Is she at home?', 'Is that French?', 'Is this French?', 'Is this French?', 'Is this French?', 'Is this normal?', 'Is this normal?', \"It isn't a dog.\", \"It isn't cheap.\", \"It isn't funny.\", 'It looked real.', 'It sounds easy.', 'It still hurts.', 'It was a dream.', 'It was chaotic.', 'It was correct.', 'It was snowing.', \"It's Christmas.\", \"It's Tom's car.\", \"It's a bargain.\", \"It's a mistake.\", \"It's a problem.\", \"It's a problem.\", \"It's cold here.\", \"It's difficult.\", \"It's difficult.\", \"It's expensive.\", \"It's hot today.\", \"It's important.\", \"It's important.\", \"It's necessary.\", \"It's not a dog.\", \"It's not funny.\", \"It's pointless.\", \"It's revolting.\", \"It's the truth.\", \"It's too small.\", \"It's too small.\", \"It's treatable.\", 'Keep searching.', 'Leave me alone!', 'Leave me alone!', 'Leave me alone!', 'Leave me alone.', 'Leave me alone.', 'Leave me alone.', 'Let me get Tom.', 'Let the dog in.', \"Let's eat soon.\", \"Let's eat this.\", 'Life is unfair.', 'Light a candle.', 'Listen to this!', 'Live and learn.', 'Lock your door.', 'Louder, please.', 'Louder, please.', 'Lunch is ready.', 'Lunch is ready.', 'Many fish died.', 'May I kiss you?', 'My dog bit Tom.', 'My job is safe.', 'My joints ache.', 'My name is Tom.', 'My name is Tom.', 'My nose itches.', 'My nose itches.', 'My wife is mad.', 'No one shouted.', 'No one shouted.', 'No one told us.', 'No one was hit.', \"No one's upset.\", 'No, not at all.', 'Now I remember.', 'Now just do it.', 'Now stay there.', 'One is missing.', 'Open your eyes.', 'Open your eyes.', 'Read the meter.', 'Say it clearly.', 'See you Monday.', 'See you around.', 'Shall we dance?', 'Shall we dance?', 'Shall we order?', 'She came alone.', 'She fooled him.', 'She helped him.', 'She hugged him.', 'She is a nurse.', 'She is out now.', 'She kicked him.', 'She kissed him.', 'She likes wine.', 'She looked sad.', 'She loves cats.', 'She might come.', 'She misses him.', 'She sings well.', 'She smells bad.', 'She swims well.', 'She trusts him.', 'She was crying.', 'She works hard.', \"She's an angel.\", \"She's innocent.\", \"She's not here.\", \"She's pregnant.\", 'Show us around.', 'Spring is here.', 'Stay behind me.', 'Stay behind me.', 'Summer is over.', 'Take the wheel.', 'Take your time.', 'Take your time.', 'Take your time.', 'Take your time.', 'Take your time.', 'That was scary.', 'That went fast.', \"That's a shame.\", \"That's a shame.\", \"That's a start.\", \"That's a tower.\", \"That's my line.\", \"That's my seat.\", \"That's my wife.\", \"That's plastic.\", \"That's serious.\", \"That's suicide.\", \"That's treason.\", \"That's unlucky.\", 'The radio died.', 'The radio died.', 'They applauded.', 'They bought it.', 'They bought it.', 'They could die.', 'They found Tom.', 'They found out.', 'They hated Tom.', 'They hugged us.', 'They look good.', 'They quarreled.', 'They quarreled.', 'They trust you.', 'They were fake.', 'They were fine.', 'They were mine.', \"They won't die.\", \"They'll attack.\", \"They'll attack.\", \"They're afraid.\", \"They're broken.\", \"They're hollow.\", 'This is my bag.', 'This is my car.', 'This is my car.', 'This is my son.', 'This is my son.', 'Those are free.', 'Those are nice.', 'Those are nice.', 'Ticket, please.', 'Time to get up.', 'Time to get up.', 'Time to get up.', 'Time will tell.', 'Tom apologized.', 'Tom ate a pear.', 'Tom can juggle.', \"Tom can't come.\", \"Tom can't read.\", \"Tom can't sing.\", \"Tom can't stay.\", \"Tom can't walk.\", 'Tom cracked up.', 'Tom cracked up.', 'Tom died alone.', 'Tom died at 65.', 'Tom forgave me.', 'Tom got caught.', 'Tom got caught.', 'Tom got caught.', 'Tom got caught.', 'Tom got closer.', 'Tom got dumped.', 'Tom got scared.', 'Tom grows rice.', 'Tom had cancer.', 'Tom has a blog.', 'Tom has a rash.', 'Tom has braces.', 'Tom has issues.', 'Tom has my car.', 'Tom has talent.', 'Tom hates cats.', 'Tom hates cats.', 'Tom hates rats.', 'Tom heard Mary.', 'Tom heard that.', 'Tom hired Mary.', 'Tom is a creep.', 'Tom is a hippy.', 'Tom is a shark.', 'Tom is a shark.', 'Tom is amusing.', 'Tom is amusing.', 'Tom is anxious.', 'Tom is anxious.', 'Tom is ashamed.', 'Tom is ashamed.', 'Tom is at work.', 'Tom is awesome.', 'Tom is awesome.', 'Tom is awkward.', 'Tom is baffled.', 'Tom is callous.', 'Tom is certain.', 'Tom is devious.', 'Tom is devious.', 'Tom is devoted.', 'Tom is dressed.', 'Tom is dubious.', 'Tom is dusting.', 'Tom is dusting.', 'Tom is engaged.', 'Tom is fishing.', 'Tom is frantic.', 'Tom is frantic.', 'Tom is frantic.', 'Tom is furious.', 'Tom is furious.', 'Tom is helping.', 'Tom is married.', 'Tom is miserly.', 'Tom is missing.', 'Tom is my hero.', 'Tom is neutral.', 'Tom is nodding.', 'Tom is popular.', 'Tom is popular.', 'Tom is resting.', 'Tom is selfish.', 'Tom is shallow.', 'Tom is smiling.', 'Tom is waiting.', 'Tom is working.', \"Tom isn't dead.\", \"Tom isn't here.\", \"Tom isn't lazy.\", \"Tom isn't nice.\", \"Tom isn't poor.\", \"Tom isn't rude.\", \"Tom isn't sure.\", \"Tom isn't thin.\", \"Tom isn't ugly.\", \"Tom isn't weak.\", 'Tom likes snow.', 'Tom likes snow.', 'Tom likes wine.', 'Tom looked ill.', 'Tom looked old.', 'Tom looked sad.', 'Tom looks pale.', 'Tom looks sick.', 'Tom looks sick.', 'Tom misses you.', 'Tom needs help.', 'Tom passed out.', 'Tom passed out.', 'Tom passed out.', 'Tom passed out.', 'Tom seems nice.', 'Tom shed tears.', 'Tom wants help.', 'Tom wants more.', 'Tom was crying.', 'Tom was robbed.', \"Tom won't stay.\", \"Tom'll recover.\", \"Tom'll succeed.\", \"Tom'll survive.\", \"Tom's bleeding.\", \"Tom's bluffing.\", \"Tom's cheating.\", \"Tom's cheerful.\", \"Tom's cheerful.\", \"Tom's cheerful.\", \"Tom's confused.\", \"Tom's divorced.\", \"Tom's dreaming.\", \"Tom's drowning.\", \"Tom's fearless.\", \"Tom's fearless.\", \"Tom's finished.\", \"Tom's finished.\", \"Tom's friendly.\", \"Tom's grieving.\", \"Tom's harmless.\", \"Tom's harmless.\", \"Tom's homeless.\", \"Tom's homesick.\", \"Tom's laughing.\", \"Tom's not here.\", \"Tom's not weak.\", \"Tom's painting.\", \"Tom's resigned.\", \"Tom's returned.\", \"Tom's sweating.\", \"Tom's swimming.\", \"Tom's the boss.\", 'Turn up the TV.', 'Wash your face.', 'Wash your face.', 'Wash your face.', 'We are cousins.', 'We can do that.', \"We can't do it.\", 'We drank a lot.', 'We drank a lot.', 'We fight a lot.', 'We have a goat.', 'We make bricks.', 'We make bricks.', 'We make bricks.', 'We only kissed.', 'We respect Tom.', 'We shook on it.', 'We shook on it.', 'We were robbed.', 'We were scared.', \"We'll be there.\", \"We're butchers.\", \"We're colonels.\", \"We're escaping.\", \"We're finished.\", \"We're grateful.\", \"We're here now.\", \"We're not home.\", \"We're not poor.\", \"We're not sick.\", \"We're not sure.\", \"We're sold out.\", \"We're watching.\", \"We've been hit.\", \"We've seen her.\", 'Were they good?', 'Were you happy?', 'Were you happy?', 'What a big cat!', 'What a big dog!', 'What a country!', 'What a hot day!', 'What a hot day!', 'What are those?', 'What can I use?', 'What can it be?', 'What can we do?', 'What day is it?', 'What day is it?', 'What did I win?', 'What do I care?', 'What do I need?', 'What do you do?', \"What's it like?\", \"What's it like?\", \"What's it like?\", \"What's it like?\", \"What's it like?\", 'Where are they?', 'Where is Paris?', 'Where were you?', \"Where's my car?\", \"Where's my tea?\", 'Who broke this?', 'Who broke this?', 'Who broke this?', 'Who broke this?', 'Who lives here?', 'Who would care?', \"Who's on watch?\", \"Who's on watch?\", \"Who's on watch?\", \"Who's speaking?\", \"Who's speaking?\", \"Who's that boy?\", \"Who's this guy?\", \"Who's to blame?\", \"Who's to blame?\", 'Whose are they?', 'Why do you ask?', 'Why do you lie?', 'Why do you lie?', 'You better run.', 'You killed Tom.', 'You must do it.', 'You must do it.', 'You seem happy.', 'You seem happy.', 'You seem happy.', 'You seem happy.', 'You should eat.', 'You smell nice.', \"You'll be fine.\", \"You're invited.\", \"You're my hero.\", \"You're not Tom.\", \"You're not old.\", \"You're shallow.\", \"You're sincere.\", \"You're sincere.\", \"You're sincere.\", \"You're sincere.\", \"You've changed.\", \"You've changed.\", 'Am I alone here?', 'Am I boring you?', 'Am I ever wrong?', 'Am I in trouble?', 'Are my ears red?', 'Are they minors?', 'Are we all here?', 'Are we done yet?', 'Are we safe now?', 'Are we safe yet?', 'Are we safe yet?', 'Are you all set?', 'Are you at work?', 'Are you at work?', 'Are you certain?', 'Are you envious?', 'Are you envious?', 'Are you envious?', 'Are you kidding?', 'Are you looking?', 'Are you on duty?', 'Are you related?', 'Are you serious?', 'Are you serious?', 'Are you serious?', 'Are you thirsty?', 'Behave yourself.', 'Boil some water.', 'Bring me my bag.', 'Call the police!', 'Call the police.', 'Can I afford it?', 'Can I be honest?', 'Can I get a dog?', 'Can I have this?', 'Can I order now?', 'Can I order one?', 'Can I park here?', 'Can I sit there?', 'Can I sit there?', 'Can I trust Tom?', 'Can I try it on?', 'Can I work here?', 'Can Tom help us?', 'Can anyone help?', 'Can it be fixed?', 'Can it be fixed?', 'Can they see us?', 'Can we eat this?', 'Can we fix this?', 'Can we prove it?', 'Can we save Tom?', 'Can we sit here?', 'Can we use this?', 'Can you feel it?', 'Can you get Tom?', 'Can you hear me?', 'Can you hear me?', 'Can you help me?', 'Can you make it?', 'Can you move it?', 'Can you read it?', 'Can you read it?', 'Can you skip me?', 'Can you take me?', 'Can you whistle?', 'Chicken, please.', 'Clean your room.', 'Close your book.', 'Close your book.', 'Close your book.', 'Close your book.', 'Close your eyes.', 'Come and get me.', 'Come and see us.', 'Come on in here.', 'Come on in, Tom.', 'Come on up, Tom.', 'Come pick me up.', 'Come talk to me.', 'Come, sit by me.', 'Congratulations!', 'Could I ask why?', 'Could I have it?', 'Cover your ears.', 'Crows are birds.', 'Crows are black.', 'Cut it out, Tom.', 'Dice the onions.', 'Did I miss much?', 'Did I scare you?', 'Did I scare you?', 'Did Tom do this?', 'Did Tom look OK?', 'Did Tom say who?', 'Did Tom say why?', 'Did Tom say why?', 'Did Tom say yes?', 'Did Tom see you?', 'Did she like it?', 'Did they buy it?', 'Did you ask Tom?', 'Did you do that?', 'Did you do this?', 'Did you do this?', 'Did you hear it?', 'Did you like it?', 'Did you like it?', 'Did you miss me?', 'Did you push it?', 'Did you read it?', 'Did you read it?', 'Did you see Tom?', 'Did you see Tom?', 'Did you sign it?', 'Did you sign it?', 'Did you sue Tom?', 'Did you take it?', \"Didn't you sing?\", \"Didn't you sing?\", 'Dinner is on me.', 'Dinner is ready!', 'Dinner is ready!', 'Do I look tired?', 'Do we have bait?', 'Do you do drugs?', 'Do you doubt me?', 'Do you enjoy it?', 'Do you feel bad?', 'Do you feel old?', 'Do you know Tom?', 'Do you know Tom?', 'Do you know her?', 'Do you know him?', 'Do you know how?', 'Do you like Tom?', 'Do you like Tom?', 'Do you love Tom?', 'Do you love Tom?', 'Do you love her?', 'Do you miss Tom?', 'Do you miss Tom?', 'Do you see them?', 'Do you see this?', 'Do you trust me?', 'Does it bug you?', 'Does it look OK?', \"Don't be stupid.\", \"Don't forget it.\", \"Don't tease Tom.\", \"Don't tell lies.\", \"Don't tell lies.\", \"Don't tell lies.\", 'Drive carefully.', 'Enjoy your meal.', 'Everybody claps.', 'Everybody knows.', 'Everyone agrees.', 'Everyone did it.', 'Everyone looked.', 'Everyone prayed.', 'Everyone saw it.', 'Everyone saw it.', \"Everyone's dead.\", \"Everyone's here.\", \"Everyone's sick.\", \"Everything's OK.\", 'Follow that car.', 'Get a grip, Tom.', 'Get a life, Tom.', 'Get in the boat.', 'Get in the boat.', 'Get me my pills.', 'Get my tool box.', 'Get off my lawn.', 'Get out of town.', 'Get rid of them.', 'Get rid of them.', 'Get the captain.', 'Get your mother.', 'Give Tom a call.', 'Give Tom a hand.', 'Give me a donut.', 'Give me a drink.', 'Give me a light.', 'Give me a spoon.', 'Give me an hour.', 'Give me my beer.', 'Give me my cane.', 'Give me the mic.', 'Give them money.', 'Go back outside.', 'Go back to work.', 'Go do something.', 'Go get your car.', 'Go into the lab.', 'Go make popcorn.', 'Go see a doctor.', 'Go to work, Tom.', 'Go to your spot.', 'Guys are stupid.', 'Hang on to them.', 'Has Tom arrived?', 'Has he come yet?', 'Have a good day.', 'Have a good one.', 'Have a nice day.', 'He began to cry.', 'He came running.', 'He did his duty.', 'He drank a beer.', 'He had no money.', 'He has a Toyota.', 'He has gone out.', 'He has ten cows.', 'He is a painter.', 'He is a sly fox.', 'He is a teacher.', 'He is unmarried.', 'He is well paid.', 'He likes sweets.', 'He likes tigers.', 'He likes tigers.', 'He likes to run.', 'He looks strong.', 'He lost his job.', 'He loves soccer.', 'He loves trains.', 'He may be there.', 'He mentioned it.', 'He sells whisky.', 'He tires easily.', 'He will survive.', 'He writes books.', \"He's going bald.\", \"He's my brother.\", 'Help me, please.', 'Her book is red.', 'Her father died.', 'Her hair is dry.', 'Here I am again.', 'Here, try it on.', 'Hey, I can help.', 'Hey, can I help?', 'His name is Tom.', 'His name is Tom.', 'His son is sick.', 'Hoist the sails!', 'Hoist the sails!', 'Hold Tom for me.', 'Horses run fast.', 'How about a hug?', 'How about a hug?', 'How are you now?', 'How can we help?', 'How can we help?', 'How did Tom act?', 'How did they do?', 'How did work go?', 'How do we begin?', 'How is it going?', 'How is the food?', 'How is your dad?', 'How is your dad?', 'How may we help?', 'How old are you?', 'How old is that?', 'How old is this?', 'How rich is Tom?', 'How sick is Tom?', 'How unfortunate!', 'How will it end?', \"How's Tom doing?\", \"How's Tom doing?\", \"How's it coming?\", \"How's the water?\", 'I abhor spiders.', 'I ache all over.', 'I ache all over.', 'I almost did it.', 'I am a reporter.', 'I am dead tired.', 'I am from Egypt.', 'I am not stupid.', 'I asked for Tom.', 'I bet that hurt.', 'I bought a book.', 'I came in third.', 'I came with Tom.', 'I can be honest.', 'I can do it now.', 'I can drive you.', 'I can feel that.', 'I can get us in.', 'I can swim well.', 'I can trust Tom.', 'I can walk home.', 'I can work late.', \"I can't be sure.\", \"I can't compete.\", \"I can't compete.\", \"I can't compete.\", \"I can't do this.\", \"I can't do this.\", \"I can't fake it.\", \"I can't fake it.\", \"I can't fake it.\", \"I can't find it.\", \"I can't find it.\", \"I can't make it.\", \"I can't see you.\", \"I can't undo it.\", 'I caught a cold.', 'I caught a cold.', 'I caught a fish!', 'I cooked dinner.', 'I cooked dinner.', 'I could do that.', 'I could use one.', 'I could use one.', \"I couldn't talk.\", 'I cry every day.', 'I cut my finger.', 'I did that once.', \"I didn't buy it.\", \"I didn't buy it.\", \"I didn't buy it.\", \"I didn't buy it.\", \"I don't mind it.\", 'I drove the car.', 'I enjoy working.', 'I feel feverish.', 'I feel fine now.', 'I feel nauseous.', 'I fired the gun.', 'I fired the gun.', 'I forgot my bag.', 'I found my book.', 'I got a bad one.', 'I got a bad one.', 'I got a bargain.', 'I got over that.', 'I got you these.', 'I got your note.', 'I had my chance.', 'I had my doubts.', 'I had my orders.', 'I had to resign.', 'I had to resign.', 'I had to resign.', 'I had to resign.', 'I had to resign.', 'I hate football.', 'I hate my voice.', 'I hate politics.', 'I hate the rain.', 'I hate weddings.', 'I hate weekends.', 'I have a family.', 'I have a family.', 'I have a minute.', 'I have a theory.', 'I have an apple.', 'I have big ears.', 'I have children.', 'I have diabetes.', 'I have epilepsy.', 'I have evidence.', 'I have insomnia.', 'I have no money.', 'I have one more.', 'I have returned.', 'I have to agree.', 'I have to sleep.', 'I have two cars.', 'I have two cats.', 'I have two jobs.', 'I have your key.', 'I hear laughing.', 'I heard a crash.', 'I heard a noise.', 'I heard a noise.', 'I heard a sound.', 'I hope it rains.', 'I hope it works.', 'I hurt my elbow.', 'I intend to try.', 'I jog every day.', 'I just found it.', 'I just found it.', 'I just found it.', 'I just found it.', 'I just got that.', 'I just left Tom.', 'I just moved in.', 'I knew the risk.', 'I knew too much.', 'I knew your dad.', \"I know I'm safe.\", 'I know all this.', 'I know all this.', 'I know all this.', 'I know all this.', 'I know it hurts.', 'I know that now.', 'I know the song.', 'I know the song.', 'I know the song.', 'I know the song.', 'I laughed a lot.', 'I lied about it.', 'I like cartoons.', 'I like children.', 'I like climbing.', 'I like climbing.', 'I like raw fish.', 'I like raw fish.', 'I like swimming.', 'I like swimming.', 'I like swimming.', 'I like that job.', 'I like that tie.', 'I like this cup.', 'I like this cup.', 'I like this dog.', 'I like this dog.', 'I like to dance.', 'I like you, too.', 'I like your car.', 'I like your car.', 'I like your dog.', 'I like your dog.', 'I like your hat.', 'I like your hat.', 'I lit the match.', 'I live in Japan.', 'I live in Tokyo.', 'I live with Tom.', 'I lost interest.', 'I love children.', 'I love everyone.', 'I love this car.', 'I love this job.', 'I love this job.', 'I love this job.', 'I love this job.', 'I love to skate.', 'I love to sleep.', 'I love to teach.', 'I love you both.', 'I love your bag.', 'I love your bag.', 'I love your hat.', 'I made that one.', 'I meant to call.', 'I met Tom today.', 'I miss all this.', 'I miss you, Tom.', 'I miss you, too.', 'I misunderstood.', 'I must be drunk.', 'I must be there.', 'I must find out.', 'I must find out.', 'I must help him.', 'I must meet Tom.', 'I must tell Tom.', 'I must tell Tom.', 'I must tell Tom.', 'I need Internet.', 'I need a lawyer.', 'I need a minute.', 'I need a priest.', 'I need a weapon.', 'I need evidence.', 'I need guidance.', 'I need his name.', 'I need my pills.', 'I need my sword.', 'I need one more.', 'I need some air.', 'I need somebody.', 'I need the keys.', 'I need the tape.', 'I need to check.', 'I need to focus.', 'I need you here.', 'I need your car.', 'I never give up.', 'I never hit Tom.', 'I never met Tom.', 'I never saw you.', 'I never saw you.', 'I never saw you.', 'I never saw you.', 'I often see him.', 'I often see him.', 'I only need one.', 'I paid my bills.', 'I paid my taxes.', 'I paid the bill.', 'I played tennis.', 'I prefer coffee.', 'I rang the bell.', 'I read a letter.', 'I read a letter.', 'I read his book.', 'I read his book.', 'I relied on Tom.', 'I run every day.', 'I run every day.', 'I said back off!', 'I said my piece.', 'I said sit down.', 'I said too much.', 'I saw Tom again.', 'I saw Tom blink.', 'I saw Tom blush.', 'I saw Tom smile.', 'I saw Tom today.', 'I saw Tom today.', 'I saw one today.', 'I saw that, too.', 'I saw the fight.', 'I saw the fight.', 'I saw the fight.', 'I saw you there.', 'I see a pattern.', 'I see him often.', 'I see the crown.', 'I see the crown.', 'I see the crown.', 'I sent Tom away.', 'I sent Tom home.', 'I shifted gears.', 'I slept all day.', 'I still do that.', 'I talked to Tom.', 'I talked to Tom.', 'I tend to agree.', 'I told Tom that.', 'I trust you all.', 'I trust you all.', 'I turned it off.', 'I want a guitar.', 'I want a lawyer.', 'I want a parrot.', 'I want a refund.', 'I want an apple.', 'I want my money.', 'I want that bag.', 'I want that car.', 'I want that cat.', 'I want that job.', 'I want this bag.', 'I want to dance.', 'I want to do it.', 'I want to dream.', 'I want to shave.', 'I want to sleep.', 'I was a witness.', 'I was born here.', 'I was born here.', 'I was disgusted.', 'I was exhausted.', 'I was horrified.', 'I was in Boston.', 'I was in charge.', 'I was in charge.', 'I was very busy.', 'I will miss you.', 'I wish you luck.', 'I wish you well.', 'I wish you well.', 'I wish you well.', 'I work here now.', 'I work here now.', \"I'll arrange it.\", \"I'll do my best.\", \"I'll follow you.\", \"I'll get my car.\", \"I'll go ask Tom.\", \"I'll go ask Tom.\", \"I'll go ask Tom.\", \"I'll go get Tom.\", \"I'll pay double.\", \"I'm a bit crazy.\", \"I'm a happy man.\", \"I'm a professor.\", \"I'm an islander.\", \"I'm chewing gum.\", \"I'm color-blind.\", \"I'm eating rice.\", \"I'm glad we met.\", \"I'm going crazy.\", \"I'm going crazy.\", \"I'm helping you.\", \"I'm in no hurry.\", \"I'm left-handed.\", \"I'm not serious.\", \"I'm not serious.\", \"I'm on vacation.\", \"I'm resourceful.\", \"I'm resourceful.\", \"I'm resourceful.\", \"I'm still angry.\", \"I'm tired of TV.\", \"I'm tired of TV.\", \"I'm your lawyer.\", \"I'm your lawyer.\", \"I've got to run.\", \"I've got to run.\", \"I've got to try.\", 'Is Tom a member?', 'Is Tom that bad?', 'Is Tom that bad?', 'Is Tom your son?', 'Is Tom your son?', 'Is anybody here?', 'Is anybody home?', 'Is anybody home?', 'Is he breathing?', 'Is it important?', 'Is it poisonous?', 'Is it poisonous?', 'Is she Japanese?', 'Is she Japanese?', 'Is that healthy?', 'Is that healthy?', 'Is this a radio?', 'Is this correct?', 'Is this correct?', 'Is this ethical?', 'Is this serious?', 'Is today Monday?', 'It cost nothing.', 'It cost nothing.', 'It could be fun.', 'It could be fun.', 'It has to be me.', \"It isn't a game.\", \"It isn't a game.\", 'It looked cheap.', 'It looked cheap.', 'It looked funny.', 'It was a relief.', 'It was very hot.', 'It was worth it.', \"It'll get worse.\", \"It'll get worse.\", \"It's Tom's idea.\", \"It's an old car.\", \"It's cold today.\", \"It's flu season.\", \"It's lunch time.\", \"It's no trouble.\", \"It's no trouble.\", \"It's not a bomb.\", \"It's not a game.\", \"It's not a game.\", \"It's not a gift.\", \"It's not a joke.\", \"It's not a loan.\", \"It's not so bad.\", \"It's not stupid.\", \"It's only money.\", \"It's really sad.\", \"It's remarkable.\", \"It's still damp.\", \"It's still damp.\", \"It's time to go.\", \"It's time to go.\", \"It's too narrow.\", \"It's too narrow.\", \"It's too narrow.\", \"It's too narrow.\", \"It's too narrow.\", \"It's too narrow.\", 'Jesus loves you.', 'Just follow Tom.', 'Keep Tom inside.', 'Let me off here.', 'Let me see that.', 'Let me tell Tom.', \"Let's be candid.\", \"Let's skedaddle.\", \"Let's stop here.\", \"Life ain't easy.\", \"Life isn't easy.\", 'Look around you.', 'Look at the cat.', 'Look at the sky.', 'Look behind you.', \"Maybe I'll stay.\", \"Maybe I'll stay.\", 'Mix Tom a drink.', 'My cat is black.', 'My dog ran away.', 'My dog ran away.', 'My house is big.', 'My throat hurts.', 'Never let me go.', 'No one got sick.', 'No one is there.', 'No one survived.', 'Nobody likes it.', 'Nobody screamed.', 'Nobody survived.', 'Nobody was hurt.', 'Nothing is free.', 'Now go to sleep.', 'Now go to sleep.', 'Open the bottle.', 'Open your mouth.', 'Please sit down.', 'Read this first.', 'Read this first.', 'Remove your hat.', 'Rules are rules.', 'Save me a donut.', 'Say no to drugs.', 'Sharks eat fish.', 'She forgave him.', 'She had a radio.', 'She is discreet.', 'She is not here.', 'She lives alone.', 'She looked away.', 'She married him.', 'She never reads.', 'She slapped him.', 'She talks a lot.', 'She trusted you.', 'She went inside.', 'She woke him up.', 'She worked hard.', \"She's desperate.\", \"She's impatient.\", 'Shut your mouth.', 'Sit up straight.', 'So far, so good.', 'So far, so good.', 'So what do I do?', 'Spring has come.', 'Spring has come.', 'Sweep the floor.', 'Tell me a story.', 'Tell me a story.', 'Tell me who won.', 'That car is his.', 'That is a heart.', 'That is a table.', 'That is his car.', \"That's a pagoda.\", \"That's old news.\", 'The air is damp.', \"The answer's no.\", 'The car is blue.', 'The child cried.', 'The die is cast.', 'The dog is dead.', 'The egg hatched.', \"There's a catch.\", \"There's no soap.\", \"There's the rub.\", 'They are actors.', 'They are pilots.', 'They called you.', 'They died young.', 'They found this.', 'They left early.', 'They live there.', 'They lost again.', 'They understood.', 'They went crazy.', \"They'll help us.\", \"They're friends.\", \"They're screwed.\", \"They're special.\", 'This car is his.', 'This is garbage.', 'This is my beer.', 'This is my beer.', 'This is my ship.', 'This is my wife.', 'This is my wife.', 'This is our car.', 'This is the end.', 'This is unusual.', 'Throw it to Tom.', 'To err is human.', 'Tom contributed.', 'Tom cut himself.', \"Tom didn't mind.\", 'Tom exaggerated.', 'Tom failed, too.', 'Tom fed the dog.', 'Tom felt guilty.', 'Tom felt relief.', 'Tom got dressed.', 'Tom got engaged.', 'Tom got excited.', 'Tom had nothing.', 'Tom has a fever.', 'Tom has arrived.', 'Tom has arrived.', 'Tom has changed.', 'Tom has escaped.', 'Tom has rabbits.', 'Tom hated lying.', 'Tom hates liars.', 'Tom hates liars.', 'Tom hates opera.', 'Tom is a hippie.', 'Tom is adorable.', 'Tom is adorable.', 'Tom is agitated.', 'Tom is annoying.', 'Tom is artistic.', 'Tom is at lunch.', 'Tom is athletic.', 'Tom is autistic.', 'Tom is autistic.', 'Tom is bluffing.', 'Tom is charming.', 'Tom is creative.', 'Tom is credible.', 'Tom is cultured.', 'Tom is dejected.', 'Tom is delicate.', 'Tom is demented.', 'Tom is demented.', 'Tom is diligent.', 'Tom is disloyal.', 'Tom is divorced.', 'Tom is doubtful.', 'Tom is doubtful.', 'Tom is drenched.', 'Tom is drenched.', 'Tom is fearless.', 'Tom is forgiven.', 'Tom is friendly.', 'Tom is generous.', 'Tom is laughing.', 'Tom is my guest.', 'Tom is not here.', 'Tom is painting.', 'Tom is still up.', 'Tom is still up.', 'Tom is stubborn.', 'Tom is sweating.', 'Tom is swimming.', 'Tom is the boss.', 'Tom is the boss.', 'Tom is too slow.', 'Tom is upstairs.', 'Tom is very fit.', 'Tom is well off.', 'Tom is with her.', \"Tom isn't alone.\", \"Tom isn't crazy.\", \"Tom isn't fussy.\", \"Tom isn't happy.\", \"Tom isn't petty.\", 'Tom killed Mary.', 'Tom left a note.', 'Tom lied to you.', 'Tom likes music.', 'Tom likes music.', 'Tom looked good.', 'Tom looks angry.', 'Tom looks happy.', 'Tom looks weary.', 'Tom misses Mary.', 'Tom needs blood.', 'Tom never comes.', 'Tom ordered one.', 'Tom rang a bell.', 'Tom sang for us.', 'Tom seemed cool.', 'Tom seemed lost.', 'Tom seemed lost.', 'Tom seemed nice.', 'Tom seems bored.', 'Tom stayed home.', 'Tom swore at me.', 'Tom told a joke.', 'Tom told a joke.', 'Tom tried again.', 'Tom tried again.', 'Tom turned pale.', 'Tom turned pale.', 'Tom wanted help.', 'Tom was devoted.', 'Tom was like me.', 'Tom was limping.', 'Tom was my hero.', 'Tom was panting.', 'Tom was panting.', 'Tom was spot on.', \"Tom's brilliant.\", \"Tom's concerned.\", \"Tom's confessed.\", \"Tom's conscious.\", \"Tom's conscious.\", \"Tom's convinced.\", \"Tom's dangerous.\", \"Tom's desperate.\", \"Tom's different.\", \"Tom's impressed.\", \"Tom's listening.\", 'Turn off the TV.', 'Wait one second.', 'Wash your hands.', 'Watch your step.', 'We are a family.', 'We are students.', 'We are teachers.', \"We aren't young.\", 'We arrived late.', 'We can help you.', 'We can help you.', 'We count on Tom.', 'We desire peace.', 'We eat raw fish.', 'We have checked.', 'We have to move.', 'We have to move.', 'We have to move.', 'We heard voices.', 'We jog together.', 'We love picnics.', 'We must find it.', 'We must find it.', 'We rewarded Tom.', 'We should smile.', 'We should study.', 'We want justice.', 'We want results.', 'We were waiting.', 'We were worried.', 'We work for Tom.', \"We're adaptable.\", \"We're adaptable.\", \"We're adaptable.\", \"We're different.\", \"We're different.\", \"We're energetic.\", \"We're not young.\", \"We're relatives.\", \"We're taxpayers.\", \"We're teenagers.\", \"We're very fast.\", \"We're very fast.\", \"We're witnesses.\", 'Well done, guys.', 'What a surprise!', 'What can Tom do?', 'What did Tom do?', 'What did he say?', 'What did he say?', 'What did we get?', 'What do they do?', 'What do we have?', 'What do we know?', 'What is he like?', 'What is he like?', 'What is his age?', 'What is it, Tom?', 'What is missing?', 'What killed Tom?', 'What killed Tom?', 'What scared you?', 'What time is it?', 'What was inside?', \"What's his name?\", \"What's in there?\", \"What's in there?\", \"What's it about?\", \"What's my prize?\", \"What's so funny?\", \"What's so funny?\", \"What's the time?\", \"What's this for?\", \"What's this for?\", \"What've you got?\", 'When can we eat?', 'When will we go?', 'Where did he go?', \"Where's my ball?\", \"Where's my comb?\", \"Where's the bag?\", 'Who contributed?', 'Who contributed?', 'Who is that boy?', 'Who is that boy?', 'Who is that boy?', 'Who is that man?', 'Who received it?', 'Why are we here?', 'Why do this now?', 'Why do this now?', 'Will we survive?', 'You are naughty.', 'You are naughty.', \"You aren't rich.\", \"You aren't ugly.\", 'You got cheated.', 'You look scared.', 'You look stupid.', 'You look unsure.', 'You should stay.', 'You should stay.', 'You startled me.', \"You'll be alone.\", \"You'll die soon.\", \"You're a menace.\", \"You're a menace.\", \"You're adorable.\", \"You're adorable.\", \"You're adorable.\", \"You're adorable.\", \"You're an idiot.\", \"You're arrogant.\", \"You're arrogant.\", \"You're athletic.\", \"You're athletic.\", \"You're babbling.\", \"You're babbling.\", \"You're impolite.\", \"You're impolite.\", \"You're my child.\", \"You're my guest.\", \"You're not rich.\", \"You're reliable.\", \"You're so bossy.\", \"You're so bossy.\", \"You're so close.\", \"You're so close.\", \"You're so picky.\", \"You're so picky.\", \"You're so smart.\", \"You're stalling.\", \"You're talented.\", 'Your cat is fat.', 'Your cat is fat.', \"Your fly's open.\", 'A bird has wings.', 'A cab is waiting.', 'A dog is barking.', 'A girl phoned me.', 'A wasp stung Tom.', 'Am I being fired?', 'Anyone can do it.', 'Are they in love?', 'Are they related?', 'Are they related?', 'Are those for me?', 'Are those for me?', 'Are those for me?', 'Are we done here?', 'Are we going far?', 'Are we going far?', 'Are we in danger?', 'Are you Japanese?', 'Are you Japanese?', 'Are you a golfer?', 'Are you a nudist?', 'Are you a parent?', 'Are you a priest?', 'Are you an idiot?', 'Are you blushing?', 'Are you doing OK?', 'Are you finished?', 'Are you going in?', 'Are you my enemy?', 'Are you new here?', 'Are you not done?', 'Are you not done?', 'Are you on board?', 'Are you on drugs?', 'Are you on leave?', 'Are you open now?', 'Are you sleeping?', 'Are you stressed?', 'Are you stressed?', 'Are you students?', 'Are you too cold?', 'Are you too warm?', 'Are you two busy?', 'Are you up there?', \"Aren't you tired?\", 'Be more specific.', 'Be there at noon.', 'Begin evacuating.', 'Birds have wings.', 'Bring it in, Tom.', 'Bring it on, Tom.', 'Bring me my cane.', 'Bring them to me.', 'Brush your teeth.', 'Brush your teeth.', 'Brush your teeth.', 'Call me sometime.', 'Call your father.', 'Can I be of help?', 'Can I get a beer?', 'Can I get up now?', 'Can I go surfing?', 'Can I have a hug?', 'Can I have three?', 'Can I have three?', 'Can I trust them?', 'Can Tom go first?', 'Can this be done?', 'Can this be true?', 'Can we bring Tom?', 'Can we come, too?', 'Can we go inside?', 'Can we help them?', 'Can we leave now?', 'Can we live here?', 'Can we talk here?', 'Can we trust you?', 'Can you catch me?', 'Can you find out?', 'Can you help Tom?', 'Can you prove it?', 'Can you save Tom?', 'Can you see that?', 'Can you see them?', 'Can you see them?', 'Can you speak up?', 'Can you stop Tom?', \"Can't you see it?\", \"Can't you see it?\", 'Cats sleep a lot.', 'Check your order.', 'Check your order.', 'Cherries are red.', 'Clean it up, Tom.', 'Climb to the top.', 'Close your mouth.', 'Come and help us.', 'Come on, move it.', 'Come out with us.', 'Come run with me.', 'Continue digging.', 'Continue working.', 'Control yourself.', 'Could it be true?', 'Did I invite you?', 'Did I write that?', 'Did Tom bite you?', 'Did Tom get hurt?', 'Did Tom get hurt?', 'Did Tom hit Mary?', 'Did Tom pay, too?', 'Did Tom push you?', 'Did Tom push you?', 'Did Tom say that?', 'Did Tom send you?', 'Did they find it?', 'Did they have it?', 'Did they say how?', 'Did they say how?', 'Did they say why?', 'Did they say why?', 'Did you bring it?', 'Did you buy corn?', 'Did you buy corn?', 'Did you buy them?', 'Did you find Tom?', 'Did you get lost?', 'Did you get that?', 'Did you get that?', 'Did you have fun?', 'Did you have fun?', 'Did you kill Tom?', 'Did you know Tom?', 'Did you meet him?', 'Did you pass out?', 'Did you sleep OK?', 'Did you tell Tom?', 'Did you warn Tom?', 'Do I get a prize?', 'Do I look normal?', 'Do I look stupid?', 'Do I look thirty?', 'Do I smell bacon?', 'Do I snore a lot?', 'Do as you please.', 'Do it again, Tom.', 'Do it once again.', 'Do what you like.', 'Do what you want.', 'Do you blame Tom?', 'Do you blame Tom?', 'Do you blame Tom?', 'Do you even care?', 'Do you follow me?', 'Do you have them?', 'Do you know them?', 'Do you know them?', 'Do you like golf?', 'Do you like snow?', 'Do you like snow?', 'Do you like them?', 'Do you like wine?', 'Do you live here?', 'Do you live here?', 'Do you mean that?', 'Do you need them?', 'Do you own a gun?', 'Do you play golf?', 'Do you read lips?', 'Do you sell wine?', 'Do you trust Tom?', 'Do you want fish?', 'Do you want kids?', 'Do you want more?', 'Do you want some?', 'Do you want soup?', 'Do you want soup?', 'Do you want them?', 'Do you work here?', 'Do your homework.', 'Does Tom have it?', 'Does Tom have it?', 'Does Tom like me?', \"Don't be selfish.\", \"Don't be so lazy.\", \"Don't drink that.\", \"Don't exaggerate.\", \"Don't forget Tom.\", \"Don't go so fast!\", \"Don't insult Tom.\", \"Don't lose heart.\", \"Don't mention it.\", \"Don't talk to me.\", \"Don't talk to me.\", 'Draw a line here.', 'Draw a line here.', 'Drop by sometime.', 'Dust the shelves.', 'Eat your veggies.', 'Everybody agrees.', 'Everybody groans.', 'Everybody laughs.', 'Everybody smiled.', 'Everybody stayed.', 'Everybody stayed.', 'Everybody waited.', \"Everybody's busy.\", \"Everybody's dead.\", 'Everyone escaped.', 'Everyone escaped.', \"Everyone's going.\", \"Everyone's quiet.\", \"Everyone's there.\", 'Evil always wins.', 'Evil always wins.', 'Fight like a man!', 'Fill up the tank.', 'Follow my advice.', 'Follow my advice.', 'Get in and drive.', 'Get in the truck.', 'Get me some wine.', 'Get me some, too.', 'Get off my porch.', 'Get on the floor.', 'Get to the point!', 'Get to work, Tom.', 'Give Tom a drink.', 'Give Tom the gun.', 'Give it a chance.', 'Give it a minute.', 'Give it a moment.', 'Give it a second.', 'Give me a choice.', 'Give me a holler.', 'Give me a minute.', 'Give me a moment.', 'Give me my money.', 'Give me one hour.', 'Give me one more.', 'Give me that gun.', 'Give me that gun.', 'Give me that key.', 'Give me the file.', 'Give me the wine.', 'Give me this hat.', 'Give me your arm.', 'Give this to Tom.', 'Give us a chance.', 'Give us a moment.', 'Give us a second.', 'Go on ahead, Tom.', 'Go on and say it.', 'Go on and say it.', 'Go straight home.', 'Go to sleep, Tom.', 'Go to the garage.', 'Grab an umbrella.', 'Grab me one, too.', 'Hand me a tissue.', 'Has Tom been fed?', 'Has someone died?', 'Have Tom call me.', 'Have a good life.', 'Have a good time.', 'Have a great day.', 'Have a great day.', 'Have a nice life.', 'Have a nice life.', 'Have a nice swim.', 'Have you met Tom?', 'Have you ordered?', 'Have you ordered?', 'Have you read it?', 'Have you two met?', 'He baked muffins.', 'He began running.', 'He behaved badly.', 'He broke his arm.', 'He broke the law.', 'He died suddenly.', 'He fascinated me.', 'He fell backward.', 'He found my bike.', 'He gave me a hug.', 'He had few teeth.', 'He has big hands.', 'He hates running.', 'He hates spiders.', 'He is an acrobat.', 'He is doing well.', 'He is her friend.', 'He is in trouble.', 'He is my brother.', 'He is past forty.', 'He is very young.', 'He likes animals.', 'He likes oranges.', 'He likes oranges.', 'He likes to swim.', 'He loves animals.', 'He loves singing.', 'He made no reply.', 'He must love you.', 'He played tennis.', 'He saw her video.', 'He slept all day.', 'He speaks Arabic.', 'He speaks French.', 'He took his time.', 'He turned around.', 'He wants an iPad.', 'He was born rich.', 'He was in France.', 'He was intrigued.', 'He wears glasses.', 'He wears glasses.', 'He works Sundays.', \"He's at her side.\", \"He's intelligent.\", \"He's not special.\", \"He's your friend.\", \"He's your friend.\", 'Here, try my pen.', 'Here, use my pen.', 'Hey, are you Tom?', 'Hey, who are you?', 'Hold on a moment.', 'Hold on a moment.', 'Hold that for me.', 'How about Friday?', 'How about a kiss?', 'How are the eggs?', 'How are we doing?', 'How are we doing?', 'How are we doing?', 'How are you guys?', 'How come you ask?', 'How did Tom know?', 'How did Tom look?', 'How did they die?', 'How did you know?', 'How do I do that?', 'How do I do this?', 'How do I respond?', 'How do they feel?', 'How do they know?', 'How do they look?', 'How does it look?', 'How does it work?', 'How embarrassing!', 'How is this fair?', 'How large was it?', 'How much is that?', 'How much is that?', 'How was it today?', 'How was it today?', 'How was the show?', 'How was the trip?', 'How was your nap?', \"How you've grown!\", 'I agree with Tom.', 'I already did it.', 'I also like cats.', 'I always do that.', 'I am a bit crazy.', 'I am a professor.', 'I am eating rice.', 'I am from Russia.', 'I am from Russia.', 'I am from Russia.', 'I am from Russia.', 'I am not a witch.', 'I am pretty sure.', 'I began the book.', 'I began the book.', 'I began to panic.', 'I begin tomorrow.', 'I bet Tom forgot.', 'I bet it was Tom.', 'I bought a horse.', 'I bought bananas.', 'I call the shots.', 'I came back home.', 'I came to say hi.', 'I came yesterday.', 'I came yesterday.', 'I can be patient.', 'I can carry that.', 'I can do it, too.', 'I can get you in.', 'I can handle Tom.', 'I can hardly see.', 'I can name names.', 'I can smell fear.', \"I can't budge it.\", \"I can't budge it.\", \"I can't help you.\", \"I can't stand it.\", 'I care about Tom.', 'I climbed a tree.', 'I could help Tom.', 'I could help you.', 'I could kill you.', 'I could kiss you.', \"I couldn't sleep.\", \"I couldn't speak.\", \"I couldn't stand.\", 'I did it for Tom.', \"I didn't hug Tom.\", 'I do my job well.', 'I do what I want.', 'I do what I want.', \"I don't know Tom.\", \"I don't know him.\", \"I don't like you.\", \"I don't remember.\", 'I drive a hybrid.', 'I drive a hybrid.', 'I failed my exam.', 'I fed the horses.', 'I feel confident.', 'I feel quite bad.', 'I feel so pretty.', 'I feel so stupid.', 'I feel very cold.', 'I fell backwards.', 'I felt so stupid.', 'I felt terrified.', 'I filled the cup.', 'I filled the cup.', 'I forgot the map.', 'I found my shoes.', 'I found my shoes.', 'I found somebody.', 'I found the keys.', 'I found this one.', 'I gave it a shot.', 'I gave my notice.', 'I get your drift.', 'I got a good one.', 'I got home first.', 'I got one for us.', 'I got paid today.', 'I had a hard day.', 'I had a hard day.', 'I had a headache.', 'I had to do that.', 'I had to go home.', 'I hate chemistry.', 'I hate my family.', 'I hate my sister.', 'I hate surprises.', 'I hate that idea.', 'I hate this game.', 'I hate this song.', 'I hate this song.', 'I hate your guts.', 'I have a comment.', 'I have a diploma.', 'I have a diploma.', 'I have a new car.', 'I have a toaster.', 'I have a trailer.', 'I have a witness.', 'I have been busy.', 'I have been busy.', 'I have blue eyes.', 'I have blue eyes.', 'I have good ears.', 'I have good eyes.', 'I have good news.', 'I have gray hair.', 'I have jury duty.', 'I have my limits.', 'I have my orders.', 'I have my things.', 'I have questions.', 'I have standards.', 'I have to cancel.', 'I have to cancel.', 'I have to change.', 'I have to go now.', 'I have to go now.', 'I have to go now.', 'I have to go out.', 'I have to try it.', 'I have your file.', 'I heard it on TV.', 'I heard the bell.', 'I hope I survive.', 'I hope Tom is OK.', 'I insist on that.', 'I just fired Tom.', 'I just fired Tom.', 'I just got fired.', 'I just opened it.', 'I keep a journal.', 'I keep a journal.', 'I kept to myself.', 'I knew the risks.', \"I know I'm wrong.\", 'I know that look.', 'I know that much.', 'I know that much.', 'I know that name.', 'I know that, Tom.', 'I know the drill.', 'I know the drill.', 'I know the owner.', 'I know the score.', 'I know you tried.', 'I know your face.', 'I left too early.', 'I like Saturdays.', 'I like Saturdays.', 'I like chocolate.', 'I like dogs, too.', 'I like green tea.', 'I like green tea.', 'I like junk food.', 'I like junk food.', 'I like languages.', 'I like my school.', 'I like my school.', 'I like this city.', 'I like this city.', 'I like traveling.', 'I like your hair.', 'I liked the idea.', 'I liked the idea.', 'I live in Europe.', 'I live next door.', 'I love astronomy.', 'I love cats, too.', 'I love my mother.', 'I love that song.', 'I love this part.', 'I love this part.', 'I love this part.', 'I love this town.', 'I love this town.', 'I love traveling.', 'I love your eyes.', 'I love your hair.', 'I loved the play.', 'I loved you once.', 'I made a snowman.', 'I made breakfast.', 'I make the rules.', 'I make you smile.', 'I may be elected.', 'I may not return.', 'I milked the cow.', 'I must leave now.', 'I must leave now.', 'I must leave you.', 'I need Tom alive.', 'I need a new one.', 'I need a red pen.', 'I need all of it.', 'I need an answer.', 'I need fresh air.', 'I need more help.', 'I need more time.', 'I need that tape.', 'I need the truth.', 'I need to see it.', 'I need to unwind.', 'I never liked it.', 'I never sleep in.', 'I often eat here.', 'I only need half.', 'I own this store.', 'I planted a tree.', 'I prefer to walk.', 'I read the label.', 'I really hate it.', 'I really mean it.', 'I really miss it.', 'I refuse to help.', 'I refuse to help.', 'I refuse to work.', 'I said ignore it.', 'I said ignore it.', 'I said stay here.', 'I said step away.', 'I said step away.', 'I saw Tom coming.', 'I saw everything.', 'I saw some smoke.', 'I saw the doctor.', 'I saw you crying.', 'I shot the horse.', 'I should sue Tom.', 'I spoke in class.', 'I still like Tom.', 'I still like you.', 'I still miss Tom.', 'I stopped eating.', 'I swim every day.', 'I think Tom left.', 'I took the money.', 'I took the photo.', 'I truly doubt it.', 'I truly hope not.', 'I want a raccoon.', 'I want a scooter.', 'I want more food.', 'I want more milk.', 'I want to travel.', 'I was a stranger.', 'I was born there.', 'I was born there.', 'I was just lucky.', 'I was just tired.', 'I was quite busy.', 'I was so nervous.', 'I was unprepared.', 'I was very happy.', 'I was very happy.', 'I was wide awake.', 'I washed the car.', \"I won't be quiet.\", \"I won't need you.\", \"I won't need you.\", 'I worked for Tom.', \"I wouldn't do it.\", \"I'd better leave.\", \"I'd have said no.\", \"I'd like a raise.\", \"I'd like to help.\", \"I'll be at Tom's.\", \"I'll be at Tom's.\", \"I'll be punished.\", \"I'll check again.\", \"I'll get it back.\", \"I'll get my coat.\", \"I'll get my coat.\", \"I'll get my coat.\", \"I'll get my coat.\", \"I'll get my coat.\", \"I'll get my coat.\", \"I'll get my keys.\", \"I'll get my keys.\", \"I'll get my keys.\", \"I'll get my keys.\", \"I'll get over it.\", \"I'll get over it.\", \"I'll get the car.\", \"I'll get the car.\", \"I'll go get some.\", \"I'll go get that.\", \"I'll go in first.\", \"I'll go shopping.\", \"I'll go shopping.\", \"I'll go this way.\", \"I'll go with Tom.\", \"I'll go with you.\", \"I'll go with you.\", \"I'll go with you.\", \"I'll handle this.\", \"I'll handle this.\", \"I'll handle this.\", \"I'll pick Tom up.\", \"I'll pick Tom up.\", \"I'll pick Tom up.\", \"I'll talk to Tom.\", \"I'll talk to Tom.\", \"I'll talk to Tom.\", \"I'll try my best.\", \"I'll wait a week.\", \"I'm Tom's friend.\", \"I'm a bad father.\", \"I'm a bit hungry.\", \"I'm a journalist.\", \"I'm a politician.\", \"I'm a vegetarian.\", \"I'm already rich.\", \"I'm always tired.\", \"I'm an insomniac.\", \"I'm an old woman.\", \"I'm busy tonight.\", \"I'm glad to help.\", \"I'm going to try.\", \"I'm going to try.\", \"I'm in the attic.\", \"I'm in the attic.\", \"I'm nearly blind.\", \"I'm not a beggar.\", \"I'm not a doctor.\", \"I'm not creative.\", \"I'm not so happy.\", \"I'm not so tired.\", \"I'm on your side.\", \"I'm proud of you.\", \"I'm retired, too.\", \"I'm sick of this.\", \"I'm sick of this.\", \"I'm sort of busy.\", \"I'm staying here.\", \"I'm the chairman.\", \"I'm very thirsty.\", \"I'm your brother.\", \"I'm your brother.\", \"I've drawn a map.\", \"I've got company.\", \"I've got to know.\", \"I've got to quit.\", \"I've got to stay.\", \"I've lost my pen.\", \"I've never voted.\", 'Is Tom confident?', 'Is Tom out there?', 'Is Tom there yet?', 'Is it contagious?', 'Is somebody here?', 'Is that too hard?', 'Is your car fast?', 'Is your car fast?', 'It costs 2 euros.', 'It costs 2 euros.', 'It is your right.', \"It isn't a virus.\", 'It made me laugh.', 'It may rain soon.', 'It sure is dirty.', 'It sure is dirty.', 'It was dangerous.', 'It was difficult.', \"It wasn't a race.\", \"It'll have to do.\", \"It'll have to do.\", \"It's April first.\", \"It's April first.\", \"It's a bad habit.\", \"It's a bike pump.\", \"It's a nightmare.\", \"It's a pineapple.\", \"It's all we have.\", \"It's all we have.\", \"It's comfortable.\", \"It's comfortable.\", \"It's foggy today.\", \"It's interesting.\", \"It's laundry day.\", \"It's monkey meat.\", \"It's my decision.\", \"It's my decision.\", \"It's my pleasure.\", \"It's not a bribe.\", \"It's not a crime.\", \"It's not a dream.\", \"It's not a trick.\", \"It's not a virus.\", \"It's not for you.\", \"It's not for you.\", \"It's not for you.\", \"It's not for you.\", \"It's not from me.\", \"It's not from me.\", \"It's only a book.\", \"It's our destiny.\", \"It's rather cold.\", \"It's second-hand.\", \"It's second-hand.\", \"It's worth a try.\", 'Just do as I say.', 'Keep under cover.', 'Let go of my son.', \"Let's eat cereal.\", 'Light the candle.', 'Listen carefully.', 'Lower your voice.', 'Mail this letter.', 'Make your choice.', 'Mars is a planet.', 'May I feel these?', 'May I open a can?', 'Men love to brag.', 'My car is German.', 'My dog has fleas.', 'My ears are cold.', 'My eyes are blue.', 'My eyes are sore.', 'My father is out.', 'My father smokes.', 'My feet are sore.', 'My glass is full.', \"My gun's missing.\", 'My head is itchy.', 'My inbox is full.', 'My keys are gone.', 'My leg hurts now.', 'My leg hurts now.', 'My leg is broken.', 'My nose is itchy.', 'My socks are wet.', 'My time has come.', 'My wife beats me.', 'No one can leave.', 'Nobody warned me.', 'Now I feel tired.', 'Now come with me.', 'Now give it back.', 'Now give me that.', 'Now give me that.', 'Now go on inside.', \"Now it's my turn.\", 'Now let me think.', 'Now look at this.', 'Open the jam jar.', 'Pass me the salt.', 'Please pull over.', 'Put the gun away.', 'Read the reviews.', 'Red wine, please.', 'School is boring.', 'School is boring.', 'See you tomorrow.', 'She despises him.', 'She died in 1960.', 'She likes to run.', 'She lives nearby.', 'She may not come.', 'Show me the list.', 'So what happened?', 'Somebody laughed.', 'Spiders scare me.', 'Stay close to me.', 'Stop teasing Tom.', 'Stop the car now!', 'Stop writing now.', 'Take care of Tom.', 'Tell Tom to wait.', \"That's a big one.\", \"That's a big one.\", \"That's a mistake.\", \"That's a mistake.\", \"That's debatable.\", \"That's expensive.\", \"That's important.\", \"That's incurable.\", \"That's my secret.\", \"That's my secret.\", \"That's not cheap.\", \"That's state law.\", \"That's the point.\", \"That's the point.\", \"That's unrelated.\", \"That's unrelated.\", \"That's wonderful!\", \"That's wonderful!\", \"That's wonderful!\", 'The bill, please.', 'The book is mine.', 'The bus was full.', 'The car is ready.', 'The dog is dying.', 'The dog is smart.', 'The jar is empty.', 'The jury is hung.', 'The mirror broke.', 'The nail is bent.', 'The nail is bent.', 'The pot was mine.', 'The pot was mine.', 'The pot was mine.', 'The pot was mine.', 'The pot was mine.', 'The pot was mine.', 'The pot was mine.', 'The towel is dry.', 'The water is hot.', 'They disappeared.', 'They live nearby.', 'They live nearby.', 'They shook hands.', 'They shook hands.', 'They thanked God.', 'They were crying.', 'They were heroes.', \"They're dreadful.\", \"They're dreadful.\", \"They're laughing.\", \"They're not busy.\", \"They're not evil.\", \"They're stalling.\", \"They're stalling.\", \"They're stalling.\", \"They're stalling.\", \"They're the same.\", 'This boy is lazy.', 'This dog is mine.', 'This fish is big.', 'This fish is big.', 'This is a flower.', 'This is an order.', 'This is evidence.', 'This is my horse.', 'This is my horse.', 'This is my house.', 'This is not true.', 'This is raw meat.', 'This is raw meat.', 'This is red wine.', 'This is standard.', 'This is too hard.', \"This isn't paper.\", \"This isn't paper.\", \"This isn't right.\", \"This isn't right.\", \"This isn't right.\", \"This isn't right.\", 'This will be fun.', 'Tom answered yes.', 'Tom ate his fill.', 'Tom ate his fill.', 'Tom bought a dog.', 'Tom bounced back.', 'Tom bullied Mary.', 'Tom came to help.', 'Tom can hear you.', 'Tom can hear you.', \"Tom can't refuse.\", \"Tom can't refuse.\", \"Tom can't refuse.\", 'Tom climbed down.', 'Tom contacted me.', \"Tom doesn't know.\", 'Tom explained it.', 'Tom forgives you.', 'Tom forgives you.', 'Tom glanced down.', 'Tom got arrested.', 'Tom got confused.', 'Tom got run over.', 'Tom got very mad.', 'Tom got very mad.', 'Tom has a tattoo.', 'Tom has ambition.', 'Tom has ambition.', 'Tom has ambition.', 'Tom has ambition.', 'Tom has balloons.', 'Tom has big ears.', 'Tom has children.', 'Tom has diabetes.', 'Tom has freckles.', 'Tom has immunity.', 'Tom has immunity.', 'Tom has to do it.', 'Tom has two DUIs.', 'Tom hated school.', 'Tom hated school.', 'Tom hates French.', 'Tom hates olives.', 'Tom hates olives.', 'Tom helped a lot.', 'Tom is a beatnik.', 'Tom is a bit shy.', 'Tom is a hipster.', 'Tom is a plumber.', 'Tom is a regular.', 'Tom is a regular.', 'Tom is a regular.', 'Tom is ambitious.', 'Tom is an orphan.', 'Tom is an orphan.', 'Tom is bedridden.', 'Tom is committed.', 'Tom is competent.', 'Tom is competent.', 'Tom is concerned.', 'Tom is confident.', 'Tom is confident.', 'Tom is contented.', 'Tom is contented.', 'Tom is courteous.', 'Tom is courteous.', 'Tom is delighted.', 'Tom is depressed.', 'Tom is desperate.', 'Tom is dishonest.', 'Tom is effective.', 'Tom is impressed.', 'Tom is in a coma.', 'Tom is miserable.', 'Tom is miserable.', 'Tom is miserable.', 'Tom is my nephew.', 'Tom is my nephew.', 'Tom is negligent.', 'Tom is no killer.', 'Tom is no killer.', 'Tom is obstinate.']\n",
      "['Gå.', 'Spring!', 'Spring.', 'Vem?', 'Ducka!', 'Hjälp!', 'Göm dig.', 'Hoppa!', 'Hoppa.', 'Stanna!', 'Vänta!', 'Vänta.', 'Hej!', 'Skynda dig!', 'Skynda!', 'Skynda på!', 'Jag sprang.', 'Jag förstår.', 'Jag ser.', 'Jag vann!', 'Slappna av.', 'Skjut!', 'Le.', 'Förlåt?', 'Anfall!', 'Skål!', 'Han sprang.', 'Ge mig en kram.', 'Jag bryr mig.', 'Jag föll.', 'Jag stickar.', 'Jag sjöng.', 'Jag simmar.', 'Aldrig i livet!', 'Är det sant?', 'Jaså?', 'Tackar!', 'Tack.', 'Vi försöker.', 'Fråga Tom.', 'Suveränt!', 'Ta det lugnt.', 'Var vänlig.', 'Var snäll.', 'Var trevlig.', 'Stig in.', 'Kom igen.', 'Släpp det!', 'Hämta Tom.', 'Ut med dig!', 'Ut med er!', 'Gå din väg!', 'Gå iväg.', 'Han springer.', 'Hjälp mig.', 'Krama Tom.', 'Jag håller med.', 'Jag instämmer.', 'Jag grät.', 'Jag svor.', 'Jag försökte.', 'Jag vinkade.', 'Det är okej.', 'Kyss mig.', 'Jag också.', 'Perfekt!', 'Vi ses.', 'Visa mig.', 'Käften!', 'Lägg av!', 'Berätta för mig.', 'Vakna!', 'Tvätta dig.', 'Vi förlorade.', 'Sluta!', 'Lägg av!', 'Var still.', 'Stilla.', 'Kan jag gå?', 'Ryck upp dig!', 'Ryck upp er!', 'Kör vidare.', 'Hitta Tom.', 'Fixa det här.', 'Laga den här.', 'Stick!', 'Gå din väg!', 'Försvinn!', 'Ducka.', 'Stick!', 'Försvinn!', 'Fortsätt in.', 'Hugg tag i Tom.', 'Ha det så roligt.', 'Han försöker.', 'Hur djup?', 'Hur djupt?', 'Blidka mig.', 'Gör mig till viljes.', 'Skynda dig!', 'Skynda!', 'Jag glömde.', 'Jag förstår.', 'Jag hoppade.', 'Jag nickade.', 'Jag bad.', 'Jag rakade mig.', 'Jag suckade.', 'Jag log.', 'Jag stannade kvar.', 'Jag blev kvar.', 'Jag använder det.', 'Jag betalar.', 'Jag är tillbaka.', 'Jag är upptagen.', 'Jag fryser.', 'Jag är döv.', 'Det är okej med mig.', 'Jag är ledig.', 'Jag är fri.', 'Jag är mätt.', 'Jag är hemma.', 'Jag är sen.', 'Jag är nästa.', 'Jag är närmast i tur.', 'Jag är lång.', 'Jag är varm.', 'Det hjälper.', 'Det gör ont.', 'Det är Tom.', 'Det är roligt.', 'Det är kul.', 'Det är skoj.', 'Det är skojigt.', 'Håll dig borta.', 'Håll er borta.', 'Kyss Tom.', 'Låt det vara.', 'Låt den vara.', 'Lämna mig.', 'Lämna oss.', 'Gift dig med mig.', 'Kan jag gå?', 'Får jag gå?', 'Hon dog.', 'Tala högre!', 'Prata högre!', 'Var beredd.', 'Håll dig redo.', 'Håll dig i närheten.', 'Stå upp.', 'Ställ dig upp!', 'Ställ er upp!', 'Stanna kvar här.', 'Stanna kvar.', 'Sitt kvar.', 'Stå kvar.', 'Ligg kvar.', 'Tom ljuger.', 'Tom spottade.', 'Tom grät.', 'Tom är uppe.', 'Lita på mig!', 'Använd den här.', 'Använd det här.', 'Använd denna.', 'Använd detta.', 'Använd den här!', 'Varna Tom.', 'Se på mig.', 'Titta på oss.', 'Se på oss.', 'Varför då?', 'Vem dog?', 'Vem har dött?', 'Vem slutade?', 'Vem är han?', 'Skriv till mig.', 'Sikta. Skjut!', 'Svara.', 'Be om ursäkt.', 'Sätt er.', 'Sätt dig.', 'Fåglar flyger.', 'Gud välsigne dig.', 'Lugna ner dig!', 'Lugna ner dig.', 'Lugna ner er.', 'Kom tillbaka!', 'Lugna dig.', 'Gör det nu.', 'Gråt inte.', 'Dö inte.', 'Ljug inte.', 'Spring inte!', 'Ursäkta mig.', 'Fantastiskt!', 'Vik här.', 'Följ mig.', 'Följ med mig.', 'Följ efter mig.', 'Följ oss.', 'Följ med oss.', 'Följ efter oss.', 'Glöm det.', 'God natt.', 'Ta tag i den där.', 'Ta lite.', 'Han rakade sig.', 'Han är dj.', 'Han är snabb.', 'Han är rik.', 'Han är sexig.', 'Jag fryser.', 'Jag är kall.', 'Jag är lång.', 'Jag kan springa.', 'Jag kan åka skidor.', 'Jag hostade.', 'Jag svimmade.', 'Jag ger upp.', 'Jag träffades.', 'Jag blev träffad.', 'Jag hade roligt.', 'Jag skyndade mig.', 'Jag älskar det.', 'Jag lovar.', 'Jag såg en.', 'Jag såg ett.', 'Jag halkade.', 'Jag svettades.', 'Jag vaknade.', 'Jag ska ringa.', 'Jag ringer.', 'Jag lagar mat.', 'Jag fixar maten.', 'Jag överlever.', 'Jag överlever nog.', 'Jag är arg.', 'Jag är vaken.', 'Jag har tråkigt.', 'Jag är pank.', 'Jag är lycklig.', 'Jag är tyst.', 'Jag är tystlåten.', 'Jag är redo!', 'Jag är färdig!', 'Jag är klar!', 'Jag har rätt.', 'Jag är kort.', 'Jag är smart.', 'Jag är nykter.', 'Förlåt.', 'Jag sitter fast.', 'Jag har fastnat.', 'Jag har kört fast.', 'Jag är trött.', 'Jag är upprörd.', 'Jag är ung.', 'Är det illa?', 'Det snöade.', 'Klockan är 9.15.', 'Den är sval.', 'Den är cool.', 'Det är mörkt.', 'Det är rättvist.', 'Det är okej.', 'Det är gratis.', 'Det är bra.', 'Den är bra.', 'Det är gott.', 'Den är god.', 'Det är svårt.', 'Det är hårt.', 'Det är tufft.', 'Den är här.', 'Den har kommit.', 'Här är den.', 'Den är enorm.', 'Den är jättestor.', 'Det är jättestort.', 'Det är enormt.', 'Det är kärlek.', 'Det är mitt.', 'Den är min.', 'Det är okej.', 'Den är vår.', 'Det är vårt.', 'Den är äkta.', 'Det är äkta.', 'Den är verklig.', 'Det är sand.', 'Det är dags.', 'Tiden är inne.', 'Det är sant.', 'Det är sant.', 'Håll dig nere.', 'Håll er nere.', 'Behåll dem.', 'Behåll den här.', 'Behåll det här.', 'Håll dig varm.', 'Håll er varma.', 'Släpp det.', 'Låt mig gå!', 'Släpp in mig.', 'Vi försöker.', 'Titta bort.', 'Flytta på dig.', 'Självklart!', 'Självfallet!', 'Självklart.', 'Öppna eld!', 'Se nedan.', 'Allvarligt?', 'Seriöst?', 'Hon är het.', 'Sitt stilla.', 'Sitt still.', 'Håll dig borta.', 'Håll er borta.', 'Behåll lugnet.', 'Stanna här.', 'Sluta med det där.', 'Sluta upp med det där.', 'Ta min.', 'Ta mitt.', 'Tag min.', 'Tag mitt.', 'Tack.', 'Det är okej.', 'Det är lugnt.', 'Sen då?', 'Sedan då?', 'De ljög.', 'De simmade.', 'Tänk stort.', 'Tom grät.', 'Tom dök.', 'Tom simmar.', 'Tom svor.', 'Tom vinkade.', 'Tom är tjock.', 'Tom är fet.', 'Tom är arg.', 'Tom är ledsen.', 'Tom är blyg.', 'Försök igen.', 'Prova det!', 'Sväng vänster.', 'Vi misslyckades.', 'Vi glömde.', 'Vi väntade.', 'Vi gäspade.', 'Vi får se.', 'Vi kommer att vinna.', 'Vi har vunnit!', 'Hur är läget?', 'Vad händer?', 'Vem är han?', 'Vem vet?', 'Vem är hon?', 'Underbart!', 'Din idiot!', 'Du luktar.', 'Har jag fel?', 'Mår du bra?', 'Var belåten.', 'Kom i tid.', 'Var tålmodig.', 'Ha tålamod.', 'Var tålmodiga.', 'Var allvarlig.', 'Fåglar sjunger.', 'Hämta mat.', 'Hämta hjälp.', 'Gå och hämta hjälp.', 'Gå och hämta vin.', 'Hämta vin.', 'Får jag hjälpa?', 'Bär den här.', 'Kolla det där.', 'Kolla det här.', 'Kom ensam.', 'Kom beväpnad.', 'Kom beväpnade.', 'Självfallet!', 'Absolut!', 'Ovillkorligen!', 'Definitivt!', 'Gör det snart.', 'Hoppa inte!', 'Titta inte.', 'Rör er inte!', 'Rör dig inte!', 'Knuffas inte.', 'Sjung inte.', 'Stanna inte.', 'Prata inte!', 'Tala inte.', 'Vänta inte.', 'Skrik inte.', 'Plikten kallar.', 'Ät långsamt.', 'Ät sakta.', 'Undersök det.', 'Gå igenom den.', 'Granska den.', 'Eld bränner.', 'Följ Tom.', 'Följ efter Tom.', 'Glöm Tom.', 'Glöm honom.', 'Förlåt oss.', 'Skaffa dig ett liv.', 'Låt mig vara.', 'Rör mig inte.', 'Låt bli mig.', 'Gå och tvätta dig!', 'Gud finns.', 'Gud existerar.', 'God natt.', 'Han lade på.', 'Han la på.', 'Han är här!', 'Han är snäll.', 'Han är vänlig.', 'Han är lat.', 'Han är fattig.', 'Han skrattade.', 'Han klarade det.', 'Han hann.', 'Han reagerade.', 'Han är schweizare.', 'Han ljuger.', 'Han är smart.', 'Han är intelligent.', 'Se så.', 'Du, slappna av.', 'Vad smart!', 'Så tragiskt!', 'Skynda dig tillbaka.', 'Skynda dig hem.', 'Jag har rätt.', 'Jag är kort.', 'Jag är smart.', 'Jag kan stanna.', 'Jag får stanna.', 'Jag kan simma.', 'Jag kan vänta.', 'Jag tuggar tuggummi.', 'Det tvivlar jag på.', 'Jag tvivlar på det.', 'Jag äter här.', 'Jag äter ris.', 'Jag känner mig vältränad.', 'Jag känner mig ledsen.', 'Jag hatar annonser.', 'Jag hatar dig.', 'Jag känner henne.', 'Jag känner honom.', 'Jag gillar honom.', 'Jag gillar paj.', 'Jag tycker om paj.', 'Jag gillar te.', 'Jag tycker om te.', 'Jag tycker om dig.', 'Jag tycker om er.', 'Jag gillar dig.', 'Jag gillar er.', 'Jag älskar henne.', 'Jag älskar honom.', 'Jag älskar dig.', 'Jag älskar dej.', 'Jag saknar dig.', 'Jag saknar er.', 'Jag måste springa.', 'Jag behöver is.', 'Jag behöver dig.', 'Jag behöver er.', 'Jag fick panik.', 'Jag lovade.', 'Jag minns.', 'Jag kommer ihåg.', 'Jag överlevde.', 'Jag tror det.', 'Jag var rättvis.', 'Jag var svag.', 'Jag ska kolla.', 'Jag fixar det.', 'Jag ska göra det.', 'Jag gör det.', 'Jag kommer att göra det.', 'Jag är en hjälte.', 'Jag kommer.', 'Jag är ärlig.', 'Jag är hungrig.', 'Jag är utvilad.', 'Jag är rädd.', 'Jag är längre.', 'Är Tom arg?', 'Är Tom galen?', 'Är han upptagen?', 'Är han lång?', 'Är den blå?', 'Är det blått?', 'Är det gratis?', 'Är det kärlek?', 'Är det dags?', 'Är tiden inne?', 'Är det sant?', 'Är det sant?', 'Jaså!', 'Det händer.', 'Det kommer att fungera.', 'Det är en räv.', 'Det är tomt.', 'Det är blankt.', 'Det står stilla.', 'Det är uppfattat.', 'Det är tydligt.', 'Det är uppenbart.', 'Den är tom.', 'Det är tomt.', 'Det är min cd-skiva.', 'Det är min cd.', 'Jag bjuder.', 'Det är säkrare.', 'Det är läskigt.', 'Den är läskig.', 'Den glänser.', 'Den sitter fast.', 'Det sitter fast.', 'Där är den.', 'Det är där.', 'Den är där.', 'Gör det bara.', 'Ta anteckningar.', 'Håll still.', 'Släpp honom!', 'Låt den torka.', 'Låt det torka.', 'Släpp ut mig!', 'Låt mig betala.', 'Låt mig se.', 'Låt mig vinna.', 'Ryck upp dig.', 'Titta på mig.', 'Kärlek gör ont.', 'Bry dig inte om det!', 'Ingen kommentar.', 'Inga kommentarer.', 'Inga problem!', 'In med dig nu.', 'Kom in nu.', 'Ännu en gång.', 'Varsågoda och sitt.', 'Skynda dig!', 'Spring för livet!', 'Säg: ”är du snäll”.', 'Säg: ”får jag be”.', 'Säg: ”är du vänlig”.', 'Hon log.', 'Hon är upptagen.', 'Sjung med.', 'Stanna där.', 'Kliv åt sidan.', 'Skynda dig!', 'Ta en buss.', 'Ta skydd!', 'Prata med mig!', 'Det är Tom.', 'Det är sorgligt.', 'Det är trist.', 'De sov.', 'De stod.', 'De försökte.', 'De röstade.', 'Tiden flyger.', 'Tiden rusar.', 'Tiden är ute.', 'Tom bromsade.', 'Tom rapade.', 'Tom fuskar.', 'Tom kör.', 'Tom steg upp.', 'Tom slog mig.', 'Tom är ute.', 'Tom nickade.', 'Tom ringde.', 'Tom ler.', 'Tom blinkade.', 'Tom betalar nog.', 'Tom är död.', 'Tom är döv.', 'Tom har dött.', 'Tom är snabb.', 'Tom är fri.', 'Tom är ledig.', 'Tom är glad.', 'Tom är borta.', 'Tom har åkt.', 'Tom har gått.', 'Tom är här.', 'Tom är hemma.', 'Tom är skadad.', 'Tom har åkt.', 'Tom är elak.', 'Tom är snål.', 'Tom är säker.', 'Tom är i säkerhet.', 'Tom är trygg.', 'Tom är utom fara.', 'Tom är sjuk.', 'Tom är svag.', 'Sväng höger.', 'Vänta ett tag.', 'Titta på det här.', 'Kolla på det här.', 'Vi är män.', 'Vi hade kul.', 'Vi är pojkar.', 'Vi är döva.', 'Vi är här.', 'Vi är sjuka.', 'Vad är nytt?', 'Var är jag?', 'Vem är hon?', 'Vem såg mig?', 'Trä brinner.', 'Du lyckades!', 'Du kan gå.', 'Du är gammal.', 'Ni är gamla.', 'Om jag är hungrig!', 'Är jag dum?', 'Är du galen?', 'Är du arg?', 'Är ni arga?', 'Är du ny?', 'Är du ledsen?', 'Var kreativ.', 'Var kreativa.', 'Var diskret.', 'Var diskreta.', 'Var vänlig.', 'Var vänliga.', 'Var generös.', 'Var generösa.', 'Var nådig.', 'Var redo.', 'Var punktlig.', 'Var punktliga.', 'Var hänsynslös.', 'Var hänsynslösa.', 'Var förnuftig.', 'Var specifik.', 'Var tydlig.', 'Var tolerant.', 'Var toleranta.', 'Var vaksam.', 'Var vaksamma.', 'Var på din vakt.', 'Var på er vakt.', 'Öl är gott.', 'Kan du ro?', 'Kolla en gång till.', 'Kom ombord.', 'Kom närmare.', 'Kom in.', 'Trösta Tom.', 'Kontakta Tom.', 'Ta kontakt med Tom.', 'Vann du?', 'Vann ni?', 'Gör det igen!', 'Gör det igen.', 'Gör det senare.', 'Gör det rätt.', 'Inga men.', 'Fuska inte.', 'Gör det inte!', 'Gör det inte.', 'Gör inte det.', 'Slåss inte.', 'Glo inte.', 'Gå inte.', 'Skjut inte!', 'Le inte.', 'Tala inte.', 'Prata inte.', 'Stå inte.', 'Stirra inte.', 'Oroa dig inte.', 'Följ dem.', 'Följ efter dem.', 'Hämta en kniv.', 'Skaffa en kniv.', 'Fixa en kniv.', 'Byt om.', 'Byt kläder.', 'Klä på dig.', 'Klä på er.', 'Gå och hämta hjälp.', 'Gå med Tom.', 'Följ med Tom.', 'Han får komma.', 'Han kan läsa.', 'Han kan simma.', 'Han hittade det.', 'Han hittade den.', 'Han insisterade.', 'Han är ensam.', 'Han är hatad.', 'Han ljuger.', 'Han älskar mig.', 'Han blev skadad.', 'Han blev sårad.', 'Han är en lögnare.', 'Han låtsas.', 'Han är min son.', 'Han är stark.', 'Här är hon!', 'Hur är läget?', 'Hur är det?', 'Hur mår du?', 'Jag gick också.', 'Jag kommer.', 'Jag är online.', 'Jag är längre.', 'Jag antar det.', 'Jag kan köra.', 'Jag kan inte äta.', 'Jag kan inte sy.', 'Jag grävde en grop.', 'Jag äter ensam.', 'Jag äter frukt.', 'Jag hittade dig.', 'Jag fick ett jobb.', 'Jag skaffade mig ett jobb.', 'Jag fastnade.', 'Jag blev trött.', 'Jag hade en katt.', 'Jag hatar öl.', 'Jag hatar hattar.', 'Jag hatar möss.', 'Jag hatar mjölk.', 'Jag hatar arbete.', 'Jag har nyheter.', 'Jag hörde dig.', 'Jag hörde er.', 'Jag gillar båda.', 'Jag gillar tårta.', 'Jag tycker om tårta.', 'Jag gillar katter.', 'Jag tycker om katter.', 'Jag tycker om barn.', 'Jag gillar hundar.', 'Jag gillar jazz.', 'Jag gillar matte.', 'Jag gillar det här.', 'Jag gillar vin.', 'Jag tycker om vin.', 'Jag bor här.', 'Jag älskar Mary.', 'Jag älskar öl.', 'Jag älskar rock.', 'Jag älskar snö.', 'Jag älskar dem.', 'Jag älskade henne.', 'Jag måste gömma mig', 'Jag gråter aldrig.', 'Jag försov mig.', 'Jag hämtade mig.', 'Jag ordnade det.', 'Jag ser en låda.', 'Jag säljer bilar.', 'Jag tackar dig.', 'Jag tackar er.', 'Jag litar på dig.', 'Jag litar på er.', 'Jag vill ha ris.', 'Jag vill ha vin.', 'Jag var arg.', 'Jag blev avskedad.', 'Jag hade tur.', 'Jag var naiv.', 'Jag var där.', 'Jag var trött.', 'Jag arbetar här.', 'Jag jobbar här.', 'Jag ska byta om.', 'Jag klarar mig.', 'Jag hämtar den.', 'Jag hämtar det.', 'Jag är vegan.', 'Jag är hemma.', 'Jag är säker.', 'Jag är nyfiken.', 'Jag är ursinnig.', 'Jag är rasande.', 'Jag är vid god hälsa.', 'Jag är frisk.', 'Jag är gift.', 'Jag ber.', 'Jag läser.', 'Jag håller på och läser.', 'Jag är seriös.', 'Jag är allvarlig.', 'Jag menar allvar.', 'Jag är så mätt.', 'Jag är utsvulten.', 'Jag retas.', 'Jag är lagen.', 'Jag är törstig.', 'Jag är rörd.', 'Jag vinner.', 'Är Tom näst i tur?', 'Är det en räv?', 'Är det dimmigt?', 'Är det lagligt?', 'Är den vit?', 'Är det vitt?', 'Är hon trevlig?', 'Är det där Tom?', 'Det hände.', 'Det kommer kanske att göra ont.', 'Det kan komma att göra ont.', 'Det är måndag.', 'Det är ett skämt.', 'Det är molnigt.', 'Det är meningslöst.', 'Den är låst.', 'Det är mitt jobb.', 'Det är mitt arbete.', 'Det är normalt.', 'Det är vanligt.', 'In med dig bara.', 'Låt mig hjälpa till.', 'Låt mig leva.', 'Livet är roligt.', 'Lunchen är klar.', 'Lunchen är färdig.', 'Får jag röka?', 'Lär dig det utantill.', 'Min hund dog.', 'Ingen kom.', 'Snälla kom.', 'Snälla sluta!', 'Var vänlig vänta.', 'Ställ tillbaka den.', 'Kom ihåg det.', 'Säg ingenting.', 'Skaka hand.', 'Hon bet honom.', 'Hon slog honom.', 'Hon slog till honom.', 'Hon gav honom ett slag.', 'Hon är död.', 'Hon är snäll.', 'Hon är lat.', 'Hon halkade.', 'Stå still!', 'Stå stilla!', 'Stanna inomhus.', 'Kämpa på!', 'Rör dig inte.', 'Sluta försöka.', 'Tag min bil.', 'Ta min bil.', 'Tala långsammare.', 'Tala långsamt.', 'Tack, Tom.', 'Det är okej.', 'Det där är okej.', 'Det är gratis.', 'Det är bra.', 'Sånt är livet.', 'Sådant är livet.', 'Det är mitt.', 'Det är okej.', 'Det är sant.', 'Tv:n är på.', 'De ringde.', 'De dansade.', 'De kysste varandra.', 'De kysstes.', 'De lydde.', 'De log.', 'De väntade.', 'De är gamla.', 'Det här är dåligt.', 'Tom blinkade.', 'Tom kan sy.', 'Tom hostade.', 'Tom svimmade.', 'Tom fnissade.', 'Tom blev stor.', 'Tom blev biten.', 'Tom är tillbaka.', 'Tom är flintskallig.', 'Tom är död.', 'Tom är döv.', 'Tom är rättvis.', 'Tom är snabb.', 'Tom är fri.', 'Tom är mätt.', 'Tom är här.', 'Tom är elak.', 'Tom är snål.', 'Tom är fattig.', 'Tom är i säkerhet.', 'Tom är lång.', 'Tom är svag.', 'Tom klarade sig.', 'Tom lyckades.', 'Tom gjorde den.', 'Tom gjorde det.', 'Tom målade.', 'Tom såg henne.', 'Tom ropade.', 'Tom halkade.', 'Tom undervisar.', 'Tom kräktes.', 'Tom var stor.', 'Tom ringer nog.', 'Tom kommer nog.', 'Tom hjälper nog till.', 'Tom överlever.', 'Tom överlever nog.', 'Tom tänker sluta.', 'Tom stannar nog.', 'Tom väntar nog.', 'Tom är alert.', 'Tom är på alerten.', 'Tom är uppmärksam.', 'Tom är snabb i vändningarna.', 'Tom är vid liv.', 'Tom är allena.', 'Tom är för sig själv.', 'Tom är arg.', 'Tom är vaken.', 'Tom är uttråkad.', 'Tom är tokig.', 'Tom är galen.', 'Tom är full.', 'Tom dör.', 'Tom är tidig.', 'Tom är stollig.', 'Tom är hispig.', 'Tom är knäpp.', 'Tom är rolig.', 'Tom har tur.', 'Tom är lyckligt lottad.', 'Tom ljuger.', 'Tom är framfusig.', 'Tom är framåt.', 'Tom har rätt.', 'Tom är smart.', 'Tom är trött.', 'Tom har fel.', 'Tom är ung.', 'Stäng av den.', 'Vänta på mig!', 'Hade jag fel?', 'Vinka till Tom.', 'Vi är här.', 'Vi är sjuka.', 'Vi åt ägg.', 'Vi gjorde slut.', 'Vi hjälper Tom.', 'Vi behöver dig.', 'Vi lovade.', 'Vi överlevde.', 'Vi är döende.', 'Vi ska åka.', 'Vi ska gå.', 'Vi åker.', 'Vi går.', 'Vi är färdiga.', 'Vi är klara.', 'Vi är redo.', 'Vad är nytt?', 'Vad kommer härnäst?', 'Vad ska ske nu?', 'Vad händer nu?', 'Vad är detta?', 'Var är han?', 'Vem flydde?', 'Vem går först?', 'Vem är först i tur?', 'Vem står först i tur?', 'Arbeta långsamt.', 'Du gjorde mig illa.', 'Du sårade mig.', 'Du sårar mig.', 'Du gör mig illa.', 'Du är här.', 'Du är sen.', 'Du är inte i tid.', 'Du är lat.', 'Ni är lata.', 'Du är högljudd.', 'Ni är högljudda.', 'Du är min.', 'Är jag förälskad?', 'Är vi ensamma?', 'Är du färdig?', 'Är du här?', 'Är ni här?', 'Är du skadad?', 'Är du vilse?', 'Är du säker?', 'Är du utom fara?', 'Är du trygg?', 'Är du tillräknelig?', 'Är du vid dina sinnens fulla bruk?', 'Är ni tillräkneliga?', 'Är ni vid era sinnens fulla bruk?', 'Är du säker?', 'Är det säkert?', 'Är ni säkra?', 'Koka ett ägg.', 'Gå och hämta förstärkning.', 'Kan du komma?', 'Kan ni läsa?', 'Kan du läsa?', 'Kan du simma?', 'Kan du gå?', 'Kom framåt.', 'Kom fram.', 'Kom fort!', 'Kom med mig.', 'Kom med oss.', 'Ringde Tom?', 'Har Tom ringt?', 'Röstade Tom?', 'Röstade du?', 'Ser jag OK ut?', 'Ser jag bra ut?', 'Gör det på måndag.', 'Gör det ändå.', 'Håller ni med?', 'Röker ni?', 'Röker du?', 'Snarkar du?', 'Fråga inte mig.', 'Var inte ledsen.', 'Skämta inte med mig!', 'Släpp inte taget.', 'Skrik inte.', 'Kör fortare.', 'Kör försiktigt.', 'Visitera dem.', 'Undersök dem.', 'Undersök det här.', 'Frukta ingenting.', 'Var inte rädd för något.', 'Hitta katten.', 'Fisk, tack.', 'Spöken finns.', 'Gå tillbaka, Tom.', 'Gå dit nu.', 'God morgon.', 'God morgon!', 'Väx upp, Tom.', 'Håll ut, Tom.', 'Ta dig ett glas.', 'Ta en drink.', 'Ta en till.', 'Han har en bil.', 'Han har hund.', 'Han har en hund.', 'Han är poet.', 'Han äter.', 'Han gillar te.', 'Han tycker om te.', 'Han älskar henne.', 'Han drev med mig.', 'Han var ensam.', 'Han var för sig själv.', 'Han var modig.', 'Han var mäktig.', 'Han var jättebra.', 'Han kommer att komma.', 'Han kommer att gå.', 'Han är så söt.', 'Hjälp mig, Tom.', 'Hjälp oss, Tom.', 'Hur vågar du!', 'Vad spännande!', 'Vad patetiskt!', 'Så romantiskt!', 'Hur går det med skolan?', 'Hur går det på skolan?', 'Hur går det i skolan?', 'Jag är kinesiska.', 'Jag är hemma.', 'Jag är så sjuk.', 'Jag bad om ursäkt.', 'Jag åt kaviar.', 'Jag kan hämta den.', 'Jag kan försöka göra det.', 'Jag jagade Tom.', 'Jag bryr mig inte.', 'Det ger jag tusan i.', 'Jag dejtar inte.', 'Jag har inget emot det.', 'Jag simmar inte.', 'Jag drack mjölk.', 'Jag dricker mjölk.', 'Jag körde hit.', 'Jag satte dit Tom.', 'Jag åkte fast.', 'Jag hatar lögnare.', 'Jag hatar sushi.', 'Jag har en katt.', 'Jag har en hund.', 'Jag har ett jobb.', 'Jag har ett barn.', 'Jag har en penna.', 'Jag har en kulspetspenna.', 'Jag måste gå.', 'Jag hör musik.', 'Jag improviserade.', 'Jag känner till en väg.', 'Jag vet ett sätt.', 'Jag vet en väg.', 'Jag lär mig snabbt.', 'Jag gillar björnar.', 'Jag tycker om björnar.', 'Jag tycker om schack.', 'Jag gillar frukt.', 'Jag tycker om frukt.', 'Jag älskar att resa.', 'Jag hittade på det.', 'Jag menade väl.', 'Jag stannar kanske.', 'Jag behöver en hatt.', 'Jag behöver ett jobb.', 'Jag behöver en penna.', 'Jag behöver målarfärg.', 'Jag behövde dig.', 'Jag behövde er.', 'Jag gråter sällan.', 'Jag läser böcker.', 'Jag såg en get.', 'Jag ser en bok.', 'Jag ser en stjärna.', 'Jag säljer skor.', 'Jag fattar.', 'Jag förstår.', 'Jag fattar.', 'Jag förstår.', 'Jag promenerar mycket.', 'Jag går mycket.', 'Jag vill ta en tupplur.', 'Jag vill ha pommes frites.', 'Jag vill ha pengar.', 'Jag var frånvarande.', 'Jag var hungrig.', 'Jag drog mig ur.', 'Jag kommer inte att förlora.', 'Jag flyttar inte.', 'Jag flyttar mig inte.', 'Jag flyttar inte på mig.', 'Jag undrar varför.', 'Jag klarar mig.', 'Jag kommer att vara här.', 'Jag är här.', 'Jag stannar här.', 'Jag fixar en.', 'Jag hämtar en.', 'Jag ska betala dig.', 'Jag ska spara det.', 'Jag är en fegis.', 'Jag är doktor.', 'Jag är präst.', 'Jag är konstnärlig.', 'Jag är konstnärligt lagd.', 'Jag är konstnärlig av mig.', 'Jag blöder.', 'Jag är upptagen nu.', 'Jag är kreativ.', 'Jag drunknar.', 'Jag flyr.', 'Jag är färdig.', 'Jag fryser.', 'Jag sörjer.', 'Jag är hemsk.', 'Jag är utan skuld.', 'Jag är som dig.', 'Jag är inte hemma.', 'Jag är inte säker.', 'Jag har slutat med öl.', 'Jag är lättad.', 'Jag är sjuk nu.', 'Jag är så lycklig.', 'Jag är stressad.', 'Jag svettas.', 'Jag är bäst.', 'Jag är kittlig.', 'Det är mitt fel.', 'Jag är jättetjock.', 'Jag fick dig.', 'Jag har dig.', 'Går måndag bra?', 'Går det bra på måndag?', 'Funkar måndag?', 'Fungerar måndag?', 'Är Tom galen?', 'Är det blått?', 'Är det sant?', 'Är detta kärlek?', 'Är det här mink?', 'Det skrämde mig.', 'Det var mordbrand.', 'Den var svart.', 'Det var svart.', 'Det var natt.', 'Det var högljutt.', 'Den var högljudd.', 'Det var tyst.', 'Den var tyst.', 'Den var rund.', 'Det var runt.', 'Det är en robot.', 'Det är pinsamt.', 'Det är läggdags.', 'Det är skräp.', 'Den är äkta.', 'Det är äkta.', 'Den är autentisk.', 'Det är autentiskt.', 'Det haglar.', 'Det är inget skämt.', 'Det är liknande.', 'Det är likt.', 'Den är liknande.', 'Den är lik.', 'Det är konstigt.', 'Den är konstig.', 'Det är märkligt.', 'Det är underligt.', 'Den är för stor.', 'Det är för varmt.', 'Den fungerar.', 'Det fungerar.', 'Den funkar.', 'Det funkar.', 'Fortsätt dansa.', 'Fortsätt springa.', 'Fortsätt le.', 'Fortsätt tala.', 'Fortsätt arbeta.', 'Damerna först.', 'Låt Tom leva.', 'Låt Tom stanna.', 'Låt Tom vänta.', 'Lämna mig i fred.', 'Lämna mig ensam.', 'Låt mig göra det.', 'Livet går vidare.', 'Livet är långt.', 'Kolla på det här.', 'Mary kom in.', 'Kött, tack.', 'Män är svin.', 'Mjölka kon.', 'Det gör ont i mina öron.', 'Jag har ont i ögonen.', 'Jag hade ont i fötterna.', 'Jag har ont i benet.', 'Behöver jag fortsätta?', 'Ingen vet.', 'Ingen rörde sig.', 'Ingen vet.', 'Välj en färg.', 'Snälla ta det lugnt.', 'Snälla lugna ner dig.', 'Peka ut den.', 'Peka ut det.', 'Ställ den där.', 'Spring och göm dig.', 'Skäms på dig!', 'Hon har vin.', 'Hon hjälper oss.', 'Hon är åtta.', 'Hon är lycklig.', 'Hon är tystlåten.', 'Hon är tyst.', 'Hon är ung.', 'Hon känner mig.', 'Hon gillade det.', 'Hon gillade den.', 'Hon tyckte om det.', 'Hon tyckte om den.', 'Hon älskar oss.', 'Hon gick ut.', 'Tala långsammare.', 'Stanna hos oss.', 'Sluta röka.', 'Sluta prata.', 'Stanna bilen.', 'Dröm sött!', 'Det är mitt.', 'Den är min.', 'Det är en lögn.', 'Vad hemskt.', 'Det är hemskt.', 'Det är min cd-skiva.', 'Det stämmer!', 'Det är smart.', 'Vad konstigt.', 'De är stora.', 'De hurrade.', 'De störtade.', 'De kraschlandade.', 'De gjorde bankrutt.', 'De gick i kras.', 'De kraschade.', 'De kolliderade.', 'De gav upp.', 'De skrattade.', 'De vägrade.', 'De sa nej.', 'De sade nej.', 'De svettades.', 'De vill ha mig.', 'De kommer att misslyckas.', 'De kommer att växa.', 'De är blå.', 'De är deppiga.', 'De är poliser.', 'De är färdiga.', 'De är klara.', 'Det är ägg.', 'De är här.', 'Det här är svårt.', 'Den här är min.', 'Tiden löpte ut.', 'Tiden tog slut.', 'Tom blev klar.', 'Tom blev färdig.', 'Tom följde efter.', 'Tom lyckades fly.', 'Tom kom hem.', 'Tom tog sig hem.', 'Tom gick vilse.', 'Tom har dött.', 'Tom har ryggrad.', 'Tom har kurage.', 'Tom hatade det.', 'Tom hatade den.', 'Tom hatar tv.', 'Tom hatar mig.', 'Tom hörde det.', 'Tom hjälper mig.', 'Tom hjälper oss.', 'Tom anställde mig.', 'Tom slog Mary.', 'Tom är vid liv.', 'Tom lever.', 'Tom är vaken.', 'Tom är hemsk.', 'Tom är mörkhyad.', 'Tom är pank.', 'Tom är grym.', 'Tom är yr.', 'Tom är tung.', 'Tom ljuger.', 'Tom är naiv.', 'Tom lade sig ner.', 'Tom behöver mig.', 'Tom sa ja.', 'Tom räddade mig.', 'Tom såg dem.', 'Tom ryckte på axlarna.', 'Tom överlevde.', 'Tom var mätt.', 'Tom var nyfiken.', 'Tom var sjuk.', 'Tom är road.', 'Tom gråter.', 'Tom äter.', 'Tom är känd.', 'Tom är smutsig.', 'Tom är lortig.', 'Tom är ostadig på benen.', 'Tom är groggy.', 'Tom är skyldig.', 'Tom är hungrig.', 'Tom är mentalsjuk.', 'Tom är sinnessjuk.', 'Tom är vansinnig.', 'Tom är vanvettig.', 'Tom skämtar.', 'Tom är ensam.', 'Tom är inte här.', 'Tom är inte på.', 'Tom är artig.', 'Tom är rädd.', 'Tom är tyst.', 'Tom är hög.', 'Tom är sträng.', 'Tom är stark.', 'Tom, vakna.', 'Vänta utanför.', 'Tvätta hunden.', 'Vi är araber.', 'Vi begravde den.', 'Vi begravde det.', 'Vi kom sist.', 'Vi kan börja.', 'Vi kan inte vinna.', 'Vi kommer överens.', 'Vi kommer väl överens.', 'Vi fick böter.', 'Vi bor här.', 'Vi måste prata.', 'Vi måste pratas vid.', 'Vi måste tala.', 'Vi måste talas vid.', 'Vi behöver hjälp.', 'Vi vill ha öl!', 'Vi arbetar snabbt.', 'Vi klarar oss.', 'Vi är rädda.', 'Vi gråter.', 'Vi är gäster.', 'Vi är hjältar.', 'Vi är hungriga.', 'Vi är på insidan.', 'Vi är inne.', 'Vi är minderåriga.', 'Vi är människor.', 'Vi är rädda.', 'Vi försöker.', 'Vilken storm!', 'Vilket oväder!', 'Vilken röst!', 'Vad är det?', 'Vad är detta?', 'Vad är det här?', 'Vem skickade Tom?', 'Vem överlevde?', 'År gick.', 'Du är sen.', 'Du är lat!', 'Ni är lata!', 'Du ser tjock ut.', 'Du får stanna.', 'Ni får stanna.', 'Du kan stanna.', 'Ni kan stanna.', 'Du får simma.', 'Du verkar ledsen.', 'Du överlevde.', 'Ni överlevde.', 'Du är döende.', 'Ni är döende.', 'Du ljuger!', 'Du är konstig.', 'Du har vuxit.', 'Ni har vuxit.', 'En hund bet Tom.', 'Drömmer jag?', 'Är jag säker nu?', 'Några frågor?', 'Någonting annat?', 'Är vi idioter?', 'Är vi dumma?', 'Är vi korkade?', 'Är du ett fan?', 'Är du vid liv?', 'Är ni vid liv?', 'Är du galen?', 'Är du redo?', 'Är du färdig?', 'Är ni trötta?', 'Är ni tvillingar?', 'Var respektfull.', 'Stick härifrån, ungjävlar!', 'Vispa äggen.', 'Kom hit med nyckeln.', 'Ring mig senare.', 'Ring snuten.', 'Får jag fråga vem?', 'Får jag ta den?', 'Kan Tom göra det?', 'Kan vi gå nu?', 'Kom i morgon.', 'Gjorde jag det där?', 'Var det jag som gjorde det där?', 'Gjorde du det?', 'Gjorde ni det?', 'Känner jag Tom?', 'Känner jag honom?', 'Behöver jag en?', 'Drömmer katter?', 'Gör det genast.', 'Gör det snabbt.', 'Gör det fort.', 'Gör det tyst.', 'Hänger du med?', 'Förstår ni vad jag menar?', 'Hänger ni med?', 'Hänger du med på vad jag menar?', 'Hänger ni med på vad jag menar?', 'Fattar du?', 'Ser du den?', 'Vet Tom?', 'Vet Tom om det?', 'Sjunger Tom?', 'Hundar kan simma.', 'Var inte elak.', 'Var inte oförskämd.', 'Var inte ohövlig.', 'Var inte ohyfsad.', 'Gör inte det här.', 'Gör inte detta.', 'Ge inte upp!', 'Gör inte illa mig!', 'Gör mig inte illa!', 'Skada mig inte!', 'Var inte uppkäftig.', 'Var inte kaxig.', 'Rita en cirkel.', 'Blommor blommar.', 'Skynda på dig.', 'Skynda på er.', 'Sno på dig.', 'Sno på er.', 'Skynda på.', 'Raska på.', 'Rör på benen.', 'Kom hit.', 'Hämta hjälp.', 'Jag önskar dig god bättring!', 'Krya på dig!', 'God bättring!', 'Ge den till mig.', 'Ge mig den.', 'Ge mig en dag.', 'Ge mig en pistol.', 'Ge mig en kram.', 'Ge mig ett jobb.', 'Ge mig ett arbete.', 'Ge mig en sekund.', 'Gå och hämta en öl.', 'Gå och hämta kaffe.', 'Gissa vem som vann.', 'Ge hit den.', 'Räck mig den.', 'Räck den till mig.', 'Håll i den.', 'Ta en kaka.', 'Han drack öl.', 'Han grävde en grop.', 'Han kände sig trött.', 'Han odlar ris.', 'Han har en blogg.', 'Han kramade henne.', 'Han är hemma.', 'Han är min typ!', 'Han springer.', 'Han dödade honom.', 'Han ljög för oss.', 'Han ser blek ut.', 'Han verkar snäll.', 'Han säljer bilar.', 'Han går fort.', 'Hen grät.', 'Han blev blind.', 'Han är irriterande.', 'Han är besvärlig.', 'Han är inget helgon.', 'Han är inte sjuk.', 'Han studerar.', 'Han pluggar.', 'Här kommer han.', 'Göm dig.', 'Han blödde näsblod.', 'Håll fast i den.', 'Håll i repet.', 'Håll repet.', 'Du då?', 'Hur illa är det?', 'Hur mår du?', 'Hur varm är den?', 'Hur varmt är det?', 'Hur sen är jag?', 'Hur gammal är han?', 'Tom, skynda dig.', 'Jag går alltid.', 'Jag är inte säker.', 'Jag åt snabbt.', 'Jag tror på dig.', 'Jag köpte ägg.', 'Jag brände dem.', 'Jag kan vara rättvis.', 'Jag kan vara snäll.', 'Jag kan vara trevlig.', 'Jag kan köpa två.', 'Jag kan köpa två stycken.', 'Jag kan göra båda.', 'Jag kan göra både och.', 'Jag kan göra mer.', 'Jag kan göra mera.', 'Det kan jag göra.', 'Jag kan inte dansa.', 'Jag kan inte sova.', 'Jag bidrog.', 'Jag grät idag.', 'Jag grät i dag.', 'Jag gjorde det som jag skulle göra.', 'Jag gjorde ingenting.', 'Jag ringde inte.', 'Jag sjöng inte.', 'Jag röstade inte.', 'Jag gillar verkligen Tom.', 'Jag drack juice.', 'Jag överdrev.', 'Jag matade hunden.', 'Jag känner mig ensam.', 'Jag somnade.', 'Jag föll för den.', 'Jag lät mig bli lurad.', 'Jag var hungrig.', 'Jag hade ingen aning.', 'Jag hade ingen aning.', 'Jag var tvungen att gömma mig.', 'Jag är förkyld.', 'Jag har ett liv.', 'Jag har en ring.', 'Jag har en fru.', 'Jag har astma.', 'Jag har cancer.', 'Jag har syndat.', 'Jag hör röster.', 'Jag hoppas att vi vinner.', 'Jag lät Tom vinna.', 'Jag lät dig vinna.', 'Jag låter dig vinna.', 'Jag ljög för Tom.', 'Jag ljög för dig.', 'Jag ljög för er.', 'Jag tycker om ost.', 'Jag gillar filmer.', 'Jag tycker om filmer.', 'Jag tycker om mitt jobb.', 'Jag gillar skedar.', 'Jag tycker om skedar.', 'Jag tycker om tennis.', 'Jag gillar tåg.', 'Jag tycker om tåg.', 'Jag gillar vinter.', 'Jag bor i närheten.', 'Jag älskar äpplen.', 'Jag älskar hästar.', 'Jag älskar min katt.', 'Jag älskar min mamma.', 'Jag älskar mig själv.', 'Jag gillar vinter.', 'Jag gjorde upp en affär.', 'Jag saknar Boston.', 'Jag måste gå nu.', 'Jag måste bege mig nu.', 'Jag behöver en plan.', 'Jag behöver en vecka.', 'Jag behöver kaffe.', 'Jag behöver den nu.', 'Jag måste försöka.', 'Jag behövde det här.', 'Jag borde gå.', 'Jag är skyldig Tom en.', 'Jag äger en lustjakt.', 'Jag äger en yacht.', 'Jag spelar violin.', 'Jag föredrar hundar.', 'Jag satte den tillbaka.', 'Jag driver ett motell.', 'Jag såg Tom dö.', 'Jag såg ett flygplan.', 'Det ordnade jag.', 'Det såg jag till.', 'Jag ser mitt skepp.', 'Jag sålde en bok.', 'Jag sålde tv:n.', 'Jag berättade ett skämt.', 'Jag litade på honom.', 'Jag använder Firefox.', 'Jag vill ha en cykel.', 'Jag vill ha en tårta.', 'Jag vill ha kaviar.', 'Jag vill ha kaffe.', 'Jag vill ha alltihop.', 'Jag vill ha alltsamman.', 'Jag vill ha alltsammans.', 'Jag vill vinna.', 'Jag skämdes.', 'Jag var skamsen.', 'Jag var hemma.', 'Jag blev drogad.', 'Jag var kär.', 'Jag var förälskad.', 'Jag sprang.', 'Jag var orolig.', 'Jag väckte dig.', 'Jag jobbar natt.', 'Jag går först.', 'Jag kommer att gå först.', 'Jag hjälper dig.', 'Jag ska hjälpa dig.', 'Jag kommer att hjälpa dig.', 'Jag kommer att sakna dig.', 'Jag ska berätta för dig.', 'Jag kommer att berätta för dig.', 'Jag berättar för dig.', 'Jag är en stor beundrare.', 'Jag är ett stort fan.', 'Jag är man nu.', 'Jag är studerande.', 'Jag är elev.', 'Jag är vacker.', 'Jag är deprimerad.', 'Jag är desperat.', 'Jag är energisk.', 'Jag ger upp.', 'Jag är också här.', 'Jag är viktig.', 'Jag är bara lat.', 'Jag är motiverad.', 'Jag är peppad.', 'Jag är ingen expert.', 'Jag är inte någon expert.', 'Jag är inte modig.', 'Jag är inte stolt.', 'Jag är objektiv.', 'Jag är nöjd.', 'Jag är belåten.', 'Jag är så ensam.', 'Jag överlever.', 'Jag är förskräckt.', 'Jag är för ung.', 'Jag är väldigt upptagen.', 'Jag är väldigt cool.', 'Är Tom dum?', 'Är min tid slut?', 'Är det där papper?', 'Visst är det häftigt?', 'Det kunde funka.', 'Det hade snöat.', 'Det tar tid.', 'Det kommer inte att göra ont.', 'Det kommer inte att fungera.', 'Det kommer inte att funka.', 'Det kommer inte att gå.', 'Det är lördag.', 'Den är noggrann.', 'Det är ett äpple.', 'Den är övergiven.', 'Det har hänt.', 'Det är min häst.', 'Det är möjligt.', 'Det är för kallt.', 'Den är för kall.', 'Det är för högt.', 'Det är för högljutt.', 'Den är väldigt stor.', 'Fortsätt klättra.', 'Hör av dig!', 'Låt honom göra det.', 'Låt mig hämta den.', 'Låt mig hämta det.', 'Vi ger upp.', 'Vi provar en.', 'Vi testar en.', 'Vi smakar på en.', 'Livet är galet.', 'Lyssna på Tom.', 'Lås dörren!', 'Mary är konstig.', 'Får jag gå hem?', 'Mamma är på jobbet.', 'Min bil är ny.', 'Min hund är stor.', 'Jag har ont i foten.', 'Det värker i huvudet.', 'Mitt namn är Tom.', 'Ingen såg mig.', 'Det är ingen hemma.', 'Nu kan vi gå.', 'Nu kan vi åka.', 'Okej, hör på.', 'Olja kedjan.', 'Öppna dörren.', 'Vårt lag förlorade.', 'Ur vägen!', 'Ta det lugnt.', 'Ta det i din egen takt.', 'Välj ett nummer.', 'Vila i frid.', 'Ryssland är stort.', 'Säg något.', 'Ska jag fortsätta?', 'Hon undviker mig.', 'Hon böjde sig ner.', 'Hon böjde sig ned.', 'Hon kom sist.', 'Hon blev arg.', 'Hon hatade honom.', 'Hon hatar honom.', 'Hon hjälper honom.', 'Hon är tvilling.', 'Hon är aktiv.', 'Hon gråter.', 'Hon äter.', 'Hon sitter och äter.', 'Hon gick precis.', 'Hon gillar honom.', 'Hon ser ledsen ut.', 'Hon ser lessen ut.', 'Hon älskar Tom.', 'Hon älskar honom.', 'Hon behöver dig.', 'Hon var modig.', 'Hon var naiv.', 'Hon var ung.', 'Hon gick hem.', 'Hon åkte hem.', 'Hon for hem.', 'Hon är grym.', 'Hon håller diet.', 'Hon är min typ.', 'Hon är min fru.', 'Sitt ner, Tom.', 'Rymden är kall.', 'Börja springa.', 'Tänk positivt.', 'Var positiv.', 'Se det positiva.', 'Sluta skjuta!', 'Sluta skjuta!', 'Sluta oroa dig.', 'Sopa mitt rum.', 'Ta bara en.', 'Smaken är som baken.', 'Det var svårt.', 'Den där var enorm.', 'Det var enormt.', 'Det var elakt.', 'Den där var vår.', 'Det var helt galet.', 'Det där är Saturnus.', 'Det är synd.', 'Det är en plan.', 'Det är ju helt befängt!', 'Det är bättre.', 'Det är genomförbart.', 'Det där är min pappa.', 'Det är mycket.', 'Det är enkelt.', 'Det är så typiskt dig.', 'Flickorna vann.', 'Tjejerna vann.', 'De lämnade återbud.', 'De omfamnade varandra.', 'De hittade oss.', 'De älskade det.', 'De älskade den.', 'De behöver honom.', 'De skrek.', 'De är panka.', 'De är barskrapade.', 'De är nära.', 'De är galna.', 'De är tokiga.', 'De är unga.', 'Detta är en räv.', 'Det här är en räv.', 'Det här är en penna.', 'Det här är konstigt.', 'Detta är konstigt.', 'Detta är underligt.', 'Det här är underligt.', 'Det här var gratis.', 'Den här var gratis.', 'Släng ut Tom.', 'Tom böjde sig ned.', 'Tom köpte den.', 'Tom köpte det.', 'Tom gick på det.', 'Tom gick på den.', 'Tom gick med på det.', 'Tom kom sist.', 'Tom gjorde bra ifrån sig.', 'Tom gjorde utmärkt ifrån sig.', 'Tom håller inte med.', 'Tom drack te.', 'Tom tränade.', 'Tom tränar.', 'Tom kände sig sårad.', 'Tom blev yr.', 'Tom fick sparken.', 'Tom blev avskedad.', 'Tom blev glad.', 'Tom har en hund.', 'Tom har getter.', 'Tom har planer.', 'Tom har annat för sig.', 'Tom hatar dig.', 'Tom hatar er.', 'Tom tvekade.', 'Tom är en baby.', 'Tom är ett spädbarn.', 'Tom är en sportig typ.', 'Tom är en idrottare.', 'Tom är en idrottskille.', 'Tom är en nörd.', 'Tom är en tölp.', 'Tom är en drummel.', 'Tom är en fårskalle.', 'Tom är en luns.', 'Tom är utomlands.', 'Tom är inte här.', 'Tom är frånvarande.', 'Tom saknas.', 'Tom är aktiv.', 'Tom är livlig.', 'Tom är road.', 'Tom är bitter.', 'Tom är skärpt.', 'Tom är pratsam.', 'Tom är pratglad.', 'Tom är knubbig.', 'Tom är smart.', 'Tom är listig.', 'Tom är bakslug.', 'Tom är knäpp.', 'Tom är vresig.', 'Tom är rättfram.', 'Tom är driftig.', 'Tom äter.', 'Tom är berömd.', 'Tom är glupsk.', 'Tom är girig.', 'Tom gömmer sig.', 'Tom är i min ålder.', 'Tom är inte rolig.', 'Tom är inte kul.', 'Tom är artig.', 'Tom är rädd.', 'Tom är snål.', 'Tom är sträng.', 'Tom är stark.', 'Tom försöker.', 'Tom lämnade hemmet.', 'Tom reste hemifrån.', 'Tom släppte in mig.', 'Tom lät oss gå.', 'Tom gillar honom.', 'Tom tycker om honom.', 'Tom tycker om dig.', 'Tom gillar dig.', 'Tom ser sjuk ut.', 'Tom ser gammal ut.', 'Tom frisknade till.', 'Tom tillfrisknade.', 'Tom återhämtade sig.', 'Tom springer snabbt.', 'Tom lyckades.', 'Tom vill ha en.', 'Tom var yr.', 'Tom blev anställd.', 'Tom hade rätt.', 'Tom åkte tillbaka.', 'Tom gick tillbaka.', 'Tom klarar sig nog.', 'Tom är adopterad.', 'Tom är ängslig.', 'Tom har anlänt.', 'Tom håller på att kvävas.', 'Tom lagar mat.', 'Tom har rätt.', 'Tom är förlovad.', 'Tom har rymt.', 'Tom har svimmat.', 'Tom är ursinnig.', 'Tom hjälper till.', 'Tom hjälper.', 'Tom haltar.', 'Tom är gift.', 'Tom saknas.', 'Tom är inte tjock.', 'Tom packar.', 'Tom vilar.', 'Tom är pensionerad.', 'Tom är ärlig.', 'Tom är uppriktig.', 'Tom är konstig.', 'Tom väntar.', 'Tom vinner.', 'Tom arbetar.', 'Tom är orolig.', 'Tom är ängslig.', 'Tom är bekymrad.', 'Försök göra det.', 'Försök att göra det.', 'Vänta ett ögonblick.', 'Vänta tills sex.', 'Var Tom ensam?', 'Hade Tom rätt?', 'Vatten, tack.', 'Vi bad om ursäkt.', 'Vi kan få ett slut på det.', 'Vi kan få ett slut på den.', 'Vi kan använda den.', 'Vi kan använda det.', 'Vi kan inte misslyckas.', 'Vi kan inte vänta.', 'Vi dricker mjölk.', 'Vi fick punktering.', 'Vi gillar musik.', 'Vi måste gå.', 'Vi behöver verktyg.', 'Vi såg alltihop.', 'Vi säljer frukt.', 'Vi tog en taxi.', 'Vi förstår.', 'Vi vill ha fred.', 'Vi ville ha Tom.', 'Vi var panka.', 'Vi hade rätt.', 'Vi kommer att klara det.', 'Vi kommer att överleva.', 'Vi är oroliga.', 'Vi är frisörer.', 'Vi är försiktiga.', 'Vi är noggranna.', 'Vi är noga.', 'Vi är fiender.', 'Vi är brandmän.', 'Vi är gifta.', 'Vi är föräldrar.', 'Vi är präster.', 'Vi är för gamla.', 'Vilken lättnad!', 'Vilken relief!', 'Vad får jag?', 'Vad var det som hände?', 'Vad ska vi göra?', 'Vad ska vi ta oss till?', 'När var det?', 'Var är du?', 'Var är ni?', 'Var är det?', 'Vilken är min?', 'Vem frågade dig?', 'Vem var det som ringde mig?', 'Vem hittade Tom?', 'Vem upptäckte henne?', 'Vem hittade henne?', 'Vem hatar dig?', 'Vilka är det som hatar dig?', 'Vem hatar er?', 'Vilka är det som hatar er?', 'Vem säger det?', 'Vem kör?', 'Vem vinner?', 'Varför ändra på det?', 'Kommer hon att komma?', 'Du kom tillbaka.', 'Du klarar det.', 'Du kan göra det.', 'Det klarar du.', 'Det klarar du av.', 'Du kan slappna av.', 'Ni kan slappna av.', 'Du kan inte se.', 'Du får inte se.', 'Du har post.', 'Du ser upptagen ut.', 'Du ser blek ut.', 'Du ser sjuk ut.', 'Du behöver det här.', 'Du behöver den här.', 'Du borde gå.', 'Du luktar illa.', 'Du talar fort.', 'Ni talar fort.', 'Du talar snabbt.', 'Ni talar snabbt.', 'Du pratar snabbt.', 'Ni pratar snabbt.', 'Du är en snobb.', 'Du är partisk.', 'Du är inte rolig.', 'Du är singel.', 'Du är så het.', 'Ni är så heta.', 'Du är dum.', 'Du är fånig.', 'Du är orättvis.', 'Ni är orättvisa.', 'Är jag misstänkt?', 'Är de beväpnade?', 'Är vi vänner?', 'Sjunker vi?', 'Sover du?', 'Är du partisk?', 'Är ni partiska?', 'Är du fördomsfull?', 'Är ni fördomsfulla?', 'Har du fördomar?', 'Har ni fördomar?', 'Har du förutfattade meningar?', 'Har ni förutfattade meningar?', 'Gråter du?', 'Grinar du?', 'Är du undantagen?', 'Är du hungrig?', 'Är ni hungriga?', 'Är du sömnig?', 'Har jag inte rätt?', 'Är inte du Tom?', 'Var snäll mot Tom.', 'Var snäll med Tom.', 'Var snäll mot henne.', 'Fåglarna lägger ägg.', 'Fåglar lägger ägg.', 'Får jag vara där?', 'Kan jag ringa dig?', 'Kan jag ringa er?', 'Får jag också komma?', 'Kan jag få en?', 'Kan jag hjälpa dig?', 'Kan jag komma med dig?', 'Får jag träffa dem?', 'Får jag se dem?', 'Kan jag få se dem?', 'Kan jag få träffa dem?', 'Får jag också se?', 'Kan jag sitta ned?', 'Kan jag slå mig ned här?', 'Får jag tala nu?', 'Kan jag använda den här?', 'Kan vi komma in?', 'Kan vi göra det?', 'Kan vi gå hem?', 'Får vi vara med?', 'Får vi behålla den?', 'Klarar vi det?', 'Kan vi flytta den?', 'Kan du laga den?', 'Kan du sitta upprätt?', 'Kan du sitta rak?', 'Städa rummet.', 'Stäng porten.', 'Stäng grinden.', 'Kaffe är livet.', 'Kamma ditt hår.', 'Kom tillbaka hit.', 'Kom snart tillbaka.', 'Kom och sitt bredvid mig.', 'Kor äter gräs.', 'Pappa är inte hemma.', 'Pappa är inte hemma.', 'Det är roligt att dansa.', 'Det är kul att dansa.', 'Tärna äpplet.', 'Väckte jag dig?', 'Köpte Tom den?', 'Gick det bra?', 'Gjorde vi bra ifrån oss?', 'Hade vi det?', 'Klarade vi det?', 'Åkte ni allihopa?', 'Lagade du den?', 'Fattade du?', 'Provade du det?', 'Använde du den?', 'Middagen är klar!', 'Middagen är färdig!', 'Behöver jag detta?', 'Behöver jag det här?', 'Gör som Tom säger.', 'Gör som du vill.', 'Gör som ni vill.', 'Gör det nu, Tom.', 'Gör det så här.', 'Gör det på det här sättet.', 'Gör det i morgon.', 'Gör det själv.', 'Ta hand om tvätten.', 'Tvätta.', 'Har vi någon?', 'Känner vi dig?', 'Känner vi er?', 'Hör du det?', 'Gillar du den?', 'Gillar du det?', 'Tycker du om mig?', 'Älskar du det?', 'Saknar du det?', 'Saknar du mig?', 'Lovar du?', 'Lovar ni?', 'Hör du mig?', 'Hör ni mig?', 'Spelar det någon roll?', 'Var inte arg.', 'Var inte ohyfsad.', 'Sluta larva dig.', 'Klaga inte.', 'Ställ dig inte upp.', 'Stå inte.', 'Ställ er inte upp.', 'Streta inte emot.', 'Rör mig inte!', 'Titta inte på tv.', 'Bryr du dig inte?', 'Ät allting.', 'Alla ner på marken!', 'Alla visste.', 'Alla gick.', 'Alla betalade.', 'Alla drar efter andan.', 'Alla flämtar till.', 'Alla är ute.', 'Slåss som män.', 'Flugor lägger ägg.', 'Maten är knapp.', 'In i bilen med dig.', 'Sätt dig i bilen.', 'Hämta min mat.', 'Släpp Tom.', 'Gör dig av med Tom.', 'Gör er av med Tom.', 'Sov lite.', 'Sätt igång, Tom.', 'Ge den åt Tom.', 'Ge det till henne.', 'Ge den till henne.', 'Ge den till honom.', 'Ge det till honom.', 'Ge mig en öl.', 'Ge mig skjuts.', 'Ge mig ett tecken.', 'Ge mig en vecka.', 'Ge mig min väska.', 'Gå och hälsa på Tom.', 'Gå och byt om.', 'Gå och ta en öl.', 'Gå och hämta Tom.', 'Gå och prata med Tom.', 'Goddag.', 'God eftermiddag.', 'Godnatt, Tom.', 'God natt, Tom.', 'Ta dina saker.', 'Ta dina grejer.', 'Gott nytt år!', 'God fortsättning!', 'Har Tom ringt?', 'Har de åkt?', 'Har du ätit?', 'Har du sovit?', 'Han beundrade henne.', 'Han bad mig göra det.', 'Han bad mig om det.', 'Han blev rik.', 'Han förtjänade det.', 'Han springer inte.', 'Han fick jobbet.', 'Han hade en radio.', 'Han höll i en boll.', 'Han är författare.', 'Han är stilig.', 'Han är hemlös.', 'Han är min fiende.', 'Han bor ensam.', 'Han ser trött ut.', 'Han ser ung ut.', 'Han älskar musik.', 'Han är skyldig mig det.', 'Det verkar som om han är trött.', 'Han verkar trött.', 'Det verkar som att han är trött.', 'Han litade på dig.', 'Han promenerade hem.', 'Han gick hem.', 'Han var hemma.', 'Han var min chef.', 'Hon var törstig.', 'Han var törstig.', 'Han arbetade hårt.', 'Han är lite blyg.', 'Han är lite blyg av sig.', 'Här kommer Tom.', 'Här kommer de.', 'Här är bussen.', 'Här är bilen.', 'Hej, stig på.', 'Hans huvud värkte.', 'Han hade huvudvärk.', 'Han heter Tom.', 'Bromsa.', 'Håll den åt mig.', 'Hur går det för mig?', 'Hur illa var det?', 'Hur dåligt var det?', 'Hur kan jag hjälpa till?', 'Hur kan jag hjälpa?', 'Hur kallt är det?', 'Hur gick det för dig?', 'Hur ska jag göra det?', 'Hur ser vi ut?', 'Hur långt borta var det?', 'Hur svårt är det?', 'Hur hög är den?', 'Hur högt är det?', 'Hur sent är det?', 'Hur går det för dig?', 'Jag vet redan.', 'Jag är inte lycklig.', 'Jag åt en banan.', 'Jag åt upp alla.', 'Jag åt för mycket.', 'Jag blev blind.', 'Jag ringde i förväg.', 'Jag kom för att hjälpa till.', 'Jag kan hämta den.', 'Jag kan ringa Tom.', 'Jag kan höra dig.', 'Jag kan hjälpa till.', 'Jag kan hjälpa dig.', 'Jag kan döda dig.', 'Jag kan ta livet av dig.', 'Jag kan se dem.', 'Jag kan ta Tom.', 'Jag kan köra Tom.', 'Jag kan bättre än sådär.', 'Det kan jag försöka göra.', 'Jag fångade en fluga.', 'Jag gjorde det igen.', 'Jag varnade faktiskt Tom.', 'Jag gjorde det inte.', 'Jag sov inte.', 'Jag ogillar ägg.', 'Jag menar verkligen det.', 'Jag fattar inte.', 'Jag dricker kaffe.', 'Jag blev förälskad.', 'Jag följde efter honom.', 'Jag följde honom.', 'Jag gav bort den.', 'Jag avslöjade den.', 'Jag återlämnade den.', 'Jag gav den tillbaka.', 'Jag fattar.', 'Jag går till skolan.', 'Jag blev med barn.', 'Jag köpte den här åt dig.', 'Jag växte upp här.', 'Jag har varit med om en olyckshändelse.', 'Jag roade mig.', 'Jag var tvungen att åka i väg.', 'Jag var tvungen att åka.', 'Jag hatar måndagar.', 'Jag hatar Tom nu.', 'Jag hatar den också.', 'Jag hatar att jogga.', 'Jag hatar karaoke.', 'Jag avskyr karaoke.', 'Jag hatar min kropp.', 'Jag hatar mitt hår.', 'Jag hatar nålar.', 'Jag hatar spindlar.', 'Jag avskyr att stryka.', 'Jag hatar att stryka.', 'Jag har ett kännetecken.', 'Jag har en bricka.', 'Jag har ett emblem.', 'Jag har ett märke.', 'Jag har ett ordenstecken.', 'Jag har feber.', 'Jag har en flöjt.', 'Jag har en häst.', 'Jag har en idé.', 'Jag har haft roligt.', 'Jag har haft kul.', 'Jag har inga barn.', 'Jag har kartan.', 'Jag måste hjälpa till.', 'Jag måste gömma mig', 'Jag måste vila.', 'Jag måste stanna.', 'Jag måste vänta.', 'Jag hörde en duns.', 'Jag hörde röster.', 'Jag gjorde illa foten.', 'Jag gjorde mig illa i foten.', 'Jag förolämpade Tom.', 'Jag träffade honom precis.', 'Jag vill bara ha den.', 'Jag skriver dagbok.', 'Jag för dagbok.', 'Jag håller mitt ord.', 'Jag lämnade Tom i sticket.', 'Jag gjorde Tom besviken.', 'Jag svek Tom.', 'Jag övergav Tom.', 'Jag lät Tom leva.', 'Jag låter Tom leva.', 'Jag lät Tom tala.', 'Jag tycker om att köra bil.', 'Jag gillar att jogga.', 'Jag tycker om lasagne.', 'Jag gillar hummer.', 'Jag tycker om hummer.', 'Jag gillar att läsa.', 'Jag tycker om att läsa.', 'Jag gillar solen.', 'Jag tycker om solen.', 'Jag tycker om att fiska.', 'Jag bor i norra delen av staten.', 'Jag tappade kontrollen.', 'Jag älskar bananer.', 'Jag älskar karaoke.', 'Jag älskar solen.', 'Jag hittade på det där.', 'Jag kan ha rätt.', 'Jag träffade Tom här.', 'Jag träffade honom en gång.', 'Jag saknar min fru.', 'Jag måste vara lugn.', 'Jag måste köpa en.', 'Jag måste hem.', 'Jag behöver en kniv.', 'Jag behöver en handduk.', 'Jag behöver vänner.', 'Jag behöver insulin.', 'Jag behöver min jacka.', 'Jag behöver min rock.', 'Jag behöver min kappa.', 'Jag behöver en nu.', 'Jag behöver opereras.', 'Jag behöver dig nu.', 'Jag går aldrig ut.', 'Jag såg den aldrig.', 'Jag reser ofta.', 'Jag betalade kontant.', 'Jag betalade med kontanter.', 'Jag betalar Tom bra.', 'Jag vägrar gå.', 'Jag belönade Tom.', 'Jag sa stick.', 'Lägg av, sa jag.', 'Inte nu, sa jag.', 'Håll käften, sa jag.', 'Ta den, sa jag.', 'Jag såg Tom falla.', 'Jag såg henne simma.', 'Jag såg honom en gång.', 'Jag såg ett en gång.', 'Jag såg filen.', 'Jag såg matchen.', 'Jag ser boken.', 'Jag tjänar ingen.', 'Jag borde slappna av.', 'Jag har verkligen kallt.', 'Det hoppas jag verkligen.', 'Jag svor åt Tom.', 'Jag slängde ut den.', 'Jag tog det lugnt.', 'Jag promenerar till jobbet.', 'Jag vill ha en flöjt.', 'Jag vill ha fläkten.', 'Jag vill rösta.', 'Jag var idel öra.', 'Jag var inte i tjänst.', 'Jag var tjänstledig.', 'Jag sov.', 'Jag svettades.', 'Det var mitt fel.', 'Jag var för snabb.', 'Jag kommer att få ett slut på det.', 'Jag kommer att stoppa det.', 'Jag tar den.', 'Jag vann loppet.', 'Jag arbetar för Tom.', 'Jag skrev till Tom.', 'Jag ska be om ursäkt.', 'Jag hämtar Tom.', 'Jag ska göra det nu.', 'Jag ska ta hand om det.', 'Jag tar hand om det.', 'Jag kommer att sakna det.', 'Jag betalar extra.', 'Jag ska betala extra.', 'Jag kommer att betala extra.', 'Jag ska skjuta dig.', 'Jag skjuter dig.', 'Jag kommer att skjuta dig.', 'Jag väntar här.', 'Jag kommer att vänta här.', 'Jag är Toms fru.', 'Jag är musiker.', 'Jag är pacifist.', 'Jag är ateist.', 'Jag är dödstrött.', 'Det går bra med mig.', 'Jag är översynt.', 'Jag är frustrerad.', 'Jag går hem.', 'Jag är lycklig här.', 'Jag är nöjd här.', 'Jag är i bilen.', 'Jag är bara ett barn.', 'Jag är arg på dig.', 'Jag är inte bitter.', 'Jag är inte hungrig.', 'Jag är inte dum.', 'Jag är precis här.', 'Jag är mållös.', 'Jag är mördaren.', 'Jag har haft fullt upp.', 'Jag har gjort det.', 'Om jag bara visste!', 'Sjunger Tom?', 'Ler Tom?', 'Är han amerikan?', 'Är han från Japan?', 'Är han japan?', 'Sover han?', 'Är det så illa?', 'Är hon hemma?', 'Är det där franska?', 'Är det här franska?', 'Är det här franskt?', 'Är det här fransk?', 'Är detta normalt?', 'Är det här normalt?', 'Det är inte en hund.', 'Den är inte billig.', 'Det är inte roligt.', 'Den såg äkta ut.', 'Det låter enkelt.', 'Det gör fortfarande ont.', 'Det var en dröm.', 'Det var kaotiskt.', 'Det var korrekt.', 'Det snöade.', 'Det är jul.', 'Det är Toms bil.', 'Då är det avgjort.', 'Det är ett misstag.', 'Det är ett problem.', 'Den är ett problem.', 'Det är kallt här.', 'Det är svårt.', 'Den är svår.', 'Det är dyrt.', 'Det är varmt i dag.', 'Det är viktigt.', 'Den är viktig.', 'Det är nödvändigt.', 'Det är inte en hund.', 'Det är inte roligt.', 'Det är meningslöst.', 'Det är motbjudande.', 'Det är sant.', 'Den är för liten.', 'Det är för litet.', 'Det går att behandla.', 'Fortsätt söka.', 'Lämna mig ifred!', 'Låt mig vara!', 'Lämna mig i fred!', 'Låt mig vara.', 'Lämna mig ifred.', 'Lämna mig i fred.', 'Låt mig hämta Tom.', 'Släpp in hunden.', 'Låt oss äta snart.', 'Låt oss äta detta.', 'Livet är orättvist.', 'Tänd ett ljus.', 'Lyssna på detta!', 'Lev och lär.', 'Lås din dörr.', 'Högre, är du snäll.', 'Högre, tack.', 'Lunchen är klar.', 'Lunchen är färdig.', 'Många fiskar dog.', 'Får jag kyssa dig?', 'Min hund bet Tom.', 'Mitt jobb är säkert.', 'Det värker i lederna.', 'Jag heter Tom.', 'Mitt namn är Tom.', 'Min näsa kliar.', 'Det kliar i näsan.', 'Min fru är arg.', 'Ingen skrek.', 'Ingen ropade.', 'Ingen berättade det för oss.', 'Ingen blev träffad.', 'Ingen är upprörd.', 'Nej, inte alls.', 'Nu minns jag.', 'Gör det nu bara.', 'Stanna där nu.', 'En saknas.', 'Öppna era ögon.', 'Öppna ögonen.', 'Läs av mätaren.', 'Säg det tydligt.', 'Vi ses på måndag.', 'Vi ses.', 'Får jag lov?', 'Ska vi dansa?', 'Ska vi beställa?', 'Hon kom ensam.', 'Hon lurade honom.', 'Hon hjälpte honom.', 'Hon kramade honom.', 'Hon är sjuksköterska.', 'Hon är ute nu.', 'Hon sparkade honom.', 'Hon kysste honom.', 'Hon gillar vin.', 'Hon såg ledsen ut.', 'Hon älskar katter.', 'Hon kommer kanske.', 'Hon saknar honom.', 'Hon sjunger bra.', 'Hon luktar illa.', 'Hon simmar bra.', 'Hon litar på honom.', 'Hen grät.', 'Hon arbetar hårt.', 'Hon är en ängel.', 'Hon är oskyldig.', 'Hon är inte här.', 'Hon är gravid.', 'Visa oss runt.', 'Våren är här.', 'Håll dig bakom mig.', 'Håll er bakom mig.', 'Sommaren är över.', 'Ta ratten.', 'Ta tid på dig.', 'Ta det lugnt.', 'Ta god tid på dig.', 'Ingen brådska.', 'Förta dig för all del inte.', 'Det där var läskigt.', 'De körde fort.', 'Det är synd.', 'Det är synd och skam.', 'Det är en början.', 'Det där är ett torn.', 'Det är min replik.', 'Det är min plats.', 'Det är min fru.', 'Det där är plast.', 'Det är allvarligt.', 'Det är självmord.', 'Det är förräderi.', 'Det var oturligt.', 'Radion dog.', 'Radion slocknade.', 'De applåderade.', 'De köpte det.', 'De köpte den.', 'De kan dö.', 'De hittade Tom.', 'De fick reda på det.', 'De hatade Tom.', 'De kramade oss.', 'De ser bra ut.', 'De bråkade.', 'De grälade.', 'De litar på dig.', 'De var falska.', 'De mådde bra.', 'De var mina.', 'De kommer inte att dö.', 'De kommer att attackera.', 'De kommer att anfalla.', 'De är rädda.', 'De har gått sönder.', 'De är ihåliga.', 'Det här är min väska.', 'Detta är min bil.', 'Det här är min bil.', 'Det här är min son.', 'Detta är min son.', 'De där är gratis.', 'De där är trevliga.', 'De där är fina.', 'Biljetten, tack.', 'Dags att stiga upp.', 'Det är dags att stiga upp.', 'Dags att gå upp.', 'Vi får se.', 'Tom bad om ursäkt.', 'Tom åt ett päron.', 'Tom kan jonglera.', 'Tom kan inte komma.', 'Tom kan inte läsa.', 'Tom kan inte sjunga.', 'Tom kan inte stanna.', 'Tom kan inte gå.', 'Tom klappade ihop.', 'Tom tog knäcken på sig.', 'Tom dog ensam.', 'Tom dog vid 65.', 'Tom förlät mig.', 'Tom blev fast.', 'Tom åkte fast.', 'Tom blev fångad.', 'Tom blev fången.', 'Tom kom närmare.', 'Tom blev dumpad.', 'Tom blev rädd.', 'Tom odlar ris.', 'Tom hade cancer.', 'Tom har en blogg.', 'Tom har utslag.', 'Tom har tandställning.', 'Tom har problem.', 'Tom har min bil.', 'Tom har talang.', 'Tom hatar katter.', 'Tom avskyr katter.', 'Tom hatar råttor.', 'Tom hörde Mary.', 'Tom hörde det där.', 'Tom anställde Mary.', 'Tom är ett äckel.', 'Tom är en hippie.', 'Tom är en haj.', 'Tom är en svindlare.', 'Tom är rolig.', 'Tom är underhållande.', 'Tom är orolig.', 'Tom är ängslig.', 'Tom är skamsen.', 'Tom skäms.', 'Tom är på jobbet.', 'Tom är toppen.', 'Tom är grym.', 'Tom är besvärlig.', 'Tom är förbryllad.', 'Tom är kallhamrad.', 'Tom är säker.', 'Tom är oärlig.', 'Tom är bedräglig.', 'Tom är hängiven.', 'Tom är påklädd.', 'Tom är tveksam.', 'Tom dammar.', 'Tom dammar av.', 'Tom är förlovad.', 'Tom fiskar.', 'Tom är desperat.', 'Tom är alldeles ifrån sig.', 'Tom är utom sig.', 'Tom är rasande.', 'Tom är ursinnig.', 'Tom hjälper.', 'Tom är gift.', 'Tom är snål.', 'Tom saknas.', 'Tom är min hjälte.', 'Tom är neutral.', 'Tom nickar.', 'Tom är omtyckt.', 'Tom är populär.', 'Tom vilar.', 'Tom är självisk.', 'Tom är ytlig.', 'Tom ler.', 'Tom väntar.', 'Tom arbetar.', 'Tom är inte död.', 'Tom är inte här.', 'Tom är inte lat.', 'Tom är inte trevlig.', 'Tom är inte fattig.', 'Tom är inte otrevlig.', 'Tom är inte säker.', 'Tom är inte smal.', 'Tom är inte ful.', 'Tom är inte svag.', 'Tom tycker om snö.', 'Tom gillar snö.', 'Tom tycker om vin.', 'Tom såg sjuk ut.', 'Tom såg gammal ut.', 'Tom såg ledsen ut.', 'Tom ser blek ut.', 'Tom ser sjuk ut.', 'Tom ser illamående ut.', 'Tom saknar dig.', 'Tom behöver hjälp.', 'Tom tuppade av.', 'Tom svimmade.', 'Tom kolade av.', 'Tom dog.', 'Tom verkar trevlig.', 'Tom fällde tårar.', 'Tom vill ha hjälp.', 'Tom vill ha mer.', 'Tom grät.', 'Tom blev rånad.', 'Tom kommer inte att stanna.', 'Tom återhämtar sig nog.', 'Tom kommer nog att lyckas.', 'Tom överlever nog.', 'Tom blöder.', 'Tom bluffar.', 'Tom fuskar.', 'Tom är gladlynt.', 'Tom är glad av sig.', 'Tom är munter.', 'Tom är förvirrad.', 'Tom är skild.', 'Tom drömmer.', 'Tom drunknar.', 'Tom är orädd.', 'Tom är oförskräckt.', 'Tom är färdig.', 'Tom är klar.', 'Tom är vänlig.', 'Tom sörjer.', 'Tom är oförarglig.', 'Tom är ofarlig.', 'Tom är hemlös.', 'Tom har hemlängtan.', 'Tom skrattar.', 'Tom är inte här.', 'Tom är inte svag.', 'Tom målar.', 'Tom har sagt upp sig.', 'Tom har kommit tillbaka.', 'Tom svettas.', 'Tom simmar.', 'Det är Tom som bestämmer.', 'Höj volymen på teven.', 'Tvätta ditt ansikte.', 'Tvätta ansiktet.', 'Tvätta dig i ansiktet.', 'Vi är kusiner.', 'Vi kan göra det där.', 'Vi kan inte göra det.', 'Vi drack en hel del.', 'Vi drack mycket.', 'Vi bråkar ofta.', 'Vi har en get.', 'Vi tillverkar tegelsten.', 'Vi gör tegelsten.', 'Vi gör tegelstenar.', 'Vi kysstes bara.', 'Vi respekterar Tom.', 'Vi tummade på det.', 'Vi tog varandra i handen på det.', 'Vi blev rånade.', 'Vi var rädda.', 'Vi kommer att vara där.', 'Vi är slaktare.', 'Vi är överstar.', 'Vi flyr.', 'Vi är färdiga.', 'Vi är tacksamma.', 'Vi är här nu.', 'Vi är inte hemma.', 'Vi är inte fattiga.', 'Vi är inte sjuka.', 'Vi är inte säkra.', 'Vi har slutsålt.', 'Vi tittar.', 'Vi har blivit träffade.', 'Vi har sett henne.', 'Var de goda?', 'Var du lycklig?', 'Var ni lyckliga?', 'Vilken stor katt!', 'Vilken stor hund!', 'Vilket land!', 'Så varmt det är idag!', 'Vad varmt det är idag!', 'Vad är de där?', 'Vad kan jag använda?', 'Vad kan det vara?', 'Vad kan vi göra?', 'Vad är det för dag?', 'Vilken dag är det?', 'Vad vann jag?', 'Vad bryr jag mig om det?', 'Vad behöver jag?', 'Vad arbetar du med?', 'Hur är den?', 'Hurdan är den?', 'Hur ser den ut?', 'Hur är det?', 'Hur känns det?', 'Var är de?', 'Var ligger Paris?', 'Var var du någonstans?', 'Var är min bil?', 'Var är mitt te?', 'Vem förstörde denna?', 'Vem förstörde det här?', 'Vem har haft sönder den här?', 'Vem hade sönder den här?', 'Vem bor här?', 'Vem skulle bry sig?', 'Vem håller utkik?', 'Vem är på vakt?', 'Vem går på vakt?', 'Vem talar?', 'Vem pratar?', 'Vem är den pojken?', 'Vem är den här killen?', 'Vem ska man lägga skulden på?', 'Vem ska ges skulden?', 'Vems är de?', 'Varför frågar du?', 'Varför ljuger du?', 'Varför ljuger ni?', 'Det är bäst att du springer.', 'Ni dödade Tom.', 'Du måste göra det.', 'Ni måste göra det.', 'Du verkar glad.', 'Ni verkar glada.', 'Ni verkar lyckliga.', 'Du verkar lycklig.', 'Du borde äta.', 'Du luktar gott.', 'Du kommer att klara dig.', 'Du är inbjuden.', 'Du är min hjälte.', 'Du är inte Tom.', 'Du är inte gammal.', 'Du är ytlig.', 'Du är uppriktig.', 'Du är ärlig.', 'Ni är uppriktiga.', 'Ni är ärliga.', 'Du har förändrats.', 'Ni har förändrats.', 'Är jag ensam här?', 'Tråkar jag ut dig?', 'Har jag någonsin fel?', 'Är jag i trubbel?', 'Är mina öron röda?', 'Är de minderåriga?', 'Är vi alla här?', 'Är vi klara nu?', 'Är vi säkra nu?', 'Är vi säkra än?', 'Är vi trygga än?', 'Är ni färdiga?', 'Är du på jobb?', 'Är du på jobbet?', 'Är du säker?', 'Är du avundsjuk?', 'Är ni avundsjuka?', 'Är ni avundsjuk?', 'Skämtar du?', 'Tittar du?', 'Är du i tjänst?', 'Är ni släkt?', 'Är du allvarlig?', 'Menar du allvar?', 'Menar du det på allvar?', 'Är du törstig?', 'Uppför dig.', 'Koka lite vatten.', 'Hämta hit min väska.', 'Ring polisen!', 'Ring polisen.', 'Har jag råd med den?', 'Får jag vara ärlig?', 'Kan jag få en hund?', 'Får jag ta den här?', 'Kan jag beställa nu?', 'Kan jag beställa en?', 'Får jag parkera här?', 'Får jag sitta här?', 'Kan jag sitta här?', 'Kan jag lita på Tom?', 'Får jag prova den?', 'Kan jag arbeta här?', 'Kan Tom hjälpa oss?', 'Kan någon hjälpa till?', 'Kan den repareras?', 'Går den att laga?', 'Kan de se oss?', 'Kan vi äta det här?', 'Kan vi laga den här?', 'Kan vi bevisa det?', 'Kan vi rädda Tom?', 'Kan vi sitta här?', 'Kan vi använda den här?', 'Kan du känna det?', 'Kan du hämta Tom?', 'Kan du höra mig?', 'Kan ni höra mig?', 'Kan ni hjälpa mig?', 'Hinner du?', 'Kan du flytta den?', 'Kan du läsa det?', 'Ser du vad det står?', 'Kan du hoppa över mig?', 'Kan du skjutsa mig?', 'Kan du vissla?', 'Kyckling, tack.', 'Städa ditt rum.', 'Stäng din bok.', 'Stäng er bok.', 'Stäng igen din bok.', 'Stäng igen er bok.', 'Blunda.', 'Kom och ta mig.', 'Kom och hälsa på oss.', 'Kom in här.', 'Kom in, Tom.', 'Kom upp, Tom.', 'Kom och hämta mig.', 'Kom och prata med mig.', 'Kom, sätt dig bredvid mig.', 'Grattis!', 'Får jag fråga varför?', 'Kan jag få den?', 'Håll för öronen.', 'Kråkor är fåglar.', 'Kråkor är svarta.', 'Sluta, Tom.', 'Tärna löken.', 'Missade jag mycket?', 'Skrämde jag dig?', 'Skrämde jag er?', 'Gjorde Tom det här?', 'Såg Tom okej ut?', 'Sa Tom vem?', 'Sa Tom varför?', 'Sade Tom varför?', 'Sa Tom ja?', 'Såg Tom dig?', 'Tyckte hon om den?', 'Köpte de den?', 'Frågade du Tom?', 'Gjorde du det?', 'Gjorde du det här?', 'Var det du som gjorde det här?', 'Hörde du det?', 'Tyckte du om det?', 'Tyckte ni om det?', 'Saknade du mig?', 'Tryckte du på den?', 'Läste du den?', 'Läste du det?', 'Såg du Tom?', 'Träffade du Tom?', 'Skrev du under det?', 'Skrev du på det?', 'Stämde du Tom?', 'Tog du den?', 'Sjöng du inte?', 'Sjöng ni inte?', 'Jag bjuder på middag.', 'Middagen är klar!', 'Middagen är färdig!', 'Ser jag trött ut?', 'Har vi bete?', 'Använder du droger?', 'Tvivlar du på mig?', 'Tycker ni om det?', 'Känns det inte bra?', 'Känner du dig gammal?', 'Känner du Tom?', 'Känner du till Tom?', 'Känner du henne?', 'Känner du honom?', 'Vet du hur?', 'Gillar du Tom?', 'Tycker du om Tom?', 'Älskar du Tom?', 'Älskar ni Tom?', 'Älskar du henne?', 'Saknar du Tom?', 'Saknar ni Tom?', 'Ser du dem?', 'Ser du den här?', 'Litar du på mig?', 'Irriterar det dig?', 'Ser den okej ut?', 'Var inte dum.', 'Glöm inte det.', 'Reta inte Tom.', 'Ljug inte!', 'Far inte med osanning.', 'Kom inte med lögner.', 'Kör försiktigt.', 'Smaklig måltid.', 'Alla applåderar.', 'Alla vet.', 'Alla är överens.', 'Alla gjorde det.', 'Alla tittade.', 'Alla bad.', 'Alla såg det.', 'Alla såg den.', 'Alla är döda.', 'Alla är här.', 'Alla är sjuka.', 'Allt är okej.', 'Följ den bilen.', 'Skärp dig, Tom.', 'Skaffa ett liv, Tom.', 'Gå in i båten.', 'Sätt dig i båten.', 'Hämta mina tabletter.', 'Hämta min verktygslåda.', 'Försvinn från min gräsmatta!', 'Åk ut ur stan.', 'Få bort dem.', 'Röj undan dem.', 'Hämta kaptenen.', 'Hämta din mamma.', 'Slå Tom en signal.', 'Ge Tom ett handtag.', 'Ge mig en munk.', 'Ge mig någonting att dricka.', 'Ge mig eld.', 'Ge mig en sked.', 'Ge mig en timme.', 'Ge mig min öl.', 'Ge mig min käpp.', 'Ge mig micken.', 'Ge dem pengar.', 'Gå ut igen.', 'Återgå till arbetet.', 'Gå och gör någonting.', 'Gå och hämta din bil.', 'Gå in i labbet.', 'Gå och gör popcorn.', 'Gå till läkaren.', 'Gå till jobbet, Tom.', 'Gå till din plats.', 'Killar är dumma.', 'Håll i dem.', 'Har Tom kommit?', 'Har han kommit än?', 'Ha en bra dag.', 'Ha det så bra.', 'Ha en bra dag.', 'Han började gråta.', 'Han kom springande.', 'Han gjorde sin plikt.', 'Han drack en öl.', 'Han hade inga pengar.', 'Han har en Toyota.', 'Han har gått ut.', 'Han har tio kor.', 'Han är målare.', 'Han är en slug räv.', 'Han är lärare.', 'Han är ogift.', 'Han är välavlönad.', 'Han tycker om godsaker.', 'Han gillar tigrar.', 'Han tycker om tigrar.', 'Han gillar att springa.', 'Han ser stark ut.', 'Han blev av med sitt jobb.', 'Han älskar fotboll.', 'Han älskar tåg.', 'Han kan vara där.', 'Han nämnde det.', 'Han säljer whisky.', 'Han blir lätt trött.', 'Han kommer att överleva.', 'Han skriver böcker.', 'Han håller på att bli skallig.', 'Han är min bror.', 'Snälla hjälp mig.', 'Hennes bok är röd.', 'Hennes far dog.', 'Hennes hår är torrt.', 'Här är jag igen.', 'Här, prova den.', 'Hör ni, jag kan hjälpa till.', 'Hallå, kan jag hjälpa till?', 'Hans namn är Tom.', 'Han heter Tom.', 'Hans son är sjuk.', 'Hissa seglen!', 'Hissa segel!', 'Håll Tom åt mig.', 'Hästar springer fort.', 'Kan du inte ge en kram?', 'Kan jag få en kram?', 'Hur mår du nu?', 'Hur kan vi stå till tjänst?', 'Hur kan vi hjälpa till?', 'Hur agerade Tom?', 'Hur klarade de sig?', 'Hur gick det på jobbet?', 'Hur ska vi börja?', 'Hur går det för dig?', 'Hur smakar maten?', 'Hur är det med din pappa?', 'Hur mår din pappa?', 'Hur kan vi hjälpa till?', 'Hur gammal är du?', 'Hur gammal är den där?', 'Hur gammal är den här?', 'Hur rik är Tom?', 'Hur sjuk är Tom?', 'Så olyckligt!', 'Hur ska det sluta?', 'Hur är det med Tom?', 'Hur går det för Tom?', 'Hur går det?', 'Hur är vattnet?', 'Jag avskyr spindlar.', 'Det värker i hela kroppen.', 'Jag har ont överallt.', 'Jag gjorde det nästan.', 'Jag är journalist.', 'Jag är dödstrött.', 'Jag är från Egypten.', 'Jag är inte dum.', 'Jag frågade efter Tom.', 'Det där måste ha gjort ont.', 'Jag köpte en bok.', 'Jag kom trea.', 'Jag kom med Tom.', 'Jag kan vara ärlig.', 'Jag kan göra det nu.', 'Jag kan köra dig.', 'Jag kan känna det.', 'Jag kan få in oss.', 'Jag kan simma bra.', 'Jag kan lita på Tom.', 'Jag kan gå hem.', 'Jag kan jobba sent.', 'Jag kan inte vara säker.', 'Jag kan inte delta.', 'Jag kan inte tävla.', 'Jag kan inte ställa upp.', 'Jag kan inte göra detta.', 'Jag kan inte göra det här.', 'Jag kan inte låtsas.', 'Jag kan inte bluffa det.', 'Jag kan inte fejka det.', 'Jag kan inte hitta den.', 'Jag kan inte hitta det.', 'Jag hinner inte.', 'Jag kan inte se er.', 'Jag kan inte göra det ogjort.', 'Jag blev förkyld.', 'Jag förkylde mig.', 'Jag fångade en fisk!', 'Jag lagade kvällsmat.', 'Jag lagade middag.', 'Jag skulle kunna göra det.', 'Jag skulle behöva en.', 'Jag tar gärna en.', 'Jag kunde inte tala.', 'Jag gråter varje dag.', 'Jag klippte mig i fingret.', 'Jag gjorde det en gång.', 'Jag köpte den inte.', 'Jag köpte det inte.', 'Jag köpte inte den.', 'Jag köpte inte det.', 'Det stör mig inte.', 'Jag körde bilen.', 'Jag tycker om att jobba.', 'Jag känner mig febrig.', 'Jag mår bra nu.', 'Jag känner mig illamående.', 'Jag avfyrade pistolen.', 'Jag avfyrade skjutvapnet.', 'Jag glömde min väska.', 'Jag hittade min bok.', 'Jag fick en rutten en.', 'Jag fick en som var rutten.', 'Jag fick rabatt.', 'Jag kom över det.', 'Jag köpte de här åt dig.', 'Jag fick din lapp.', 'Jag hade min chans.', 'Jag hade mina dubier.', 'Jag hade mina order.', 'Jag var tvungen att ge upp.', 'Jag fick ge upp.', 'Jag fick säga upp mig.', 'Jag var tvungen att säga upp mig.', 'Jag var tvungen att avgå.', 'Jag hatar fotboll.', 'Jag hatar min röst.', 'Jag hatar politik.', 'Jag hatar regn.', 'Jag hatar bröllop.', 'Jag hatar helger.', 'Jag har familj.', 'Jag har en familj.', 'Jag har en minut.', 'Jag har en teori.', 'Jag har ett äpple.', 'Jag har stora öron.', 'Jag har barn.', 'Jag har diabetes.', 'Jag har epilepsi.', 'Jag har bevis.', 'Jag lider av sömnlöshet.', 'Jag har inga pengar.', 'Jag har en till.', 'Jag har återvänt.', 'Jag måste hålla med.', 'Jag måste sova.', 'Jag har två bilar.', 'Jag har två katter.', 'Jag har två jobb.', 'Jag har din nyckel.', 'Jag hör skratt.', 'Jag hörde ett brak.', 'Jag hörde ett ljud.', 'Jag hörde ett oljud.', 'Jag hörde ett ljud.', 'Jag hoppas att det regnar.', 'Jag hoppas att den fungerar.', 'Jag gjorde illa armbågen.', 'Jag tänker försöka.', 'Jag joggar varje dag.', 'Jag hittade den precis.', 'Jag hittade det just.', 'Jag hittade den just.', 'Jag hittade det precis.', 'Jag har just fått den.', 'Jag har just lämnat Tom.', 'Jag har nyligen flyttat in.', 'Jag kände till risken.', 'Jag visste för mycket.', 'Jag kände din pappa.', 'Jag vet att jag är säker.', 'Jag kan allt det här.', 'Jag vet allt det här.', 'Jag kan allt detta.', 'Jag vet allt detta.', 'Jag vet att det gör ont.', 'Jag vet det nu.', 'Jag kan sången.', 'Jag kan låten.', 'Jag känner till sången.', 'Jag känner till låten.', 'Jag skrattade mycket.', 'Jag ljög om det.', 'Jag gillar tecknat.', 'Jag tycker om barn.', 'Jag tycker om att klättra.', 'Jag tycker om klättring.', 'Jag tycker om rå fisk.', 'Jag gillar rå fisk.', 'Jag gillar att simma.', 'Jag tycker om att simma.', 'Jag tycker om simning.', 'Jag tycker om det jobbet.', 'Jag gillar den där slipsen.', 'Jag gillar den här koppen.', 'Jag tycker om den här koppen.', 'Jag gillar den här hunden.', 'Jag tycker om den här hunden.', 'Jag tycker om att dansa.', 'Jag tycker om dig också.', 'Jag gillar din bil.', 'Jag tycker om din bil.', 'Jag gillar din hund.', 'Jag tycker om din hund.', 'Jag gillar din hatt.', 'Jag tycker om din hatt.', 'Jag tände tändstickan.', 'Jag bor i Japan.', 'Jag bor i Tokyo.', 'Jag bor med Tom.', 'Jag tappade intresset.', 'Jag älskar barn.', 'Jag älskar alla.', 'Jag älskar den här bilen.', 'Jag älskar det här jobbet.', 'Jag älskar detta jobb.', 'Jag älskar detta arbete.', 'Jag älskar det här arbetet.', 'Jag älskar att skrinna.', 'Jag älskar att sova.', 'Jag älskar att undervisa.', 'Jag älskar er båda.', 'Jag tycker jättemycket om din väska.', 'Din väska är jättefin.', 'Du har jättefin hatt.', 'Jag gjorde den där.', 'Jag tänkte ringa.', 'Jag träffade Tom idag.', 'Jag saknar allt det här.', 'Jag saknar dig, Tom.', 'Jag saknar dig också.', 'Jag missförstod.', 'Jag måste vara full.', 'Jag måste vara där.', 'Jag måste ta reda på det.', 'Jag måste få reda på det.', 'Jag måste hjälpa honom.', 'Jag måste träffa Tom.', 'Jag måste tala om det för Tom.', 'Jag måste säga det till Tom.', 'Jag måste berätta det för Tom.', 'Jag behöver internet.', 'Jag behöver en advokat.', 'Jag behöver en minut.', 'Jag behöver en präst.', 'Jag behöver ett vapen.', 'Jag behöver bevis.', 'Jag behöver vägledning.', 'Jag behöver hans namn.', 'Jag behöver mina tabletter.', 'Jag behöver mitt svärd.', 'Jag behöver en till.', 'Jag behöver lite frisk luft.', 'Jag behöver någon.', 'Jag behöver nycklarna.', 'Jag behöver bandet.', 'Jag måste kolla.', 'Jag måste fokusera.', 'Jag behöver dig här.', 'Jag behöver din bil.', 'Jag ger aldrig upp.', 'Jag slog aldrig Tom.', 'Jag träffade aldrig Tom.', 'Jag såg dig aldrig.', 'Jag såg aldrig dig.', 'Jag såg aldrig er.', 'Jag såg er aldrig.', 'Jag ser honom ofta.', 'Jag träffar honom ofta.', 'Jag behöver bara en.', 'Jag betalade mina räkningar.', 'Jag betalade mina skatter.', 'Jag betalade notan.', 'Jag spelade tennis.', 'Jag föredrar kaffe.', 'Jag ringde i klockan.', 'Jag läste ett brev.', 'Jag läser ett brev.', 'Jag läste hans bok.', 'Jag läser hans bok.', 'Jag litade på Tom.', 'Jag springer varje dag.', 'Jag joggar varje dag.', 'Lägg av, sa jag!', 'Jag sa det jag ville säga.', 'Sätt dig, sa jag.', 'Jag sa för mycket.', 'Jag såg Tom igen.', 'Jag såg Tom blinka.', 'Jag såg Tom rodna.', 'Jag såg Tom le.', 'Jag såg Tom i dag.', 'Jag träffade Tom i dag.', 'Jag såg ett idag.', 'Jag såg den där också.', 'Jag såg slagsmålet.', 'Jag såg bråket.', 'Jag såg grälet.', 'Jag såg dig där.', 'Jag ser ett mönster.', 'Jag ser honom ofta.', 'Jag ser krönet.', 'Jag ser toppen.', 'Jag ser kronan.', 'Jag skickade iväg Tom.', 'Jag skickade hem Tom.', 'Jag bytte växel.', 'Jag sov hela dagen.', 'Jag gör det fortfarande.', 'Jag pratade med Tom.', 'Jag talade med Tom.', 'Jag är benägen att hålla med.', 'Jag sa det till Tom.', 'Jag litar på er alla.', 'Jag litar på er allihopa.', 'Jag stängde av den.', 'Jag vill ha en gitarr.', 'Jag vill ha en advokat.', 'Jag vill ha en papegoja.', 'Jag vill ha pengarna tillbaka.', 'Jag vill ha ett äpple.', 'Jag vill ha mina pengar.', 'Jag vill ha den väskan.', 'Jag vill ha den där bilen.', 'Jag vill ha den där katten.', 'Jag vill ha det där jobbet.', 'Jag vill ha den här väskan.', 'Jag vill dansa.', 'Jag vill göra det.', 'Jag vill drömma.', 'Jag vill raka mig.', 'Jag vill sova.', 'Jag var vittne.', 'Jag föddes här.', 'Jag är född här.', 'Jag var äcklad.', 'Jag var utmattad.', 'Jag var förfärad.', 'Jag var i Boston.', 'Jag var ansvarig.', 'Jag höll i trådarna.', 'Jag var väldigt upptagen.', 'Jag kommer att sakna dig.', 'Jag önskar dig lycka till.', 'Jag önskar dig lycka.', 'Jag önskar dig allt väl.', 'Jag önskar dig lycka till.', 'Jag jobbar här nu.', 'Jag jobbar här numera.', 'Jag fixar det.', 'Jag ska göra mitt bästa.', 'Jag kommer att följa dig.', 'Jag hämtar min bil.', 'Jag går och frågar Tom.', 'Jag ska gå och fråga Tom.', 'Jag kommer att gå och fråga Tom.', 'Jag går och hämtar Tom.', 'Jag betalar det dubbla.', 'Jag är lite tokig.', 'Jag är en lycklig man.', 'Jag är professor.', 'Jag är en öbo.', 'Jag tuggar tuggummi.', 'Jag är färgblind.', 'Jag äter ris.', 'Jag är glad att vi träffades.', 'Jag håller på att bli galen.', 'Jag blir galen.', 'Jag hjälper dig.', 'Jag har inte bråttom.', 'Jag är vänsterhänt.', 'Jag menar inte allvar.', 'Jag är inte seriös.', 'Jag är på semester.', 'Jag är fyndig.', 'Jag är påhittig.', 'Jag är rådig.', 'Jag är fortfarande arg.', 'Jag är trött på TV.', 'Jag är trött på tv.', 'Jag är din advokat.', 'Jag är er advokat.', 'Jag måste iväg.', 'Jag måste kila.', 'Jag måste försöka.', 'Är Tom medlem?', 'Är Tom så dålig?', 'Är Tom så usel?', 'Är Tom din son?', 'Är Tom er son?', 'Är det någon här?', 'Är någon hemma?', 'Är det någon hemma?', 'Andas han?', 'Är det viktigt?', 'Är den giftig?', 'Är det giftigt?', 'Är hon japansk?', 'Är hon japanska?', 'Är det hälsosamt?', 'Är det där hälsosamt?', 'Är det här en radio?', 'Är det här korrekt?', 'Är det här riktigt?', 'Är det här etiskt?', 'Är det här allvarligt?', 'Är det måndag idag?', 'Det kostade ingenting.', 'Det kostade inte någonting.', 'Det skulle kunna vara kul.', 'Det skulle kunna vara roligt.', 'Det måste vara jag.', 'Det är inte ett spel.', 'Det är inte en lek.', 'Den såg billig ut.', 'Det såg billigt ut.', 'Det såg roligt ut.', 'Det var en lättnad.', 'Det var väldigt varmt.', 'Det var värt det.', 'Det blir värre.', 'Det kommer att bli värre.', 'Det är Toms idé.', 'Det är en gammal bil.', 'Det är kallt i dag.', 'Det är influensasäsong.', 'Det är lunchdags.', 'Det är inget problem.', 'Det är inga problem.', 'Det är inte en bomb.', 'Det är inte ett spel.', 'Det är inte en lek.', 'Det är inte en gåva.', 'Det är inte ett skämt.', 'Det är inte ett lån.', 'Det är inte så illa.', 'Det är inte dumt.', 'Det är bara pengar.', 'Det är jättetråkigt.', 'Den är utomordentlig.', 'Det är fortfarande fuktigt.', 'Den är ännu fuktig.', 'Det är dags att åka.', 'Det är dags att gå.', 'Det är för smalt.', 'Det är för trångt.', 'Den är för smal.', 'Den är för trång.', 'Den är för snäv.', 'Det är för snävt.', 'Jesus älskar dig.', 'Följ bara Tom.', 'Håll Tom inomhus.', 'Släpp av mig här.', 'Låt mig se det där.', 'Låt mig berätta för Tom.', 'Låt oss vara uppriktiga.', 'Kom, vi drar.', 'Vi stannar här.', 'Livet är inte lätt.', 'Livet är inte lätt.', 'Se dig omkring.', 'Titta på katten.', 'Titta på himlen.', 'Titta bakom dig.', 'Jag kanske stannar.', 'Kanske stannar jag.', 'Blanda Tom en drink.', 'Min katt är svart.', 'Min hund sprang iväg.', 'Min hund har sprungit iväg.', 'Mitt hus är stort.', 'Jag har ont i halsen.', 'Släpp aldrig taget om mig.', 'Ingen blev sjuk.', 'Ingen är där.', 'Ingen överlevde.', 'Ingen gillar det.', 'Ingen skrek.', 'Ingen överlevde.', 'Ingen skadades.', 'Ingenting är gratis.', 'Gå och lägg dig nu.', 'Gå och lägg er nu.', 'Öppna flaskan.', 'Öppna munnen.', 'Varsågod och sitt ner.', 'Läs detta först.', 'Läs det här först.', 'Ta av dig hatten.', 'Regler är regler.', 'Spara en munk till mig.', 'Säg nej till droger.', 'Hajar äter fisk.', 'Hon förlät honom.', 'Hon hade en radio.', 'Hon är diskret.', 'Hon är inte här.', 'Hon bor ensam.', 'Hon tittade bort.', 'Hon gifte sig med honom.', 'Hon läser aldrig.', 'Hon gav honom en örfil.', 'Hon pratar mycket.', 'Hon litade på dig.', 'Hon gick in.', 'Hon väckte honom.', 'Hon arbetade hårt.', 'Hon är desperat.', 'Hon är otålig.', 'Stäng munnen.', 'Sitt rakt.', 'Så här långt ser det bra ut.', 'Än så länge ser det bra ut.', 'Så vad ska jag göra?', 'Våren är här.', 'Våren är kommen.', 'Sopa golvet.', 'Berätta en historia.', 'Berätta en saga.', 'Säg vem som vann.', 'Den bilen är hans.', 'Det där är ett hjärta.', 'Det där är ett bord.', 'Det där är hans bil.', 'Det där är en pagoda.', 'Det är gammal skåpmat.', 'Luften är fuktig.', 'Svaret är nej.', 'Bilen är blå.', 'Barnet grät.', 'Tärningen är kastad.', 'Hunden är död.', 'Äggen kläcktes.', 'Det finns en hake.', 'Det finns ingen tvål.', 'Där ligger hunden begraven!', 'De är skådespelare.', 'De är piloter.', 'De ringde dig.', 'De dog unga.', 'De hittade det här.', 'De gick tidigt.', 'De bor där.', 'De förlorade igen.', 'De förstod.', 'De blev tokiga.', 'De kommer att hjälpa oss.', 'De är vänner.', 'De är körda.', 'De är speciella.', 'Den här bilen är hans.', 'Det här är skräp.', 'Det här är min öl.', 'Det här är mitt öl.', 'Det här är mitt skepp.', 'Detta är min fru.', 'Det här är min fru.', 'Det här är vår bil.', 'Det här är slutet.', 'Det här är ovanligt.', 'Kasta den till Tom.', 'Att fela är mänskligt.', 'Tom bidrog.', 'Tom skar sig.', 'Tom hade inget emot det.', 'Tom överdrev.', 'Tom misslyckades också.', 'Tom matade hunden.', 'Tom kände sig skyldig.', 'Tom kände lättnad.', 'Tom klädde på sig.', 'Tom förlovade sig.', 'Tom blev ivrig.', 'Tom hade ingenting.', 'Tom har feber.', 'Tom har anlänt.', 'Tom har kommit.', 'Tom har förändrats.', 'Tom har rymt.', 'Tom har kaniner.', 'Tom hatade att ljuga.', 'Tom hatar lögnare.', 'Tom hatar lögnhalsar.', 'Tom hatar opera.', 'Tom är en hippie.', 'Tom är bedårande.', 'Tom är förtjusande.', 'Tom är upprörd.', 'Tom är irriterande.', 'Tom är konstnärlig.', 'Tom är på lunch.', 'Tom är atletisk.', 'Tom har autism.', 'Tom är autistisk.', 'Tom bluffar.', 'Tom är charmig.', 'Tom är kreativ.', 'Tom är trovärdig.', 'Tom är kultiverad.', 'Tom är nedstämd.', 'Tom är finkänslig.', 'Tom är sinnessjuk.', 'Tom är vansinnig.', 'Tom är flitig.', 'Tom är illojal.', 'Tom är skild.', 'Tom är tveksam.', 'Tom är villrådig.', 'Tom är dyblöt.', 'Tom är genomvåt.', 'Tom är orädd.', 'Tom är förlåten.', 'Tom är vänlig.', 'Tom är generös.', 'Tom skrattar.', 'Tom är min gäst.', 'Tom är inte här.', 'Tom målar.', 'Tom är fortfarande uppe.', 'Tom är fortfarande vaken.', 'Tom är halsstarrig.', 'Tom svettas.', 'Tom simmar.', 'Det är Tom som bestämmer.', 'Tom är chef.', 'Tom är för långsam.', 'Tom är på övervåningen.', 'Tom är mycket vältränad.', 'Tom har det bra ställt.', 'Tom är med henne.', 'Tom är inte ensam.', 'Tom är inte galen.', 'Tom är inte petig.', 'Tom är inte glad.', 'Tom är inte småaktig.', 'Tom dödade Mary.', 'Tom lämnade ett meddelande.', 'Tom ljög för dig.', 'Tom gillar musik.', 'Tom tycker om musik.', 'Tom såg bra ut.', 'Tom ser arg ut.', 'Tom ser glad ut.', 'Tom ser trött ut.', 'Tom saknar Mary.', 'Tom behöver blod.', 'Tom kommer aldrig.', 'Tom beställde en.', 'Tom ringde en klocka.', 'Tom sjöng för oss.', 'Tom verkade cool.', 'Tom verkade borta.', 'Tom verkade vilse.', 'Tom verkade trevlig.', 'Tom verkar uttråkad.', 'Tom stannade hemma.', 'Tom svor åt mig.', 'Tom berättade ett skämt.', 'Tom berättade en vits.', 'Tom försökte igen.', 'Tom provade igen.', 'Tom bleknade.', 'Tom blev blek.', 'Tom ville ha hjälp.', 'Tom var tillgiven.', 'Tom var som jag.', 'Tom haltade.', 'Tom var min hjälte.', 'Tom flämtade.', 'Tom flåsade.', 'Tom hade helt rätt.', 'Tom är genialisk.', 'Tom är bekymrad.', 'Tom har erkänt.', 'Tom är vid medvetande.', 'Tom är vid sans.', 'Tom är övertygad.', 'Tom är farlig.', 'Tom är desperat.', 'Tom är annorlunda.', 'Tom är imponerad.', 'Tom lyssnar.', 'Stäng av tv:n.', 'Vänta en sekund.', 'Tvätta händerna.', 'Se upp var du går.', 'Vi är en familj.', 'Vi är studenter.', 'Vi är lärare.', 'Vi är inte unga.', 'Vi anlände sent.', 'Vi kan hjälpa dig.', 'Vi kan hjälpa er.', 'Vi räknar med Tom.', 'Vi önskar fred.', 'Vi äter rå fisk.', 'Vi har kollat.', 'Vi måste flytta.', 'Vi måste förflytta oss.', 'Vi måste röra på oss.', 'Vi hörde röster.', 'Vi joggar tillsammans.', 'Vi älskar picknickar.', 'Vi måste hitta den.', 'Vi måste hitta det.', 'Vi belönade Tom.', 'Vi borde le.', 'Vi borde studera.', 'Vi vill ha rättvisa.', 'Vi vill ha resultat.', 'Vi väntade.', 'Vi var oroliga.', 'Vi jobbar för Tom.', 'Vi är anpassningsbara.', 'Vi kan anpassa oss.', 'Vi är flexibla.', 'Vi är annorlunda.', 'Vi är olika.', 'Vi är energiska.', 'Vi är inte unga.', 'Vi är släkt.', 'Vi är skattebetalare.', 'Vi är tonåringar.', 'Vi är mycket snabba.', 'Vi är väldigt snabba.', 'Vi är vittnen.', 'Bra jobbat, gubbar.', 'Vilken överraskning!', 'Vad kan Tom göra?', 'Vad gjorde Tom?', 'Vad sa han?', 'Vad sade han?', 'Vad fick vi?', 'Vad gör de?', 'Vad har vi?', 'Vad vet vi?', 'Hur är han?', 'Hurdan är han?', 'Hur gammal är han?', 'Vad är det, Tom?', 'Vad saknas?', 'Vad dödade Tom?', 'Vad var det som Tom dödade?', 'Vad skrämde dig?', 'Vad är klockan?', 'Vad fanns inuti?', 'Vad heter han?', 'Vad finns där inne?', 'Vad finns på insidan?', 'Vad handlar det om?', 'Vad är min belöning?', 'Vad är det som är så kul?', 'Vad är det som är så roligt?', 'Vad är klockan?', 'Vad är den här till?', 'Vad används den här till?', 'Vad har du?', 'När kan vi äta?', 'När ska vi gå?', 'Vart gick han?', 'Var är min boll?', 'Var är min kam?', 'Var är väskan?', 'Vem bidrog?', 'Vilka bidrog?', 'Vem är den killen?', 'Vem är den där killen?', 'Vem är den pojken?', 'Vem är den där mannen?', 'Vem tog emot det?', 'Varför är vi här?', 'Varför göra det här nu?', 'Varför göra detta nu?', 'Kommer vi att överleva?', 'Du är olydig.', 'Ni är olydiga.', 'Du är inte rik.', 'Du är inte ful.', 'Du vart lurad.', 'Du ser rädd ut.', 'Du ser dum ut.', 'Du ser osäker ut.', 'Du borde stanna.', 'Ni borde stanna.', 'Du skrämde mig.', 'Du kommer vara ensam.', 'Du kommer snart att dö.', 'Du är ett hot.', 'Du utgör ett hot.', 'Du är bedårande.', 'Ni är bedårande.', 'Du är förtjusande.', 'Ni är förtjusande.', 'Du är en idiot.', 'Du är arrogant.', 'Ni är arroganta.', 'Du är atletisk.', 'Ni är atletiska.', 'Du babblar.', 'Du pladdrar.', 'Du är oartig.', 'Ni är oartiga.', 'Du är mitt barn.', 'Du är min gäst.', 'Du är inte rik.', 'Du är pålitlig.', 'Du kör så mycket med folk.', 'Du domderar så mycket.', 'Du är så nära.', 'Ni är så nära.', 'Du är så kinkig.', 'Du är så kräsen.', 'Du är så smart.', 'Du kommer med undanflykter.', 'Du är begåvad.', 'Din katt är tjock.', 'Er katt är tjock.', 'Din gylf är öppen.', 'En fågel har vingar.', 'En taxi står och väntar.', 'En hund skäller.', 'En tjej ringde mig.', 'En geting stack Tom.', 'Får jag sparken?', 'Vem som helst kan göra det.', 'Är de förälskade i varandra?', 'Är de släkt?', 'Är de besläktade?', 'Är de där till mig?', 'Är de där för mig?', 'Är de där åt mig?', 'Är vi färdiga här?', 'Ska vi åka långt?', 'Ska vi gå långt?', 'Är vi i fara?', 'Är du japan?', 'Är du japansk?', 'Är du golfspelare?', 'Är du nudist?', 'Är du förälder?', 'Är du präst?', 'Är du en idiot?', 'Rodnar du?', 'Går det bra för dig?', 'Är du färdig?', 'Tänker du gå in?', 'Är du min fiende?', 'Är du ny här?', 'Är du inte färdig?', 'Är ni inte färdiga?', 'Är du ombord?', 'Använder du droger?', 'Är du ledig?', 'Har ni öppet nu?', 'Sover du?', 'Är du stressad?', 'Är ni stressade?', 'Är ni studenter?', 'Har du för kallt?', 'Har du för varmt?', 'Är ni två upptagna?', 'Är du där uppe?', 'Är ni inte trötta?', 'Var mer specifik.', 'Kom dit vid tolv.', 'Påbörja evakuering.', 'Fåglar har vingar.', 'Hämta in den, Tom.', 'Kom igen, Tom.', 'Hämta min käpp.', 'Hämta hit dem.', 'Borsta tänderna.', 'Borsta dina tänder.', 'Borsta era tänder.', 'Ring mig någon gång.', 'Ring din far.', 'Kan jag vara till hjälp?', 'Kan jag få en öl?', 'Får jag stiga upp nu?', 'Får jag gå och surfa?', 'Kan jag få en kram?', 'Får jag ta tre?', 'Kan jag få tre?', 'Kan jag lita på dem?', 'Kan Tom gå först?', 'Går detta att utföra?', 'Kan detta vara sant?', 'Kan vi ta med Tom?', 'Får vi också komma?', 'Kan vi gå in?', 'Kan vi hjälpa dem?', 'Kan vi gå nu?', 'Kan vi bo här?', 'Kan vi prata här?', 'Kan vi lita på dig?', 'Kan du fånga mig?', 'Kan du ta reda på det?', 'Kan du hjälpa Tom?', 'Kan du bevisa det?', 'Kan du rädda Tom?', 'Kan du se det där?', 'Kan du se dem?', 'Kan ni se dem?', 'Kan du tala högre?', 'Kan du stoppa Tom?', 'Kan du inte se det?', 'Kan du inte se den?', 'Katter sover mycket.', 'Kontrollera din beställning.', 'Kontrollera din order.', 'Körsbär är röda.', 'Städa upp det, Tom.', 'Klättra upp till toppen.', 'Stäng munnen.', 'Kom och hjälp oss.', 'Kom igen, rör på påkarna.', 'Kom ut med oss.', 'Kom och spring med mig.', 'Fortsätt gräva.', 'Fortsätt arbeta.', 'Behärska dig.', 'Kan det vara sant?', 'Bjöd jag in dig?', 'Skrev jag det där?', 'Bet Tom dig?', 'Blev Tom skadad?', 'Skadades Tom?', 'Slog Tom Mary?', 'Betalade Tom också?', 'Knuffade Tom dig?', 'Pressade Tom dig?', 'Sade Tom det?', 'Har Tom sänt dig?', 'Hittade de den?', 'Hade de den?', 'Sa de hur?', 'Sade de hur?', 'Sa de varför?', 'Sade de varför?', 'Tog du med den?', 'Köpte du majs?', 'Köpte ni majs?', 'Köpte du dem?', 'Hittade du Tom?', 'Gick du vilse?', 'Fick du det?', 'Förstod du det där?', 'Hade du roligt?', 'Hade du kul?', 'Dödade du Tom?', 'Kände du Tom?', 'Träffade du honom?', 'Svimmade du?', 'Sov du bra?', 'Berättade du för Tom?', 'Varnade du Tom?', 'Får jag ett pris?', 'Ser jag normal ut?', 'Ser jag dum ut?', 'Ser jag ut som trettio?', 'Är det bacon jag känner lukten av?', 'Snarkar jag mycket?', 'Gör som du vill.', 'Gör det igen, Tom.', 'Gör det en gång till.', 'Gör vad du vill.', 'Gör vad du vill.', 'Klandrar du Tom?', 'Förebrår du Tom?', 'Lägger du skulden på Tom?', 'Bryr du dig ens?', 'Hänger du med på vad jag menar?', 'Har du dem?', 'Känner du dem?', 'Känner ni dem?', 'Gillar du golf?', 'Gillar du snö?', 'Tycker du om snö?', 'Gillar du dem?', 'Tycker du om vin?', 'Bor du här?', 'Bor ni här?', 'Menar du det?', 'Behöver du dem?', 'Äger du ett vapen?', 'Spelar du golf?', 'Läser du på läppar?', 'Säljer ni vin?', 'Litar du på Tom?', 'Vill du ha fisk?', 'Vill du ha barn?', 'Vill du ha mera?', 'Vill du ha litet?', 'Vill du ha soppa?', 'Vill ni ha soppa?', 'Vill du ha dem?', 'Är du anställd här?', 'Gör dina läxor.', 'Har Tom den?', 'Är det Tom som har den?', 'Tycker Tom om mig?', 'Var inte självisk.', 'Var inte så lat.', 'Drick inte det där.', 'Överdriv inte.', 'Glöm inte Tom.', 'Inte så fort!', 'Förolämpa inte Tom.', 'Tappa inte modet.', 'Ingen orsak.', 'Prata inte med mig.', 'Tala inte med mig.', 'Rita en linje här.', 'Dra ett streck här.', 'Kom förbi någon gång.', 'Damma av hyllorna.', 'Ät dina grönsaker.', 'Alla instämmer.', 'Alla jämrar sig.', 'Alla skrattar.', 'Alla log.', 'Alla stannade.', 'Alla stannade kvar.', 'Alla väntade.', 'Alla är upptagna.', 'Alla är döda.', 'Alla flydde.', 'Alla rymde.', 'Alla ska gå.', 'Alla är tysta.', 'Alla är där.', 'Det onda vinner alltid.', 'Ondskan vinner alltid.', 'Slåss som en man!', 'Tanka full tank.', 'Följ mitt råd!', 'Följ mitt råd.', 'Kom in och kör.', 'Sätt dig i lastbilen.', 'Hämta lite vin åt mig.', 'Ta lite åt mig också.', 'Gå bort från min veranda.', 'Gå ner på golvet.', 'Kom till saken!', 'Sätt igång och jobba, Tom.', 'Ge Tom någonting att dricka.', 'Ge Tom pistolen.', 'Ge det en chans.', 'Ge den en minut.', 'Ge den ett ögonblick.', 'Ge den en sekund.', 'Ge mig ett val.', 'Ropa på mig.', 'Vänta en stund.', 'Ge mig ett ögonblick.', 'Ge mig mina pengar.', 'Ge mig en timme.', 'Ge mig en till.', 'Ge mig den där pistolen.', 'Ge mig det där geväret.', 'Ge mig den där nyckeln.', 'Ge mig filen.', 'Ge mig vinet.', 'Ge mig den här hatten.', 'Ge mig din arm.', 'Ge det här till Tom.', 'Ge oss en chans.', 'Ge oss ett ögonblick.', 'Ge oss en sekund.', 'Gå före du, Tom.', 'Säg det bara.', 'Säg det nu.', 'Gå raka vägen hem.', 'Gå och lägg dig, Tom.', 'Gå till garaget.', 'Ta ett paraply.', 'Ta en åt mig också.', 'Ge mig en servett.', 'Har Tom blivit matad?', 'Är det någon som har dött?', 'Få Tom att ringa mig.', 'Ha ett bra liv.', 'Ha det så roligt.', 'Ha en jättebra dag.', 'Ha en fantastisk dag.', 'Ha ett bra liv.', 'Ha ett trevligt liv.', 'Ha en trevlig simtur.', 'Har du träffat Tom?', 'Har ni beställt?', 'Har du beställt?', 'Har du läst den?', 'Har ni två träffats?', 'Han bakade muffins.', 'Han började springa.', 'Han bar sig illa åt.', 'Han bröt armen.', 'Han bröt mot lagen.', 'Han dog plötsligt.', 'Han fascinerade mig.', 'Han föll baklänges.', 'Han hittade min cykel.', 'Han gav mig en kram.', 'Han hade få tänder.', 'Han har stora händer.', 'Han hatar att springa.', 'Han hatar spindlar.', 'Han är akrobat.', 'Han klarar sig bra.', 'Han är hennes vän.', 'Han har problem.', 'Han är min bror.', 'Han har passerat fyrtio.', 'Han är mycket ung.', 'Han tycker om djur.', 'Han gillar apelsiner.', 'Han tycker om apelsiner.', 'Han tycker om att simma.', 'Han tycker om djur.', 'Han älskar att sjunga.', 'Han gav inget svar.', 'Han måste älska dig.', 'Han spelade tennis.', 'Han såg hennes video.', 'Han sov hela dagen.', 'Han talar arabiska.', 'Han talar franska.', 'Han tog sin tid.', 'Han vände sig om.', 'Han vill ha en iPad.', 'Han föddes rik.', 'Han var i Frankrike.', 'Han var fängslad.', 'Han har glasögon.', 'Han har på sig glasögon.', 'Han jobbar söndagar.', 'Han är vid hennes sida.', 'Han är intelligent.', 'Han är inte speciell.', 'Han är din vän.', 'Han är din kompis.', 'Här, prova min penna.', 'Här, använd min penna.', 'Hallå, är det du som är Tom?', 'Hallå där, vem är du?', 'Vänta ett ögonblick.', 'Vänta lite nu.', 'Håll det där åt mig.', 'Vad sägs om fredag?', 'Kan jag få en puss?', 'Hur smakar äggen?', 'Hur går det?', 'Hur mår du?', 'Hur klarar vi oss?', 'Hur mår ni?', 'Hur kommer det sig att du frågar?', 'Hur kunde Tom veta om det?', 'Hur såg Tom ut?', 'Hur dog de?', 'Hur visste du?', 'Hur ska jag göra det?', 'Hur ska jag göra det här?', 'Hur ska jag svara?', 'Hur känner de sig?', 'Hur kan de veta det?', 'Hur ser de ut?', 'Hur ser det ut?', 'Hur fungerar det?', 'Så pinsamt!', 'Hur kan det här vara rättvist?', 'Hur stor var den?', 'Hur mycket kostar det där?', 'Hur mycket är det där?', 'Hur var det idag?', 'Hur var det i dag?', 'Hur var föreställningen?', 'Hur var resan?', 'Hur var din tupplur?', 'Vad du har växt!', 'Jag håller med Tom.', 'Jag gjorde det redan.', 'Jag tycker också om katter.', 'Jag gör alltid sådär.', 'Jag är lite tokig.', 'Jag är professor.', 'Jag äter ris.', 'Jag kommer ifrån Ryssland.', 'Jag kommer från Ryssland.', 'Jag är från Ryssland.', 'Jag är ifrån Ryssland.', 'Jag är ingen häxa.', 'Jag är ganska säker.', 'Jag började på boken.', 'Jag påbörjade boken.', 'Jag började gripas av panik.', 'Jag börjar imorgon.', 'Jag slår vad om att Tom har glömt.', 'Jag slår vad om att det var Tom.', 'Jag köpte en häst.', 'Jag köpte bananer.', 'Det är jag som bestämmer.', 'Jag kom tillbaka hem.', 'Jag kom för att säga hej.', 'Jag kom i går.', 'Jag kom igår.', 'Jag kan vara tålmodig.', 'Jag kan bära den där.', 'Jag kan också göra det.', 'Jag kan få in dig.', 'Jag kan ta hand om Tom.', 'Jag kan knappt se.', 'Jag kan nämna några namn.', 'Jag kan känna lukten av rädsla.', 'Jag kan inte röra det ur fläcken.', 'Jag kan inte flytta på det.', 'Jag kan inte hjälpa er.', 'Jag står inte ut med det.', 'Jag bryr mig om Tom.', 'Jag klättrade upp i ett träd.', 'Jag skulle kunna hjälpa Tom.', 'Jag skulle kunna hjälpa dig.', 'Jag skulle kunna döda dig.', 'Jag skulle kunna kyssa dig.', 'Jag kunde inte sova.', 'Jag kunde inte tala.', 'Jag kunde inte stå.', 'Jag gjorde det för Tom.', 'Jag kramade inte Tom.', 'Jag gör mitt jobb väl.', 'Jag gör som jag vill.', 'Jag gör vad jag vill.', 'Jag känner inte Tom.', 'Jag känner inte honom.', 'Jag gillar inte dig.', 'Jag minns inte.', 'Jag kör en hybrid.', 'Jag kör en hybridbil.', 'Jag blev underkänd i provet.', 'Jag matade hästarna.', 'Jag känner mig självsäker.', 'Jag mår ganska dåligt.', 'Jag känner mig så vacker.', 'Jag känner mig så dum.', 'Jag känner mig väldigt kall.', 'Jag föll baklänges.', 'Jag kände mig så dum.', 'Jag kände mig skräckslagen.', 'Jag fyllde koppen.', 'Jag fyllde på i koppen.', 'Jag glömde kartan.', 'Jag hittade mina skor.', 'Jag fann mina skor.', 'Jag hittade någon.', 'Jag hittade nycklarna.', 'Jag hittade den här.', 'Jag gav det ett försök.', 'Jag sa upp mig.', 'Jag fattar vad du menar.', 'Jag fick en bra en.', 'Jag kom hem först.', 'Jag skaffade en åt oss.', 'Jag blev betalad i dag.', 'Jag har haft en tung dag.', 'Det har varit en tung dag.', 'Jag hade huvudvärk.', 'Vi var tvungna att göra det.', 'Jag var tvungen att gå hem.', 'Jag hatar kemi.', 'Jag hatar min familj.', 'Jag hatar min syster.', 'Jag hatar överraskningar.', 'Jag hatar den idén.', 'Jag hatar det här spelet.', 'Jag hatar den här sången.', 'Jag hatar den här låten.', 'Jag avskyr dig som pesten.', 'Jag har en kommentar.', 'Jag har ett diplom.', 'Jag har en akademisk examen.', 'Jag har en ny bil.', 'Jag har en brödrost.', 'Jag har en husvagn.', 'Jag har ett vittne.', 'Jag har varit upptagen.', 'Jag har fullt upp.', 'Jag har blå ögon.', 'Jag har blåa ögon.', 'Jag har god hörsel.', 'Jag har god syn.', 'Jag har goda nyheter.', 'Jag har grått hår.', 'Jag har juryplikt.', 'Jag har mina begränsningar.', 'Jag har mina order.', 'Jag har mina saker.', 'Jag har frågor.', 'Jag har krav.', 'Jag måste lämna återbud.', 'Jag måste ställa in.', 'Jag måste ändra på mig.', 'Jag måste gå nu.', 'Jag måste bege mig nu.', 'Jag måste ge mig av nu.', 'Jag måste gå ut.', 'Jag måste prova det.', 'Jag har din fil.', 'Jag hörde det på tv.', 'Jag hörde klockan.', 'Jag hoppas att jag överlever.', 'Jag hoppas att Tom är okej.', 'Det insisterar jag på.', 'Jag har alldeles nyss gett Tom sparken.', 'Jag har alldeles nyss avskedat Tom.', 'Jag fick precis sparken.', 'Jag öppnade den precis.', 'Jag för dagbok.', 'Jag för en journal.', 'Jag höll mig för mig själv.', 'Jag kände till riskerna.', 'Jag vet att jag har fel.', 'Jag känner till den där blicken.', 'Så mycket vet jag.', 'Det där vet jag.', 'Jag känner till det namnet.', 'Jag vet det, Tom.', 'Jag kan rutinen.', 'Jag vet hur det går till.', 'Jag känner ägaren.', 'Jag vet vad det rör sig om.', 'Jag vet att du försökte.', 'Jag känner igen ditt ansikte.', 'Jag åkte för tidigt.', 'Jag gillar lördagar.', 'Jag tycker om lördagar.', 'Jag tycker om choklad.', 'Jag tycker om hundar också.', 'Jag gillar grönt te.', 'Jag tycker om grönt te.', 'Jag gillar skräpmat.', 'Jag tycker om skräpmat.', 'Jag gillar språk.', 'Jag gillar min skola.', 'Jag tycker om min skola.', 'Jag älskar den här staden.', 'Jag älskar denna stad.', 'Jag tycker om att resa.', 'Jag gillar ditt hår.', 'Jag gillade idén.', 'Jag tyckte om idén.', 'Jag bor i Europa.', 'Jag bor i lägenheten bredvid.', 'Jag älskar astronomi.', 'Jag älskar katter också.', 'Jag älskar min mamma.', 'Jag älskar den sången.', 'Jag älskar den här delen.', 'Jag älskar denna del.', 'Jag älskar den här rollen.', 'Jag älskar den här staden.', 'Jag älskar denna stad.', 'Jag älskar att resa.', 'Jag älskar dina ögon.', 'Jag älskar ditt hår.', 'Jag älskade pjäsen.', 'Jag älskade dig en gång.', 'Jag gjorde en snögubbe.', 'Jag gjorde frukost.', 'Jag gör upp reglerna.', 'Jag får dig att le.', 'Jag kan bli vald.', 'Jag kanske inte återvänder.', 'Jag mjölkade kon.', 'Jag måste bege mig nu.', 'Jag måste ge mig av nu.', 'Jag måste lämna dig.', 'Jag behöver Tom levande.', 'Jag behöver en ny.', 'Jag behöver en röd penna.', 'Jag behöver hela rubbet.', 'Jag behöver ett svar.', 'Jag behöver frisk luft.', 'Jag behöver mer hjälp.', 'Jag behöver mer tid.', 'Jag behöver det där bandet.', 'Jag behöver sanningen.', 'Jag måste se den.', 'Jag måste varva ner.', 'Jag tyckte aldrig om den.', 'Jag tar aldrig sovmorgon.', 'Jag äter ofta här.', 'Jag behöver bara hälften.', 'Jag äger den här affären.', 'Jag har planterat ett träd.', 'Jag föredrar att gå.', 'Jag läste etiketten.', 'Jag hatar det verkligen.', 'Jag menar det verkligen.', 'Jag saknar det verkligen.', 'Jag vägrar hjälpa till.', 'Jag vägrar hjälpa.', 'Jag vägrar arbeta.', 'Strunta i det, sa jag.', 'Bry dig inte om det, sa jag.', 'Stanna här, sa jag.', 'Gå undan, sa jag.', 'Stig åt sidan, sa jag.', 'Jag såg när Tom kom.', 'Jag såg allt.', 'Jag såg lite rök.', 'Jag var hos läkaren.', 'Jag såg dig gråta.', 'Jag sköt hästen.', 'Jag borde stämma Tom.', 'Jag talade inför klassen.', 'Jag tycker fortfarande om Tom.', 'Jag tycker fortfarande om dig.', 'Jag saknar Tom fortfarande.', 'Jag slutade äta.', 'Jag simmar varje dag.', 'Jag tror att Tom gick.', 'Jag tog pengarna.', 'Jag tog fotot.', 'Det tvivlar jag verkligen på.', 'Jag hoppas verkligen inte det.', 'Jag vill ha en tvättbjörn.', 'Jag vill ha en sparkcykel.', 'Jag vill ha mera mat.', 'Jag vill ha mera mjölk.', 'Jag vill resa.', 'Jag var en främling.', 'Jag föddes där.', 'Jag är född där.', 'Jag hade bara tur.', 'Jag var bara trött.', 'Jag var ganska upptagen.', 'Jag var så nervös.', 'Jag var oförberedd.', 'Jag var väldigt glad.', 'Jag var mycket glad.', 'Jag var klarvaken.', 'Jag tvättade bilen.', 'Jag kommer inte att vara tyst.', 'Jag kommer inte att behöva dig.', 'Jag kommer inte att behöva er.', 'Jag arbetade för Tom.', 'Jag skulle inte göra det.', 'Det är nog bäst att jag går.', 'Jag hade sagt nej.', 'Jag skulle vilja ha en löneförhöjning.', 'Jag skulle vilja hjälpa till.', 'Jag kommer att vara hos Tom.', 'Jag är hos Tom.', 'Jag kommer att straffas.', 'Jag ska kolla igen.', 'Jag kommer att få tillbaka den.', 'Jag ska hämta min jacka.', 'Jag ska ta min jacka.', 'Jag ska hämta min rock.', 'Jag ska ta min rock.', 'Jag ska hämta min kappa.', 'Jag ska ta min kappa.', 'Jag hämtar mina nycklar.', 'Jag hämtar nycklarna.', 'Jag ska hämta mina nycklar.', 'Jag ska hämta nycklarna.', 'Jag kommer över det.', 'Jag kommer nog över det.', 'Jag hämtar bilen.', 'Jag ska hämta bilen.', 'Jag går och hämtar lite.', 'Jag går och hämtar det.', 'Jag går in först.', 'Jag ska gå och handla.', 'Jag ska gå och shoppa.', 'Jag går den här vägen.', 'Jag ska gå med Tom.', 'Jag följer med dig.', 'Jag kommer att följa med dig.', 'Jag ska följa med dig.', 'Jag tar hand om det här.', 'Jag kommer att ta hand om det här.', 'Jag ska ta hand om det här.', 'Jag hämtar upp Tom.', 'Jag kommer att hämta upp Tom.', 'Jag ska hämta upp Tom.', 'Jag pratar med Tom.', 'Jag ska prata med Tom.', 'Jag kommer att prata med Tom.', 'Jag ska göra mitt bästa.', 'Jag ska vänta en vecka.', 'Jag är Toms vän.', 'Jag är en dålig far.', 'Jag är lite hungrig.', 'Jag är journalist.', 'Jag är politiker.', 'Jag är vegetarian.', 'Jag är redan rik.', 'Jag är alltid trött.', 'Jag lider av sömnlöshet.', 'Jag är en gammal kvinna.', 'Jag är upptagen i kväll.', 'Det är roligt att kunna hjälpa till.', 'Jag ska försöka.', 'Jag kommer att försöka.', 'Jag är på vinden.', 'Jag är på vindsvåningen.', 'Jag är nästan blind.', 'Jag är ingen tiggare.', 'Jag är inte läkare.', 'Jag är inte kreativ.', 'Jag är inte så glad.', 'Jag är inte så trött.', 'Jag är på din sida.', 'Jag är stolt över dig.', 'Jag är också pensionerad.', 'Jag är trött på det här.', 'Jag har fått nog av det här.', 'Jag är liksom upptagen.', 'Jag stannar här.', 'Jag är ordförande.', 'Jag är väldigt törstig.', 'Jag är din bror.', 'Jag är er bror.', 'Jag har ritat en karta.', 'Jag har sällskap.', 'Jag måste få veta.', 'Jag måste sluta.', 'Jag måste stanna.', 'Jag har tappat bort min penna.', 'Jag har aldrig röstat.', 'Är Tom säker?', 'Är Tom där ute?', 'Är Tom där än?', 'Smittar det?', 'Är det någon här?', 'Är det för svårt?', 'Är din bil snabb?', 'Är er bil snabb?', 'Det kostar två euro.', 'Den kostar två euro.', 'Det är din rättighet.', 'Det är inte ett virus.', 'Det fick mig att skratta.', 'Det kanske blir regn snart.', 'Det är verkligen smutsigt.', 'Den är verkligen smutsig.', 'Det var farligt.', 'Det var svårt.', 'Det var inte en tävling.', 'Det får duga.', 'Det måste duga.', 'Det är den första april.', 'Det är första april.', 'Det är en dålig vana.', 'Det är en cykelpump.', 'Det är en mardröm.', 'Det är en ananas.', 'Det är allt vi har.', 'Den är allt vi har.', 'Den är bekväm.', 'Det är bekvämt.', 'Det är dimmigt i dag.', 'Det är intressant.', 'Det är tvättdag.', 'Det är apkött.', 'Det är mitt beslut.', 'Beslutet är mitt.', 'Nöjet är på min sida.', 'Det är inte en muta.', 'Det är inte ett brott.', 'Det är inte en dröm.', 'Det är inte ett trick.', 'Det är inte ett virus.', 'Den är inte till dig.', 'Det är inte till dig.', 'Den är inte till er.', 'Det är inte till er.', 'Det är inte från mig.', 'Den är inte från mig.', 'Det är bara en bok.', 'Det är vårt öde.', 'Det är ganska kallt.', 'Den är begagnad.', 'Den är second hand.', 'Det är värt ett försök.', 'Gör bara som jag säger.', 'Förvara under tak.', 'Släpp min son.', 'Låt oss äta flingor.', 'Tänd ljuset.', 'Lyssna noga!', 'Sänk rösten.', 'Posta det här brevet.', 'Gör ditt val.', 'Mars är en planet.', 'Får jag känna på de här?', 'Får jag öppna en burk?', 'Män älskar att skryta.', 'Min bil är en tysk bil.', 'Min hund har loppor.', 'Mina öron är kalla.', 'Mina ögon är blå.', 'Mina ögon är ömma.', 'Min far är inte hemma.', 'Min far röker.', 'Mina fötter är ömma.', 'Mitt glas är fullt.', 'Mitt gevär saknas.', 'Mitt huvud kliar.', 'Min inkorg är full.', 'Mina nycklar är borta.', 'Det gör ont i mitt ben nu.', 'Det gör ont i benet nu.', 'Mitt ben är brutet.', 'Min näsa kliar.', 'Mina strumpor är blöta.', 'Min tid är kommen.', 'Min fru slår mig.', 'Ingen får avlägsna sig.', 'Ingen varnade mig.', 'Nu känner jag mig trött.', 'Kom med mig nu.', 'Ge tillbaka den nu.', 'Ge mig det där nu.', 'Ge mig den där nu.', 'Gå in nu.', 'Nu är det min tur.', 'Låt mig tänka nu.', 'Se nu på det här.', 'Öppna syltburken.', 'Skicka saltet.', 'Snälla kör in till trottoarkanten.', 'Lägg undan pistolen.', 'Läs recensionerna.', 'Rödvin, tack.', 'Skolan är tråkig.', 'Skola är tråkigt.', 'Vi ses i morgon!', 'Hon avskyr honom.', 'Hon dog 1960.', 'Hon gillar att springa.', 'Hon bor i närheten.', 'Hon kanske inte kommer.', 'Visa mig listan.', 'Så vad hände?', 'Någon skrattade.', 'Spindlar skrämmer mig.', 'Håll dig nära mig.', 'Sluta upp med att reta Tom.', 'Stanna bilen nu!', 'Sluta skriva nu.', 'Ta hand om Tom.', 'Säg åt Tom att vänta.', 'Det var en stor en.', 'Det var mig en stor baddare.', 'Det är ett misstag.', 'Det där är ett misstag.', 'Det kan diskuteras.', 'Det är dyrt.', 'Det är viktigt.', 'Det är obotligt.', 'Det är min hemlighet.', 'Det där är min hemlighet.', 'Det där är inte billigt.', 'Det är delstatens lag.', 'Det är det som är meningen.', 'Det är poängen.', 'Det är irrelevant.', 'Det är inte relaterat.', 'Det är jättefint!', 'Det är fantastiskt!', 'Det var roligt att höra!', 'Notan, tack.', 'Det är min bok.', 'Bussen var full.', 'Bilen står redo.', 'Hunden är döende.', 'Hunden är smart.', 'Burken är tom.', 'Juryn är oenig.', 'Spegeln krossades.', 'Spiken är böjd.', 'Nageln är böjd.', 'Bucklan var min.', 'Pottan var min.', 'Krukan var min.', 'Burken var min.', 'Kannan var min.', 'Grytan var min.', 'Haschet var mitt.', 'Handduken är torr.', 'Vattnet är varmt.', 'De försvann.', 'De bor här nära.', 'De bor i närheten.', 'De tog i hand.', 'De skakade hand.', 'De tackade Gud.', 'Hen grät.', 'De var hjältar.', 'De är gräsliga.', 'De är förfärliga.', 'De skrattar.', 'De är inte upptagna.', 'De är inte onda.', 'De kommer med undanflykter.', 'De slingrar sig.', 'De överstegrar.', 'De kör fast.', 'De är likadana.', 'Den här pojken är lat.', 'Den här hunden är min.', 'Den här fisken är stor.', 'Denna fisk är stor.', 'Detta är en blomma.', 'Det här är en order.', 'Det här är bevis.', 'Det här är min häst.', 'Detta är min häst.', 'Det här är mitt hus.', 'Detta är inte sant.', 'Detta är rått kött.', 'Det här är rått kött.', 'Det här är rödvin.', 'Detta är standard.', 'Det här är för svårt.', 'Detta är inte papper.', 'Det här är inte papper.', 'Det här är inte rätt.', 'Detta är inte rätt.', 'Detta stämmer inte.', 'Det här stämmer inte.', 'Det här blir kul.', 'Tom svarade ja.', 'Tom åt sig mätt.', 'Tom åt så mycket han orkade.', 'Tom köpte en hund.', 'Tom studsade tillbaka.', 'Tom mobbade Mary.', 'Tom kom för att hjälpa.', 'Tom kan höra dig.', 'Tom kan höra er.', 'Tom kan inte vägra.', 'Tom kan inte neka.', 'Tom kan inte säga nej.', 'Tom klättrade ner.', 'Tom kontaktade mig.', 'Tom vet inte.', 'Tom förklarade det.', 'Tom förlåter dig.', 'Tom förlåter er.', 'Tom sneglade neråt.', 'Tom blev arresterad.', 'Tom blev förvirrad.', 'Tom blev överkörd.', 'Tom blev väldigt arg.', 'Tom blev mycket arg.', 'Tom har en tatuering.', 'Tom är ambitiös.', 'Tom är ärelysten.', 'Tom är äregirig.', 'Tom har framåtanda.', 'Tom har ballonger.', 'Tom har stora öron.', 'Tom har barn.', 'Tom har diabetes.', 'Tom har fräknar.', 'Tom har undantagsrätt.', 'Tom har immunitet.', 'Tom måste göra det.', 'Tom har åkt fast för rattfylleri två gånger.', 'Tom hatade att gå i skola.', 'Tom hatade skolan.', 'Tom hatar franska.', 'Tom avskyr oliver.', 'Tom hatar oliver.', 'Tom hjälpte mycket.', 'Tom är en beatnik.', 'Tom är lite blyg.', 'Tom är en hipster.', 'Tom är rörmokare.', 'Tom är en stamkund.', 'Tom är en stamgäst.', 'Tom är fast anställd.', 'Tom är ambitiös.', 'Tom är föräldralös.', 'Tom är ett föräldralöst barn.', 'Tom är sängliggande.', 'Tom är engagerad.', 'Tom är kompetent.', 'Tom är skicklig.', 'Tom är bekymrad.', 'Tom är säker.', 'Tom är säker på sin sak.', 'Tom är nöjd.', 'Tom är belåten.', 'Tom är artig.', 'Tom är hövlig.', 'Tom är förtjust.', 'Tom är deprimerad.', 'Tom är desperat.', 'Tom är oärlig.', 'Tom är effektiv.', 'Tom är imponerad.', 'Tom ligger i koma.', 'Tom är eländig.', 'Tom är olycklig.', 'Tom är förtvivlad.', 'Tom är min brorson.', 'Tom är min systerson.', 'Tom är nonchalant.', 'Tom är ingen mördare.', 'Tom är inte någon mördare.', 'Tom är halsstarrig.']\n"
     ]
    }
   ],
   "source": [
    "input_texts = []\n",
    "target_texts = []\n",
    "\n",
    "with open(data_path, \"r\", encoding=\"utf-8\") as f:\n",
    "    lines = f.readlines()  # Read lines instead of using split(\"\\n\")\n",
    "\n",
    "for line in lines[: min(num_samples, len(lines) - 1)]:\n",
    "    input_text, target_text, _ = line.strip().split(\"\\t\")  # Strip to remove leading/trailing whitespaces\n",
    "    input_texts.append(input_text)  # Append as string directly\n",
    "    target_texts.append(target_text)  # Append as string directly\n",
    "\n",
    "# Check the format of input_texts and target_texts\n",
    "print(input_texts)\n",
    "print(target_texts)\n",
    "\n",
    "with open(\"all_texts.txt\", \"w\", encoding='utf-8') as f:\n",
    "    for input_text, target_text in zip(input_texts, target_texts):\n",
    "        f.write(input_text + '\\n')\n",
    "        f.write(target_text + '\\n')\n"
   ]
  },
  {
   "cell_type": "code",
   "execution_count": 588,
   "metadata": {},
   "outputs": [
    {
     "data": {
      "text/plain": [
       "'Is Tom mad?'"
      ]
     },
     "execution_count": 588,
     "metadata": {},
     "output_type": "execute_result"
    }
   ],
   "source": [
    "input_texts[500]\n"
   ]
  },
  {
   "cell_type": "code",
   "execution_count": 589,
   "metadata": {},
   "outputs": [
    {
     "data": {
      "text/plain": [
       "'Är Tom arg?'"
      ]
     },
     "execution_count": 589,
     "metadata": {},
     "output_type": "execute_result"
    }
   ],
   "source": [
    "target_texts[500]\n"
   ]
  },
  {
   "cell_type": "markdown",
   "metadata": {},
   "source": [
    "### Train/Validation"
   ]
  },
  {
   "cell_type": "markdown",
   "metadata": {},
   "source": [
    "Percentage train/validation"
   ]
  },
  {
   "cell_type": "code",
   "execution_count": 590,
   "metadata": {},
   "outputs": [
    {
     "data": {
      "text/plain": [
       "4000"
      ]
     },
     "execution_count": 590,
     "metadata": {},
     "output_type": "execute_result"
    }
   ],
   "source": [
    "TRAIN_PERCENTAGE = 0.8\n",
    "train_val = int(TRAIN_PERCENTAGE * num_samples)\n",
    "train_val\n"
   ]
  },
  {
   "cell_type": "markdown",
   "metadata": {},
   "source": [
    "We shuffle the lists"
   ]
  },
  {
   "cell_type": "code",
   "execution_count": 591,
   "metadata": {},
   "outputs": [],
   "source": [
    "text_pairs = list(zip(input_texts, target_texts))\n",
    "random.shuffle(text_pairs)\n",
    "input_texts, target_texts = zip(*text_pairs)\n",
    "input_texts, target_texts = list(input_texts), list(target_texts)\n"
   ]
  },
  {
   "cell_type": "code",
   "execution_count": 592,
   "metadata": {},
   "outputs": [],
   "source": [
    "train_input_texts = input_texts[:train_val]\n",
    "train_target_texts = target_texts[:train_val]\n",
    "\n",
    "val_input_texts = input_texts[train_val:]\n",
    "val_target_texts = target_texts[train_val:]\n"
   ]
  },
  {
   "cell_type": "markdown",
   "metadata": {},
   "source": [
    "### Characters"
   ]
  },
  {
   "cell_type": "code",
   "execution_count": 593,
   "metadata": {},
   "outputs": [
    {
     "name": "stdout",
     "output_type": "stream",
     "text": [
      "['<s>', '▁This', '▁is', '▁a', '▁test', '</s>']\n",
      "[1, 324, 53, 35, 10000, 2]\n",
      "This is a test\n",
      "istingad skry\n"
     ]
    }
   ],
   "source": [
    "spm.SentencePieceTrainer.train('--input=all_texts.txt --model_prefix=m --vocab_size=13000 --model_type=bpe --pad_id=3')\n",
    "\n",
    "# makes segmenter instance and loads the model file (m.model)\n",
    "sp = spm.SentencePieceProcessor()\n",
    "sp.load('m.model')\n",
    "\n",
    "sp.SetEncodeExtraOptions(\"bos:eos\")\n",
    "sp.SetDecodeExtraOptions(\"bos:eos\")\n",
    "\n",
    "# encode: text => id\n",
    "print(sp.encode_as_pieces('This is a test'))\n",
    "print(sp.encode_as_ids('This is a test'))\n",
    "\n",
    "# decode: id => text\n",
    "print(sp.decode_pieces(['▁This', '▁is', '▁a', '▁t', 'est']))\n",
    "print(sp.decode_ids([326, 61, 39, 9994]))"
   ]
  },
  {
   "cell_type": "markdown",
   "metadata": {},
   "source": [
    "### Special symbols"
   ]
  },
  {
   "cell_type": "code",
   "execution_count": 594,
   "metadata": {},
   "outputs": [],
   "source": [
    "# Define special symbols and indices\n",
    "UNK_IDX, BOS_IDX, EOS_IDX,  PAD_IDX= 0, 1, 2, 3\n",
    "# Make sure the tokens are in order of their indices to properly insert them in vocab\n",
    "\n"
   ]
  },
  {
   "cell_type": "markdown",
   "metadata": {},
   "source": [
    "### The input and output symbols\n",
    "The language pair shares the same vocabulary as in _Attention Is All You Need_"
   ]
  },
  {
   "cell_type": "markdown",
   "metadata": {},
   "source": [
    "### The indices"
   ]
  },
  {
   "cell_type": "code",
   "execution_count": 595,
   "metadata": {},
   "outputs": [],
   "source": [
    "def text2codes(texts, sp):\n",
    "    codes = []\n",
    "    for text in texts:\n",
    "        code = sp.encode_as_ids(text)\n",
    "        codes.append(torch.tensor(code))\n",
    "\n",
    "    return codes"
   ]
  },
  {
   "cell_type": "markdown",
   "metadata": {},
   "source": []
  },
  {
   "cell_type": "markdown",
   "metadata": {},
   "source": [
    "### Text Encoding"
   ]
  },
  {
   "cell_type": "code",
   "execution_count": 596,
   "metadata": {},
   "outputs": [
    {
     "data": {
      "text/plain": [
       "([\"Tom's worried.\", \"That's mine.\", 'Be still.'],\n",
       " ['Tom är orolig.', 'Det är mitt.', 'Var still.'])"
      ]
     },
     "execution_count": 596,
     "metadata": {},
     "output_type": "execute_result"
    }
   ],
   "source": [
    "train_input_texts[:3], train_target_texts[:3]\n"
   ]
  },
  {
   "cell_type": "code",
   "execution_count": 597,
   "metadata": {},
   "outputs": [
    {
     "data": {
      "text/plain": [
       "[tensor([    1,     7, 12970, 12951,  1982, 12947,     2]),\n",
       " tensor([    1,   228, 12970, 12951,   585, 12947,     2]),\n",
       " tensor([    1,   279,   550, 12947,     2])]"
      ]
     },
     "execution_count": 597,
     "metadata": {},
     "output_type": "execute_result"
    }
   ],
   "source": [
    "text2codes(train_input_texts, sp)[:3]\n"
   ]
  },
  {
   "cell_type": "code",
   "execution_count": 598,
   "metadata": {},
   "outputs": [
    {
     "data": {
      "text/plain": [
       "[tensor([    1,     7,    22,  2924, 12947,     2]),\n",
       " tensor([    1,    65,    22,   485, 12947,     2]),\n",
       " tensor([    1,   211,   550, 12947,     2])]"
      ]
     },
     "execution_count": 598,
     "metadata": {},
     "output_type": "execute_result"
    }
   ],
   "source": [
    "text2codes(train_target_texts, sp)[:3]\n"
   ]
  },
  {
   "cell_type": "code",
   "execution_count": 599,
   "metadata": {},
   "outputs": [],
   "source": [
    "def codes2text(codes, sp):\n",
    "    texts = []\n",
    "    for code in codes:\n",
    "        text = sp.decode_ids(code.tolist())\n",
    "        texts.append(text)\n",
    "    return texts\n"
   ]
  },
  {
   "cell_type": "code",
   "execution_count": 600,
   "metadata": {},
   "outputs": [
    {
     "data": {
      "text/plain": [
       "[\"Tom's worried.\", \"That's mine.\", 'Be still.']"
      ]
     },
     "execution_count": 600,
     "metadata": {},
     "output_type": "execute_result"
    }
   ],
   "source": [
    "codes2text(text2codes(train_input_texts, sp)[:3], sp)\n"
   ]
  },
  {
   "cell_type": "markdown",
   "metadata": {},
   "source": [
    "## Model"
   ]
  },
  {
   "cell_type": "markdown",
   "metadata": {},
   "source": [
    "### Positional Embeddings\n",
    "\n",
    "Same as https://pytorch.org/tutorials/beginner/translation_transformer.html?highlight=translation"
   ]
  },
  {
   "cell_type": "markdown",
   "metadata": {},
   "source": [
    "Note that `register_buffer` is a way to exclude `pos_embeddings` from being a parameter and stored as state, essentially a way to register a computed constant. It will not be modified by the training procedure."
   ]
  },
  {
   "cell_type": "code",
   "execution_count": 601,
   "metadata": {},
   "outputs": [],
   "source": [
    "# helper Module that adds positional encoding to the token embedding to introduce a notion of word order.\n",
    "class PositionalEncoding(nn.Module):\n",
    "    def __init__(self,\n",
    "                 emb_size: int,\n",
    "                 dropout: float,\n",
    "                 maxlen: int = 5000):\n",
    "        super().__init__()\n",
    "        den = torch.exp(- torch.arange(0, emb_size, 2)\n",
    "                        * math.log(10000) / emb_size)\n",
    "        pos = torch.arange(0, maxlen).reshape(maxlen, 1)\n",
    "        pos_embedding = torch.zeros((maxlen, emb_size))\n",
    "        pos_embedding[:, 0::2] = torch.sin(pos * den)\n",
    "        pos_embedding[:, 1::2] = torch.cos(pos * den)\n",
    "        pos_embedding = pos_embedding.unsqueeze(-2)\n",
    "\n",
    "        self.dropout = nn.Dropout(dropout)\n",
    "        self.register_buffer('pos_embedding', pos_embedding)\n",
    "        self.emb_size = emb_size\n",
    "\n",
    "    def forward(self, token_embedding: Tensor):\n",
    "        return self.dropout(token_embedding * math.sqrt(self.emb_size)\n",
    "                            + self.pos_embedding[:token_embedding.size(0), :])\n"
   ]
  },
  {
   "cell_type": "code",
   "execution_count": 602,
   "metadata": {},
   "outputs": [],
   "source": [
    "pe = PositionalEncoding(10, 0.1)\n"
   ]
  },
  {
   "cell_type": "code",
   "execution_count": 603,
   "metadata": {},
   "outputs": [
    {
     "data": {
      "text/plain": [
       "tensor([[[0., 0., 0., 0., 0., 0., 0., 0., 0., 0.],\n",
       "         [0., 0., 0., 0., 0., 0., 0., 0., 0., 0.],\n",
       "         [0., 0., 0., 0., 0., 0., 0., 0., 0., 0.],\n",
       "         [0., 0., 0., 0., 0., 0., 0., 0., 0., 0.],\n",
       "         [0., 0., 0., 0., 0., 0., 0., 0., 0., 0.]]])"
      ]
     },
     "execution_count": 603,
     "metadata": {},
     "output_type": "execute_result"
    }
   ],
   "source": [
    "torch.zeros(1, 5, 10)\n"
   ]
  },
  {
   "cell_type": "code",
   "execution_count": 604,
   "metadata": {},
   "outputs": [
    {
     "data": {
      "text/plain": [
       "tensor([[[0.0000, 1.1111, 0.0000, 1.1111, 0.0000, 1.1111, 0.0000, 1.1111,\n",
       "          0.0000, 0.0000],\n",
       "         [0.0000, 1.1111, 0.0000, 1.1111, 0.0000, 1.1111, 0.0000, 1.1111,\n",
       "          0.0000, 1.1111],\n",
       "         [0.0000, 1.1111, 0.0000, 1.1111, 0.0000, 1.1111, 0.0000, 1.1111,\n",
       "          0.0000, 1.1111],\n",
       "         [0.0000, 1.1111, 0.0000, 1.1111, 0.0000, 0.0000, 0.0000, 1.1111,\n",
       "          0.0000, 1.1111],\n",
       "         [0.0000, 1.1111, 0.0000, 1.1111, 0.0000, 1.1111, 0.0000, 1.1111,\n",
       "          0.0000, 1.1111]]])"
      ]
     },
     "execution_count": 604,
     "metadata": {},
     "output_type": "execute_result"
    }
   ],
   "source": [
    "pe(torch.zeros(1, 5, 10))\n"
   ]
  },
  {
   "cell_type": "markdown",
   "metadata": {},
   "source": [
    "### Transformer\n",
    "\n",
    "Shared embeddings compared to https://pytorch.org/tutorials/beginner/translation_transformer.html?highlight=translation\n"
   ]
  },
  {
   "cell_type": "markdown",
   "metadata": {},
   "source": [
    "Note that:   \n",
    "- `transformer.encoder(...)` is equivalent to a call of TransformerEncoder(...), i.e https://pytorch.org/docs/stable/generated/torch.nn.TransformerEncoder.html    \n",
    "- `transformer.decoder(...)` is equivalent to a call of TransformerDecoder(...), i.e https://pytorch.org/docs/stable/generated/torch.nn.TransformerDecoder.html   \n",
    "- These are created internally by the transformer layer:\n",
    "https://pytorch.org/docs/stable/_modules/torch/nn/modules/transformer.html#Transformer  "
   ]
  },
  {
   "cell_type": "code",
   "execution_count": 605,
   "metadata": {},
   "outputs": [],
   "source": [
    "# Seq2Seq Network\n",
    "class Seq2SeqTransformer(nn.Module):\n",
    "    def __init__(self,\n",
    "                 num_encoder_layers: int,\n",
    "                 num_decoder_layers: int,\n",
    "                 emb_size: int,\n",
    "                 nhead: int,\n",
    "                 vocab_size: int,\n",
    "                 dim_feedforward: int = 512,\n",
    "                 dropout: float = 0.1):\n",
    "        super().__init__()\n",
    "        self.transformer = Transformer(d_model=emb_size,\n",
    "                                       nhead=nhead,\n",
    "                                       num_encoder_layers=num_encoder_layers,\n",
    "                                       num_decoder_layers=num_decoder_layers,\n",
    "                                       dim_feedforward=dim_feedforward,\n",
    "                                       dropout=dropout)\n",
    "\n",
    "        self.emb_size = emb_size\n",
    "        # Same source and target embs Sect. 3.4\n",
    "        self.embedding = nn.Embedding(\n",
    "            vocab_size, emb_size, padding_idx=PAD_IDX)\n",
    "        self.positional_encoding = PositionalEncoding(\n",
    "            emb_size, dropout=dropout)\n",
    "        # Bias to be compatible with embeddings\n",
    "        self.generator = nn.Linear(emb_size, vocab_size, bias=False)\n",
    "        self.generator.weight = self.embedding.weight  # Shared weights Sect. 3.4\n",
    "\n",
    "    def forward(self,\n",
    "                src: Tensor,\n",
    "                trg: Tensor,\n",
    "                src_mask: Tensor,\n",
    "                tgt_mask: Tensor,\n",
    "                src_padding_mask: Tensor,\n",
    "                tgt_padding_mask: Tensor,\n",
    "                memory_key_padding_mask: Tensor):\n",
    "        src_emb = self.positional_encoding(self.embedding(src))\n",
    "        tgt_emb = self.positional_encoding(self.embedding(trg))\n",
    "        outs = self.transformer(src_emb, tgt_emb, src_mask, tgt_mask, None,\n",
    "                                src_padding_mask, tgt_padding_mask, memory_key_padding_mask)\n",
    "        return self.generator(outs)\n",
    "\n",
    "    def encode(self, src: Tensor, src_mask: Tensor):\n",
    "        return self.transformer.encoder(self.positional_encoding(\n",
    "            self.embedding(src)), src_mask)\n",
    "\n",
    "    def decode(self, tgt: Tensor, memory: Tensor, tgt_mask: Tensor):\n",
    "        return self.transformer.decoder(self.positional_encoding(\n",
    "            self.embedding(tgt)), memory,\n",
    "            tgt_mask)\n"
   ]
  },
  {
   "cell_type": "code",
   "execution_count": 606,
   "metadata": {},
   "outputs": [],
   "source": [
    "def generate_square_subsequent_mask(sz):\n",
    "    mask = (torch.triu(torch.ones((sz, sz), device=DEVICE)) == 1).transpose(0, 1)\n",
    "    mask = mask.float().masked_fill(mask == 0, float(\n",
    "        '-inf')).masked_fill(mask == 1, float(0.0))\n",
    "    return mask\n"
   ]
  },
  {
   "cell_type": "code",
   "execution_count": 607,
   "metadata": {},
   "outputs": [
    {
     "data": {
      "text/plain": [
       "tensor([[0., -inf, -inf, -inf, -inf, -inf, -inf, -inf, -inf, -inf],\n",
       "        [0., 0., -inf, -inf, -inf, -inf, -inf, -inf, -inf, -inf],\n",
       "        [0., 0., 0., -inf, -inf, -inf, -inf, -inf, -inf, -inf],\n",
       "        [0., 0., 0., 0., -inf, -inf, -inf, -inf, -inf, -inf],\n",
       "        [0., 0., 0., 0., 0., -inf, -inf, -inf, -inf, -inf],\n",
       "        [0., 0., 0., 0., 0., 0., -inf, -inf, -inf, -inf],\n",
       "        [0., 0., 0., 0., 0., 0., 0., -inf, -inf, -inf],\n",
       "        [0., 0., 0., 0., 0., 0., 0., 0., -inf, -inf],\n",
       "        [0., 0., 0., 0., 0., 0., 0., 0., 0., -inf],\n",
       "        [0., 0., 0., 0., 0., 0., 0., 0., 0., 0.]])"
      ]
     },
     "execution_count": 607,
     "metadata": {},
     "output_type": "execute_result"
    }
   ],
   "source": [
    "generate_square_subsequent_mask(10)\n"
   ]
  },
  {
   "cell_type": "code",
   "execution_count": 608,
   "metadata": {},
   "outputs": [],
   "source": [
    "def create_mask(src, tgt):\n",
    "    src_seq_len = src.shape[0]\n",
    "    tgt_seq_len = tgt.shape[0]\n",
    "\n",
    "    tgt_mask = generate_square_subsequent_mask(tgt_seq_len)\n",
    "    src_mask = torch.zeros((src_seq_len, src_seq_len),\n",
    "                           device=DEVICE).type(torch.bool)\n",
    "\n",
    "    src_padding_mask = (src == PAD_IDX).transpose(0, 1)\n",
    "    tgt_padding_mask = (tgt == PAD_IDX).transpose(0, 1).type(torch.float32)\n",
    "    return src_mask, tgt_mask, src_padding_mask, tgt_padding_mask\n"
   ]
  },
  {
   "cell_type": "code",
   "execution_count": 609,
   "metadata": {},
   "outputs": [],
   "source": [
    "src = pad_sequence(text2codes(\n",
    "    train_input_texts[:3], sp), padding_value=PAD_IDX)\n",
    "tgt = pad_sequence(text2codes(\n",
    "    train_target_texts[:3], sp), padding_value=PAD_IDX)\n"
   ]
  },
  {
   "cell_type": "code",
   "execution_count": 610,
   "metadata": {},
   "outputs": [
    {
     "data": {
      "text/plain": [
       "([\"Tom's worried.\", \"That's mine.\", 'Be still.'],\n",
       " ['Tom är orolig.', 'Det är mitt.', 'Var still.'])"
      ]
     },
     "execution_count": 610,
     "metadata": {},
     "output_type": "execute_result"
    }
   ],
   "source": [
    "train_input_texts[:3], train_target_texts[:3]\n"
   ]
  },
  {
   "cell_type": "markdown",
   "metadata": {},
   "source": [
    "The tensors. Note the batch dimension is the second one."
   ]
  },
  {
   "cell_type": "code",
   "execution_count": 611,
   "metadata": {},
   "outputs": [
    {
     "data": {
      "text/plain": [
       "tensor([[    1,     1,     1],\n",
       "        [    7,   228,   279],\n",
       "        [12970, 12970,   550],\n",
       "        [12951, 12951, 12947],\n",
       "        [ 1982,   585,     2],\n",
       "        [12947, 12947,     3],\n",
       "        [    2,     2,     3]])"
      ]
     },
     "execution_count": 611,
     "metadata": {},
     "output_type": "execute_result"
    }
   ],
   "source": [
    "src\n"
   ]
  },
  {
   "cell_type": "code",
   "execution_count": 612,
   "metadata": {},
   "outputs": [
    {
     "data": {
      "text/plain": [
       "tensor([[    1,     1,     1],\n",
       "        [    7,    65,   211],\n",
       "        [   22,    22,   550],\n",
       "        [ 2924,   485, 12947],\n",
       "        [12947, 12947,     2],\n",
       "        [    2,     2,     3]])"
      ]
     },
     "execution_count": 612,
     "metadata": {},
     "output_type": "execute_result"
    }
   ],
   "source": [
    "tgt\n"
   ]
  },
  {
   "cell_type": "markdown",
   "metadata": {},
   "source": [
    "The next function returns `src_mask`, `tgt_mask`, `src_padding_mask`, `tgt_padding_mask`."
   ]
  },
  {
   "cell_type": "code",
   "execution_count": 613,
   "metadata": {},
   "outputs": [
    {
     "data": {
      "text/plain": [
       "(tensor([[False, False, False, False, False, False, False],\n",
       "         [False, False, False, False, False, False, False],\n",
       "         [False, False, False, False, False, False, False],\n",
       "         [False, False, False, False, False, False, False],\n",
       "         [False, False, False, False, False, False, False],\n",
       "         [False, False, False, False, False, False, False],\n",
       "         [False, False, False, False, False, False, False]]),\n",
       " tensor([[0., -inf, -inf, -inf, -inf, -inf],\n",
       "         [0., 0., -inf, -inf, -inf, -inf],\n",
       "         [0., 0., 0., -inf, -inf, -inf],\n",
       "         [0., 0., 0., 0., -inf, -inf],\n",
       "         [0., 0., 0., 0., 0., -inf],\n",
       "         [0., 0., 0., 0., 0., 0.]]),\n",
       " tensor([[False, False, False, False, False, False, False],\n",
       "         [False, False, False, False, False, False, False],\n",
       "         [False, False, False, False, False,  True,  True]]),\n",
       " tensor([[0., 0., 0., 0., 0., 0.],\n",
       "         [0., 0., 0., 0., 0., 0.],\n",
       "         [0., 0., 0., 0., 0., 1.]]))"
      ]
     },
     "execution_count": 613,
     "metadata": {},
     "output_type": "execute_result"
    }
   ],
   "source": [
    "create_mask(src, tgt)\n"
   ]
  },
  {
   "cell_type": "markdown",
   "metadata": {},
   "source": [
    "## Model Creation"
   ]
  },
  {
   "cell_type": "code",
   "execution_count": 614,
   "metadata": {},
   "outputs": [],
   "source": [
    "VOCAB_SIZE = 13000\n",
    "EMB_SIZE = 512\n",
    "NHEAD = 8\n",
    "FFN_HID_DIM = 512\n",
    "BATCH_SIZE = 128\n",
    "NUM_ENCODER_LAYERS = 6\n",
    "NUM_DECODER_LAYERS = 6\n"
   ]
  },
  {
   "cell_type": "code",
   "execution_count": 615,
   "metadata": {},
   "outputs": [],
   "source": [
    "def rate(step, model_size, factor, warmup):\n",
    "    \"\"\"\n",
    "    we have to default the step to 1 for LambdaLR function\n",
    "    to avoid zero raising to negative power.\n",
    "    \"\"\"\n",
    "    if step == 0:\n",
    "        step = 1\n",
    "    return factor * (\n",
    "        model_size ** (-0.5) * min(step ** (-0.5), step * warmup ** (-1.5))\n",
    "    )"
   ]
  },
  {
   "cell_type": "code",
   "execution_count": 616,
   "metadata": {},
   "outputs": [],
   "source": [
    "transformer = Seq2SeqTransformer(NUM_ENCODER_LAYERS, NUM_DECODER_LAYERS, EMB_SIZE,\n",
    "                                 NHEAD, VOCAB_SIZE, FFN_HID_DIM)\n",
    "\n",
    "for p in transformer.parameters():\n",
    "    if p.dim() > 1:\n",
    "        nn.init.xavier_uniform_(p)\n",
    "\n",
    "transformer = transformer.to(DEVICE)\n",
    "\n",
    "loss_fn = torch.nn.CrossEntropyLoss(ignore_index=PAD_IDX, label_smoothing=0.1) #SMOOTHING\n",
    "\n",
    "optimizer = torch.optim.Adam(\n",
    "            transformer.parameters(), lr=1, betas=(0.9, 0.98), eps=1e-9 #vilken learning rate behövs??\n",
    "        )\n",
    "lr_scheduler = LambdaLR( \n",
    "        optimizer=optimizer,\n",
    "        lr_lambda=lambda step: rate(\n",
    "            step, model_size=transformer.emb_size, factor=1.0, warmup=4000\n",
    "        ),\n",
    "    )#lagt till!!"
   ]
  },
  {
   "cell_type": "markdown",
   "metadata": {},
   "source": [
    "## Formatting the Data\n",
    "We use `Dataset` and `DataLoader`. `Dataset` implements two methods: `__init__`, `__len__` and `__getitem__`. The last method returns an item of the dataset given an index. Using `collate_fn`, `DataLoader` returns a batch of `batch_size` samples."
   ]
  },
  {
   "cell_type": "code",
   "execution_count": 617,
   "metadata": {},
   "outputs": [],
   "source": [
    "from torch.utils.data import Dataset, DataLoader\n"
   ]
  },
  {
   "cell_type": "code",
   "execution_count": 618,
   "metadata": {},
   "outputs": [],
   "source": [
    "class PairDataset(Dataset):\n",
    "    def __init__(self, input_texts, target_texts, token2idx):\n",
    "        self.input_texts = input_texts\n",
    "        self.target_texts = target_texts\n",
    "        self.token2idx = token2idx\n",
    "\n",
    "    def __len__(self):\n",
    "        return len(self.input_texts)\n",
    "\n",
    "    def __getitem__(self, idx):\n",
    "        src_batch = text2codes([input_texts[idx]], self.token2idx)\n",
    "        tgt_batch = text2codes([target_texts[idx]], self.token2idx)\n",
    "\n",
    "        return src_batch[0], tgt_batch[0]\n",
    "\n",
    "    def collate(self, batch):\n",
    "        src_batch, tgt_batch = list(zip(*batch))\n",
    "        src_batch = pad_sequence(src_batch, padding_value=PAD_IDX)\n",
    "        tgt_batch = pad_sequence(tgt_batch, padding_value=PAD_IDX)\n",
    "\n",
    "        return src_batch, tgt_batch\n"
   ]
  },
  {
   "cell_type": "code",
   "execution_count": 619,
   "metadata": {},
   "outputs": [],
   "source": [
    "train_dataset = PairDataset(train_input_texts, train_target_texts, sp)\n",
    "train_dataloader = DataLoader(train_dataset, batch_size=32,\n",
    "                              shuffle=True, collate_fn=train_dataset.collate)\n"
   ]
  },
  {
   "cell_type": "code",
   "execution_count": 620,
   "metadata": {},
   "outputs": [],
   "source": [
    "val_dataset = PairDataset(val_input_texts, val_target_texts, sp)\n",
    "val_dataloader = DataLoader(\n",
    "    val_dataset, batch_size=32, collate_fn=val_dataset.collate)\n"
   ]
  },
  {
   "cell_type": "markdown",
   "metadata": {},
   "source": [
    "## Training Loop"
   ]
  },
  {
   "cell_type": "code",
   "execution_count": 621,
   "metadata": {},
   "outputs": [],
   "source": [
    "def train_epoch(model, optimizer, dataloader):\n",
    "    model.train()\n",
    "    losses = 0\n",
    "    sent_cnt = 0\n",
    "    correct, total = 0, 0\n",
    "    for src_batch, tgt_batch in tqdm(dataloader):\n",
    "        src = src_batch.to(DEVICE)\n",
    "        tgt = tgt_batch.to(DEVICE)\n",
    "\n",
    "        tgt_input = tgt[:-1, :]\n",
    "\n",
    "        src_mask, tgt_mask, src_padding_mask, tgt_padding_mask = create_mask(\n",
    "            src, tgt_input)\n",
    "\n",
    "        logits = model(src,\n",
    "                       tgt_input,\n",
    "                       src_mask,\n",
    "                       tgt_mask,\n",
    "                       src_padding_mask,\n",
    "                       tgt_padding_mask,\n",
    "                       src_padding_mask)\n",
    "\n",
    "        optimizer.zero_grad()\n",
    "\n",
    "        tgt_out = tgt[1:, :]\n",
    "        loss = loss_fn(\n",
    "            logits.reshape(-1, logits.shape[-1]), tgt_out.reshape(-1))\n",
    "        loss.backward()\n",
    "\n",
    "        optimizer.step()\n",
    "        lr_scheduler.step() #LAGT TILL\n",
    "\n",
    "        losses += loss.item()\n",
    "\n",
    "        with torch.no_grad():\n",
    "            sent_cnt += tgt_out.size()[-1]\n",
    "\n",
    "            total += torch.numel(tgt_input)\n",
    "            _, char_pred = torch.max(logits, -1)\n",
    "            correct += (char_pred == tgt_out).sum().item()\n",
    "\n",
    "    return losses / sent_cnt, correct / total\n"
   ]
  },
  {
   "cell_type": "markdown",
   "metadata": {},
   "source": [
    "About the loss. Overall, it should computed by individual prediction and divided by the number of chars. By default the crossentropy loss uses the mean. Then we use the mean of the mean. The trend is correct, but the values are not exact. A possible improvement would be to sum and pass through the mask."
   ]
  },
  {
   "cell_type": "code",
   "execution_count": 622,
   "metadata": {},
   "outputs": [],
   "source": [
    "def evaluate(model, dataloader):\n",
    "    model.eval()\n",
    "    losses = 0\n",
    "    sent_cnt = 0\n",
    "    correct, total = 0, 0\n",
    "\n",
    "    for src_batch, tgt_batch in dataloader:\n",
    "        src = src_batch.to(DEVICE)\n",
    "        tgt = tgt_batch.to(DEVICE)\n",
    "\n",
    "        tgt_input = tgt[:-1, :]\n",
    "\n",
    "        src_mask, tgt_mask, src_padding_mask, tgt_padding_mask = create_mask(\n",
    "            src, tgt_input)\n",
    "\n",
    "        logits = model(src, tgt_input, src_mask, tgt_mask,\n",
    "                       src_padding_mask, tgt_padding_mask, src_padding_mask)\n",
    "\n",
    "        tgt_out = tgt[1:, :]\n",
    "        loss = loss_fn(\n",
    "            logits.reshape(-1, logits.shape[-1]), tgt_out.reshape(-1))\n",
    "        losses += loss.item()\n",
    "        sent_cnt += tgt_out.size()[-1]\n",
    "\n",
    "        total += torch.numel(tgt_input)\n",
    "        _, char_pred = torch.max(logits, -1)\n",
    "        correct += (char_pred == tgt_out).sum().item()\n",
    "\n",
    "    return losses / sent_cnt, correct / total\n"
   ]
  },
  {
   "cell_type": "code",
   "execution_count": 623,
   "metadata": {},
   "outputs": [
    {
     "name": "stderr",
     "output_type": "stream",
     "text": [
      "100%|██████████| 125/125 [00:42<00:00,  2.93it/s]\n"
     ]
    },
    {
     "name": "stdout",
     "output_type": "stream",
     "text": [
      "Epoch: 1, Train loss: 0.265, Val loss: 0.239, Train acc.: 0.103, Val acc.: 0.123, Epoch time = 42.704s\n"
     ]
    },
    {
     "name": "stderr",
     "output_type": "stream",
     "text": [
      "100%|██████████| 125/125 [00:36<00:00,  3.45it/s]\n"
     ]
    },
    {
     "name": "stdout",
     "output_type": "stream",
     "text": [
      "Epoch: 2, Train loss: 0.208, Val loss: 0.173, Train acc.: 0.150, Val acc.: 0.255, Epoch time = 36.217s\n"
     ]
    },
    {
     "name": "stderr",
     "output_type": "stream",
     "text": [
      "100%|██████████| 125/125 [00:38<00:00,  3.25it/s]\n"
     ]
    },
    {
     "name": "stdout",
     "output_type": "stream",
     "text": [
      "Epoch: 3, Train loss: 0.155, Val loss: 0.144, Train acc.: 0.298, Val acc.: 0.323, Epoch time = 38.442s\n"
     ]
    },
    {
     "name": "stderr",
     "output_type": "stream",
     "text": [
      "100%|██████████| 125/125 [00:36<00:00,  3.42it/s]\n"
     ]
    },
    {
     "name": "stdout",
     "output_type": "stream",
     "text": [
      "Epoch: 4, Train loss: 0.136, Val loss: 0.131, Train acc.: 0.344, Val acc.: 0.357, Epoch time = 36.602s\n"
     ]
    },
    {
     "name": "stderr",
     "output_type": "stream",
     "text": [
      "100%|██████████| 125/125 [00:36<00:00,  3.44it/s]\n"
     ]
    },
    {
     "name": "stdout",
     "output_type": "stream",
     "text": [
      "Epoch: 5, Train loss: 0.126, Val loss: 0.122, Train acc.: 0.369, Val acc.: 0.383, Epoch time = 36.337s\n"
     ]
    },
    {
     "name": "stderr",
     "output_type": "stream",
     "text": [
      "100%|██████████| 125/125 [00:36<00:00,  3.45it/s]\n"
     ]
    },
    {
     "name": "stdout",
     "output_type": "stream",
     "text": [
      "Epoch: 6, Train loss: 0.119, Val loss: 0.115, Train acc.: 0.394, Val acc.: 0.399, Epoch time = 36.234s\n"
     ]
    },
    {
     "name": "stderr",
     "output_type": "stream",
     "text": [
      "100%|██████████| 125/125 [00:36<00:00,  3.44it/s]\n"
     ]
    },
    {
     "name": "stdout",
     "output_type": "stream",
     "text": [
      "Epoch: 7, Train loss: 0.113, Val loss: 0.110, Train acc.: 0.406, Val acc.: 0.413, Epoch time = 36.391s\n"
     ]
    },
    {
     "name": "stderr",
     "output_type": "stream",
     "text": [
      "100%|██████████| 125/125 [00:36<00:00,  3.45it/s]\n"
     ]
    },
    {
     "name": "stdout",
     "output_type": "stream",
     "text": [
      "Epoch: 8, Train loss: 0.108, Val loss: 0.105, Train acc.: 0.418, Val acc.: 0.421, Epoch time = 36.255s\n"
     ]
    },
    {
     "name": "stderr",
     "output_type": "stream",
     "text": [
      "100%|██████████| 125/125 [00:36<00:00,  3.40it/s]\n"
     ]
    },
    {
     "name": "stdout",
     "output_type": "stream",
     "text": [
      "Epoch: 9, Train loss: 0.103, Val loss: 0.101, Train acc.: 0.431, Val acc.: 0.428, Epoch time = 36.717s\n"
     ]
    },
    {
     "name": "stderr",
     "output_type": "stream",
     "text": [
      "100%|██████████| 125/125 [00:37<00:00,  3.37it/s]\n"
     ]
    },
    {
     "name": "stdout",
     "output_type": "stream",
     "text": [
      "Epoch: 10, Train loss: 0.100, Val loss: 0.097, Train acc.: 0.441, Val acc.: 0.435, Epoch time = 37.091s\n"
     ]
    },
    {
     "name": "stderr",
     "output_type": "stream",
     "text": [
      "100%|██████████| 125/125 [00:37<00:00,  3.36it/s]\n"
     ]
    },
    {
     "name": "stdout",
     "output_type": "stream",
     "text": [
      "Epoch: 11, Train loss: 0.096, Val loss: 0.093, Train acc.: 0.441, Val acc.: 0.443, Epoch time = 37.157s\n"
     ]
    },
    {
     "name": "stderr",
     "output_type": "stream",
     "text": [
      "100%|██████████| 125/125 [00:36<00:00,  3.39it/s]\n"
     ]
    },
    {
     "name": "stdout",
     "output_type": "stream",
     "text": [
      "Epoch: 12, Train loss: 0.093, Val loss: 0.091, Train acc.: 0.448, Val acc.: 0.444, Epoch time = 36.862s\n"
     ]
    },
    {
     "name": "stderr",
     "output_type": "stream",
     "text": [
      "100%|██████████| 125/125 [00:36<00:00,  3.38it/s]\n"
     ]
    },
    {
     "name": "stdout",
     "output_type": "stream",
     "text": [
      "Epoch: 13, Train loss: 0.090, Val loss: 0.086, Train acc.: 0.456, Val acc.: 0.462, Epoch time = 36.988s\n"
     ]
    },
    {
     "name": "stderr",
     "output_type": "stream",
     "text": [
      "100%|██████████| 125/125 [00:36<00:00,  3.43it/s]\n"
     ]
    },
    {
     "name": "stdout",
     "output_type": "stream",
     "text": [
      "Epoch: 14, Train loss: 0.087, Val loss: 0.084, Train acc.: 0.464, Val acc.: 0.460, Epoch time = 36.403s\n"
     ]
    },
    {
     "name": "stderr",
     "output_type": "stream",
     "text": [
      "100%|██████████| 125/125 [00:36<00:00,  3.45it/s]\n"
     ]
    },
    {
     "name": "stdout",
     "output_type": "stream",
     "text": [
      "Epoch: 15, Train loss: 0.084, Val loss: 0.082, Train acc.: 0.470, Val acc.: 0.473, Epoch time = 36.269s\n"
     ]
    }
   ],
   "source": [
    "from timeit import default_timer as timer\n",
    "NUM_EPOCHS = 15\n",
    "train_losses = []\n",
    "train_accs = []\n",
    "val_losses = []\n",
    "val_accs = []\n",
    "\n",
    "for epoch in range(1, NUM_EPOCHS + 1):\n",
    "    start_time = timer()\n",
    "    train_loss, train_acc = train_epoch(\n",
    "        transformer, optimizer, train_dataloader)\n",
    "    train_losses += [train_loss]\n",
    "    train_accs += [train_acc]\n",
    "    end_time = timer()\n",
    "    val_loss, val_acc = evaluate(transformer, val_dataloader)\n",
    "    val_losses += [val_loss]\n",
    "    val_accs += [val_acc]\n",
    "    print((f\"Epoch: {epoch}, Train loss: {train_loss:.3f}, Val loss: {val_loss:.3f}, Train acc.: {train_acc:.3f}, Val acc.: {val_acc:.3f}, Epoch time = {(end_time - start_time):.3f}s\"))\n"
   ]
  },
  {
   "cell_type": "markdown",
   "metadata": {},
   "source": [
    "## Plotting the Loss"
   ]
  },
  {
   "cell_type": "code",
   "execution_count": 624,
   "metadata": {},
   "outputs": [],
   "source": [
    "epochs = range(NUM_EPOCHS)\n"
   ]
  },
  {
   "cell_type": "code",
   "execution_count": 625,
   "metadata": {},
   "outputs": [
    {
     "data": {
      "image/png": "[encoded data removed]",
      "text/plain": [
       "<Figure size 640x480 with 1 Axes>"
      ]
     },
     "metadata": {},
     "output_type": "display_data"
    }
   ],
   "source": [
    "plt.plot(epochs, train_losses, 'bo', label='Training loss')\n",
    "plt.plot(epochs, val_losses, 'b', label='Validation loss')\n",
    "plt.title('Training and validation loss')\n",
    "plt.xlabel('Epochs')\n",
    "plt.ylabel('Loss')\n",
    "plt.legend()\n",
    "plt.show()\n"
   ]
  },
  {
   "cell_type": "code",
   "execution_count": 626,
   "metadata": {},
   "outputs": [
    {
     "data": {
      "image/png": "[encoded data removed]",
      "text/plain": [
       "<Figure size 640x480 with 1 Axes>"
      ]
     },
     "metadata": {},
     "output_type": "display_data"
    }
   ],
   "source": [
    "plt.plot(epochs, train_accs, 'bo', label='Training acc')\n",
    "plt.plot(epochs, val_accs, 'b', label='Validation acc')\n",
    "plt.title('Training and validation accuracy')\n",
    "plt.xlabel('Epochs')\n",
    "plt.ylabel('Accuracy')\n",
    "plt.show()\n"
   ]
  },
  {
   "cell_type": "markdown",
   "metadata": {},
   "source": [
    "## Application"
   ]
  },
  {
   "cell_type": "code",
   "execution_count": 627,
   "metadata": {},
   "outputs": [],
   "source": [
    "# function to generate output sequence using greedy algorithm\n",
    "def greedy_decode(model, src, src_mask, max_len, start_symbol):\n",
    "    src = src.to(DEVICE)\n",
    "    src_mask = src_mask.to(DEVICE)\n",
    "\n",
    "    memory = model.encode(src, src_mask)\n",
    "    ys = torch.ones(1, 1).fill_(start_symbol).type(torch.long).to(DEVICE)\n",
    "    # print(ys)\n",
    "    for i in range(max_len-1):\n",
    "        memory = memory.to(DEVICE)\n",
    "        tgt_mask = (generate_square_subsequent_mask(ys.size(0))\n",
    "                    .type(torch.bool)).to(DEVICE)\n",
    "        out = model.decode(ys, memory, tgt_mask)\n",
    "        out = out.transpose(0, 1)\n",
    "        prob = model.generator(out[:, -1])\n",
    "        _, next_word = torch.max(prob, dim=1)\n",
    "        next_word = next_word.item()\n",
    "\n",
    "        ys = torch.cat([ys,\n",
    "                        torch.ones(1, 1).type_as(src.data).fill_(next_word)], dim=0)\n",
    "        # print(ys) # Remove the comment to understand the loop\n",
    "        print(next_word)\n",
    "        if next_word == EOS_IDX:\n",
    "            \n",
    "            break\n",
    "    return ys\n"
   ]
  },
  {
   "cell_type": "code",
   "execution_count": 628,
   "metadata": {},
   "outputs": [
    {
     "data": {
      "text/plain": [
       "tensor([[    1],\n",
       "        [  380],\n",
       "        [12981],\n",
       "        [    2]])"
      ]
     },
     "execution_count": 628,
     "metadata": {},
     "output_type": "execute_result"
    }
   ],
   "source": [
    "text2codes(['Go!'], sp)[0].view(-1, 1)\n"
   ]
  },
  {
   "cell_type": "code",
   "execution_count": 629,
   "metadata": {},
   "outputs": [],
   "source": [
    "# actual function to translate input sentence into target language\n",
    "def translate(model: torch.nn.Module, src_sentence: str):\n",
    "    model.eval()\n",
    "    src = text2codes([src_sentence], sp)[0].view(-1, 1)\n",
    "    num_tokens = src.shape[0]\n",
    "    src_mask = (torch.zeros(num_tokens, num_tokens)).type(torch.bool)\n",
    "    tgt_tokens = greedy_decode(\n",
    "        model, src, src_mask, max_len=num_tokens + 20, start_symbol=BOS_IDX).flatten()\n",
    "    tgt_chars_specials = codes2text([tgt_tokens], sp)\n",
    "    tgt_words = []\n",
    "    for token in tgt_chars_specials:\n",
    "        if token not in ['<s>', '</s>', '<unk>']:\n",
    "            tgt_words.append(token.strip())\n",
    "    tgt_sentence = ' '.join(tgt_words)\n",
    "    return tgt_sentence\n"
   ]
  },
  {
   "cell_type": "code",
   "execution_count": 630,
   "metadata": {},
   "outputs": [
    {
     "name": "stdout",
     "output_type": "stream",
     "text": [
      "18\n",
      "514\n",
      "681\n",
      "447\n",
      "12947\n",
      "2\n"
     ]
    },
    {
     "data": {
      "text/plain": [
       "'Jag hade mina dag.'"
      ]
     },
     "execution_count": 630,
     "metadata": {},
     "output_type": "execute_result"
    }
   ],
   "source": [
    "tgt_sent = translate(transformer, 'I drink water every day')\n",
    "tgt_sent\n"
   ]
  },
  {
   "cell_type": "code",
   "execution_count": 631,
   "metadata": {},
   "outputs": [
    {
     "name": "stdout",
     "output_type": "stream",
     "text": [
      "18\n",
      "142\n",
      "202\n",
      "447\n",
      "12947\n",
      "2\n"
     ]
    },
    {
     "data": {
      "text/plain": [
       "'Jag kan ett dag.'"
      ]
     },
     "execution_count": 631,
     "metadata": {},
     "output_type": "execute_result"
    }
   ],
   "source": [
    "tgt_sent = translate(\n",
    "    transformer, \"Eine Gruppe von Menschen steht vor einem Iglu .\")\n",
    "tgt_sent\n"
   ]
  },
  {
   "cell_type": "markdown",
   "metadata": {},
   "source": [
    "## Save model"
   ]
  },
  {
   "cell_type": "code",
   "execution_count": 632,
   "metadata": {},
   "outputs": [],
   "source": [
    "\n",
    "torch.save(transformer, 'simple_params_v4.pth')\n"
   ]
  },
  {
   "cell_type": "markdown",
   "metadata": {},
   "source": [
    "## Report\n",
    "In your report, you will first summarize the paper _Attention Is All You Need_ (https://arxiv.org/abs/1706.03762) in about half a page. You will then describe the encoder-decoder architecture in the notebook. \n",
    "\n",
    "Please follow the outline below and use the same section names as those in bold:\n",
    "- __Dataset__: Describe your dataset;\n",
    "- __Encoder-Decoder__: Describe the overall architecture;\n",
    "- __Embeddings__: Explain the embeddings, positional encodings and character embeddings\n",
    "- __Self-Attention__: Explain self-attention\n",
    "- __Decoder__: Describe the decoder\n",
    "- __Inference__: Describe the inference\n",
    "- __Experiments and Results__: Describe and comment your experiments and results. You should try at least two sets of parameters (e.g. number of heads, number of layers, number of epochs, etc.)"
   ]
  },
  {
   "cell_type": "markdown",
   "metadata": {},
   "source": []
  },
  {
   "cell_type": "code",
   "execution_count": null,
   "metadata": {},
   "outputs": [],
   "source": []
  }
 ],
 "metadata": {
  "kernelspec": {
   "display_name": "Python 3 (ipykernel)",
   "language": "python",
   "name": "python3"
  },
  "language_info": {
   "codemirror_mode": {
    "name": "ipython",
    "version": 3
   },
   "file_extension": ".py",
   "mimetype": "text/x-python",
   "name": "python",
   "nbconvert_exporter": "python",
   "pygments_lexer": "ipython3",
   "version": "3.11.5"
  },
  "vscode": {
   "interpreter": {
    "hash": "b97b11a820675205aae8f1d7f2a3f22bbd3a2c30189f44042310baf5b4cd1987"
   }
  }
 },
 "nbformat": 4,
 "nbformat_minor": 4
}
