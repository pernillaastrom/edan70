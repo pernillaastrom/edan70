{
 "cells": [
  {
   "cell_type": "code",
   "execution_count": 345,
   "metadata": {},
   "outputs": [],
   "source": [
    "#vårt projekt\n",
    "\n",
    "from typing import Tuple\n",
    "\n",
    "from torch import Tensor\n",
    "import torch\n",
    "import torch.nn as nn\n",
    "from torch.nn import Transformer\n",
    "from torch.utils.data import dataset\n",
    "from torch.nn.utils.rnn import pad_sequence\n",
    "from torch.optim.lr_scheduler import LambdaLR\n",
    "import random\n",
    "import numpy as np\n",
    "import math\n",
    "\n",
    "import matplotlib.pyplot as plt\n",
    "from tqdm import tqdm"
   ]
  },
  {
   "cell_type": "code",
   "execution_count": 346,
   "metadata": {},
   "outputs": [
    {
     "name": "stdout",
     "output_type": "stream",
     "text": [
      "2.1.1\n"
     ]
    }
   ],
   "source": [
    "print(torch.__version__)"
   ]
  },
  {
   "cell_type": "code",
   "execution_count": 347,
   "metadata": {},
   "outputs": [],
   "source": [
    "# pip install sentencepiece\n",
    "# pip install tqdm\n",
    "#conda install pytorch torchvision torchaudio -c pytorch\n",
    "#python -m pip uninstall pytorch"
   ]
  },
  {
   "cell_type": "code",
   "execution_count": 348,
   "metadata": {},
   "outputs": [],
   "source": [
    "import sentencepiece as spm"
   ]
  },
  {
   "cell_type": "code",
   "execution_count": 349,
   "metadata": {},
   "outputs": [
    {
     "data": {
      "text/plain": [
       "<torch._C.Generator at 0x10c78d870>"
      ]
     },
     "execution_count": 349,
     "metadata": {},
     "output_type": "execute_result"
    }
   ],
   "source": [
    "random.seed(1234)\n",
    "np.random.seed(1234)\n",
    "torch.manual_seed(1234)"
   ]
  },
  {
   "cell_type": "code",
   "execution_count": 350,
   "metadata": {},
   "outputs": [
    {
     "data": {
      "text/plain": [
       "device(type='cpu')"
      ]
     },
     "execution_count": 350,
     "metadata": {},
     "output_type": "execute_result"
    }
   ],
   "source": [
    "if torch.cuda.is_available():\n",
    "    device = 'cuda'\n",
    "\n",
    "else:\n",
    "    device = 'cpu'\n",
    "DEVICE = torch.device(device)\n",
    "DEVICE\n"
   ]
  },
  {
   "cell_type": "code",
   "execution_count": 351,
   "metadata": {},
   "outputs": [],
   "source": [
    "#Alice paths\n",
    "data_path = '/Users/alicetottie/Downloads/projekt_data/train_paracrawl.en'\n",
    "data_path_2 = '/Users/alicetottie/Downloads/projekt_data/train_paracrawl.sv'\n",
    "\n",
    "#Maja paths\n",
    "# data_path = '/Users/majarygard/Documents/LTH/Projekt i Data/train_paracrawl.en'\n",
    "# data_path_2 = '/Users/majarygard/Documents/LTH/Projekt i Data/train_paracrawl.sv'\n",
    "\n",
    "#Pernilla paths\n",
    "#data_path = 'C:\\\\Users\\\\nilla\\\\Plugg\\\\project-data\\\\train_paracrawl.en\\\\train_paracrawl.en'\n",
    "#data_path_2 = 'C:\\\\Users\\\\nilla\\\\Plugg\\\\project-data\\\\train_paracrawl.sv\\\\train_paracrawl.sv'\n"
   ]
  },
  {
   "cell_type": "code",
   "execution_count": 352,
   "metadata": {},
   "outputs": [],
   "source": [
    "with open(data_path, \"r\", encoding=\"utf-8\") as f:\n",
    "    lines = f.read().split(\"\\n\")\n",
    "\n",
    "with open(data_path_2, \"r\", encoding=\"utf-8\") as f:\n",
    "    lines2 = f.read().split(\"\\n\")    "
   ]
  },
  {
   "cell_type": "code",
   "execution_count": 353,
   "metadata": {},
   "outputs": [
    {
     "data": {
      "text/plain": [
       "4960283"
      ]
     },
     "execution_count": 353,
     "metadata": {},
     "output_type": "execute_result"
    }
   ],
   "source": [
    "len(lines)\n",
    "\n"
   ]
  },
  {
   "cell_type": "code",
   "execution_count": 354,
   "metadata": {},
   "outputs": [
    {
     "data": {
      "text/plain": [
       "4960283"
      ]
     },
     "execution_count": 354,
     "metadata": {},
     "output_type": "execute_result"
    }
   ],
   "source": [
    "len(lines2)"
   ]
  },
  {
   "cell_type": "code",
   "execution_count": 355,
   "metadata": {},
   "outputs": [],
   "source": [
    "num_samples = 1000\n",
    "input_texts = []\n",
    "target_texts = []\n",
    "\n",
    "for line in lines[: min(num_samples, len(lines) - 1)]:\n",
    "    input_text= line.split(\"\\t\")\n",
    "    input_texts.append(input_text)\n",
    "\n",
    "with open(\"input_texts.txt\", \"w\", encoding='utf-8') as f:\n",
    "    for input_text in input_texts:\n",
    "        f.write('\\t'.join(input_text) + '\\n')\n",
    "    \n",
    "for line in lines2[: min(num_samples, len(lines2) - 1)]:\n",
    "    target_text= line.split(\"\\t\")\n",
    "    target_texts.append(target_text)  \n",
    "\n",
    "with open(\"input_texts.txt\", \"a\", encoding='utf-8') as f:\n",
    "    for target_text in target_texts:\n",
    "        f.write('\\t'.join(target_text) + '\\n') "
   ]
  },
  {
   "cell_type": "code",
   "execution_count": 356,
   "metadata": {},
   "outputs": [
    {
     "data": {
      "text/plain": [
       "['\" This is my third course and I bought this concept a long time ago.']"
      ]
     },
     "execution_count": 356,
     "metadata": {},
     "output_type": "execute_result"
    }
   ],
   "source": [
    "input_texts[500]\n",
    "\n"
   ]
  },
  {
   "cell_type": "code",
   "execution_count": 357,
   "metadata": {},
   "outputs": [
    {
     "data": {
      "text/plain": [
       "['\" Det här är min tredje kurs och jag har köpt det hela för länge sedan.']"
      ]
     },
     "execution_count": 357,
     "metadata": {},
     "output_type": "execute_result"
    }
   ],
   "source": [
    "target_texts[500]"
   ]
  },
  {
   "cell_type": "code",
   "execution_count": 358,
   "metadata": {},
   "outputs": [
    {
     "data": {
      "text/plain": [
       "800"
      ]
     },
     "execution_count": 358,
     "metadata": {},
     "output_type": "execute_result"
    }
   ],
   "source": [
    "TRAIN_PERCENTAGE = 0.8\n",
    "train_val = int(TRAIN_PERCENTAGE * num_samples)\n",
    "train_val"
   ]
  },
  {
   "cell_type": "code",
   "execution_count": 359,
   "metadata": {},
   "outputs": [],
   "source": [
    "text_pairs = list(zip(input_texts, target_texts))\n",
    "random.shuffle(text_pairs)\n",
    "input_texts, target_texts = zip(*text_pairs)\n",
    "input_texts, target_texts = list(input_texts), list(target_texts)\n"
   ]
  },
  {
   "cell_type": "code",
   "execution_count": 360,
   "metadata": {},
   "outputs": [],
   "source": [
    "train_input_texts = input_texts[:train_val]\n",
    "train_target_texts = target_texts[:train_val]\n",
    "\n",
    "val_input_texts = input_texts[train_val:]\n",
    "val_target_texts = target_texts[train_val:]"
   ]
  },
  {
   "cell_type": "code",
   "execution_count": 361,
   "metadata": {},
   "outputs": [
    {
     "name": "stdout",
     "output_type": "stream",
     "text": [
      "['<s>', '▁This', '▁is', '▁a', '▁test', '</s>']\n",
      "[1, 1221, 120, 6, 2384, 2]\n",
      "This is a test\n",
      "honomill terte\n"
     ]
    },
    {
     "name": "stderr",
     "output_type": "stream",
     "text": [
      "sentencepiece_trainer.cc(178) LOG(INFO) Running command: --input=input_texts.txt --model_prefix=m --vocab_size=8000 --model_type=bpe --pad_id=3\n",
      "sentencepiece_trainer.cc(78) LOG(INFO) Starts training with : \n",
      "trainer_spec {\n",
      "  input: input_texts.txt\n",
      "  input_format: \n",
      "  model_prefix: m\n",
      "  model_type: BPE\n",
      "  vocab_size: 8000\n",
      "  self_test_sample_size: 0\n",
      "  character_coverage: 0.9995\n",
      "  input_sentence_size: 0\n",
      "  shuffle_input_sentence: 1\n",
      "  seed_sentencepiece_size: 1000000\n",
      "  shrinking_factor: 0.75\n",
      "  max_sentence_length: 4192\n",
      "  num_threads: 16\n",
      "  num_sub_iterations: 2\n",
      "  max_sentencepiece_length: 16\n",
      "  split_by_unicode_script: 1\n",
      "  split_by_number: 1\n",
      "  split_by_whitespace: 1\n",
      "  split_digits: 0\n",
      "  pretokenization_delimiter: \n",
      "  treat_whitespace_as_suffix: 0\n",
      "  allow_whitespace_only_pieces: 0\n",
      "  required_chars: \n",
      "  byte_fallback: 0\n",
      "  vocabulary_output_piece_score: 1\n",
      "  train_extremely_large_corpus: 0\n",
      "  seed_sentencepieces_file: \n",
      "  hard_vocab_limit: 1\n",
      "  use_all_vocab: 0\n",
      "  unk_id: 0\n",
      "  bos_id: 1\n",
      "  eos_id: 2\n",
      "  pad_id: 3\n",
      "  unk_piece: <unk>\n",
      "  bos_piece: <s>\n",
      "  eos_piece: </s>\n",
      "  pad_piece: <pad>\n",
      "  unk_surface:  ⁇ \n",
      "  enable_differential_privacy: 0\n",
      "  differential_privacy_noise_level: 0\n",
      "  differential_privacy_clipping_threshold: 0\n",
      "}\n",
      "normalizer_spec {\n",
      "  name: nmt_nfkc\n",
      "  add_dummy_prefix: 1\n",
      "  remove_extra_whitespaces: 1\n",
      "  escape_whitespaces: 1\n",
      "  normalization_rule_tsv: \n",
      "}\n",
      "denormalizer_spec {}\n",
      "trainer_interface.cc(353) LOG(INFO) SentenceIterator is not specified. Using MultiFileSentenceIterator.\n",
      "trainer_interface.cc(185) LOG(INFO) Loading corpus: input_texts.txt\n",
      "trainer_interface.cc(409) LOG(INFO) Loaded all 2000 sentences\n",
      "trainer_interface.cc(425) LOG(INFO) Adding meta_piece: <unk>\n",
      "trainer_interface.cc(425) LOG(INFO) Adding meta_piece: <s>\n",
      "trainer_interface.cc(425) LOG(INFO) Adding meta_piece: </s>\n",
      "trainer_interface.cc(425) LOG(INFO) Adding meta_piece: <pad>\n",
      "trainer_interface.cc(430) LOG(INFO) Normalizing sentences...\n",
      "trainer_interface.cc(539) LOG(INFO) all chars count=219191\n",
      "trainer_interface.cc(550) LOG(INFO) Done: 99.9526% characters are covered.\n",
      "trainer_interface.cc(560) LOG(INFO) Alphabet size=107\n",
      "trainer_interface.cc(561) LOG(INFO) Final character coverage=0.999526\n",
      "trainer_interface.cc(592) LOG(INFO) Done! preprocessed 2000 sentences.\n",
      "trainer_interface.cc(598) LOG(INFO) Tokenizing input sentences with whitespace: 2000\n",
      "trainer_interface.cc(609) LOG(INFO) Done! 12217\n",
      "bpe_model_trainer.cc(159) LOG(INFO) Updating active symbols. max_freq=2839 min_freq=7\n",
      "bpe_model_trainer.cc(268) LOG(INFO) Added: freq=1156 size=20 all=2739 active=1812 piece=on\n",
      "bpe_model_trainer.cc(268) LOG(INFO) Added: freq=623 size=40 all=3662 active=2735 piece=ör\n",
      "bpe_model_trainer.cc(268) LOG(INFO) Added: freq=497 size=60 all=4456 active=3529 piece=▁n\n",
      "bpe_model_trainer.cc(268) LOG(INFO) Added: freq=355 size=80 all=5315 active=4388 piece=▁för\n",
      "bpe_model_trainer.cc(268) LOG(INFO) Added: freq=282 size=100 all=5945 active=5018 piece=▁r\n",
      "bpe_model_trainer.cc(159) LOG(INFO) Updating active symbols. max_freq=282 min_freq=26\n",
      "bpe_model_trainer.cc(268) LOG(INFO) Added: freq=224 size=120 all=6537 active=1569 piece=▁B\n",
      "bpe_model_trainer.cc(268) LOG(INFO) Added: freq=189 size=140 all=7087 active=2119 piece=▁det\n",
      "bpe_model_trainer.cc(268) LOG(INFO) Added: freq=163 size=160 all=7710 active=2742 piece=ud\n",
      "bpe_model_trainer.cc(268) LOG(INFO) Added: freq=141 size=180 all=8463 active=3495 piece=▁den\n",
      "bpe_model_trainer.cc(268) LOG(INFO) Added: freq=127 size=200 all=9000 active=4032 piece=▁V\n",
      "bpe_model_trainer.cc(159) LOG(INFO) Updating active symbols. max_freq=127 min_freq=21\n",
      "bpe_model_trainer.cc(268) LOG(INFO) Added: freq=104 size=220 all=9386 active=1354 piece=\":\n",
      "bpe_model_trainer.cc(268) LOG(INFO) Added: freq=89 size=240 all=9822 active=1790 piece=ve\n",
      "bpe_model_trainer.cc(268) LOG(INFO) Added: freq=79 size=260 all=10137 active=2105 piece=eb\n",
      "bpe_model_trainer.cc(268) LOG(INFO) Added: freq=72 size=280 all=10524 active=2492 piece=▁res\n",
      "bpe_model_trainer.cc(268) LOG(INFO) Added: freq=66 size=300 all=10918 active=2886 piece=▁are\n",
      "bpe_model_trainer.cc(159) LOG(INFO) Updating active symbols. max_freq=65 min_freq=19\n",
      "bpe_model_trainer.cc(268) LOG(INFO) Added: freq=62 size=320 all=11253 active=1334 piece=:3\n",
      "bpe_model_trainer.cc(268) LOG(INFO) Added: freq=58 size=340 all=11476 active=1557 piece=▁Jesus\n",
      "bpe_model_trainer.cc(268) LOG(INFO) Added: freq=54 size=360 all=11790 active=1871 piece=▁9\n",
      "bpe_model_trainer.cc(268) LOG(INFO) Added: freq=51 size=380 all=12023 active=2104 piece=cl\n",
      "bpe_model_trainer.cc(268) LOG(INFO) Added: freq=49 size=400 all=12311 active=2392 piece=▁any\n",
      "bpe_model_trainer.cc(159) LOG(INFO) Updating active symbols. max_freq=48 min_freq=16\n",
      "bpe_model_trainer.cc(268) LOG(INFO) Added: freq=46 size=420 all=12559 active=1247 piece=ile\n",
      "bpe_model_trainer.cc(268) LOG(INFO) Added: freq=44 size=440 all=12814 active=1502 piece=ions\n",
      "bpe_model_trainer.cc(268) LOG(INFO) Added: freq=41 size=460 all=13018 active=1706 piece=ake\n",
      "bpe_model_trainer.cc(268) LOG(INFO) Added: freq=40 size=480 all=13207 active=1895 piece=▁produ\n",
      "bpe_model_trainer.cc(268) LOG(INFO) Added: freq=37 size=500 all=13303 active=1991 piece=▁7\n",
      "bpe_model_trainer.cc(159) LOG(INFO) Updating active symbols. max_freq=37 min_freq=15\n",
      "bpe_model_trainer.cc(268) LOG(INFO) Added: freq=36 size=520 all=13557 active=1246 piece=▁Th\n",
      "bpe_model_trainer.cc(268) LOG(INFO) Added: freq=35 size=540 all=13694 active=1383 piece=▁will\n",
      "bpe_model_trainer.cc(268) LOG(INFO) Added: freq=33 size=560 all=13853 active=1542 piece=7)\n",
      "bpe_model_trainer.cc(268) LOG(INFO) Added: freq=32 size=580 all=14053 active=1742 piece=▁fil\n",
      "bpe_model_trainer.cc(268) LOG(INFO) Added: freq=31 size=600 all=14184 active=1873 piece=ater\n",
      "bpe_model_trainer.cc(159) LOG(INFO) Updating active symbols. max_freq=31 min_freq=13\n",
      "bpe_model_trainer.cc(268) LOG(INFO) Added: freq=30 size=620 all=14346 active=1146 piece=arn\n",
      "bpe_model_trainer.cc(268) LOG(INFO) Added: freq=30 size=640 all=14518 active=1318 piece=▁efter\n",
      "bpe_model_trainer.cc(268) LOG(INFO) Added: freq=29 size=660 all=14733 active=1533 piece=ations\n",
      "bpe_model_trainer.cc(268) LOG(INFO) Added: freq=28 size=680 all=14913 active=1713 piece=▁gör\n",
      "bpe_model_trainer.cc(268) LOG(INFO) Added: freq=27 size=700 all=15026 active=1826 piece=▁every\n",
      "bpe_model_trainer.cc(159) LOG(INFO) Updating active symbols. max_freq=26 min_freq=12\n",
      "bpe_model_trainer.cc(268) LOG(INFO) Added: freq=26 size=720 all=15194 active=1166 piece=▁Con\n",
      "bpe_model_trainer.cc(268) LOG(INFO) Added: freq=25 size=740 all=15339 active=1311 piece=ser\n",
      "bpe_model_trainer.cc(268) LOG(INFO) Added: freq=25 size=760 all=15445 active=1417 piece=formation\n",
      "bpe_model_trainer.cc(268) LOG(INFO) Added: freq=24 size=780 all=15589 active=1561 piece=cript\n",
      "bpe_model_trainer.cc(268) LOG(INFO) Added: freq=23 size=800 all=15676 active=1648 piece=▁ro\n",
      "bpe_model_trainer.cc(159) LOG(INFO) Updating active symbols. max_freq=23 min_freq=11\n",
      "bpe_model_trainer.cc(268) LOG(INFO) Added: freq=22 size=820 all=15783 active=1097 piece=we\n",
      "bpe_model_trainer.cc(268) LOG(INFO) Added: freq=22 size=840 all=15905 active=1219 piece=▁Dav\n",
      "bpe_model_trainer.cc(268) LOG(INFO) Added: freq=21 size=860 all=16068 active=1382 piece=red\n",
      "bpe_model_trainer.cc(268) LOG(INFO) Added: freq=21 size=880 all=16166 active=1480 piece=heter\n",
      "bpe_model_trainer.cc(268) LOG(INFO) Added: freq=20 size=900 all=16237 active=1551 piece=ket\n",
      "bpe_model_trainer.cc(159) LOG(INFO) Updating active symbols. max_freq=20 min_freq=10\n",
      "bpe_model_trainer.cc(268) LOG(INFO) Added: freq=20 size=920 all=16346 active=1103 piece=▁str\n",
      "bpe_model_trainer.cc(268) LOG(INFO) Added: freq=19 size=940 all=16424 active=1181 piece=bb\n",
      "bpe_model_trainer.cc(268) LOG(INFO) Added: freq=19 size=960 all=16663 active=1420 piece=▁vä\n",
      "bpe_model_trainer.cc(268) LOG(INFO) Added: freq=19 size=980 all=16733 active=1490 piece=▁bästa\n",
      "bpe_model_trainer.cc(268) LOG(INFO) Added: freq=18 size=1000 all=16925 active=1682 piece=▁Ar\n",
      "bpe_model_trainer.cc(159) LOG(INFO) Updating active symbols. max_freq=18 min_freq=9\n",
      "bpe_model_trainer.cc(268) LOG(INFO) Added: freq=18 size=1020 all=17015 active=1083 piece=▁(1.8\n",
      "bpe_model_trainer.cc(268) LOG(INFO) Added: freq=17 size=1040 all=17085 active=1153 piece=act\n",
      "bpe_model_trainer.cc(268) LOG(INFO) Added: freq=17 size=1060 all=17228 active=1296 piece=▁Ab\n",
      "bpe_model_trainer.cc(268) LOG(INFO) Added: freq=17 size=1080 all=17315 active=1383 piece=Matte\n",
      "bpe_model_trainer.cc(268) LOG(INFO) Added: freq=17 size=1100 all=17337 active=1405 piece=▁person\n",
      "bpe_model_trainer.cc(159) LOG(INFO) Updating active symbols. max_freq=17 min_freq=9\n",
      "bpe_model_trainer.cc(268) LOG(INFO) Added: freq=16 size=1120 all=17456 active=1116 piece=▁ge\n",
      "bpe_model_trainer.cc(268) LOG(INFO) Added: freq=16 size=1140 all=17552 active=1212 piece=▁mat\n",
      "bpe_model_trainer.cc(268) LOG(INFO) Added: freq=16 size=1160 all=17614 active=1274 piece=▁hand\n",
      "bpe_model_trainer.cc(268) LOG(INFO) Added: freq=15 size=1180 all=17694 active=1354 piece=åt\n",
      "bpe_model_trainer.cc(268) LOG(INFO) Added: freq=15 size=1200 all=17824 active=1484 piece=iety\n",
      "bpe_model_trainer.cc(159) LOG(INFO) Updating active symbols. max_freq=15 min_freq=8\n",
      "bpe_model_trainer.cc(268) LOG(INFO) Added: freq=15 size=1220 all=17894 active=1068 piece=▁fant\n",
      "bpe_model_trainer.cc(268) LOG(INFO) Added: freq=15 size=1240 all=17914 active=1088 piece=▁mellan\n",
      "bpe_model_trainer.cc(268) LOG(INFO) Added: freq=14 size=1260 all=18053 active=1227 piece=ute\n",
      "bpe_model_trainer.cc(268) LOG(INFO) Added: freq=14 size=1280 all=18136 active=1310 piece=▁Som\n",
      "bpe_model_trainer.cc(268) LOG(INFO) Added: freq=14 size=1300 all=18217 active=1391 piece=▁well\n",
      "bpe_model_trainer.cc(159) LOG(INFO) Updating active symbols. max_freq=14 min_freq=8\n",
      "bpe_model_trainer.cc(268) LOG(INFO) Added: freq=14 size=1320 all=18214 active=998 piece=▁konverter\n",
      "bpe_model_trainer.cc(268) LOG(INFO) Added: freq=13 size=1340 all=18338 active=1122 piece=jur\n",
      "bpe_model_trainer.cc(268) LOG(INFO) Added: freq=13 size=1360 all=18450 active=1234 piece=▁kö\n",
      "bpe_model_trainer.cc(268) LOG(INFO) Added: freq=13 size=1380 all=18546 active=1330 piece=▁fol\n",
      "bpe_model_trainer.cc(268) LOG(INFO) Added: freq=13 size=1400 all=18603 active=1387 piece=▁jord\n",
      "bpe_model_trainer.cc(159) LOG(INFO) Updating active symbols. max_freq=13 min_freq=7\n",
      "bpe_model_trainer.cc(268) LOG(INFO) Added: freq=13 size=1420 all=18619 active=1013 piece=Lukasev\n",
      "bpe_model_trainer.cc(268) LOG(INFO) Added: freq=12 size=1440 all=18665 active=1059 piece=:17\n",
      "bpe_model_trainer.cc(268) LOG(INFO) Added: freq=12 size=1460 all=18781 active=1175 piece=▁50\n",
      "bpe_model_trainer.cc(268) LOG(INFO) Added: freq=12 size=1480 all=18844 active=1238 piece=▁död\n",
      "bpe_model_trainer.cc(268) LOG(INFO) Added: freq=12 size=1500 all=18901 active=1295 piece=▁(142\n",
      "bpe_model_trainer.cc(159) LOG(INFO) Updating active symbols. max_freq=12 min_freq=7\n",
      "bpe_model_trainer.cc(268) LOG(INFO) Added: freq=12 size=1520 all=18907 active=1007 piece=▁många\n",
      "bpe_model_trainer.cc(268) LOG(INFO) Added: freq=11 size=1540 all=18909 active=1009 piece=IT\n",
      "bpe_model_trainer.cc(268) LOG(INFO) Added: freq=11 size=1560 all=19013 active=1113 piece=ret\n",
      "bpe_model_trainer.cc(268) LOG(INFO) Added: freq=11 size=1580 all=19098 active=1198 piece=line\n",
      "bpe_model_trainer.cc(268) LOG(INFO) Added: freq=11 size=1600 all=19142 active=1242 piece=▁pop\n",
      "bpe_model_trainer.cc(159) LOG(INFO) Updating active symbols. max_freq=11 min_freq=7\n",
      "bpe_model_trainer.cc(268) LOG(INFO) Added: freq=11 size=1620 all=19199 active=1057 piece=▁prof\n",
      "bpe_model_trainer.cc(268) LOG(INFO) Added: freq=11 size=1640 all=19210 active=1068 piece=▁bättre\n",
      "bpe_model_trainer.cc(268) LOG(INFO) Added: freq=10 size=1660 all=19246 active=1104 piece=ej\n",
      "bpe_model_trainer.cc(268) LOG(INFO) Added: freq=10 size=1680 all=19349 active=1207 piece=ris\n",
      "bpe_model_trainer.cc(268) LOG(INFO) Added: freq=10 size=1700 all=19423 active=1281 piece=ella\n",
      "bpe_model_trainer.cc(159) LOG(INFO) Updating active symbols. max_freq=10 min_freq=6\n",
      "bpe_model_trainer.cc(268) LOG(INFO) Added: freq=10 size=1720 all=19481 active=1054 piece=▁cho\n",
      "bpe_model_trainer.cc(268) LOG(INFO) Added: freq=10 size=1740 all=19529 active=1102 piece=▁(1.1\n",
      "bpe_model_trainer.cc(268) LOG(INFO) Added: freq=10 size=1760 all=19531 active=1104 piece=▁arbet\n",
      "bpe_model_trainer.cc(268) LOG(INFO) Added: freq=10 size=1780 all=19558 active=1131 piece=▁interest\n",
      "bpe_model_trainer.cc(268) LOG(INFO) Added: freq=9 size=1800 all=19654 active=1227 piece=alt\n",
      "bpe_model_trainer.cc(159) LOG(INFO) Updating active symbols. max_freq=9 min_freq=6\n",
      "bpe_model_trainer.cc(268) LOG(INFO) Added: freq=9 size=1820 all=19739 active=1076 piece=äst\n",
      "bpe_model_trainer.cc(268) LOG(INFO) Added: freq=9 size=1840 all=19818 active=1155 piece=ever\n",
      "bpe_model_trainer.cc(268) LOG(INFO) Added: freq=9 size=1860 all=19881 active=1218 piece=▁His\n",
      "bpe_model_trainer.cc(268) LOG(INFO) Added: freq=9 size=1880 all=19921 active=1258 piece=▁sky\n",
      "bpe_model_trainer.cc(268) LOG(INFO) Added: freq=9 size=1900 all=20000 active=1337 piece=▁Dest\n",
      "bpe_model_trainer.cc(159) LOG(INFO) Updating active symbols. max_freq=9 min_freq=6\n",
      "bpe_model_trainer.cc(268) LOG(INFO) Added: freq=9 size=1920 all=20013 active=1012 piece=▁sitt\n",
      "bpe_model_trainer.cc(268) LOG(INFO) Added: freq=9 size=1940 all=20029 active=1028 piece=▁total\n",
      "bpe_model_trainer.cc(268) LOG(INFO) Added: freq=9 size=1960 all=20023 active=1022 piece=▁reviderad\n",
      "bpe_model_trainer.cc(268) LOG(INFO) Added: freq=8 size=1980 all=20102 active=1101 piece=▁^\n",
      "bpe_model_trainer.cc(268) LOG(INFO) Added: freq=8 size=2000 all=20152 active=1151 piece=not\n",
      "bpe_model_trainer.cc(159) LOG(INFO) Updating active symbols. max_freq=8 min_freq=6\n",
      "bpe_model_trainer.cc(268) LOG(INFO) Added: freq=8 size=2020 all=20233 active=1088 piece=▁ye\n",
      "bpe_model_trainer.cc(268) LOG(INFO) Added: freq=8 size=2040 all=20305 active=1160 piece=ites\n",
      "bpe_model_trainer.cc(268) LOG(INFO) Added: freq=8 size=2060 all=20353 active=1208 piece=▁fut\n",
      "bpe_model_trainer.cc(268) LOG(INFO) Added: freq=8 size=2080 all=20389 active=1244 piece=aktiv\n",
      "bpe_model_trainer.cc(268) LOG(INFO) Added: freq=8 size=2100 all=20424 active=1279 piece=▁2011\n",
      "bpe_model_trainer.cc(159) LOG(INFO) Updating active symbols. max_freq=8 min_freq=5\n",
      "bpe_model_trainer.cc(268) LOG(INFO) Added: freq=8 size=2120 all=20436 active=1033 piece=▁poss\n",
      "bpe_model_trainer.cc(268) LOG(INFO) Added: freq=8 size=2140 all=20466 active=1063 piece=▁Krist\n",
      "bpe_model_trainer.cc(268) LOG(INFO) Added: freq=8 size=2160 all=20477 active=1074 piece=▁Yahweh\n",
      "bpe_model_trainer.cc(268) LOG(INFO) Added: freq=8 size=2180 all=20480 active=1077 piece=▁Kommission\n",
      "bpe_model_trainer.cc(268) LOG(INFO) Added: freq=7 size=2200 all=20540 active=1137 piece=Jes\n",
      "bpe_model_trainer.cc(159) LOG(INFO) Updating active symbols. max_freq=7 min_freq=5\n",
      "bpe_model_trainer.cc(268) LOG(INFO) Added: freq=7 size=2220 all=20637 active=1122 piece=put\n",
      "bpe_model_trainer.cc(268) LOG(INFO) Added: freq=7 size=2240 all=20699 active=1184 piece=▁hö\n",
      "bpe_model_trainer.cc(268) LOG(INFO) Added: freq=7 size=2260 all=20743 active=1228 piece=ctor\n",
      "bpe_model_trainer.cc(268) LOG(INFO) Added: freq=7 size=2280 all=20816 active=1301 piece=utom\n",
      "bpe_model_trainer.cc(268) LOG(INFO) Added: freq=7 size=2300 all=20854 active=1339 piece=▁abs\n",
      "bpe_model_trainer.cc(159) LOG(INFO) Updating active symbols. max_freq=7 min_freq=5\n",
      "bpe_model_trainer.cc(268) LOG(INFO) Added: freq=7 size=2320 all=20888 active=1075 piece=▁mag\n",
      "bpe_model_trainer.cc(268) LOG(INFO) Added: freq=7 size=2340 all=20942 active=1129 piece=ished\n",
      "bpe_model_trainer.cc(268) LOG(INFO) Added: freq=7 size=2360 all=20966 active=1153 piece=▁blir\n",
      "bpe_model_trainer.cc(268) LOG(INFO) Added: freq=7 size=2380 all=20979 active=1166 piece=▁tell\n",
      "bpe_model_trainer.cc(268) LOG(INFO) Added: freq=7 size=2400 all=21009 active=1196 piece=▁fader\n",
      "bpe_model_trainer.cc(159) LOG(INFO) Updating active symbols. max_freq=7 min_freq=5\n",
      "bpe_model_trainer.cc(268) LOG(INFO) Added: freq=7 size=2420 all=21025 active=1067 piece=▁backup\n",
      "bpe_model_trainer.cc(268) LOG(INFO) Added: freq=7 size=2440 all=21023 active=1065 piece=▁minuter\n",
      "bpe_model_trainer.cc(268) LOG(INFO) Added: freq=6 size=2460 all=21034 active=1076 piece=?)\n",
      "bpe_model_trainer.cc(268) LOG(INFO) Added: freq=6 size=2480 all=21117 active=1159 piece=äv\n",
      "bpe_model_trainer.cc(268) LOG(INFO) Added: freq=6 size=2500 all=21158 active=1200 piece=agn\n",
      "bpe_model_trainer.cc(159) LOG(INFO) Updating active symbols. max_freq=6 min_freq=4\n",
      "bpe_model_trainer.cc(268) LOG(INFO) Added: freq=6 size=2520 all=21225 active=1121 piece=och\n",
      "bpe_model_trainer.cc(268) LOG(INFO) Added: freq=6 size=2540 all=21274 active=1170 piece=▁Om\n",
      "bpe_model_trainer.cc(268) LOG(INFO) Added: freq=6 size=2560 all=21306 active=1202 piece=Lidz\n",
      "bpe_model_trainer.cc(268) LOG(INFO) Added: freq=6 size=2580 all=21354 active=1250 piece=just\n",
      "bpe_model_trainer.cc(268) LOG(INFO) Added: freq=6 size=2600 all=21398 active=1294 piece=▁..\"\n",
      "bpe_model_trainer.cc(159) LOG(INFO) Updating active symbols. max_freq=6 min_freq=4\n",
      "bpe_model_trainer.cc(268) LOG(INFO) Added: freq=6 size=2620 all=21413 active=1085 piece=▁bea\n",
      "bpe_model_trainer.cc(268) LOG(INFO) Added: freq=6 size=2640 all=21453 active=1125 piece=▁pot\n",
      "bpe_model_trainer.cc(268) LOG(INFO) Added: freq=6 size=2660 all=21481 active=1153 piece=assad\n",
      "bpe_model_trainer.cc(268) LOG(INFO) Added: freq=6 size=2680 all=21519 active=1191 piece=▁(129\n",
      "bpe_model_trainer.cc(268) LOG(INFO) Added: freq=6 size=2700 all=21516 active=1188 piece=▁Lind\n",
      "bpe_model_trainer.cc(159) LOG(INFO) Updating active symbols. max_freq=6 min_freq=4\n",
      "bpe_model_trainer.cc(268) LOG(INFO) Added: freq=6 size=2720 all=21525 active=1081 piece=▁hitt\n",
      "bpe_model_trainer.cc(268) LOG(INFO) Added: freq=6 size=2740 all=21540 active=1096 piece=▁resp\n",
      "bpe_model_trainer.cc(268) LOG(INFO) Added: freq=6 size=2760 all=21553 active=1109 piece=Mastan\n",
      "bpe_model_trainer.cc(268) LOG(INFO) Added: freq=6 size=2780 all=21563 active=1119 piece=▁blasp\n",
      "bpe_model_trainer.cc(268) LOG(INFO) Added: freq=6 size=2800 all=21568 active=1124 piece=▁peace\n",
      "bpe_model_trainer.cc(159) LOG(INFO) Updating active symbols. max_freq=6 min_freq=4\n",
      "bpe_model_trainer.cc(268) LOG(INFO) Added: freq=6 size=2820 all=21574 active=1085 piece=ationer\n",
      "bpe_model_trainer.cc(268) LOG(INFO) Added: freq=6 size=2840 all=21579 active=1090 piece=▁called\n",
      "bpe_model_trainer.cc(268) LOG(INFO) Added: freq=6 size=2860 all=21584 active=1095 piece=ligheten\n",
      "bpe_model_trainer.cc(268) LOG(INFO) Added: freq=6 size=2880 all=21584 active=1095 piece=▁American\n",
      "bpe_model_trainer.cc(268) LOG(INFO) Added: freq=6 size=2900 all=21572 active=1083 piece=▁färgglada\n",
      "bpe_model_trainer.cc(159) LOG(INFO) Updating active symbols. max_freq=6 min_freq=4\n",
      "bpe_model_trainer.cc(268) LOG(INFO) Added: freq=5 size=2920 all=21591 active=1098 piece=OU\n",
      "bpe_model_trainer.cc(268) LOG(INFO) Added: freq=5 size=2940 all=21656 active=1163 piece=Men\n",
      "bpe_model_trainer.cc(268) LOG(INFO) Added: freq=5 size=2960 all=21713 active=1220 piece=esk\n",
      "bpe_model_trainer.cc(268) LOG(INFO) Added: freq=5 size=2980 all=21798 active=1305 piece=mån\n",
      "bpe_model_trainer.cc(268) LOG(INFO) Added: freq=5 size=3000 all=21866 active=1373 piece=▁25\n",
      "bpe_model_trainer.cc(159) LOG(INFO) Updating active symbols. max_freq=5 min_freq=4\n",
      "bpe_model_trainer.cc(268) LOG(INFO) Added: freq=5 size=3020 all=21873 active=1099 piece=▁ju\n",
      "bpe_model_trainer.cc(268) LOG(INFO) Added: freq=5 size=3040 all=21914 active=1140 piece=enom\n",
      "bpe_model_trainer.cc(268) LOG(INFO) Added: freq=5 size=3060 all=21972 active=1198 piece=sign\n",
      "bpe_model_trainer.cc(268) LOG(INFO) Added: freq=5 size=3080 all=22008 active=1234 piece=▁Gör\n",
      "bpe_model_trainer.cc(268) LOG(INFO) Added: freq=5 size=3100 all=22033 active=1259 piece=▁bus\n",
      "bpe_model_trainer.cc(159) LOG(INFO) Updating active symbols. max_freq=5 min_freq=4\n",
      "bpe_model_trainer.cc(268) LOG(INFO) Added: freq=5 size=3120 all=22057 active=1125 piece=▁law\n",
      "bpe_model_trainer.cc(268) LOG(INFO) Added: freq=5 size=3140 all=22069 active=1137 piece=centr\n",
      "bpe_model_trainer.cc(268) LOG(INFO) Added: freq=5 size=3160 all=22112 active=1180 piece=words\n",
      "bpe_model_trainer.cc(268) LOG(INFO) Added: freq=5 size=3180 all=22121 active=1189 piece=▁bröd\n",
      "bpe_model_trainer.cc(268) LOG(INFO) Added: freq=5 size=3200 all=22124 active=1192 piece=▁käns\n",
      "bpe_model_trainer.cc(159) LOG(INFO) Updating active symbols. max_freq=5 min_freq=4\n",
      "bpe_model_trainer.cc(268) LOG(INFO) Added: freq=5 size=3220 all=22127 active=1108 piece=▁stöd\n",
      "bpe_model_trainer.cc(268) LOG(INFO) Added: freq=5 size=3240 all=22146 active=1127 piece=ostnad\n",
      "bpe_model_trainer.cc(268) LOG(INFO) Added: freq=5 size=3260 all=22152 active=1133 piece=▁dator\n",
      "bpe_model_trainer.cc(268) LOG(INFO) Added: freq=5 size=3280 all=22155 active=1136 piece=▁spela\n",
      "bpe_model_trainer.cc(268) LOG(INFO) Added: freq=5 size=3300 all=22163 active=1144 piece=▁active\n",
      "bpe_model_trainer.cc(159) LOG(INFO) Updating active symbols. max_freq=5 min_freq=4\n",
      "bpe_model_trainer.cc(268) LOG(INFO) Added: freq=5 size=3320 all=22166 active=1112 piece=▁includ\n",
      "bpe_model_trainer.cc(268) LOG(INFO) Added: freq=5 size=3340 all=22162 active=1108 piece=▁within\n",
      "bpe_model_trainer.cc(268) LOG(INFO) Added: freq=5 size=3360 all=22159 active=1105 piece=▁picture\n",
      "bpe_model_trainer.cc(268) LOG(INFO) Added: freq=5 size=3380 all=22148 active=1094 piece=▁rättvisa\n",
      "bpe_model_trainer.cc(268) LOG(INFO) Added: freq=5 size=3400 all=22144 active=1090 piece=▁adjustable\n",
      "bpe_model_trainer.cc(159) LOG(INFO) Updating active symbols. max_freq=5 min_freq=3\n",
      "bpe_model_trainer.cc(268) LOG(INFO) Added: freq=4 size=3420 all=22146 active=1110 piece=4\"\n",
      "bpe_model_trainer.cc(268) LOG(INFO) Added: freq=4 size=3440 all=22164 active=1128 piece=FO\n",
      "bpe_model_trainer.cc(268) LOG(INFO) Added: freq=4 size=3460 all=22193 active=1157 piece=bl\n",
      "bpe_model_trainer.cc(268) LOG(INFO) Added: freq=4 size=3480 all=22237 active=1201 piece=▁>\n",
      "bpe_model_trainer.cc(268) LOG(INFO) Added: freq=4 size=3500 all=22254 active=1218 piece=Bir\n",
      "bpe_model_trainer.cc(159) LOG(INFO) Updating active symbols. max_freq=4 min_freq=3\n",
      "bpe_model_trainer.cc(268) LOG(INFO) Added: freq=4 size=3520 all=22262 active=1120 piece=TSC\n",
      "bpe_model_trainer.cc(268) LOG(INFO) Added: freq=4 size=3540 all=22299 active=1157 piece=ebr\n",
      "bpe_model_trainer.cc(268) LOG(INFO) Added: freq=4 size=3560 all=22359 active=1217 piece=lan\n",
      "bpe_model_trainer.cc(268) LOG(INFO) Added: freq=4 size=3580 all=22407 active=1265 piece=vet\n",
      "bpe_model_trainer.cc(268) LOG(INFO) Added: freq=4 size=3600 all=22433 active=1291 piece=▁91\n",
      "bpe_model_trainer.cc(159) LOG(INFO) Updating active symbols. max_freq=4 min_freq=3\n",
      "bpe_model_trainer.cc(268) LOG(INFO) Added: freq=4 size=3620 all=22448 active=1137 piece=▁mp\n",
      "bpe_model_trainer.cc(268) LOG(INFO) Added: freq=4 size=3640 all=22456 active=1145 piece=Read\n",
      "bpe_model_trainer.cc(268) LOG(INFO) Added: freq=4 size=3660 all=22485 active=1174 piece=edom\n",
      "bpe_model_trainer.cc(268) LOG(INFO) Added: freq=4 size=3680 all=22511 active=1200 piece=itle\n",
      "bpe_model_trainer.cc(268) LOG(INFO) Added: freq=4 size=3700 all=22555 active=1244 piece=oser\n",
      "bpe_model_trainer.cc(159) LOG(INFO) Updating active symbols. max_freq=4 min_freq=3\n",
      "bpe_model_trainer.cc(268) LOG(INFO) Added: freq=4 size=3720 all=22611 active=1181 piece=xter\n",
      "bpe_model_trainer.cc(268) LOG(INFO) Added: freq=4 size=3740 all=22609 active=1179 piece=▁Bab\n",
      "bpe_model_trainer.cc(268) LOG(INFO) Added: freq=4 size=3760 all=22615 active=1185 piece=▁MSD\n",
      "bpe_model_trainer.cc(268) LOG(INFO) Added: freq=4 size=3780 all=22628 active=1198 piece=▁WAV\n",
      "bpe_model_trainer.cc(268) LOG(INFO) Added: freq=4 size=3800 all=22639 active=1209 piece=▁eat\n",
      "bpe_model_trainer.cc(159) LOG(INFO) Updating active symbols. max_freq=4 min_freq=3\n",
      "bpe_model_trainer.cc(268) LOG(INFO) Added: freq=4 size=3820 all=22652 active=1145 piece=▁mob\n",
      "bpe_model_trainer.cc(268) LOG(INFO) Added: freq=4 size=3840 all=22668 active=1161 piece=▁why\n",
      "bpe_model_trainer.cc(268) LOG(INFO) Added: freq=4 size=3860 all=22686 active=1179 piece=blems\n",
      "bpe_model_trainer.cc(268) LOG(INFO) Added: freq=4 size=3880 all=22719 active=1212 piece=or"
     ]
    }
   ],
   "source": [
    "spm.SentencePieceTrainer.train('--input=input_texts.txt --model_prefix=m --vocab_size=8000 --model_type=bpe --pad_id=3')\n",
    "\n",
    "# makes segmenter instance and loads the model file (m.model)\n",
    "sp = spm.SentencePieceProcessor()\n",
    "sp.load('m.model')\n",
    "\n",
    "sp.SetEncodeExtraOptions(\"bos:eos\")\n",
    "sp.SetDecodeExtraOptions(\"bos:eos\")\n",
    "\n",
    "# encode: text => id\n",
    "print(sp.encode_as_pieces('This is a test'))\n",
    "print(sp.encode_as_ids('This is a test'))\n",
    "\n",
    "# decode: id => text\n",
    "print(sp.decode_pieces(['▁This', '▁is', '▁a', '▁t', 'est']))\n",
    "print(sp.decode_ids([1, 665, 64, 5, 4, 134, 2]))"
   ]
  },
  {
   "cell_type": "code",
   "execution_count": 362,
   "metadata": {},
   "outputs": [
    {
     "name": "stderr",
     "output_type": "stream",
     "text": [
      "ter\n",
      "bpe_model_trainer.cc(268) LOG(INFO) Added: freq=4 size=3900 all=22766 active=1259 piece=▁\"12-\n",
      "bpe_model_trainer.cc(159) LOG(INFO) Updating active symbols. max_freq=4 min_freq=3\n",
      "bpe_model_trainer.cc(268) LOG(INFO) Added: freq=4 size=3920 all=22758 active=1131 piece=▁Egic\n",
      "bpe_model_trainer.cc(268) LOG(INFO) Added: freq=4 size=3940 all=22751 active=1124 piece=▁News\n",
      "bpe_model_trainer.cc(268) LOG(INFO) Added: freq=4 size=3960 all=22750 active=1123 piece=▁calm\n",
      "bpe_model_trainer.cc(268) LOG(INFO) Added: freq=4 size=3980 all=22763 active=1136 piece=▁girl\n",
      "bpe_model_trainer.cc(268) LOG(INFO) Added: freq=4 size=4000 all=22761 active=1134 piece=▁lite\n",
      "bpe_model_trainer.cc(159) LOG(INFO) Updating active symbols. max_freq=4 min_freq=3\n",
      "bpe_model_trainer.cc(268) LOG(INFO) Added: freq=4 size=4020 all=22776 active=1154 piece=▁seen\n",
      "bpe_model_trainer.cc(268) LOG(INFO) Added: freq=4 size=4040 all=22783 active=1161 piece=:9-10)\n",
      "bpe_model_trainer.cc(268) LOG(INFO) Added: freq=4 size=4060 all=22795 active=1173 piece=granar\n",
      "bpe_model_trainer.cc(268) LOG(INFO) Added: freq=4 size=4080 all=22801 active=1179 piece=▁ENJOY\n",
      "bpe_model_trainer.cc(268) LOG(INFO) Added: freq=4 size=4100 all=22797 active=1175 piece=▁betyd\n",
      "bpe_model_trainer.cc(159) LOG(INFO) Updating active symbols. max_freq=4 min_freq=3\n",
      "bpe_model_trainer.cc(268) LOG(INFO) Added: freq=4 size=4120 all=22802 active=1142 piece=▁gives\n",
      "bpe_model_trainer.cc(268) LOG(INFO) Added: freq=4 size=4140 all=22796 active=1136 piece=▁often\n",
      "bpe_model_trainer.cc(268) LOG(INFO) Added: freq=4 size=4160 all=22793 active=1133 piece=▁water\n",
      "bpe_model_trainer.cc(268) LOG(INFO) Added: freq=4 size=4180 all=22800 active=1140 piece=ptember\n",
      "bpe_model_trainer.cc(268) LOG(INFO) Added: freq=4 size=4200 all=22789 active=1129 piece=▁Quseir\n",
      "bpe_model_trainer.cc(159) LOG(INFO) Updating active symbols. max_freq=4 min_freq=3\n",
      "bpe_model_trainer.cc(268) LOG(INFO) Added: freq=4 size=4220 all=22778 active=1129 piece=▁causes\n",
      "bpe_model_trainer.cc(268) LOG(INFO) Added: freq=4 size=4240 all=22778 active=1129 piece=▁histor\n",
      "bpe_model_trainer.cc(268) LOG(INFO) Added: freq=4 size=4260 all=22778 active=1129 piece=▁recent\n",
      "bpe_model_trainer.cc(268) LOG(INFO) Added: freq=4 size=4280 all=22769 active=1120 piece=Birkenau\n",
      "bpe_model_trainer.cc(268) LOG(INFO) Added: freq=4 size=4300 all=22767 active=1118 piece=▁ancient\n",
      "bpe_model_trainer.cc(159) LOG(INFO) Updating active symbols. max_freq=4 min_freq=3\n",
      "bpe_model_trainer.cc(268) LOG(INFO) Added: freq=4 size=4320 all=22768 active=1140 piece=▁inaktiv\n",
      "bpe_model_trainer.cc(268) LOG(INFO) Added: freq=4 size=4340 all=22771 active=1143 piece=▁åsikter\n",
      "bpe_model_trainer.cc(268) LOG(INFO) Added: freq=4 size=4360 all=22758 active=1130 piece=▁innehåll\n",
      "bpe_model_trainer.cc(268) LOG(INFO) Added: freq=4 size=4380 all=22758 active=1130 piece=▁tillgång\n",
      "bpe_model_trainer.cc(268) LOG(INFO) Added: freq=4 size=4400 all=22747 active=1119 piece=▁knowledge\n",
      "bpe_model_trainer.cc(159) LOG(INFO) Updating active symbols. max_freq=4 min_freq=3\n",
      "bpe_model_trainer.cc(268) LOG(INFO) Added: freq=4 size=4420 all=22732 active=1123 piece=▁spanbloggen\n",
      "bpe_model_trainer.cc(268) LOG(INFO) Added: freq=3 size=4440 all=22755 active=1146 piece=ät\n",
      "bpe_model_trainer.cc(268) LOG(INFO) Added: freq=3 size=4460 all=22773 active=1164 piece=aar\n",
      "bpe_model_trainer.cc(268) LOG(INFO) Added: freq=3 size=4480 all=22816 active=1207 piece=lik\n",
      "bpe_model_trainer.cc(268) LOG(INFO) Added: freq=3 size=4500 all=22867 active=1258 piece=zer\n",
      "bpe_model_trainer.cc(159) LOG(INFO) Updating active symbols. max_freq=3 min_freq=3\n",
      "bpe_model_trainer.cc(268) LOG(INFO) Added: freq=3 size=4520 all=22903 active=1178 piece=fen\n",
      "bpe_model_trainer.cc(268) LOG(INFO) Added: freq=3 size=4540 all=22928 active=1203 piece=▁Gl\n",
      "bpe_model_trainer.cc(268) LOG(INFO) Added: freq=3 size=4560 all=22940 active=1215 piece=▁sn\n",
      "bpe_model_trainer.cc(268) LOG(INFO) Added: freq=3 size=4580 all=22962 active=1237 piece=arah\n",
      "bpe_model_trainer.cc(268) LOG(INFO) Added: freq=3 size=4600 all=22988 active=1263 piece=fast\n",
      "bpe_model_trainer.cc(159) LOG(INFO) Updating active symbols. max_freq=3 min_freq=2\n",
      "bpe_model_trainer.cc(268) LOG(INFO) Added: freq=3 size=4620 all=23010 active=1169 piece=lls\n",
      "bpe_model_trainer.cc(268) LOG(INFO) Added: freq=3 size=4640 all=23036 active=1195 piece=inns\n",
      "bpe_model_trainer.cc(268) LOG(INFO) Added: freq=3 size=4660 all=23069 active=1228 piece=nitt\n",
      "bpe_model_trainer.cc(268) LOG(INFO) Added: freq=3 size=4680 all=23103 active=1262 piece=ppar\n",
      "bpe_model_trainer.cc(268) LOG(INFO) Added: freq=3 size=4700 all=23131 active=1290 piece=upid\n",
      "bpe_model_trainer.cc(159) LOG(INFO) Updating active symbols. max_freq=3 min_freq=2\n",
      "bpe_model_trainer.cc(268) LOG(INFO) Added: freq=3 size=4720 all=23144 active=1169 piece=▁Dra\n",
      "bpe_model_trainer.cc(268) LOG(INFO) Added: freq=3 size=4740 all=23146 active=1171 piece=▁Per\n",
      "bpe_model_trainer.cc(268) LOG(INFO) Added: freq=3 size=4760 all=23160 active=1185 piece=▁der\n",
      "bpe_model_trainer.cc(268) LOG(INFO) Added: freq=3 size=4780 all=23173 active=1198 piece=▁lay\n",
      "bpe_model_trainer.cc(268) LOG(INFO) Added: freq=3 size=4800 all=23187 active=1212 piece=▁sex\n",
      "bpe_model_trainer.cc(159) LOG(INFO) Updating active symbols. max_freq=3 min_freq=2\n",
      "bpe_model_trainer.cc(268) LOG(INFO) Added: freq=3 size=4820 all=23204 active=1175 piece=▁von\n",
      "bpe_model_trainer.cc(268) LOG(INFO) Added: freq=3 size=4840 all=23219 active=1190 piece=arned\n",
      "bpe_model_trainer.cc(268) LOG(INFO) Added: freq=3 size=4860 all=23246 active=1217 piece=ermin\n",
      "bpe_model_trainer.cc(268) LOG(INFO) Added: freq=3 size=4880 all=23274 active=1245 piece=ionen\n",
      "bpe_model_trainer.cc(268) LOG(INFO) Added: freq=3 size=4900 all=23300 active=1271 piece=ordes\n",
      "bpe_model_trainer.cc(159) LOG(INFO) Updating active symbols. max_freq=3 min_freq=2\n",
      "bpe_model_trainer.cc(268) LOG(INFO) Added: freq=3 size=4920 all=23333 active=1197 piece=ustom\n",
      "bpe_model_trainer.cc(268) LOG(INFO) Added: freq=3 size=4940 all=23335 active=1199 piece=▁Comm\n",
      "bpe_model_trainer.cc(268) LOG(INFO) Added: freq=3 size=4960 all=23327 active=1191 piece=▁Mary\n",
      "bpe_model_trainer.cc(268) LOG(INFO) Added: freq=3 size=4980 all=23326 active=1190 piece=▁blef\n",
      "bpe_model_trainer.cc(268) LOG(INFO) Added: freq=3 size=5000 all=23320 active=1184 piece=▁edra\n",
      "bpe_model_trainer.cc(159) LOG(INFO) Updating active symbols. max_freq=3 min_freq=2\n",
      "bpe_model_trainer.cc(268) LOG(INFO) Added: freq=3 size=5020 all=23321 active=1167 piece=▁gods\n",
      "bpe_model_trainer.cc(268) LOG(INFO) Added: freq=3 size=5040 all=23318 active=1164 piece=▁nost\n",
      "bpe_model_trainer.cc(268) LOG(INFO) Added: freq=3 size=5060 all=23327 active=1173 piece=▁ship\n",
      "bpe_model_trainer.cc(268) LOG(INFO) Added: freq=3 size=5080 all=23339 active=1185 piece=▁vibr\n",
      "bpe_model_trainer.cc(268) LOG(INFO) Added: freq=3 size=5100 all=23346 active=1192 piece=closed\n",
      "bpe_model_trainer.cc(159) LOG(INFO) Updating active symbols. max_freq=3 min_freq=2\n",
      "bpe_model_trainer.cc(268) LOG(INFO) Added: freq=3 size=5120 all=23369 active=1189 piece=oliday\n",
      "bpe_model_trainer.cc(268) LOG(INFO) Added: freq=3 size=5140 all=23369 active=1189 piece=▁FOREX\n",
      "bpe_model_trainer.cc(268) LOG(INFO) Added: freq=3 size=5160 all=23351 active=1171 piece=▁Women\n",
      "bpe_model_trainer.cc(268) LOG(INFO) Added: freq=3 size=5180 all=23349 active=1169 piece=▁clear\n",
      "bpe_model_trainer.cc(268) LOG(INFO) Added: freq=3 size=5200 all=23347 active=1167 piece=▁följt\n",
      "bpe_model_trainer.cc(159) LOG(INFO) Updating active symbols. max_freq=3 min_freq=2\n",
      "bpe_model_trainer.cc(268) LOG(INFO) Added: freq=3 size=5220 all=23346 active=1167 piece=▁makro\n",
      "bpe_model_trainer.cc(268) LOG(INFO) Added: freq=3 size=5240 all=23342 active=1163 piece=▁rundt\n",
      "bpe_model_trainer.cc(268) LOG(INFO) Added: freq=3 size=5260 all=23331 active=1152 piece=▁toler\n",
      "bpe_model_trainer.cc(268) LOG(INFO) Added: freq=3 size=5280 all=23327 active=1148 piece=▁young\n",
      "bpe_model_trainer.cc(268) LOG(INFO) Added: freq=3 size=5300 all=23338 active=1159 piece=ocation\n",
      "bpe_model_trainer.cc(159) LOG(INFO) Updating active symbols. max_freq=3 min_freq=2\n",
      "bpe_model_trainer.cc(268) LOG(INFO) Added: freq=3 size=5320 all=23345 active=1172 piece=▁Gideon\n",
      "bpe_model_trainer.cc(268) LOG(INFO) Added: freq=3 size=5340 all=23326 active=1153 piece=▁Vacker\n",
      "bpe_model_trainer.cc(268) LOG(INFO) Added: freq=3 size=5360 all=23312 active=1139 piece=▁custom\n",
      "bpe_model_trainer.cc(268) LOG(INFO) Added: freq=3 size=5380 all=23300 active=1127 piece=▁hungry\n",
      "bpe_model_trainer.cc(268) LOG(INFO) Added: freq=3 size=5400 all=23295 active=1122 piece=▁possib\n",
      "bpe_model_trainer.cc(159) LOG(INFO) Updating active symbols. max_freq=3 min_freq=2\n",
      "bpe_model_trainer.cc(268) LOG(INFO) Added: freq=3 size=5420 all=23289 active=1157 piece=▁totala\n",
      "bpe_model_trainer.cc(268) LOG(INFO) Added: freq=3 size=5440 all=23287 active=1155 piece=stitutes\n",
      "bpe_model_trainer.cc(268) LOG(INFO) Added: freq=3 size=5460 all=23276 active=1144 piece=▁beaches\n",
      "bpe_model_trainer.cc(268) LOG(INFO) Added: freq=3 size=5480 all=23273 active=1141 piece=▁förklar\n",
      "bpe_model_trainer.cc(268) LOG(INFO) Added: freq=3 size=5500 all=23270 active=1138 piece=▁nedladd\n",
      "bpe_model_trainer.cc(159) LOG(INFO) Updating active symbols. max_freq=3 min_freq=2\n",
      "bpe_model_trainer.cc(268) LOG(INFO) Added: freq=3 size=5520 all=23262 active=1154 piece=▁taberna\n",
      "bpe_model_trainer.cc(268) LOG(INFO) Added: freq=3 size=5540 all=23263 active=1155 piece=▁Director\n",
      "bpe_model_trainer.cc(268) LOG(INFO) Added: freq=3 size=5560 all=23252 active=1144 piece=▁database\n",
      "bpe_model_trainer.cc(268) LOG(INFO) Added: freq=3 size=5580 all=23243 active=1135 piece=▁personal\n",
      "bpe_model_trainer.cc(268) LOG(INFO) Added: freq=3 size=5600 all=23232 active=1124 piece=▁BEGINNING\n",
      "bpe_model_trainer.cc(159) LOG(INFO) Updating active symbols. max_freq=3 min_freq=2\n",
      "bpe_model_trainer.cc(268) LOG(INFO) Added: freq=3 size=5620 all=23215 active=1145 piece=▁hastighet\n",
      "bpe_model_trainer.cc(268) LOG(INFO) Added: freq=3 size=5640 all=23200 active=1130 piece=▁avslappnad\n",
      "bpe_model_trainer.cc(268) LOG(INFO) Added: freq=3 size=5660 all=23183 active=1113 piece=▁kvaliteten\n",
      "bpe_model_trainer.cc(268) LOG(INFO) Added: freq=3 size=5680 all=23167 active=1097 piece=▁photographs\n",
      "bpe_model_trainer.cc(268) LOG(INFO) Added: freq=2 size=5700 all=23147 active=1077 piece=.37\n",
      "bpe_model_trainer.cc(159) LOG(INFO) Updating active symbols. max_freq=2 min_freq=2\n",
      "bpe_model_trainer.cc(268) LOG(INFO) Added: freq=2 size=5720 all=23158 active=1167 piece=ILE\n",
      "bpe_model_trainer.cc(268) LOG(INFO) Added: freq=2 size=5740 all=23171 active=1180 piece=ÄRA\n",
      "bpe_model_trainer.cc(268) LOG(INFO) Added: freq=2 size=5760 all=23175 active=1184 piece=BLER\n",
      "bpe_model_trainer.cc(268) LOG(INFO) Added: freq=2 size=5780 all=23182 active=1191 piece=alko\n",
      "bpe_model_trainer.cc(268) LOG(INFO) Added: freq=2 size=5800 all=23199 active=1208 piece=olyf\n",
      "bpe_model_trainer.cc(159) LOG(INFO) Updating active symbols. max_freq=2 min_freq=2\n",
      "bpe_model_trainer.cc(268) LOG(INFO) Added: freq=2 size=5820 all=23207 active=1167 piece=▁(89\n",
      "bpe_model_trainer.cc(268) LOG(INFO) Added: freq=2 size=5840 all=23196 active=1156 piece=▁Noa\n",
      "bpe_model_trainer.cc(268) LOG(INFO) Added: freq=2 size=5860 all=23187 active=1147 piece=1-12)\n",
      "bpe_model_trainer.cc(268) LOG(INFO) Added: freq=2 size=5880 all=23191 active=1151 piece=LOMID\n",
      "bpe_model_trainer.cc(268) LOG(INFO) Added: freq=2 size=5900 all=23205 active=1165 piece=aucra\n",
      "bpe_model_trainer.cc(159) LOG(INFO) Updating active symbols. max_freq=2 min_freq=2\n",
      "bpe_model_trainer.cc(268) LOG(INFO) Added: freq=2 size=5920 all=23218 active=1172 piece=2-33)\n",
      "bpe_model_trainer.cc(268) LOG(INFO) Added: freq=2 size=5940 all=23234 active=1188 piece=handl\n",
      "bpe_model_trainer.cc(268) LOG(INFO) Added: freq=2 size=5960 all=23250 active=1204 piece=pared\n",
      "bpe_model_trainer.cc(268) LOG(INFO) Added: freq=2 size=5980 all=23259 active=1213 piece=unnel\n",
      "bpe_model_trainer.cc(268) LOG(INFO) Added: freq=2 size=6000 all=23261 active=1215 piece=▁15:2\n",
      "bpe_model_trainer.cc(159) LOG(INFO) Updating active symbols. max_freq=2 min_freq=2\n",
      "bpe_model_trainer.cc(268) LOG(INFO) Added: freq=2 size=6020 all=23270 active=1172 piece=▁lys\n",
      "bpe_model_trainer.cc(268) LOG(INFO) Added: freq=2 size=6040 all=23273 active=1175 piece=▁1:17\n",
      "bpe_model_trainer.cc(268) LOG(INFO) Added: freq=2 size=6060 all=23260 active=1162 piece=▁Bond\n",
      "bpe_model_trainer.cc(268) LOG(INFO) Added: freq=2 size=6080 all=23252 active=1154 piece=▁Heik\n",
      "bpe_model_trainer.cc(268) LOG(INFO) Added: freq=2 size=6100 all=23250 active=1152 piece=▁SVCD\n",
      "bpe_model_trainer.cc(159) LOG(INFO) Updating active symbols. max_freq=2 min_freq=2\n",
      "bpe_model_trainer.cc(268) LOG(INFO) Added: freq=2 size=6120 all=23255 active=1168 piece=▁8:3\n",
      "bpe_model_trainer.cc(268) LOG(INFO) Added: freq=2 size=6140 all=23256 active=1169 piece=▁Kwei\n",
      "bpe_model_trainer.cc(268) LOG(INFO) Added: freq=2 size=6160 all=23251 active=1164 piece=▁edit\n",
      "bpe_model_trainer.cc(268) LOG(INFO) Added: freq=2 size=6180 all=23248 active=1161 piece=▁låta\n",
      "bpe_model_trainer.cc(268) LOG(INFO) Added: freq=2 size=6200 all=23240 active=1153 piece=▁task\n",
      "bpe_model_trainer.cc(159) LOG(INFO) Updating active symbols. max_freq=2 min_freq=2\n",
      "bpe_model_trainer.cc(268) LOG(INFO) Added: freq=2 size=6220 all=23247 active=1169 piece=racks\n",
      "bpe_model_trainer.cc(268) LOG(INFO) Added: freq=2 size=6240 all=23248 active=1170 piece=▁wave\n",
      "bpe_model_trainer.cc(268) LOG(INFO) Added: freq=2 size=6260 all=23249 active=1171 piece=ancell\n",
      "bpe_model_trainer.cc(268) LOG(INFO) Added: freq=2 size=6280 all=23256 active=1178 piece=entMsg\n",
      "bpe_model_trainer.cc(268) LOG(INFO) Added: freq=2 size=6300 all=23261 active=1183 piece=itants\n",
      "bpe_model_trainer.cc(159) LOG(INFO) Updating active symbols. max_freq=2 min_freq=2\n",
      "bpe_model_trainer.cc(268) LOG(INFO) Added: freq=2 size=6320 all=23273 active=1175 piece=athan\n",
      "bpe_model_trainer.cc(268) LOG(INFO) Added: freq=2 size=6340 all=23265 active=1167 piece=aterar\n",
      "bpe_model_trainer.cc(268) LOG(INFO) Added: freq=2 size=6360 all=23276 active=1178 piece=osofer\n",
      "bpe_model_trainer.cc(268) LOG(INFO) Added: freq=2 size=6380 all=23283 active=1185 piece=vunnit\n",
      "bpe_model_trainer.cc(268) LOG(INFO) Added: freq=2 size=6400 all=23269 active=1171 piece=▁2:16)\n",
      "bpe_model_trainer.cc(159) LOG(INFO) Updating active symbols. max_freq=2 min_freq=2\n",
      "bpe_model_trainer.cc(268) LOG(INFO) Added: freq=2 size=6420 all=23281 active=1176 piece=ustru\n",
      "bpe_model_trainer.cc(268) LOG(INFO) Added: freq=2 size=6440 all=23278 active=1173 piece=▁2008)\n",
      "bpe_model_trainer.cc(268) LOG(INFO) Added: freq=2 size=6460 all=23264 active=1159 piece=▁Degas\n",
      "bpe_model_trainer.cc(268) LOG(INFO) Added: freq=2 size=6480 all=23249 active=1144 piece=▁Kirst\n",
      "bpe_model_trainer.cc(268) LOG(INFO) Added: freq=2 size=6500 all=23240 active=1135 piece=▁Relig\n",
      "bpe_model_trainer.cc(159) LOG(INFO) Updating active symbols. max_freq=2 min_freq=2\n",
      "bpe_model_trainer.cc(268) LOG(INFO) Added: freq=2 size=6520 all=23243 active=1165 piece=▁GEN\n",
      "bpe_model_trainer.cc(268) LOG(INFO) Added: freq=2 size=6540 all=23245 active=1167 piece=▁18:2\n",
      "bpe_model_trainer.cc(268) LOG(INFO) Added: freq=2 size=6560 all=23245 active=1167 piece=▁Resur\n",
      "bpe_model_trainer.cc(268) LOG(INFO) Added: freq=2 size=6580 all=23234 active=1156 piece=▁Trans\n",
      "bpe_model_trainer.cc(268) LOG(INFO) Added: freq=2 size=6600 all=23229 active=1151 piece=▁bergs\n",
      "bpe_model_trainer.cc(159) LOG(INFO) Updating active symbols. max_freq=2 min_freq=2\n",
      "bpe_model_trainer.cc(268) LOG(INFO) Added: freq=2 size=6620 all=23249 active=1181 piece=▁Vem\n",
      "bpe_model_trainer.cc(268) LOG(INFO) Added: freq=2 size=6640 all=23248 active=1180 piece=▁Sess\n",
      "bpe_model_trainer.cc(268) LOG(INFO) Added: freq=2 size=6660 all=23246 active=1178 piece=▁block\n",
      "bpe_model_trainer.cc(268) LOG(INFO) Added: freq=2 size=6680 all=23235 active=1167 piece=▁focus\n",
      "bpe_model_trainer.cc(268) LOG(INFO) Added: freq=2 size=6700 all=23227 active=1159 piece=▁inbox\n",
      "bpe_model_trainer.cc(159) LOG(INFO) Updating active symbols. max_freq=2 min_freq=2\n",
      "bpe_model_trainer.cc(268) LOG(INFO) Added: freq=2 size=6720 all=23236 active=1171 piece=makt\n",
      "bpe_model_trainer.cc(268) LOG(INFO) Added: freq=2 size=6740 all=23241 active=1176 piece=ipher\n",
      "bpe_model_trainer.cc(268) LOG(INFO) Added: freq=2 size=6760 all=23246 active=1181 piece=▁supp\n",
      "bpe_model_trainer.cc(268) LOG(INFO) Added: freq=2 size=6780 all=23241 active=1176 piece=▁karta\n",
      "bpe_model_trainer.cc(268) LOG(INFO) Added: freq=2 size=6800 all=23227 active=1162 piece=▁lämna\n",
      "bpe_model_trainer.cc(159) LOG(INFO) Updating active symbols. max_freq=2 min_freq=2\n",
      "bpe_model_trainer.cc(268) LOG(INFO) Added: freq=2 size=6820 all=23233 active=1168 piece=ratt\n",
      "bpe_model_trainer.cc(268) LOG(INFO) Added: freq=2 size=6840 all=23229 active=1164 piece=▁Joel\n",
      "bpe_model_trainer.cc(268) LOG(INFO) Added: freq=2 size=6860 all=23223 active=1158 piece=▁Sedom\n",
      "bpe_model_trainer.cc(268) LOG(INFO) Added: freq=2 size=6880 all=23207 active=1142 piece=▁opens\n",
      "bpe_model_trainer.cc(268) LOG(INFO) Added: freq=2 size=6900 all=23198 active=1133 piece=▁sjuka\n",
      "bpe_model_trainer.cc(159) LOG(INFO) Updating active symbols. max_freq=2 min_freq=2\n",
      "bpe_model_trainer.cc(268) LOG(INFO) Added: freq=2 size=6920 all=23201 active=1163 piece=ipro\n",
      "bpe_model_trainer.cc(268) LOG(INFO) Added: freq=2 size=6940 all=23214 active=1176 piece=iproc\n",
      "bpe_model_trainer.cc(268) LOG(INFO) Added: freq=2 size=6960 all=23219 active=1181 piece=▁Plain\n",
      "bpe_model_trainer.cc(268) LOG(INFO) Added: freq=2 size=6980 all=23210 active=1172 piece=▁svärd\n",
      "bpe_model_trainer.cc(268) LOG(INFO) Added: freq=2 size=7000 all=23198 active=1160 piece=▁vänta\n",
      "bpe_model_trainer.cc(159) LOG(INFO) Updating active symbols. max_freq=2 min_freq=2\n",
      "bpe_model_trainer.cc(268) LOG(INFO) Added: freq=2 size=7020 all=23202 active=1164 piece=iain\n",
      "bpe_model_trainer.cc(268) LOG(INFO) Added: freq=2 size=7040 all=23207 active=1169 piece=▁Mart\n",
      "bpe_model_trainer.cc(268) LOG(INFO) Added: freq=2 size=7060 all=23203 active=1165 piece=ttavia\n",
      "bpe_model_trainer.cc(268) LOG(INFO) Added: freq=2 size=7080 all=23196 active=1158 piece=▁öppen\n",
      "bpe_model_trainer.cc(268) LOG(INFO) Added: freq=2 size=7100 all=23191 active=1153 piece=actions\n",
      "bpe_model_trainer.cc(159) LOG(INFO) Updating active symbols. max_freq=2 min_freq=2\n",
      "bpe_model_trainer.cc(268) LOG(INFO) Added: freq=2 size=7120 all=23197 active=1164 piece=iram\n",
      "bpe_model_trainer.cc(268) LOG(INFO) Added: freq=2 size=7140 all=23208 active=1175 piece=stans\n",
      "bpe_model_trainer.cc(268) LOG(INFO) Added: freq=2 size=7160 all=23207 active=1174 piece=▁Paper\n",
      "bpe_model_trainer.cc(268) LOG(INFO) Added: freq=2 size=7180 all=23207 active=1174 piece=because\n",
      "bpe_model_trainer.cc(268) LOG(INFO) Added: freq=2 size=7200 all=23216 active=1183 piece=gedomen\n",
      "bpe_model_trainer.cc(159) LOG(INFO) Updating active symbols. max_freq=2 min_freq=2\n",
      "bpe_model_trainer.cc(268) LOG(INFO) Added: freq=2 size=7220 all=23224 active=1168 piece=▁VOB\n",
      "bpe_model_trainer.cc(268) LOG(INFO) Added: freq=2 size=7240 all=23219 active=1163 piece=▁fara\n",
      "bpe_model_trainer.cc(268) LOG(INFO) Added: freq=2 size=7260 all=23214 active=1158 piece=▁fifth\n",
      "bpe_model_trainer.cc(268) LOG(INFO) Added: freq=2 size=7280 all=23215 active=1159 piece=kostnad\n",
      "bpe_model_trainer.cc(268) LOG(INFO) Added: freq=2 size=7300 all=23228 active=1172 piece=rensalo\n",
      "bpe_model_trainer.cc(159) LOG(INFO) Updating active symbols. max_freq=2 min_freq=2\n",
      "bpe_model_trainer.cc(268) LOG(INFO) Added: freq=2 size=7320 all=23238 active=1171 piece=▁föl\n",
      "bpe_model_trainer.cc(268) LOG(INFO) Added: freq=2 size=7340 all=23232 active=1165 piece=▁heat\n",
      "bpe_model_trainer.cc(268) LOG(INFO) Added: freq=2 size=7360 all=23230 active=1163 piece=▁Heikk\n",
      "bpe_model_trainer.cc(268) LOG(INFO) Added: freq=2 size=7380 all=23223 active=1156 piece=strålar\n",
      "bpe_model_trainer.cc(268) LOG(INFO) Added: freq=2 size=7400 all=23219 active=1152 piece=▁13:54)\n",
      "bpe_model_trainer.cc(159) LOG(INFO) Updating active symbols. max_freq=2 min_freq=2\n",
      "bpe_model_trainer.cc(268) LOG(INFO) Added: freq=2 size=7420 all=23225 active=1167 piece=▁CON\n",
      "bpe_model_trainer.cc(268) LOG(INFO) Added: freq=2 size=7440 all=23226 active=1168 piece=▁(163\n",
      "bpe_model_trainer.cc(268) LOG(INFO) Added: freq=2 size=7460 all=23219 active=1161 piece=▁JONAS\n",
      "bpe_model_trainer.cc(268) LOG(INFO) Added: freq=2 size=7480 all=23209 active=1151 piece=▁16:17)\n",
      "bpe_model_trainer.cc(268) LOG(INFO) Added: freq=2 size=7500 all=23191 active=1133 piece=▁6:17-1\n",
      "bpe_model_trainer.cc(159) LOG(INFO) Updating active symbols. max_freq=2 min_freq=2\n",
      "bpe_model_trainer.cc(268) LOG(INFO) Added: freq=2 size=7520 all=23200 active=1167 piece=iest\n",
      "bpe_model_trainer.cc(268) LOG(INFO) Added: freq=2 size=7540 all=23214 active=1181 piece=sykhé\n",
      "bpe_model_trainer.cc(268) LOG(INFO) Added: freq=2 size=7560 all=23209 active=1176 piece=alestin\n",
      "bpe_model_trainer.cc(268) LOG(INFO) Added: freq=2 size=7580 all=23200 active=1167 piece=▁Behold\n",
      "bpe_model_trainer.cc(268) LOG(INFO) Added: freq=2 size=7600 all=23188 active=1155 piece=▁Gdansk\n",
      "bpe_model_trainer.cc(159) LOG(INFO) Updating active symbols. max_freq=2 min_freq=2\n",
      "bpe_model_trainer.cc(268) LOG(INFO) Added: freq=2 size=7620 all=23195 active=1167 piece=▁191\n",
      "bpe_model_trainer.cc(268) LOG(INFO) Added: freq=2 size=7640 all=23194 active=1166 piece=utica\n",
      "bpe_model_trainer.cc(268) LOG(INFO) Added: freq=2 size=7660 all=23189 active=1161 piece=▁Botan\n",
      "bpe_model_trainer.cc(268) LOG(INFO) Added: freq=2 size=7680 all=23178 active=1150 piece=▁Jakobs\n",
      "bpe_model_trainer.cc(268) LOG(INFO) Added: freq=2 size=7700 all=23162 active=1134 piece=▁Passen\n",
      "bpe_model_trainer.cc(159) LOG(INFO) Updating active symbols. max_freq=2 min_freq=2\n",
      "bpe_model_trainer.cc(268) LOG(INFO) Added: freq=2 size=7720 all=23172 active=1168 piece=kans\n",
      "bpe_model_trainer.cc(268) LOG(INFO) Added: freq=2 size=7740 all=23175 active=1171 piece=▁Rica\n",
      "bpe_model_trainer.cc(268) LOG(INFO) Added: freq=2 size=7760 all=23169 active=1165 piece=▁tillå\n",
      "bpe_model_trainer.cc(268) LOG(INFO) Added: freq=2 size=7780 all=23157 active=1153 piece=▁Sessan\n",
      "bpe_model_trainer.cc(268) LOG(INFO) Added: freq=2 size=7800 all=23142 active=1138 piece=▁anpass\n",
      "bpe_model_trainer.cc(159) LOG(INFO) Updating active symbols. max_freq=2 min_freq=2\n",
      "bpe_model_trainer.cc(268) LOG(INFO) Added: freq=2 size=7820 all=23148 active=1162 piece=▁TR\n",
      "bpe_model_trainer.cc(268) LOG(INFO) Added: freq=2 size=7840 all=23151 active=1165 piece=▁pil\n",
      "bpe_model_trainer.cc(268) LOG(INFO) Added: freq=2 size=7860 all=23153 active=1167 piece=▁\"\"...\n",
      "bpe_model_trainer.cc(268) LOG(INFO) Added: freq=2 size=7880 all=23139 active=1153 piece=▁bazaar\n",
      "trainer_interface.cc(687) LOG(INFO) Saving model: m.model\n",
      "trainer_interface.cc(699) LOG(INFO) Saving vocabs: m.vocab\n"
     ]
    }
   ],
   "source": [
    "UNK_IDX, BOS_IDX, EOS_IDX, PAD_IDX = 0, 1, 2, 3"
   ]
  },
  {
   "cell_type": "code",
   "execution_count": 363,
   "metadata": {},
   "outputs": [],
   "source": [
    "def text2codes(texts, sp):\n",
    "    codes = []\n",
    "    for text in texts:\n",
    "        text_l = text[0]\n",
    "        code = sp.encode_as_ids(text_l)\n",
    "        n_code = torch.tensor(code)\n",
    "        codes.append(n_code)\n",
    "\n",
    "    return codes\n",
    "\n"
   ]
  },
  {
   "cell_type": "code",
   "execution_count": 364,
   "metadata": {},
   "outputs": [
    {
     "data": {
      "text/plain": [
       "([[\"!!TheM!Z!! hasn't added any friends yet!\"],\n",
       "  ['\" Memory / Summerday\" gouache/wood/butterfly 48x75 / 48x92cm 2006'],\n",
       "  ['\" child safety in Egypt \"\" harmfulness of the sun in Egypt on baby skin \"\" what medications the child in Egypt \"\" where on holiday with his family to Egypt \"\" pediatrician \"\" in which the child free hotels \"']],\n",
       " [['!!TheM!Z!! har inte lagt till några vänner ännu!'],\n",
       "  ['\"Hågkomst / Sommardag\" gouache/trä 48x75 /48x92cm2006'],\n",
       "  ['\" barnsäkerhet i Egypten \"\" skadlighet solen i Egypten på baby hud \"\" vilka mediciner barnet i Egypten \"\" där på semester med sin familj till Egypten \"\" barnläkare \"\" där barnet hotellsökningen \"']])"
      ]
     },
     "execution_count": 364,
     "metadata": {},
     "output_type": "execute_result"
    }
   ],
   "source": [
    "train_input_texts[:3], train_target_texts[:3]"
   ]
  },
  {
   "cell_type": "code",
   "execution_count": 365,
   "metadata": {},
   "outputs": [
    {
     "data": {
      "text/plain": [
       "[tensor([   1,  311, 3644, 7937, 7980,  592,  611, 7958, 7896, 3256,  403, 1955,\n",
       "          526, 7937,    2]),\n",
       " tensor([   1,    8, 7318,  651,  439,   58,  174,  521, 2510, 7907,   52, 6553,\n",
       "         7964, 2599, 7964, 7915, 7908, 1279, 2964, 4537, 7954, 2461,  439, 4537,\n",
       "         7954, 1787,  987, 4935,    2]),\n",
       " tensor([   1,    8, 4110, 3828, 4522,   37,  158,   75,  175, 7905,  520,  808,\n",
       "           44,   29, 2646,   37,  158,  153, 4981, 3220,   75,  482, 5682,   29,\n",
       "         4110,   37,  158,   75, 1312,  153, 2875,  202,  410, 3317,   61,  158,\n",
       "           75,   31,   35, 2968, 1347,  578,   75,   37,  382,   29, 4110, 3979,\n",
       "         1948,    8,    2])]"
      ]
     },
     "execution_count": 365,
     "metadata": {},
     "output_type": "execute_result"
    }
   ],
   "source": [
    "text2codes(train_input_texts[:3], sp)[:3]"
   ]
  },
  {
   "cell_type": "code",
   "execution_count": 366,
   "metadata": {},
   "outputs": [],
   "source": [
    "def codes2text(codes):\n",
    "    texts = []\n",
    "    for code in codes:\n",
    "        code_l = list(code)\n",
    "        for p in code_l:\n",
    "            texts.append(sp.id_to_piece(p.item()))\n",
    "    return texts"
   ]
  },
  {
   "cell_type": "code",
   "execution_count": 367,
   "metadata": {},
   "outputs": [
    {
     "data": {
      "text/plain": [
       "['<s>',\n",
       " '▁!!',\n",
       " 'TheM',\n",
       " '!',\n",
       " 'Z',\n",
       " '!!',\n",
       " '▁hasn',\n",
       " \"'\",\n",
       " 't',\n",
       " '▁added',\n",
       " '▁any',\n",
       " '▁friends',\n",
       " '▁yet',\n",
       " '!',\n",
       " '</s>',\n",
       " '<s>',\n",
       " '▁\"',\n",
       " '▁Mem',\n",
       " 'ory',\n",
       " '▁/',\n",
       " '▁S',\n",
       " 'um',\n",
       " 'mer',\n",
       " 'day',\n",
       " '\"',\n",
       " '▁g',\n",
       " 'ouache',\n",
       " '/',\n",
       " 'wood',\n",
       " '/',\n",
       " 'b',\n",
       " 'u',\n",
       " 'tter',\n",
       " 'fly',\n",
       " '▁48',\n",
       " 'x',\n",
       " '75',\n",
       " '▁/',\n",
       " '▁48',\n",
       " 'x',\n",
       " '92',\n",
       " 'cm',\n",
       " '▁2006',\n",
       " '</s>',\n",
       " '<s>',\n",
       " '▁\"',\n",
       " '▁child',\n",
       " '▁saf',\n",
       " 'ety',\n",
       " '▁in',\n",
       " '▁Egypt',\n",
       " '▁\"\"',\n",
       " '▁har',\n",
       " 'm',\n",
       " 'ful',\n",
       " 'ness',\n",
       " '▁of',\n",
       " '▁the',\n",
       " '▁sun',\n",
       " '▁in',\n",
       " '▁Egypt',\n",
       " '▁on',\n",
       " '▁baby',\n",
       " '▁skin',\n",
       " '▁\"\"',\n",
       " '▁what',\n",
       " '▁medications',\n",
       " '▁the',\n",
       " '▁child',\n",
       " '▁in',\n",
       " '▁Egypt',\n",
       " '▁\"\"',\n",
       " '▁where',\n",
       " '▁on',\n",
       " '▁holiday',\n",
       " '▁with',\n",
       " '▁his',\n",
       " '▁family',\n",
       " '▁to',\n",
       " '▁Egypt',\n",
       " '▁\"\"',\n",
       " '▁p',\n",
       " 'ed',\n",
       " 'iat',\n",
       " 'ric',\n",
       " 'ian',\n",
       " '▁\"\"',\n",
       " '▁in',\n",
       " '▁which',\n",
       " '▁the',\n",
       " '▁child',\n",
       " '▁free',\n",
       " '▁hotels',\n",
       " '▁\"',\n",
       " '</s>']"
      ]
     },
     "execution_count": 367,
     "metadata": {},
     "output_type": "execute_result"
    }
   ],
   "source": [
    "codes2text(text2codes(train_input_texts[:3], sp)[:3])"
   ]
  },
  {
   "cell_type": "code",
   "execution_count": 368,
   "metadata": {},
   "outputs": [],
   "source": [
    "class PositionalEncoding(nn.Module):\n",
    "    def __init__(self,\n",
    "                 emb_size: int,\n",
    "                 dropout: float,\n",
    "                 maxlen: int = 5000):\n",
    "        super().__init__()\n",
    "        den = torch.exp(- torch.arange(0, emb_size, 2)\n",
    "                        * math.log(10000) / emb_size)\n",
    "        pos = torch.arange(0, maxlen).reshape(maxlen, 1)\n",
    "        pos_embedding = torch.zeros((maxlen, emb_size))\n",
    "        pos_embedding[:, 0::2] = torch.sin(pos * den)\n",
    "        pos_embedding[:, 1::2] = torch.cos(pos * den)\n",
    "        pos_embedding = pos_embedding.unsqueeze(-2)\n",
    "\n",
    "        self.dropout = nn.Dropout(dropout)\n",
    "        self.register_buffer('pos_embedding', pos_embedding)\n",
    "        self.emb_size = emb_size\n",
    "\n",
    "    def forward(self, token_embedding: Tensor):\n",
    "        return self.dropout(token_embedding * math.sqrt(self.emb_size)\n",
    "                            + self.pos_embedding[:token_embedding.size(0), :])"
   ]
  },
  {
   "cell_type": "code",
   "execution_count": 369,
   "metadata": {},
   "outputs": [],
   "source": [
    "pe = PositionalEncoding(10, 0.1)"
   ]
  },
  {
   "cell_type": "code",
   "execution_count": 370,
   "metadata": {},
   "outputs": [
    {
     "data": {
      "text/plain": [
       "tensor([[[0., 0., 0., 0., 0., 0., 0., 0., 0., 0.],\n",
       "         [0., 0., 0., 0., 0., 0., 0., 0., 0., 0.],\n",
       "         [0., 0., 0., 0., 0., 0., 0., 0., 0., 0.],\n",
       "         [0., 0., 0., 0., 0., 0., 0., 0., 0., 0.],\n",
       "         [0., 0., 0., 0., 0., 0., 0., 0., 0., 0.]]])"
      ]
     },
     "execution_count": 370,
     "metadata": {},
     "output_type": "execute_result"
    }
   ],
   "source": [
    "torch.zeros(1, 5, 10)"
   ]
  },
  {
   "cell_type": "code",
   "execution_count": 371,
   "metadata": {},
   "outputs": [
    {
     "data": {
      "text/plain": [
       "tensor([[[0.0000, 1.1111, 0.0000, 1.1111, 0.0000, 1.1111, 0.0000, 1.1111,\n",
       "          0.0000, 0.0000],\n",
       "         [0.0000, 1.1111, 0.0000, 1.1111, 0.0000, 1.1111, 0.0000, 1.1111,\n",
       "          0.0000, 1.1111],\n",
       "         [0.0000, 1.1111, 0.0000, 1.1111, 0.0000, 1.1111, 0.0000, 1.1111,\n",
       "          0.0000, 1.1111],\n",
       "         [0.0000, 1.1111, 0.0000, 1.1111, 0.0000, 0.0000, 0.0000, 1.1111,\n",
       "          0.0000, 1.1111],\n",
       "         [0.0000, 1.1111, 0.0000, 1.1111, 0.0000, 1.1111, 0.0000, 1.1111,\n",
       "          0.0000, 1.1111]]])"
      ]
     },
     "execution_count": 371,
     "metadata": {},
     "output_type": "execute_result"
    }
   ],
   "source": [
    "pe(torch.zeros(1, 5, 10))"
   ]
  },
  {
   "cell_type": "code",
   "execution_count": 372,
   "metadata": {},
   "outputs": [],
   "source": [
    "# Seq2Seq Network\n",
    "import torch\n",
    "import torch.nn as nn\n",
    "from torch import Tensor\n",
    "from torch.nn import TransformerEncoder, TransformerDecoder, TransformerEncoderLayer, TransformerDecoderLayer\n",
    "\n",
    "class Seq2SeqTransformer(nn.Module):\n",
    "    def __init__(self,\n",
    "                 num_encoder_layers: int,\n",
    "                 num_decoder_layers: int,\n",
    "                 emb_size: int,\n",
    "                 nhead: int,\n",
    "                 vocab_size: int,\n",
    "                 dim_feedforward: int = 512,\n",
    "                 dropout: float = 0.1):\n",
    "        super().__init__()\n",
    "        encoder_layers = TransformerEncoderLayer(emb_size, nhead, dim_feedforward, dropout)\n",
    "        decoder_layers = TransformerDecoderLayer(emb_size, nhead, dim_feedforward, dropout)\n",
    "        self.transformer_encoder = TransformerEncoder(encoder_layers, num_encoder_layers)\n",
    "        self.transformer_decoder = TransformerDecoder(decoder_layers, num_decoder_layers)\n",
    "\n",
    "        self.emb_size = emb_size\n",
    "        self.embedding = nn.Embedding(\n",
    "            vocab_size, emb_size, padding_idx=PAD_IDX)\n",
    "        self.positional_encoding = PositionalEncoding(\n",
    "            emb_size, dropout=dropout)\n",
    "        self.generator = nn.Linear(emb_size, vocab_size, bias=False)\n",
    "        self.generator.weight = self.embedding.weight\n",
    "\n",
    "    def forward(self,\n",
    "                src: Tensor,\n",
    "                trg: Tensor,\n",
    "                src_mask: Tensor,\n",
    "                tgt_mask: Tensor,\n",
    "                src_padding_mask: Tensor,\n",
    "                tgt_padding_mask: Tensor,\n",
    "                memory_key_padding_mask: Tensor):\n",
    "        src_emb = self.positional_encoding(self.embedding(src))\n",
    "        tgt_emb = self.positional_encoding(self.embedding(trg))\n",
    "        \n",
    "        memory = self.transformer_encoder(src_emb, src_mask, src_padding_mask)\n",
    "        outs = self.transformer_decoder(tgt_emb, memory, tgt_mask, None,\n",
    "                                        tgt_padding_mask, memory_key_padding_mask)\n",
    "        return self.generator(outs)\n",
    "\n",
    "    def encode(self, src: Tensor, src_mask: Tensor):\n",
    "        return self.transformer_encoder(self.positional_encoding(\n",
    "            self.embedding(src)), src_mask)\n",
    "\n",
    "    def decode(self, tgt: Tensor, memory: Tensor, tgt_mask: Tensor):\n",
    "        return self.transformer_decoder(self.positional_encoding(\n",
    "            self.embedding(tgt)), memory,\n",
    "            tgt_mask)"
   ]
  },
  {
   "cell_type": "code",
   "execution_count": 373,
   "metadata": {},
   "outputs": [],
   "source": [
    "# Seq2Seq Network\n",
    "# class Seq2SeqTransformer(nn.Module):\n",
    "#     def __init__(self,\n",
    "#                  num_encoder_layers: int,\n",
    "#                  num_decoder_layers: int,\n",
    "#                  emb_size: int,\n",
    "#                  nhead: int,\n",
    "#                  vocab_size: int,\n",
    "#                  dim_feedforward: int = 512,\n",
    "#                  dropout: float = 0.1):\n",
    "#         super().__init__()\n",
    "#         self.transformer = Transformer(d_model=emb_size,\n",
    "#                                        nhead=nhead,\n",
    "#                                        num_encoder_layers=num_encoder_layers,\n",
    "#                                        num_decoder_layers=num_decoder_layers,\n",
    "#                                        dim_feedforward=dim_feedforward,\n",
    "#                                        dropout=dropout)\n",
    "\n",
    "#         self.emb_size = emb_size\n",
    "#         # Same source and target embs Sect. 3.4\n",
    "#         self.embedding = nn.Embedding(\n",
    "#             vocab_size, emb_size, padding_idx=3)\n",
    "#         self.positional_encoding = PositionalEncoding(\n",
    "#             emb_size, dropout=dropout)\n",
    "#         # Bias to be compatible with embeddings\n",
    "#         self.generator = nn.Linear(emb_size, vocab_size, bias=False)\n",
    "#         self.generator.weight = self.embedding.weight  # Shared weights Sect. 3.4\n",
    "\n",
    "#     def forward(self,\n",
    "#                 src: Tensor,\n",
    "#                 trg: Tensor,\n",
    "#                 src_mask: Tensor,\n",
    "#                 tgt_mask: Tensor,\n",
    "#                 src_padding_mask: Tensor,\n",
    "#                 tgt_padding_mask: Tensor,\n",
    "#                 memory_key_padding_mask: Tensor):\n",
    "#         src_emb = self.positional_encoding(self.embedding(src))\n",
    "#         tgt_emb = self.positional_encoding(self.embedding(trg))\n",
    "#         outs = self.transformer(src_emb, tgt_emb, src_mask, tgt_mask, None,\n",
    "#                                 src_padding_mask, tgt_padding_mask, memory_key_padding_mask)\n",
    "#         return self.generator(outs)\n",
    "\n",
    "#     def encode(self, src: Tensor, src_mask: Tensor):\n",
    "#         return self.transformer.encoder(self.positional_encoding(\n",
    "#             self.embedding(src)), src_mask)\n",
    "\n",
    "#     def decode(self, tgt: Tensor, memory: Tensor, tgt_mask: Tensor):\n",
    "#         return self.transformer.decoder(self.positional_encoding(\n",
    "#             self.embedding(tgt)), memory,\n",
    "#             tgt_mask)\n"
   ]
  },
  {
   "cell_type": "code",
   "execution_count": 374,
   "metadata": {},
   "outputs": [],
   "source": [
    "def generate_square_subsequent_mask(sz):\n",
    "    mask = (torch.triu(torch.ones((sz, sz), device=DEVICE)) == 1).transpose(0, 1)\n",
    "    mask = mask.float().masked_fill(mask == 0, float(\n",
    "        '-inf')).masked_fill(mask == 1, float(0.0))\n",
    "    return mask"
   ]
  },
  {
   "cell_type": "code",
   "execution_count": 375,
   "metadata": {},
   "outputs": [
    {
     "data": {
      "text/plain": [
       "tensor([[0., -inf, -inf, -inf, -inf, -inf, -inf, -inf, -inf, -inf],\n",
       "        [0., 0., -inf, -inf, -inf, -inf, -inf, -inf, -inf, -inf],\n",
       "        [0., 0., 0., -inf, -inf, -inf, -inf, -inf, -inf, -inf],\n",
       "        [0., 0., 0., 0., -inf, -inf, -inf, -inf, -inf, -inf],\n",
       "        [0., 0., 0., 0., 0., -inf, -inf, -inf, -inf, -inf],\n",
       "        [0., 0., 0., 0., 0., 0., -inf, -inf, -inf, -inf],\n",
       "        [0., 0., 0., 0., 0., 0., 0., -inf, -inf, -inf],\n",
       "        [0., 0., 0., 0., 0., 0., 0., 0., -inf, -inf],\n",
       "        [0., 0., 0., 0., 0., 0., 0., 0., 0., -inf],\n",
       "        [0., 0., 0., 0., 0., 0., 0., 0., 0., 0.]])"
      ]
     },
     "execution_count": 375,
     "metadata": {},
     "output_type": "execute_result"
    }
   ],
   "source": [
    "generate_square_subsequent_mask(10)"
   ]
  },
  {
   "cell_type": "code",
   "execution_count": 376,
   "metadata": {},
   "outputs": [],
   "source": [
    "def create_mask(src, tgt):\n",
    "    src_seq_len = src.shape[0]\n",
    "    tgt_seq_len = tgt.shape[0]\n",
    "\n",
    "    tgt_mask = generate_square_subsequent_mask(tgt_seq_len)\n",
    "    src_mask = torch.zeros((src_seq_len, src_seq_len),\n",
    "                           device=DEVICE).type(torch.bool)\n",
    "\n",
    "    src_padding_mask = (src == PAD_IDX).transpose(0, 1)\n",
    "    tgt_padding_mask = (tgt == PAD_IDX).transpose(0, 1).type(torch.float32)\n",
    "    return src_mask, tgt_mask, src_padding_mask, tgt_padding_mask\n"
   ]
  },
  {
   "cell_type": "code",
   "execution_count": 377,
   "metadata": {},
   "outputs": [],
   "source": [
    "src = pad_sequence(text2codes(\n",
    "    train_input_texts[:3], sp), padding_value=PAD_IDX)\n",
    "tgt = pad_sequence(text2codes(\n",
    "    train_target_texts[:3], sp), padding_value=PAD_IDX)"
   ]
  },
  {
   "cell_type": "code",
   "execution_count": 378,
   "metadata": {},
   "outputs": [
    {
     "data": {
      "text/plain": [
       "([[\"!!TheM!Z!! hasn't added any friends yet!\"],\n",
       "  ['\" Memory / Summerday\" gouache/wood/butterfly 48x75 / 48x92cm 2006'],\n",
       "  ['\" child safety in Egypt \"\" harmfulness of the sun in Egypt on baby skin \"\" what medications the child in Egypt \"\" where on holiday with his family to Egypt \"\" pediatrician \"\" in which the child free hotels \"']],\n",
       " [['!!TheM!Z!! har inte lagt till några vänner ännu!'],\n",
       "  ['\"Hågkomst / Sommardag\" gouache/trä 48x75 /48x92cm2006'],\n",
       "  ['\" barnsäkerhet i Egypten \"\" skadlighet solen i Egypten på baby hud \"\" vilka mediciner barnet i Egypten \"\" där på semester med sin familj till Egypten \"\" barnläkare \"\" där barnet hotellsökningen \"']])"
      ]
     },
     "execution_count": 378,
     "metadata": {},
     "output_type": "execute_result"
    }
   ],
   "source": [
    "train_input_texts[:3], train_target_texts[:3]"
   ]
  },
  {
   "cell_type": "code",
   "execution_count": 379,
   "metadata": {},
   "outputs": [
    {
     "data": {
      "text/plain": [
       "(tensor([[False, False, False,  ..., False, False, False],\n",
       "         [False, False, False,  ..., False, False, False],\n",
       "         [False, False, False,  ..., False, False, False],\n",
       "         ...,\n",
       "         [False, False, False,  ..., False, False, False],\n",
       "         [False, False, False,  ..., False, False, False],\n",
       "         [False, False, False,  ..., False, False, False]]),\n",
       " tensor([[0., -inf, -inf,  ..., -inf, -inf, -inf],\n",
       "         [0., 0., -inf,  ..., -inf, -inf, -inf],\n",
       "         [0., 0., 0.,  ..., -inf, -inf, -inf],\n",
       "         ...,\n",
       "         [0., 0., 0.,  ..., 0., -inf, -inf],\n",
       "         [0., 0., 0.,  ..., 0., 0., -inf],\n",
       "         [0., 0., 0.,  ..., 0., 0., 0.]]),\n",
       " tensor([[False, False, False, False, False, False, False, False, False, False,\n",
       "          False, False, False, False, False,  True,  True,  True,  True,  True,\n",
       "           True,  True,  True,  True,  True,  True,  True,  True,  True,  True,\n",
       "           True,  True,  True,  True,  True,  True,  True,  True,  True,  True,\n",
       "           True,  True,  True,  True,  True,  True,  True,  True,  True,  True,\n",
       "           True],\n",
       "         [False, False, False, False, False, False, False, False, False, False,\n",
       "          False, False, False, False, False, False, False, False, False, False,\n",
       "          False, False, False, False, False, False, False, False, False,  True,\n",
       "           True,  True,  True,  True,  True,  True,  True,  True,  True,  True,\n",
       "           True,  True,  True,  True,  True,  True,  True,  True,  True,  True,\n",
       "           True],\n",
       "         [False, False, False, False, False, False, False, False, False, False,\n",
       "          False, False, False, False, False, False, False, False, False, False,\n",
       "          False, False, False, False, False, False, False, False, False, False,\n",
       "          False, False, False, False, False, False, False, False, False, False,\n",
       "          False, False, False, False, False, False, False, False, False, False,\n",
       "          False]]),\n",
       " tensor([[0., 0., 0., 0., 0., 0., 0., 0., 0., 0., 0., 0., 0., 0., 0., 1., 1., 1.,\n",
       "          1., 1., 1., 1., 1., 1., 1., 1., 1., 1., 1., 1., 1., 1., 1., 1., 1., 1.,\n",
       "          1., 1., 1., 1., 1., 1., 1., 1., 1., 1.],\n",
       "         [0., 0., 0., 0., 0., 0., 0., 0., 0., 0., 0., 0., 0., 0., 0., 0., 0., 0.,\n",
       "          0., 0., 0., 0., 0., 0., 0., 1., 1., 1., 1., 1., 1., 1., 1., 1., 1., 1.,\n",
       "          1., 1., 1., 1., 1., 1., 1., 1., 1., 1.],\n",
       "         [0., 0., 0., 0., 0., 0., 0., 0., 0., 0., 0., 0., 0., 0., 0., 0., 0., 0.,\n",
       "          0., 0., 0., 0., 0., 0., 0., 0., 0., 0., 0., 0., 0., 0., 0., 0., 0., 0.,\n",
       "          0., 0., 0., 0., 0., 0., 0., 0., 0., 0.]]))"
      ]
     },
     "execution_count": 379,
     "metadata": {},
     "output_type": "execute_result"
    }
   ],
   "source": [
    "create_mask(src, tgt)"
   ]
  },
  {
   "cell_type": "code",
   "execution_count": 380,
   "metadata": {},
   "outputs": [],
   "source": [
    "VOCAB_SIZE = 8000 #max(token2idx.values()) + 1  # or len(token2idx)\n",
    "EMB_SIZE = 512\n",
    "NHEAD = 8\n",
    "FFN_HID_DIM = 512\n",
    "BATCH_SIZE = 128\n",
    "NUM_ENCODER_LAYERS = 6\n",
    "NUM_DECODER_LAYERS = 6\n"
   ]
  },
  {
   "cell_type": "code",
   "execution_count": 381,
   "metadata": {},
   "outputs": [],
   "source": [
    "def rate(step, model_size, factor, warmup):\n",
    "    \"\"\"\n",
    "    we have to default the step to 1 for LambdaLR function\n",
    "    to avoid zero raising to negative power.\n",
    "    \"\"\"\n",
    "    if step == 0:\n",
    "        step = 1\n",
    "    return factor * (\n",
    "        model_size ** (-0.5) * min(step ** (-0.5), step * warmup ** (-1.5))\n",
    "    )"
   ]
  },
  {
   "cell_type": "code",
   "execution_count": 382,
   "metadata": {},
   "outputs": [],
   "source": [
    "transformer = Seq2SeqTransformer(NUM_ENCODER_LAYERS, NUM_DECODER_LAYERS, EMB_SIZE,\n",
    "                                 NHEAD, VOCAB_SIZE, FFN_HID_DIM)\n",
    "\n",
    "for p in transformer.parameters():\n",
    "    if p.dim() > 1:\n",
    "        nn.init.xavier_uniform_(p)\n",
    "\n",
    "transformer = transformer.to(DEVICE)\n",
    "\n",
    "loss_fn = torch.nn.CrossEntropyLoss(ignore_index=PAD_IDX, label_smoothing=0.2) #SMOOTHING\n",
    "\n",
    "optimizer = torch.optim.Adam(\n",
    "            transformer.parameters(), lr=0.5, betas=(0.9, 0.98), eps=1e-9 #vilken learning rate behövs??\n",
    "        )\n",
    "lr_scheduler = LambdaLR( \n",
    "        optimizer=optimizer,\n",
    "        lr_lambda=lambda step: rate(\n",
    "            step, model_size=transformer.emb_size, factor=1.0, warmup=4000\n",
    "        ),\n",
    "    )#lagt till!!"
   ]
  },
  {
   "cell_type": "code",
   "execution_count": 383,
   "metadata": {},
   "outputs": [],
   "source": [
    "from torch.utils.data import Dataset, DataLoader"
   ]
  },
  {
   "cell_type": "code",
   "execution_count": 384,
   "metadata": {},
   "outputs": [],
   "source": [
    "class PairDataset(Dataset):\n",
    "    def __init__(self, input_texts, target_texts, token2idx):\n",
    "        self.input_texts = input_texts\n",
    "        self.target_texts = target_texts\n",
    "        self.token2idx = token2idx\n",
    "\n",
    "    def __len__(self):\n",
    "        return len(self.input_texts)\n",
    "\n",
    "    def __getitem__(self, idx):\n",
    "        src_batch = text2codes([input_texts[idx]], self.token2idx)\n",
    "        tgt_batch = text2codes([target_texts[idx]], self.token2idx)\n",
    "\n",
    "        return src_batch[0], tgt_batch[0]\n",
    "\n",
    "    def collate(self, batch):\n",
    "        src_batch, tgt_batch = list(zip(*batch))\n",
    "        src_batch = pad_sequence(src_batch, padding_value=PAD_IDX)\n",
    "        tgt_batch = pad_sequence(tgt_batch, padding_value=PAD_IDX)\n",
    "\n",
    "        return src_batch, tgt_batch"
   ]
  },
  {
   "cell_type": "code",
   "execution_count": 385,
   "metadata": {},
   "outputs": [],
   "source": [
    "train_dataset = PairDataset(train_input_texts, train_target_texts, sp)\n",
    "train_dataloader = DataLoader(train_dataset, batch_size=32,\n",
    "                              shuffle=True, collate_fn=train_dataset.collate)"
   ]
  },
  {
   "cell_type": "code",
   "execution_count": 386,
   "metadata": {},
   "outputs": [],
   "source": [
    "val_dataset = PairDataset(val_input_texts, val_target_texts, sp)\n",
    "val_dataloader = DataLoader(\n",
    "    val_dataset, batch_size=32, collate_fn=val_dataset.collate)"
   ]
  },
  {
   "cell_type": "code",
   "execution_count": 387,
   "metadata": {},
   "outputs": [],
   "source": [
    "def train_epoch(model, optimizer, dataloader):\n",
    "    model.train()\n",
    "    losses = 0\n",
    "    sent_cnt = 0\n",
    "    correct, total = 0, 0\n",
    "    for src_batch, tgt_batch in tqdm(dataloader):\n",
    "        src = src_batch.to(DEVICE)\n",
    "        tgt = tgt_batch.to(DEVICE)\n",
    "\n",
    "        tgt_input = tgt[:-1, :]\n",
    "\n",
    "        src_mask, tgt_mask, src_padding_mask, tgt_padding_mask = create_mask(\n",
    "            src, tgt_input)\n",
    "\n",
    "        logits = model(src,\n",
    "                       tgt_input,\n",
    "                       src_mask,\n",
    "                       tgt_mask,\n",
    "                       src_padding_mask,\n",
    "                       tgt_padding_mask,\n",
    "                       src_padding_mask)\n",
    "\n",
    "        optimizer.zero_grad()\n",
    "\n",
    "        tgt_out = tgt[1:, :]\n",
    "        loss = loss_fn(\n",
    "            logits.reshape(-1, logits.shape[-1]), tgt_out.reshape(-1))\n",
    "        loss.backward()\n",
    "\n",
    "        optimizer.step()\n",
    "        lr_scheduler.step() #LAGT TILL\n",
    "        losses += loss.item()\n",
    "\n",
    "        with torch.no_grad():\n",
    "            sent_cnt += tgt_out.size()[-1]\n",
    "\n",
    "            total += torch.numel(tgt_input)\n",
    "            _, char_pred = torch.max(logits, -1)\n",
    "            correct += (char_pred == tgt_out).sum().item()\n",
    "\n",
    "    return losses / sent_cnt, correct / total\n"
   ]
  },
  {
   "cell_type": "code",
   "execution_count": 388,
   "metadata": {},
   "outputs": [],
   "source": [
    "def evaluate(model, dataloader):\n",
    "    model.eval()\n",
    "    losses = 0\n",
    "    sent_cnt = 0\n",
    "    correct, total = 0, 0\n",
    "\n",
    "    for src_batch, tgt_batch in dataloader:\n",
    "        src = src_batch.to(DEVICE)\n",
    "        tgt = tgt_batch.to(DEVICE)\n",
    "\n",
    "        tgt_input = tgt[:-1, :]\n",
    "\n",
    "        src_mask, tgt_mask, src_padding_mask, tgt_padding_mask = create_mask(\n",
    "            src, tgt_input)\n",
    "\n",
    "        logits = model(src, tgt_input, src_mask, tgt_mask,\n",
    "                       src_padding_mask, tgt_padding_mask, src_padding_mask)\n",
    "\n",
    "        tgt_out = tgt[1:, :]\n",
    "        loss = loss_fn(\n",
    "            logits.reshape(-1, logits.shape[-1]), tgt_out.reshape(-1))\n",
    "        losses += loss.item()\n",
    "        sent_cnt += tgt_out.size()[-1]\n",
    "\n",
    "        total += torch.numel(tgt_input)\n",
    "        _, char_pred = torch.max(logits, -1)\n",
    "        correct += (char_pred == tgt_out).sum().item()\n",
    "\n",
    "    return losses / sent_cnt, correct / total\n"
   ]
  },
  {
   "cell_type": "code",
   "execution_count": 389,
   "metadata": {},
   "outputs": [
    {
     "name": "stderr",
     "output_type": "stream",
     "text": [
      "100%|██████████| 25/25 [01:11<00:00,  2.86s/it]\n"
     ]
    },
    {
     "name": "stdout",
     "output_type": "stream",
     "text": [
      "Epoch: 1, Train loss: 0.282, Val loss: 0.314, Train acc.: 0.000, Val acc.: 0.000, Epoch time = 71.567s\n"
     ]
    },
    {
     "name": "stderr",
     "output_type": "stream",
     "text": [
      "100%|██████████| 25/25 [01:08<00:00,  2.74s/it]\n"
     ]
    },
    {
     "name": "stdout",
     "output_type": "stream",
     "text": [
      "Epoch: 2, Train loss: 0.279, Val loss: 0.309, Train acc.: 0.002, Val acc.: 0.012, Epoch time = 68.415s\n"
     ]
    },
    {
     "name": "stderr",
     "output_type": "stream",
     "text": [
      "100%|██████████| 25/25 [01:03<00:00,  2.53s/it]\n"
     ]
    },
    {
     "name": "stdout",
     "output_type": "stream",
     "text": [
      "Epoch: 3, Train loss: 0.275, Val loss: 0.304, Train acc.: 0.010, Val acc.: 0.011, Epoch time = 63.278s\n"
     ]
    },
    {
     "name": "stderr",
     "output_type": "stream",
     "text": [
      "100%|██████████| 25/25 [01:09<00:00,  2.76s/it]\n"
     ]
    },
    {
     "name": "stdout",
     "output_type": "stream",
     "text": [
      "Epoch: 4, Train loss: 0.272, Val loss: 0.300, Train acc.: 0.010, Val acc.: 0.011, Epoch time = 69.042s\n"
     ]
    },
    {
     "name": "stderr",
     "output_type": "stream",
     "text": [
      "100%|██████████| 25/25 [01:07<00:00,  2.68s/it]\n"
     ]
    },
    {
     "name": "stdout",
     "output_type": "stream",
     "text": [
      "Epoch: 5, Train loss: 0.269, Val loss: 0.297, Train acc.: 0.010, Val acc.: 0.012, Epoch time = 67.017s\n"
     ]
    },
    {
     "name": "stderr",
     "output_type": "stream",
     "text": [
      "100%|██████████| 25/25 [01:06<00:00,  2.68s/it]\n"
     ]
    },
    {
     "name": "stdout",
     "output_type": "stream",
     "text": [
      "Epoch: 6, Train loss: 0.266, Val loss: 0.294, Train acc.: 0.010, Val acc.: 0.012, Epoch time = 66.998s\n"
     ]
    },
    {
     "name": "stderr",
     "output_type": "stream",
     "text": [
      "100%|██████████| 25/25 [01:05<00:00,  2.63s/it]\n"
     ]
    },
    {
     "name": "stdout",
     "output_type": "stream",
     "text": [
      "Epoch: 7, Train loss: 0.263, Val loss: 0.290, Train acc.: 0.012, Val acc.: 0.012, Epoch time = 65.747s\n"
     ]
    },
    {
     "name": "stderr",
     "output_type": "stream",
     "text": [
      "100%|██████████| 25/25 [01:04<00:00,  2.58s/it]\n"
     ]
    },
    {
     "name": "stdout",
     "output_type": "stream",
     "text": [
      "Epoch: 8, Train loss: 0.259, Val loss: 0.286, Train acc.: 0.013, Val acc.: 0.013, Epoch time = 64.453s\n"
     ]
    },
    {
     "name": "stderr",
     "output_type": "stream",
     "text": [
      "100%|██████████| 25/25 [01:02<00:00,  2.52s/it]\n"
     ]
    },
    {
     "name": "stdout",
     "output_type": "stream",
     "text": [
      "Epoch: 9, Train loss: 0.256, Val loss: 0.282, Train acc.: 0.015, Val acc.: 0.016, Epoch time = 62.882s\n"
     ]
    },
    {
     "name": "stderr",
     "output_type": "stream",
     "text": [
      "100%|██████████| 25/25 [01:07<00:00,  2.70s/it]\n"
     ]
    },
    {
     "name": "stdout",
     "output_type": "stream",
     "text": [
      "Epoch: 10, Train loss: 0.252, Val loss: 0.278, Train acc.: 0.016, Val acc.: 0.017, Epoch time = 67.422s\n"
     ]
    },
    {
     "name": "stderr",
     "output_type": "stream",
     "text": [
      "100%|██████████| 25/25 [01:05<00:00,  2.62s/it]\n"
     ]
    },
    {
     "name": "stdout",
     "output_type": "stream",
     "text": [
      "Epoch: 11, Train loss: 0.249, Val loss: 0.274, Train acc.: 0.017, Val acc.: 0.017, Epoch time = 65.528s\n"
     ]
    },
    {
     "name": "stderr",
     "output_type": "stream",
     "text": [
      "100%|██████████| 25/25 [01:08<00:00,  2.73s/it]\n"
     ]
    },
    {
     "name": "stdout",
     "output_type": "stream",
     "text": [
      "Epoch: 12, Train loss: 0.245, Val loss: 0.271, Train acc.: 0.017, Val acc.: 0.018, Epoch time = 68.356s\n"
     ]
    },
    {
     "name": "stderr",
     "output_type": "stream",
     "text": [
      "100%|██████████| 25/25 [01:03<00:00,  2.54s/it]\n"
     ]
    },
    {
     "name": "stdout",
     "output_type": "stream",
     "text": [
      "Epoch: 13, Train loss: 0.242, Val loss: 0.268, Train acc.: 0.019, Val acc.: 0.019, Epoch time = 63.506s\n"
     ]
    },
    {
     "name": "stderr",
     "output_type": "stream",
     "text": [
      "100%|██████████| 25/25 [01:12<00:00,  2.90s/it]\n"
     ]
    },
    {
     "name": "stdout",
     "output_type": "stream",
     "text": [
      "Epoch: 14, Train loss: 0.240, Val loss: 0.265, Train acc.: 0.018, Val acc.: 0.020, Epoch time = 72.528s\n"
     ]
    },
    {
     "name": "stderr",
     "output_type": "stream",
     "text": [
      "100%|██████████| 25/25 [01:06<00:00,  2.66s/it]\n"
     ]
    },
    {
     "name": "stdout",
     "output_type": "stream",
     "text": [
      "Epoch: 15, Train loss: 0.238, Val loss: 0.263, Train acc.: 0.020, Val acc.: 0.021, Epoch time = 66.490s\n"
     ]
    }
   ],
   "source": [
    "from timeit import default_timer as timer\n",
    "NUM_EPOCHS = 15\n",
    "train_losses = []\n",
    "train_accs = []\n",
    "val_losses = []\n",
    "val_accs = []\n",
    "\n",
    "for epoch in range(1, NUM_EPOCHS + 1):\n",
    "    start_time = timer()\n",
    "    train_loss, train_acc = train_epoch(\n",
    "        transformer, optimizer, train_dataloader)\n",
    "    train_losses += [train_loss]\n",
    "    train_accs += [train_acc]\n",
    "    end_time = timer()\n",
    "    val_loss, val_acc = evaluate(transformer, val_dataloader)\n",
    "    val_losses += [val_loss]\n",
    "    val_accs += [val_acc]\n",
    "    print((f\"Epoch: {epoch}, Train loss: {train_loss:.3f}, Val loss: {val_loss:.3f}, Train acc.: {train_acc:.3f}, Val acc.: {val_acc:.3f}, Epoch time = {(end_time - start_time):.3f}s\"))\n"
   ]
  },
  {
   "cell_type": "code",
   "execution_count": 339,
   "metadata": {},
   "outputs": [
    {
     "data": {
      "image/png": "[encoded data removed]",
      "text/plain": [
       "<Figure size 640x480 with 1 Axes>"
      ]
     },
     "metadata": {},
     "output_type": "display_data"
    }
   ],
   "source": [
    "epochs = range(NUM_EPOCHS)\n",
    "\n",
    "plt.plot(epochs, train_losses, 'bo', label='Training loss')\n",
    "plt.plot(epochs, val_losses, 'b', label='Validation loss')\n",
    "plt.title('Training and validation loss')\n",
    "plt.xlabel('Epochs')\n",
    "plt.ylabel('Loss')\n",
    "plt.legend()\n",
    "plt.show()"
   ]
  },
  {
   "cell_type": "code",
   "execution_count": 340,
   "metadata": {},
   "outputs": [
    {
     "data": {
      "image/png": "[encoded data removed]",
      "text/plain": [
       "<Figure size 640x480 with 1 Axes>"
      ]
     },
     "metadata": {},
     "output_type": "display_data"
    }
   ],
   "source": [
    "plt.plot(epochs, train_accs, 'bo', label='Training acc')\n",
    "plt.plot(epochs, val_accs, 'b', label='Validation acc')\n",
    "plt.title('Training and validation accuracy')\n",
    "plt.xlabel('Epochs')\n",
    "plt.ylabel('Accuracy')\n",
    "plt.show()"
   ]
  },
  {
   "cell_type": "code",
   "execution_count": 341,
   "metadata": {},
   "outputs": [],
   "source": [
    "# function to generate output sequence using greedy algorithm\n",
    "def greedy_decode(model, src, src_mask, max_len, start_symbol):\n",
    "    src = src.to(DEVICE)\n",
    "    src_mask = src_mask.to(DEVICE)\n",
    "\n",
    "    memory = model.encode(src, src_mask)\n",
    "    ys = torch.ones(1, 1).fill_(start_symbol).type(torch.long).to(DEVICE)\n",
    "    # print(ys)\n",
    "    for i in range(max_len-1):\n",
    "        memory = memory.to(DEVICE)\n",
    "        tgt_mask = (generate_square_subsequent_mask(ys.size(0))\n",
    "                    .type(torch.bool)).to(DEVICE)\n",
    "        out = model.decode(ys, memory, tgt_mask)\n",
    "        out = out.transpose(0, 1)\n",
    "        prob = model.generator(out[:, -1])\n",
    "        _, next_word = torch.max(prob, dim=1)\n",
    "        next_word = next_word.item()\n",
    "\n",
    "        ys = torch.cat([ys,\n",
    "                        torch.ones(1, 1).type_as(src.data).fill_(next_word)], dim=0)\n",
    "        # print(ys) # Remove the comment to understand the loop\n",
    "        if next_word == EOS_IDX:\n",
    "            break\n",
    "    return ys\n"
   ]
  },
  {
   "cell_type": "code",
   "execution_count": 342,
   "metadata": {},
   "outputs": [
    {
     "data": {
      "text/plain": [
       "tensor([[  1],\n",
       "        [138],\n",
       "        [  2]])"
      ]
     },
     "execution_count": 342,
     "metadata": {},
     "output_type": "execute_result"
    }
   ],
   "source": [
    "text2codes(['Go!'], sp)[0].view(-1, 1)"
   ]
  },
  {
   "cell_type": "code",
   "execution_count": 343,
   "metadata": {},
   "outputs": [],
   "source": [
    "# actual function to translate input sentence into target language\n",
    "def translate(model: torch.nn.Module, src_sentence: str):\n",
    "    model.eval()\n",
    "    src = text2codes([src_sentence], sp)[0].view(-1, 1)\n",
    "    print(\"SRC: \", src)\n",
    "    num_tokens = src.shape[0]\n",
    "    src_mask = (torch.zeros(num_tokens, num_tokens)).type(torch.bool)\n",
    "    tgt_tokens = greedy_decode(\n",
    "        model, src, src_mask, max_len=num_tokens + 20, start_symbol=BOS_IDX).flatten()\n",
    "    print(\"Targ: \", tgt_tokens)\n",
    "    tgt_chars_specials = codes2text([tgt_tokens])\n",
    "    tgt_chars = []\n",
    "    for char in tgt_chars_specials:\n",
    "        if char != '<s>' and char != '<\\s>':\n",
    "            tgt_chars += [char]\n",
    "    tgt_chars = ''.join(tgt_chars)\n",
    "    return tgt_chars\n"
   ]
  },
  {
   "cell_type": "code",
   "execution_count": 344,
   "metadata": {},
   "outputs": [
    {
     "name": "stdout",
     "output_type": "stream",
     "text": [
      "SRC:  tensor([[ 1],\n",
      "        [74],\n",
      "        [ 2]])\n"
     ]
    },
    {
     "ename": "NameError",
     "evalue": "name 'BOS_IDX' is not defined",
     "output_type": "error",
     "traceback": [
      "\u001b[0;31m---------------------------------------------------------------------------\u001b[0m",
      "\u001b[0;31mNameError\u001b[0m                                 Traceback (most recent call last)",
      "Cell \u001b[0;32mIn[344], line 1\u001b[0m\n\u001b[0;32m----> 1\u001b[0m tgt_sent \u001b[38;5;241m=\u001b[39m translate(transformer, \u001b[38;5;124m'\u001b[39m\u001b[38;5;124mI drink water every day\u001b[39m\u001b[38;5;124m'\u001b[39m)\n\u001b[1;32m      2\u001b[0m tgt_sent\n",
      "Cell \u001b[0;32mIn[343], line 9\u001b[0m, in \u001b[0;36mtranslate\u001b[0;34m(model, src_sentence)\u001b[0m\n\u001b[1;32m      6\u001b[0m num_tokens \u001b[38;5;241m=\u001b[39m src\u001b[38;5;241m.\u001b[39mshape[\u001b[38;5;241m0\u001b[39m]\n\u001b[1;32m      7\u001b[0m src_mask \u001b[38;5;241m=\u001b[39m (torch\u001b[38;5;241m.\u001b[39mzeros(num_tokens, num_tokens))\u001b[38;5;241m.\u001b[39mtype(torch\u001b[38;5;241m.\u001b[39mbool)\n\u001b[1;32m      8\u001b[0m tgt_tokens \u001b[38;5;241m=\u001b[39m greedy_decode(\n\u001b[0;32m----> 9\u001b[0m     model, src, src_mask, max_len\u001b[38;5;241m=\u001b[39mnum_tokens \u001b[38;5;241m+\u001b[39m \u001b[38;5;241m20\u001b[39m, start_symbol\u001b[38;5;241m=\u001b[39mBOS_IDX)\u001b[38;5;241m.\u001b[39mflatten()\n\u001b[1;32m     10\u001b[0m \u001b[38;5;28mprint\u001b[39m(\u001b[38;5;124m\"\u001b[39m\u001b[38;5;124mTarg: \u001b[39m\u001b[38;5;124m\"\u001b[39m, tgt_tokens)\n\u001b[1;32m     11\u001b[0m tgt_chars_specials \u001b[38;5;241m=\u001b[39m codes2text([tgt_tokens])\n",
      "\u001b[0;31mNameError\u001b[0m: name 'BOS_IDX' is not defined"
     ]
    }
   ],
   "source": [
    "tgt_sent = translate(transformer, 'I drink water every day')\n",
    "tgt_sent"
   ]
  },
  {
   "cell_type": "code",
   "execution_count": null,
   "metadata": {},
   "outputs": [
    {
     "name": "stdout",
     "output_type": "stream",
     "text": [
      "SRC:  tensor([[ 1],\n",
      "        [85],\n",
      "        [ 2]])\n",
      "Targ:  tensor([   1,    8, 3907, 3907, 3907,    2])\n"
     ]
    },
    {
     "data": {
      "text/plain": [
       "'▁\"\"\"\"</s>'"
      ]
     },
     "execution_count": 293,
     "metadata": {},
     "output_type": "execute_result"
    }
   ],
   "source": [
    "tgt = translate(transformer, \"The house at the end of my street is red\")\n",
    "tgt"
   ]
  },
  {
   "cell_type": "code",
   "execution_count": null,
   "metadata": {},
   "outputs": [
    {
     "name": "stdout",
     "output_type": "stream",
     "text": [
      "\"kt reara reara reara reara reara reara reara reara re\n"
     ]
    }
   ],
   "source": [
    "print(sp.decode_ids([  1,   8, 129, 144, 254, 144, 254, 144, 254, 144, 254, 144, 254, 144,\n",
    "        254, 144, 254, 144, 254, 144,   2]))"
   ]
  }
 ],
 "metadata": {
  "kernelspec": {
   "display_name": "Python 3",
   "language": "python",
   "name": "python3"
  },
  "language_info": {
   "codemirror_mode": {
    "name": "ipython",
    "version": 3
   },
   "file_extension": ".py",
   "mimetype": "text/x-python",
   "name": "python",
   "nbconvert_exporter": "python",
   "pygments_lexer": "ipython3",
   "version": "3.11.5"
  }
 },
 "nbformat": 4,
 "nbformat_minor": 2
}
