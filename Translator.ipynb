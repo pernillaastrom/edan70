{
 "cells": [
  {
   "cell_type": "code",
   "execution_count": 49,
   "metadata": {},
   "outputs": [],
   "source": [
    "#vårt projekt\n",
    "\n",
    "from typing import Tuple\n",
    "\n",
    "from torch import Tensor\n",
    "import torch\n",
    "import torch.nn as nn\n",
    "from torch.nn import Transformer\n",
    "from torch.utils.data import dataset\n",
    "from torch.nn.utils.rnn import pad_sequence\n",
    "\n",
    "import random\n",
    "import numpy as np\n",
    "import math\n",
    "\n",
    "import matplotlib.pyplot as plt\n",
    "from tqdm import tqdm"
   ]
  },
  {
   "cell_type": "code",
   "execution_count": 50,
   "metadata": {},
   "outputs": [],
   "source": [
    "#pip install sentencepiece"
   ]
  },
  {
   "cell_type": "code",
   "execution_count": 51,
   "metadata": {},
   "outputs": [],
   "source": [
    "import sentencepiece as spm"
   ]
  },
  {
   "cell_type": "code",
   "execution_count": 52,
   "metadata": {},
   "outputs": [
    {
     "data": {
      "text/plain": [
       "<torch._C.Generator at 0x112f4d890>"
      ]
     },
     "execution_count": 52,
     "metadata": {},
     "output_type": "execute_result"
    }
   ],
   "source": [
    "random.seed(1234)\n",
    "np.random.seed(1234)\n",
    "torch.manual_seed(1234)"
   ]
  },
  {
   "cell_type": "code",
   "execution_count": 53,
   "metadata": {},
   "outputs": [
    {
     "data": {
      "text/plain": [
       "device(type='mps')"
      ]
     },
     "execution_count": 53,
     "metadata": {},
     "output_type": "execute_result"
    }
   ],
   "source": [
    "if torch.cuda.is_available():\n",
    "    device = 'cuda'\n",
    "elif torch.backends.mps.is_available():\n",
    "    device = 'mps'\n",
    "else:\n",
    "    device = 'cpu'\n",
    "DEVICE = torch.device(device)\n",
    "DEVICE\n"
   ]
  },
  {
   "cell_type": "code",
   "execution_count": 54,
   "metadata": {},
   "outputs": [],
   "source": [
    "#Alice paths\n",
    "data_path = '/Users/alicetottie/Downloads/projekt_data/train_paracrawl.en'\n",
    "data_path_2 = '/Users/alicetottie/Downloads/projekt_data/train_paracrawl.sv'\n",
    "\n",
    "#Maja paths\n",
    "# data_path = '/Users/majarygard/Documents/LTH/Projekt i Data/train_paracrawl.en'\n",
    "# data_path_2 = '/Users/majarygard/Documents/LTH/Projekt i Data/train_paracrawl.sv'\n",
    "\n",
    "#Pernilla paths\n",
    "#data_path = 'C:\\\\Users\\\\nilla\\\\Plugg\\\\project-data\\\\train_paracrawl.en\\\\train_paracrawl.en'\n",
    "#data_path_2 = 'C:\\\\Users\\\\nilla\\\\Plugg\\\\project-data\\\\train_paracrawl.sv\\\\train_paracrawl.sv'\n"
   ]
  },
  {
   "cell_type": "code",
   "execution_count": 55,
   "metadata": {},
   "outputs": [],
   "source": [
    "with open(data_path, \"r\", encoding=\"utf-8\") as f:\n",
    "    lines = f.read().split(\"\\n\")\n",
    "\n",
    "with open(data_path_2, \"r\", encoding=\"utf-8\") as f:\n",
    "    lines2 = f.read().split(\"\\n\")    "
   ]
  },
  {
   "cell_type": "code",
   "execution_count": 56,
   "metadata": {},
   "outputs": [
    {
     "data": {
      "text/plain": [
       "4960283"
      ]
     },
     "execution_count": 56,
     "metadata": {},
     "output_type": "execute_result"
    }
   ],
   "source": [
    "len(lines)\n",
    "\n"
   ]
  },
  {
   "cell_type": "code",
   "execution_count": 57,
   "metadata": {},
   "outputs": [
    {
     "data": {
      "text/plain": [
       "4960283"
      ]
     },
     "execution_count": 57,
     "metadata": {},
     "output_type": "execute_result"
    }
   ],
   "source": [
    "len(lines2)"
   ]
  },
  {
   "cell_type": "code",
   "execution_count": 58,
   "metadata": {},
   "outputs": [],
   "source": [
    "num_samples = 1000\n",
    "input_texts = []\n",
    "target_texts = []\n",
    "\n",
    "for line in lines[: min(num_samples, len(lines) - 1)]:\n",
    "    input_text= line.split(\"\\t\")\n",
    "    input_texts.append(input_text)\n",
    "\n",
    "with open(\"input_texts.txt\", \"w\") as f:\n",
    "    for input_text in input_texts:\n",
    "        f.write('\\t'.join(input_text) + '\\n')\n",
    "    \n",
    "for line in lines2[: min(num_samples, len(lines2) - 1)]:\n",
    "    target_text= line.split(\"\\t\")\n",
    "    target_texts.append(target_text)   "
   ]
  },
  {
   "cell_type": "code",
   "execution_count": 59,
   "metadata": {},
   "outputs": [
    {
     "data": {
      "text/plain": [
       "['\" This is my third course and I bought this concept a long time ago.']"
      ]
     },
     "execution_count": 59,
     "metadata": {},
     "output_type": "execute_result"
    }
   ],
   "source": [
    "input_texts[500]\n",
    "\n"
   ]
  },
  {
   "cell_type": "code",
   "execution_count": 60,
   "metadata": {},
   "outputs": [
    {
     "data": {
      "text/plain": [
       "['\" Det här är min tredje kurs och jag har köpt det hela för länge sedan.']"
      ]
     },
     "execution_count": 60,
     "metadata": {},
     "output_type": "execute_result"
    }
   ],
   "source": [
    "target_texts[500]"
   ]
  },
  {
   "cell_type": "code",
   "execution_count": 61,
   "metadata": {},
   "outputs": [
    {
     "data": {
      "text/plain": [
       "800"
      ]
     },
     "execution_count": 61,
     "metadata": {},
     "output_type": "execute_result"
    }
   ],
   "source": [
    "TRAIN_PERCENTAGE = 0.8\n",
    "train_val = int(TRAIN_PERCENTAGE * num_samples)\n",
    "train_val"
   ]
  },
  {
   "cell_type": "code",
   "execution_count": 62,
   "metadata": {},
   "outputs": [],
   "source": [
    "text_pairs = list(zip(input_texts, target_texts))\n",
    "random.shuffle(text_pairs)\n",
    "input_texts, target_texts = zip(*text_pairs)\n",
    "input_texts, target_texts = list(input_texts), list(target_texts)\n"
   ]
  },
  {
   "cell_type": "code",
   "execution_count": 63,
   "metadata": {},
   "outputs": [],
   "source": [
    "train_input_texts = input_texts[:train_val]\n",
    "train_target_texts = target_texts[:train_val]\n",
    "\n",
    "val_input_texts = input_texts[train_val:]\n",
    "val_target_texts = target_texts[train_val:]"
   ]
  },
  {
   "cell_type": "code",
   "execution_count": 64,
   "metadata": {},
   "outputs": [
    {
     "name": "stdout",
     "output_type": "stream",
     "text": [
      "['▁This', '▁is', '▁a', '▁t', 'est']\n",
      "[664, 63, 4, 3, 133]\n",
      "This is a test\n",
      "This is a test\n"
     ]
    },
    {
     "name": "stderr",
     "output_type": "stream",
     "text": [
      "sentencepiece_trainer.cc(178) LOG(INFO) Running command: --input=input_texts.txt --model_prefix=m --vocab_size=2000 --model_type=bpe\n",
      "sentencepiece_trainer.cc(78) LOG(INFO) Starts training with : \n",
      "trainer_spec {\n",
      "  input: input_texts.txt\n",
      "  input_format: \n",
      "  model_prefix: m\n",
      "  model_type: BPE\n",
      "  vocab_size: 2000\n",
      "  self_test_sample_size: 0\n",
      "  character_coverage: 0.9995\n",
      "  input_sentence_size: 0\n",
      "  shuffle_input_sentence: 1\n",
      "  seed_sentencepiece_size: 1000000\n",
      "  shrinking_factor: 0.75\n",
      "  max_sentence_length: 4192\n",
      "  num_threads: 16\n",
      "  num_sub_iterations: 2\n",
      "  max_sentencepiece_length: 16\n",
      "  split_by_unicode_script: 1\n",
      "  split_by_number: 1\n",
      "  split_by_whitespace: 1\n",
      "  split_digits: 0\n",
      "  pretokenization_delimiter: \n",
      "  treat_whitespace_as_suffix: 0\n",
      "  allow_whitespace_only_pieces: 0\n",
      "  required_chars: \n",
      "  byte_fallback: 0\n",
      "  vocabulary_output_piece_score: 1\n",
      "  train_extremely_large_corpus: 0\n",
      "  seed_sentencepieces_file: \n",
      "  hard_vocab_limit: 1\n",
      "  use_all_vocab: 0\n",
      "  unk_id: 0\n",
      "  bos_id: 1\n",
      "  eos_id: 2\n",
      "  pad_id: -1\n",
      "  unk_piece: <unk>\n",
      "  bos_piece: <s>\n",
      "  eos_piece: </s>\n",
      "  pad_piece: <pad>\n",
      "  unk_surface:  ⁇ \n",
      "  enable_differential_privacy: 0\n",
      "  differential_privacy_noise_level: 0\n",
      "  differential_privacy_clipping_threshold: 0\n",
      "}\n",
      "normalizer_spec {\n",
      "  name: nmt_nfkc\n",
      "  add_dummy_prefix: 1\n",
      "  remove_extra_whitespaces: 1\n",
      "  escape_whitespaces: 1\n",
      "  normalization_rule_tsv: \n",
      "}\n",
      "denormalizer_spec {}\n",
      "trainer_interface.cc(353) LOG(INFO) SentenceIterator is not specified. Using MultiFileSentenceIterator.\n",
      "trainer_interface.cc(185) LOG(INFO) Loading corpus: input_texts.txt\n",
      "trainer_interface.cc(409) LOG(INFO) Loaded all 1000 sentences\n",
      "trainer_interface.cc(425) LOG(INFO) Adding meta_piece: <unk>\n",
      "trainer_interface.cc(425) LOG(INFO) Adding meta_piece: <s>\n",
      "trainer_interface.cc(425) LOG(INFO) Adding meta_piece: </s>\n",
      "trainer_interface.cc(430) LOG(INFO) Normalizing sentences...\n",
      "trainer_interface.cc(539) LOG(INFO) all chars count=109162\n",
      "trainer_interface.cc(550) LOG(INFO) Done: 99.9524% characters are covered.\n",
      "trainer_interface.cc(560) LOG(INFO) Alphabet size=102\n",
      "trainer_interface.cc(561) LOG(INFO) Final character coverage=0.999524\n",
      "trainer_interface.cc(592) LOG(INFO) Done! preprocessed 1000 sentences.\n",
      "trainer_interface.cc(598) LOG(INFO) Tokenizing input sentences with whitespace: 1000\n",
      "trainer_interface.cc(609) LOG(INFO) Done! 6570\n",
      "bpe_model_trainer.cc(159) LOG(INFO) Updating active symbols. max_freq=2147 min_freq=3\n",
      "bpe_model_trainer.cc(268) LOG(INFO) Added: freq=598 size=20 all=2198 active=1638 piece=▁of\n",
      "bpe_model_trainer.cc(268) LOG(INFO) Added: freq=349 size=40 all=2904 active=2344 piece=▁d\n",
      "bpe_model_trainer.cc(268) LOG(INFO) Added: freq=231 size=60 all=3505 active=2945 piece=ent\n",
      "bpe_model_trainer.cc(268) LOG(INFO) Added: freq=183 size=80 all=4255 active=3695 piece=ec\n",
      "bpe_model_trainer.cc(268) LOG(INFO) Added: freq=141 size=100 all=4764 active=4204 piece=ter\n",
      "bpe_model_trainer.cc(159) LOG(INFO) Updating active symbols. max_freq=139 min_freq=11\n",
      "bpe_model_trainer.cc(268) LOG(INFO) Added: freq=113 size=120 all=5133 active=1332 piece=▁st\n",
      "bpe_model_trainer.cc(268) LOG(INFO) Added: freq=90 size=140 all=5688 active=1887 piece=ce\n",
      "bpe_model_trainer.cc(268) LOG(INFO) Added: freq=81 size=160 all=6021 active=2220 piece=ess\n",
      "bpe_model_trainer.cc(268) LOG(INFO) Added: freq=66 size=180 all=6388 active=2587 piece=ist\n",
      "bpe_model_trainer.cc(268) LOG(INFO) Added: freq=58 size=200 all=6681 active=2880 piece=ard\n",
      "bpe_model_trainer.cc(159) LOG(INFO) Updating active symbols. max_freq=58 min_freq=10\n",
      "bpe_model_trainer.cc(268) LOG(INFO) Added: freq=52 size=220 all=6932 active=1229 piece=ice\n",
      "bpe_model_trainer.cc(268) LOG(INFO) Added: freq=48 size=240 all=7233 active=1530 piece=ame\n",
      "bpe_model_trainer.cc(268) LOG(INFO) Added: freq=43 size=260 all=7448 active=1745 piece=pp\n",
      "bpe_model_trainer.cc(268) LOG(INFO) Added: freq=39 size=280 all=7671 active=1968 piece=ack\n",
      "bpe_model_trainer.cc(268) LOG(INFO) Added: freq=36 size=300 all=7897 active=2194 piece=▁(14\n",
      "bpe_model_trainer.cc(159) LOG(INFO) Updating active symbols. max_freq=36 min_freq=8\n",
      "bpe_model_trainer.cc(268) LOG(INFO) Added: freq=32 size=320 all=8054 active=1149 piece=use\n",
      "bpe_model_trainer.cc(268) LOG(INFO) Added: freq=31 size=340 all=8199 active=1294 piece=▁about\n",
      "bpe_model_trainer.cc(268) LOG(INFO) Added: freq=28 size=360 all=8366 active=1461 piece=▁9\n",
      "bpe_model_trainer.cc(268) LOG(INFO) Added: freq=26 size=380 all=8569 active=1664 piece=und\n",
      "bpe_model_trainer.cc(268) LOG(INFO) Added: freq=25 size=400 all=8727 active=1822 piece=▁(1.5\n",
      "bpe_model_trainer.cc(159) LOG(INFO) Updating active symbols. max_freq=25 min_freq=8\n",
      "bpe_model_trainer.cc(268) LOG(INFO) Added: freq=24 size=420 all=8843 active=1117 piece=inute\n",
      "bpe_model_trainer.cc(268) LOG(INFO) Added: freq=23 size=440 all=8992 active=1266 piece=▁would\n",
      "bpe_model_trainer.cc(268) LOG(INFO) Added: freq=21 size=460 all=9135 active=1409 piece=hn\n",
      "bpe_model_trainer.cc(268) LOG(INFO) Added: freq=21 size=480 all=9226 active=1500 piece=▁take\n",
      "bpe_model_trainer.cc(268) LOG(INFO) Added: freq=20 size=500 all=9339 active=1613 piece=▁giv\n",
      "bpe_model_trainer.cc(159) LOG(INFO) Updating active symbols. max_freq=20 min_freq=7\n",
      "bpe_model_trainer.cc(268) LOG(INFO) Added: freq=19 size=520 all=9393 active=1052 piece=▁Be\n",
      "bpe_model_trainer.cc(268) LOG(INFO) Added: freq=18 size=540 all=9477 active=1136 piece=Mat\n",
      "bpe_model_trainer.cc(268) LOG(INFO) Added: freq=18 size=560 all=9574 active=1233 piece=▁like\n",
      "bpe_model_trainer.cc(268) LOG(INFO) Added: freq=17 size=580 all=9698 active=1357 piece=oll\n",
      "bpe_model_trainer.cc(268) LOG(INFO) Added: freq=17 size=600 all=9756 active=1415 piece=▁things\n",
      "bpe_model_trainer.cc(159) LOG(INFO) Updating active symbols. max_freq=16 min_freq=6\n",
      "bpe_model_trainer.cc(268) LOG(INFO) Added: freq=16 size=620 all=9852 active=1097 piece=▁day\n",
      "bpe_model_trainer.cc(268) LOG(INFO) Added: freq=15 size=640 all=9934 active=1179 piece=ohn\n",
      "bpe_model_trainer.cc(268) LOG(INFO) Added: freq=15 size=660 all=9995 active=1240 piece=ights\n",
      "bpe_model_trainer.cc(268) LOG(INFO) Added: freq=14 size=680 all=10088 active=1333 piece=red\n",
      "bpe_model_trainer.cc(268) LOG(INFO) Added: freq=14 size=700 all=10177 active=1422 piece=▁make\n",
      "bpe_model_trainer.cc(159) LOG(INFO) Updating active symbols. max_freq=14 min_freq=6\n",
      "bpe_model_trainer.cc(268) LOG(INFO) Added: freq=13 size=720 all=10230 active=1054 piece=yst\n",
      "bpe_model_trainer.cc(268) LOG(INFO) Added: freq=13 size=740 all=10279 active=1103 piece=▁much\n",
      "bpe_model_trainer.cc(268) LOG(INFO) Added: freq=12 size=760 all=10309 active=1133 piece=ER\n",
      "bpe_model_trainer.cc(268) LOG(INFO) Added: freq=12 size=780 all=10404 active=1228 piece=augh\n",
      "bpe_model_trainer.cc(268) LOG(INFO) Added: freq=12 size=800 all=10459 active=1283 piece=▁upon\n",
      "bpe_model_trainer.cc(159) LOG(INFO) Updating active symbols. max_freq=12 min_freq=5\n",
      "bpe_model_trainer.cc(268) LOG(INFO) Added: freq=11 size=820 all=10512 active=1054 piece=HNV\n",
      "bpe_model_trainer.cc(268) LOG(INFO) Added: freq=11 size=840 all=10582 active=1124 piece=lick\n",
      "bpe_model_trainer.cc(268) LOG(INFO) Added: freq=11 size=860 all=10617 active=1159 piece=Exodus\n",
      "bpe_model_trainer.cc(268) LOG(INFO) Added: freq=10 size=880 all=10644 active=1186 piece=ek\n",
      "bpe_model_trainer.cc(268) LOG(INFO) Added: freq=10 size=900 all=10762 active=1304 piece=ows\n",
      "bpe_model_trainer.cc(159) LOG(INFO) Updating active symbols. max_freq=10 min_freq=5\n",
      "bpe_model_trainer.cc(268) LOG(INFO) Added: freq=10 size=920 all=10827 active=1061 piece=ised\n",
      "bpe_model_trainer.cc(268) LOG(INFO) Added: freq=10 size=940 all=10902 active=1136 piece=▁comm\n",
      "bpe_model_trainer.cc(268) LOG(INFO) Added: freq=9 size=960 all=10950 active=1184 piece=bo\n",
      "bpe_model_trainer.cc(268) LOG(INFO) Added: freq=9 size=980 all=11025 active=1259 piece=come\n",
      "bpe_model_trainer.cc(268) LOG(INFO) Added: freq=9 size=1000 all=11073 active=1307 piece=▁int\n",
      "bpe_model_trainer.cc(159) LOG(INFO) Updating active symbols. max_freq=9 min_freq=5\n",
      "bpe_model_trainer.cc(268) LOG(INFO) Added: freq=9 size=1020 all=11100 active=1022 piece=▁food\n",
      "bpe_model_trainer.cc(268) LOG(INFO) Added: freq=9 size=1040 all=11096 active=1018 piece=▁interest\n",
      "bpe_model_trainer.cc(268) LOG(INFO) Added: freq=8 size=1060 all=11179 active=1101 piece=ird\n",
      "bpe_model_trainer.cc(268) LOG(INFO) Added: freq=8 size=1080 all=11239 active=1161 piece=acob\n",
      "bpe_model_trainer.cc(268) LOG(INFO) Added: freq=8 size=1100 all=11292 active=1214 piece=▁beh\n",
      "bpe_model_trainer.cc(159) LOG(INFO) Updating active symbols. max_freq=8 min_freq=4\n",
      "bpe_model_trainer.cc(268) LOG(INFO) Added: freq=8 size=1120 all=11322 active=1028 piece=allen\n",
      "bpe_model_trainer.cc(268) LOG(INFO) Added: freq=8 size=1140 all=11340 active=1046 piece=▁show\n",
      "bpe_model_trainer.cc(268) LOG(INFO) Added: freq=8 size=1160 all=11339 active=1045 piece=cription\n",
      "bpe_model_trainer.cc(268) LOG(INFO) Added: freq=7 size=1180 all=11394 active=1100 piece=:7-\n",
      "bpe_model_trainer.cc(268) LOG(INFO) Added: freq=7 size=1200 all=11485 active=1191 piece=way\n",
      "bpe_model_trainer.cc(159) LOG(INFO) Updating active symbols. max_freq=7 min_freq=4\n",
      "bpe_model_trainer.cc(268) LOG(INFO) Added: freq=7 size=1220 all=11528 active=1041 piece=ears\n",
      "bpe_model_trainer.cc(268) LOG(INFO) Added: freq=7 size=1240 all=11578 active=1091 piece=▁(16\n",
      "bpe_model_trainer.cc(268) LOG(INFO) Added: freq=7 size=1260 all=11604 active=1117 piece=▁sun\n",
      "bpe_model_trainer.cc(268) LOG(INFO) Added: freq=7 size=1280 all=11659 active=1172 piece=▁(153\n",
      "bpe_model_trainer.cc(268) LOG(INFO) Added: freq=7 size=1300 all=11670 active=1183 piece=▁suff\n",
      "bpe_model_trainer.cc(159) LOG(INFO) Updating active symbols. max_freq=7 min_freq=4\n",
      "bpe_model_trainer.cc(268) LOG(INFO) Added: freq=7 size=1320 all=11687 active=1016 piece=naments\n",
      "bpe_model_trainer.cc(268) LOG(INFO) Added: freq=7 size=1340 all=11686 active=1015 piece=▁understand\n",
      "bpe_model_trainer.cc(268) LOG(INFO) Added: freq=6 size=1360 all=11768 active=1097 piece=aks\n",
      "bpe_model_trainer.cc(268) LOG(INFO) Added: freq=6 size=1380 all=11846 active=1175 piece=une\n",
      "bpe_model_trainer.cc(268) LOG(INFO) Added: freq=6 size=1400 all=11875 active=1204 piece=▁US\n",
      "bpe_model_trainer.cc(159) LOG(INFO) Updating active symbols. max_freq=6 min_freq=4\n",
      "bpe_model_trainer.cc(268) LOG(INFO) Added: freq=6 size=1420 all=11908 active=1031 piece=ular\n",
      "bpe_model_trainer.cc(268) LOG(INFO) Added: freq=6 size=1440 all=11938 active=1061 piece=▁dem\n",
      "bpe_model_trainer.cc(268) LOG(INFO) Added: freq=6 size=1460 all=11979 active=1102 piece=inner\n",
      "bpe_model_trainer.cc(268) LOG(INFO) Added: freq=6 size=1480 all=11995 active=1118 piece=▁fore\n",
      "bpe_model_trainer.cc(268) LOG(INFO) Added: freq=6 size=1500 all=12013 active=1136 piece=▁term\n",
      "bpe_model_trainer.cc(159) LOG(INFO) Updating active symbols. max_freq=6 min_freq=3\n",
      "bpe_model_trainer.cc(268) LOG(INFO) Added: freq=6 size=1520 all=12017 active=1003 piece=▁point\n",
      "bpe_model_trainer.cc(268) LOG(INFO) Added: freq=6 size=1540 all=12012 active=998 piece=▁screen\n",
      "bpe_model_trainer.cc(268) LOG(INFO) Added: freq=6 size=1560 all=12007 active=993 piece=▁continue\n",
      "bpe_model_trainer.cc(268) LOG(INFO) Added: freq=5 size=1580 all=12013 active=999 piece=AG\n",
      "bpe_model_trainer.cc(268) LOG(INFO) Added: freq=5 size=1600 all=12112 active=1098 piece=ze\n",
      "bpe_model_trainer.cc(159) LOG(INFO) Updating active symbols. max_freq=5 min_freq=3\n",
      "bpe_model_trainer.cc(268) LOG(INFO) Added: freq=5 size=1620 all=12172 active=1055 piece=iod\n",
      "bpe_model_trainer.cc(268) LOG(INFO) Added: freq=5 size=1640 all=12239 active=1122 piece=▁CE\n",
      "bpe_model_trainer.cc(268) LOG(INFO) Added: freq=5 size=1660 all=12279 active=1162 piece=lish\n",
      "bpe_model_trainer.cc(268) LOG(INFO) Added: freq=5 size=1680 all=12314 active=1197 piece=▁Rec\n",
      "bpe_model_trainer.cc(268) LOG(INFO) Added: freq=5 size=1700 all=12329 active=1212 piece=▁equ\n",
      "bpe_model_trainer.cc(159) LOG(INFO) Updating active symbols. max_freq=5 min_freq=3\n",
      "bpe_model_trainer.cc(268) LOG(INFO) Added: freq=5 size=1720 all=12358 active=1026 piece=ribut\n",
      "bpe_model_trainer.cc(268) LOG(INFO) Added: freq=5 size=1740 all=12372 active=1040 piece=▁Soma\n",
      "bpe_model_trainer.cc(268) LOG(INFO) Added: freq=5 size=1760 all=12373 active=1041 piece=▁pain\n",
      "bpe_model_trainer.cc(268) LOG(INFO) Added: freq=5 size=1780 all=12390 active=1058 piece=▁Poker\n",
      "bpe_model_trainer.cc(268) LOG(INFO) Added: freq=5 size=1800 all=12382 active=1050 piece=▁using\n",
      "bpe_model_trainer.cc(159) LOG(INFO) Updating active symbols. max_freq=5 min_freq=3\n",
      "bpe_model_trainer.cc(268) LOG(INFO) Added: freq=5 size=1820 all=12383 active=1002 piece=▁effect\n",
      "bpe_model_trainer.cc(268) LOG(INFO) Added: freq=5 size=1840 all=12378 active=997 piece=▁himself\n",
      "bpe_model_trainer.cc(268) LOG(INFO) Added: freq=5 size=1860 all=12366 active=985 piece=▁something\n",
      "bpe_model_trainer.cc(268) LOG(INFO) Added: freq=4 size=1880 all=12398 active=1017 piece=IF\n",
      "trainer_interface.cc(687) LOG(INFO) Saving model: m.model\n",
      "trainer_interface.cc(699) LOG(INFO) Saving vocabs: m.vocab\n"
     ]
    }
   ],
   "source": [
    "spm.SentencePieceTrainer.train('--input=input_texts.txt --model_prefix=m --vocab_size=2000 --model_type=bpe')\n",
    "\n",
    "# makes segmenter instance and loads the model file (m.model)\n",
    "sp = spm.SentencePieceProcessor()\n",
    "sp.load('m.model')\n",
    "\n",
    "# encode: text => id\n",
    "print(sp.encode_as_pieces('This is a test'))\n",
    "print(sp.encode_as_ids('This is a test'))\n",
    "\n",
    "# decode: id => text\n",
    "print(sp.decode_pieces(['▁This', '▁is', '▁a', '▁t', 'est']))\n",
    "print(sp.decode_ids([664, 63, 4, 3, 133]))"
   ]
  }
 ],
 "metadata": {
  "kernelspec": {
   "display_name": "Python 3",
   "language": "python",
   "name": "python3"
  },
  "language_info": {
   "codemirror_mode": {
    "name": "ipython",
    "version": 3
   },
   "file_extension": ".py",
   "mimetype": "text/x-python",
   "name": "python",
   "nbconvert_exporter": "python",
   "pygments_lexer": "ipython3",
   "version": "3.11.5"
  }
 },
 "nbformat": 4,
 "nbformat_minor": 2
}
