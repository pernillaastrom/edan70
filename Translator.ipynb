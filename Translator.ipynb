{
 "cells": [
  {
   "cell_type": "code",
   "execution_count": 185,
   "metadata": {},
   "outputs": [],
   "source": [
    "#vårt projekt\n",
    "\n",
    "from typing import Tuple\n",
    "\n",
    "from torch import Tensor\n",
    "import torch\n",
    "import torch.nn as nn\n",
    "from torch.nn import Transformer\n",
    "from torch.utils.data import dataset\n",
    "from torch.nn.utils.rnn import pad_sequence\n",
    "from torch.optim.lr_scheduler import LambdaLR\n",
    "import random\n",
    "import numpy as np\n",
    "import math\n",
    "\n",
    "import matplotlib.pyplot as plt\n",
    "from tqdm import tqdm"
   ]
  },
  {
   "cell_type": "code",
   "execution_count": 186,
   "metadata": {},
   "outputs": [
    {
     "name": "stdout",
     "output_type": "stream",
     "text": [
      "2.1.1\n"
     ]
    }
   ],
   "source": [
    "print(torch.__version__)"
   ]
  },
  {
   "cell_type": "code",
   "execution_count": 187,
   "metadata": {},
   "outputs": [],
   "source": [
    "# pip install sentencepiece\n",
    "# pip install tqdm\n",
    "#conda install pytorch torchvision torchaudio -c pytorch\n",
    "#python -m pip uninstall pytorch"
   ]
  },
  {
   "cell_type": "code",
   "execution_count": 188,
   "metadata": {},
   "outputs": [],
   "source": [
    "import sentencepiece as spm"
   ]
  },
  {
   "cell_type": "code",
   "execution_count": 189,
   "metadata": {},
   "outputs": [
    {
     "data": {
      "text/plain": [
       "<torch._C.Generator at 0x10c78d870>"
      ]
     },
     "execution_count": 189,
     "metadata": {},
     "output_type": "execute_result"
    }
   ],
   "source": [
    "random.seed(1234)\n",
    "np.random.seed(1234)\n",
    "torch.manual_seed(1234)"
   ]
  },
  {
   "cell_type": "code",
   "execution_count": 190,
   "metadata": {},
   "outputs": [
    {
     "data": {
      "text/plain": [
       "device(type='cpu')"
      ]
     },
     "execution_count": 190,
     "metadata": {},
     "output_type": "execute_result"
    }
   ],
   "source": [
    "if torch.cuda.is_available():\n",
    "    device = 'cuda'\n",
    "\n",
    "else:\n",
    "    device = 'cpu'\n",
    "DEVICE = torch.device(device)\n",
    "DEVICE\n"
   ]
  },
  {
   "cell_type": "code",
   "execution_count": 191,
   "metadata": {},
   "outputs": [],
   "source": [
    "#Alice paths\n",
    "data_path = '/Users/alicetottie/Downloads/projekt_data/train_paracrawl.en'\n",
    "data_path_2 = '/Users/alicetottie/Downloads/projekt_data/train_paracrawl.sv'\n",
    "\n",
    "#Maja paths\n",
    "# data_path = '/Users/majarygard/Documents/LTH/Projekt i Data/train_paracrawl.en'\n",
    "# data_path_2 = '/Users/majarygard/Documents/LTH/Projekt i Data/train_paracrawl.sv'\n",
    "\n",
    "#Pernilla paths\n",
    "#data_path = 'C:\\\\Users\\\\nilla\\\\Plugg\\\\project-data\\\\train_paracrawl.en\\\\train_paracrawl.en'\n",
    "#data_path_2 = 'C:\\\\Users\\\\nilla\\\\Plugg\\\\project-data\\\\train_paracrawl.sv\\\\train_paracrawl.sv'\n"
   ]
  },
  {
   "cell_type": "code",
   "execution_count": 192,
   "metadata": {},
   "outputs": [],
   "source": [
    "with open(data_path, \"r\", encoding=\"utf-8\") as f:\n",
    "    lines = f.read().split(\"\\n\")\n",
    "\n",
    "with open(data_path_2, \"r\", encoding=\"utf-8\") as f:\n",
    "    lines2 = f.read().split(\"\\n\")    "
   ]
  },
  {
   "cell_type": "code",
   "execution_count": 193,
   "metadata": {},
   "outputs": [
    {
     "data": {
      "text/plain": [
       "4960283"
      ]
     },
     "execution_count": 193,
     "metadata": {},
     "output_type": "execute_result"
    }
   ],
   "source": [
    "len(lines)\n",
    "\n"
   ]
  },
  {
   "cell_type": "code",
   "execution_count": 194,
   "metadata": {},
   "outputs": [
    {
     "data": {
      "text/plain": [
       "4960283"
      ]
     },
     "execution_count": 194,
     "metadata": {},
     "output_type": "execute_result"
    }
   ],
   "source": [
    "len(lines2)"
   ]
  },
  {
   "cell_type": "code",
   "execution_count": 195,
   "metadata": {},
   "outputs": [],
   "source": [
    "num_samples = 1000\n",
    "input_texts = []\n",
    "target_texts = []\n",
    "\n",
    "for line in lines[: min(num_samples, len(lines) - 1)]:\n",
    "    input_text= line.split(\"\\t\")\n",
    "    input_texts.append(input_text)\n",
    "\n",
    "with open(\"input_texts.txt\", \"w\", encoding='utf-8') as f:\n",
    "    for input_text in input_texts:\n",
    "        f.write('\\t'.join(input_text) + '\\n')\n",
    "    \n",
    "for line in lines2[: min(num_samples, len(lines2) - 1)]:\n",
    "    target_text= line.split(\"\\t\")\n",
    "    target_texts.append(target_text)  \n",
    "\n",
    "with open(\"input_texts.txt\", \"a\", encoding='utf-8') as f:\n",
    "    for target_text in target_texts:\n",
    "        f.write('\\t'.join(target_text) + '\\n') "
   ]
  },
  {
   "cell_type": "code",
   "execution_count": 196,
   "metadata": {},
   "outputs": [
    {
     "data": {
      "text/plain": [
       "['\" This is my third course and I bought this concept a long time ago.']"
      ]
     },
     "execution_count": 196,
     "metadata": {},
     "output_type": "execute_result"
    }
   ],
   "source": [
    "input_texts[500]\n",
    "\n"
   ]
  },
  {
   "cell_type": "code",
   "execution_count": 197,
   "metadata": {},
   "outputs": [
    {
     "data": {
      "text/plain": [
       "['\" Det här är min tredje kurs och jag har köpt det hela för länge sedan.']"
      ]
     },
     "execution_count": 197,
     "metadata": {},
     "output_type": "execute_result"
    }
   ],
   "source": [
    "target_texts[500]"
   ]
  },
  {
   "cell_type": "code",
   "execution_count": 198,
   "metadata": {},
   "outputs": [
    {
     "data": {
      "text/plain": [
       "800"
      ]
     },
     "execution_count": 198,
     "metadata": {},
     "output_type": "execute_result"
    }
   ],
   "source": [
    "TRAIN_PERCENTAGE = 0.8\n",
    "train_val = int(TRAIN_PERCENTAGE * num_samples)\n",
    "train_val"
   ]
  },
  {
   "cell_type": "code",
   "execution_count": 199,
   "metadata": {},
   "outputs": [],
   "source": [
    "text_pairs = list(zip(input_texts, target_texts))\n",
    "random.shuffle(text_pairs)\n",
    "input_texts, target_texts = zip(*text_pairs)\n",
    "input_texts, target_texts = list(input_texts), list(target_texts)\n"
   ]
  },
  {
   "cell_type": "code",
   "execution_count": 200,
   "metadata": {},
   "outputs": [],
   "source": [
    "train_input_texts = input_texts[:train_val]\n",
    "train_target_texts = target_texts[:train_val]\n",
    "\n",
    "val_input_texts = input_texts[train_val:]\n",
    "val_target_texts = target_texts[train_val:]"
   ]
  },
  {
   "cell_type": "code",
   "execution_count": 201,
   "metadata": {},
   "outputs": [
    {
     "name": "stdout",
     "output_type": "stream",
     "text": [
      "['<s>', '▁This', '▁is', '▁a', '▁test', '</s>']\n",
      "[1, 1221, 120, 6, 2384, 2]\n",
      "This is a test\n",
      "honomill terte\n"
     ]
    },
    {
     "name": "stderr",
     "output_type": "stream",
     "text": [
      "sentencepiece_trainer.cc(178) LOG(INFO) Running command: --input=input_texts.txt --model_prefix=m --vocab_size=4000 --model_type=bpe --pad_id=3\n",
      "sentencepiece_trainer.cc(78) LOG(INFO) Starts training with : \n",
      "trainer_spec {\n",
      "  input: input_texts.txt\n",
      "  input_format: \n",
      "  model_prefix: m\n",
      "  model_type: BPE\n",
      "  vocab_size: 4000\n",
      "  self_test_sample_size: 0\n",
      "  character_coverage: 0.9995\n",
      "  input_sentence_size: 0\n",
      "  shuffle_input_sentence: 1\n",
      "  seed_sentencepiece_size: 1000000\n",
      "  shrinking_factor: 0.75\n",
      "  max_sentence_length: 4192\n",
      "  num_threads: 16\n",
      "  num_sub_iterations: 2\n",
      "  max_sentencepiece_length: 16\n",
      "  split_by_unicode_script: 1\n",
      "  split_by_number: 1\n",
      "  split_by_whitespace: 1\n",
      "  split_digits: 0\n",
      "  pretokenization_delimiter: \n",
      "  treat_whitespace_as_suffix: 0\n",
      "  allow_whitespace_only_pieces: 0\n",
      "  required_chars: \n",
      "  byte_fallback: 0\n",
      "  vocabulary_output_piece_score: 1\n",
      "  train_extremely_large_corpus: 0\n",
      "  seed_sentencepieces_file: \n",
      "  hard_vocab_limit: 1\n",
      "  use_all_vocab: 0\n",
      "  unk_id: 0\n",
      "  bos_id: 1\n",
      "  eos_id: 2\n",
      "  pad_id: 3\n",
      "  unk_piece: <unk>\n",
      "  bos_piece: <s>\n",
      "  eos_piece: </s>\n",
      "  pad_piece: <pad>\n",
      "  unk_surface:  ⁇ \n",
      "  enable_differential_privacy: 0\n",
      "  differential_privacy_noise_level: 0\n",
      "  differential_privacy_clipping_threshold: 0\n",
      "}\n",
      "normalizer_spec {\n",
      "  name: nmt_nfkc\n",
      "  add_dummy_prefix: 1\n",
      "  remove_extra_whitespaces: 1\n",
      "  escape_whitespaces: 1\n",
      "  normalization_rule_tsv: \n",
      "}\n",
      "denormalizer_spec {}\n",
      "trainer_interface.cc(353) LOG(INFO) SentenceIterator is not specified. Using MultiFileSentenceIterator.\n",
      "trainer_interface.cc(185) LOG(INFO) Loading corpus: input_texts.txt\n",
      "trainer_interface.cc(409) LOG(INFO) Loaded all 2000 sentences\n",
      "trainer_interface.cc(425) LOG(INFO) Adding meta_piece: <unk>\n",
      "trainer_interface.cc(425) LOG(INFO) Adding meta_piece: <s>\n",
      "trainer_interface.cc(425) LOG(INFO) Adding meta_piece: </s>\n",
      "trainer_interface.cc(425) LOG(INFO) Adding meta_piece: <pad>\n",
      "trainer_interface.cc(430) LOG(INFO) Normalizing sentences...\n",
      "trainer_interface.cc(539) LOG(INFO) all chars count=219191\n",
      "trainer_interface.cc(550) LOG(INFO) Done: 99.9526% characters are covered.\n",
      "trainer_interface.cc(560) LOG(INFO) Alphabet size=107\n",
      "trainer_interface.cc(561) LOG(INFO) Final character coverage=0.999526\n",
      "trainer_interface.cc(592) LOG(INFO) Done! preprocessed 2000 sentences.\n",
      "trainer_interface.cc(598) LOG(INFO) Tokenizing input sentences with whitespace: 2000\n",
      "trainer_interface.cc(609) LOG(INFO) Done! 12217\n",
      "bpe_model_trainer.cc(159) LOG(INFO) Updating active symbols. max_freq=2839 min_freq=7\n",
      "bpe_model_trainer.cc(268) LOG(INFO) Added: freq=1156 size=20 all=2739 active=1812 piece=on\n",
      "bpe_model_trainer.cc(268) LOG(INFO) Added: freq=623 size=40 all=3662 active=2735 piece=ör\n",
      "bpe_model_trainer.cc(268) LOG(INFO) Added: freq=497 size=60 all=4456 active=3529 piece=▁n\n",
      "bpe_model_trainer.cc(268) LOG(INFO) Added: freq=355 size=80 all=5315 active=4388 piece=▁för\n",
      "bpe_model_trainer.cc(268) LOG(INFO) Added: freq=282 size=100 all=5945 active=5018 piece=▁r\n",
      "bpe_model_trainer.cc(159) LOG(INFO) Updating active symbols. max_freq=282 min_freq=26\n",
      "bpe_model_trainer.cc(268) LOG(INFO) Added: freq=224 size=120 all=6537 active=1569 piece=▁B\n",
      "bpe_model_trainer.cc(268) LOG(INFO) Added: freq=189 size=140 all=7087 active=2119 piece=▁det\n",
      "bpe_model_trainer.cc(268) LOG(INFO) Added: freq=163 size=160 all=7710 active=2742 piece=ud\n",
      "bpe_model_trainer.cc(268) LOG(INFO) Added: freq=141 size=180 all=8463 active=3495 piece=▁den\n",
      "bpe_model_trainer.cc(268) LOG(INFO) Added: freq=127 size=200 all=9000 active=4032 piece=▁V\n",
      "bpe_model_trainer.cc(159) LOG(INFO) Updating active symbols. max_freq=127 min_freq=21\n",
      "bpe_model_trainer.cc(268) LOG(INFO) Added: freq=104 size=220 all=9386 active=1354 piece=\":\n",
      "bpe_model_trainer.cc(268) LOG(INFO) Added: freq=89 size=240 all=9822 active=1790 piece=ve\n",
      "bpe_model_trainer.cc(268) LOG(INFO) Added: freq=79 size=260 all=10137 active=2105 piece=eb\n",
      "bpe_model_trainer.cc(268) LOG(INFO) Added: freq=72 size=280 all=10524 active=2492 piece=▁res\n",
      "bpe_model_trainer.cc(268) LOG(INFO) Added: freq=66 size=300 all=10918 active=2886 piece=▁are\n",
      "bpe_model_trainer.cc(159) LOG(INFO) Updating active symbols. max_freq=65 min_freq=19\n",
      "bpe_model_trainer.cc(268) LOG(INFO) Added: freq=62 size=320 all=11253 active=1334 piece=:3\n",
      "bpe_model_trainer.cc(268) LOG(INFO) Added: freq=58 size=340 all=11476 active=1557 piece=▁Jesus\n",
      "bpe_model_trainer.cc(268) LOG(INFO) Added: freq=54 size=360 all=11790 active=1871 piece=▁9\n",
      "bpe_model_trainer.cc(268) LOG(INFO) Added: freq=51 size=380 all=12023 active=2104 piece=cl\n",
      "bpe_model_trainer.cc(268) LOG(INFO) Added: freq=49 size=400 all=12311 active=2392 piece=▁any\n",
      "bpe_model_trainer.cc(159) LOG(INFO) Updating active symbols. max_freq=48 min_freq=16\n",
      "bpe_model_trainer.cc(268) LOG(INFO) Added: freq=46 size=420 all=12559 active=1247 piece=ile\n",
      "bpe_model_trainer.cc(268) LOG(INFO) Added: freq=44 size=440 all=12814 active=1502 piece=ions\n",
      "bpe_model_trainer.cc(268) LOG(INFO) Added: freq=41 size=460 all=13018 active=1706 piece=ake\n",
      "bpe_model_trainer.cc(268) LOG(INFO) Added: freq=40 size=480 all=13207 active=1895 piece=▁produ\n",
      "bpe_model_trainer.cc(268) LOG(INFO) Added: freq=37 size=500 all=13303 active=1991 piece=▁7\n",
      "bpe_model_trainer.cc(159) LOG(INFO) Updating active symbols. max_freq=37 min_freq=15\n",
      "bpe_model_trainer.cc(268) LOG(INFO) Added: freq=36 size=520 all=13557 active=1246 piece=▁Th\n",
      "bpe_model_trainer.cc(268) LOG(INFO) Added: freq=35 size=540 all=13694 active=1383 piece=▁will\n",
      "bpe_model_trainer.cc(268) LOG(INFO) Added: freq=33 size=560 all=13853 active=1542 piece=7)\n",
      "bpe_model_trainer.cc(268) LOG(INFO) Added: freq=32 size=580 all=14053 active=1742 piece=▁fil\n",
      "bpe_model_trainer.cc(268) LOG(INFO) Added: freq=31 size=600 all=14184 active=1873 piece=ater\n",
      "bpe_model_trainer.cc(159) LOG(INFO) Updating active symbols. max_freq=31 min_freq=13\n",
      "bpe_model_trainer.cc(268) LOG(INFO) Added: freq=30 size=620 all=14346 active=1146 piece=arn\n",
      "bpe_model_trainer.cc(268) LOG(INFO) Added: freq=30 size=640 all=14518 active=1318 piece=▁efter\n",
      "bpe_model_trainer.cc(268) LOG(INFO) Added: freq=29 size=660 all=14733 active=1533 piece=ations\n",
      "bpe_model_trainer.cc(268) LOG(INFO) Added: freq=28 size=680 all=14913 active=1713 piece=▁gör\n",
      "bpe_model_trainer.cc(268) LOG(INFO) Added: freq=27 size=700 all=15026 active=1826 piece=▁every\n",
      "bpe_model_trainer.cc(159) LOG(INFO) Updating active symbols. max_freq=26 min_freq=12\n",
      "bpe_model_trainer.cc(268) LOG(INFO) Added: freq=26 size=720 all=15194 active=1166 piece=▁Con\n",
      "bpe_model_trainer.cc(268) LOG(INFO) Added: freq=25 size=740 all=15339 active=1311 piece=ser\n",
      "bpe_model_trainer.cc(268) LOG(INFO) Added: freq=25 size=760 all=15445 active=1417 piece=formation\n",
      "bpe_model_trainer.cc(268) LOG(INFO) Added: freq=24 size=780 all=15589 active=1561 piece=cript\n",
      "bpe_model_trainer.cc(268) LOG(INFO) Added: freq=23 size=800 all=15676 active=1648 piece=▁ro\n",
      "bpe_model_trainer.cc(159) LOG(INFO) Updating active symbols. max_freq=23 min_freq=11\n",
      "bpe_model_trainer.cc(268) LOG(INFO) Added: freq=22 size=820 all=15783 active=1097 piece=we\n",
      "bpe_model_trainer.cc(268) LOG(INFO) Added: freq=22 size=840 all=15905 active=1219 piece=▁Dav\n",
      "bpe_model_trainer.cc(268) LOG(INFO) Added: freq=21 size=860 all=16068 active=1382 piece=red\n",
      "bpe_model_trainer.cc(268) LOG(INFO) Added: freq=21 size=880 all=16166 active=1480 piece=heter\n",
      "bpe_model_trainer.cc(268) LOG(INFO) Added: freq=20 size=900 all=16237 active=1551 piece=ket\n",
      "bpe_model_trainer.cc(159) LOG(INFO) Updating active symbols. max_freq=20 min_freq=10\n",
      "bpe_model_trainer.cc(268) LOG(INFO) Added: freq=20 size=920 all=16346 active=1103 piece=▁str\n",
      "bpe_model_trainer.cc(268) LOG(INFO) Added: freq=19 size=940 all=16424 active=1181 piece=bb\n",
      "bpe_model_trainer.cc(268) LOG(INFO) Added: freq=19 size=960 all=16663 active=1420 piece=▁vä\n",
      "bpe_model_trainer.cc(268) LOG(INFO) Added: freq=19 size=980 all=16733 active=1490 piece=▁bästa\n",
      "bpe_model_trainer.cc(268) LOG(INFO) Added: freq=18 size=1000 all=16925 active=1682 piece=▁Ar\n",
      "bpe_model_trainer.cc(159) LOG(INFO) Updating active symbols. max_freq=18 min_freq=9\n",
      "bpe_model_trainer.cc(268) LOG(INFO) Added: freq=18 size=1020 all=17015 active=1083 piece=▁(1.8\n",
      "bpe_model_trainer.cc(268) LOG(INFO) Added: freq=17 size=1040 all=17085 active=1153 piece=act\n",
      "bpe_model_trainer.cc(268) LOG(INFO) Added: freq=17 size=1060 all=17228 active=1296 piece=▁Ab\n",
      "bpe_model_trainer.cc(268) LOG(INFO) Added: freq=17 size=1080 all=17315 active=1383 piece=Matte\n",
      "bpe_model_trainer.cc(268) LOG(INFO) Added: freq=17 size=1100 all=17337 active=1405 piece=▁person\n",
      "bpe_model_trainer.cc(159) LOG(INFO) Updating active symbols. max_freq=17 min_freq=9\n",
      "bpe_model_trainer.cc(268) LOG(INFO) Added: freq=16 size=1120 all=17456 active=1116 piece=▁ge\n",
      "bpe_model_trainer.cc(268) LOG(INFO) Added: freq=16 size=1140 all=17552 active=1212 piece=▁mat\n",
      "bpe_model_trainer.cc(268) LOG(INFO) Added: freq=16 size=1160 all=17614 active=1274 piece=▁hand\n",
      "bpe_model_trainer.cc(268) LOG(INFO) Added: freq=15 size=1180 all=17694 active=1354 piece=åt\n",
      "bpe_model_trainer.cc(268) LOG(INFO) Added: freq=15 size=1200 all=17824 active=1484 piece=iety\n",
      "bpe_model_trainer.cc(159) LOG(INFO) Updating active symbols. max_freq=15 min_freq=8\n",
      "bpe_model_trainer.cc(268) LOG(INFO) Added: freq=15 size=1220 all=17894 active=1068 piece=▁fant\n",
      "bpe_model_trainer.cc(268) LOG(INFO) Added: freq=15 size=1240 all=17914 active=1088 piece=▁mellan\n",
      "bpe_model_trainer.cc(268) LOG(INFO) Added: freq=14 size=1260 all=18053 active=1227 piece=ute\n",
      "bpe_model_trainer.cc(268) LOG(INFO) Added: freq=14 size=1280 all=18136 active=1310 piece=▁Som\n",
      "bpe_model_trainer.cc(268) LOG(INFO) Added: freq=14 size=1300 all=18217 active=1391 piece=▁well\n",
      "bpe_model_trainer.cc(159) LOG(INFO) Updating active symbols. max_freq=14 min_freq=8\n",
      "bpe_model_trainer.cc(268) LOG(INFO) Added: freq=14 size=1320 all=18214 active=998 piece=▁konverter\n",
      "bpe_model_trainer.cc(268) LOG(INFO) Added: freq=13 size=1340 all=18338 active=1122 piece=jur\n",
      "bpe_model_trainer.cc(268) LOG(INFO) Added: freq=13 size=1360 all=18450 active=1234 piece=▁kö\n",
      "bpe_model_trainer.cc(268) LOG(INFO) Added: freq=13 size=1380 all=18546 active=1330 piece=▁fol\n",
      "bpe_model_trainer.cc(268) LOG(INFO) Added: freq=13 size=1400 all=18603 active"
     ]
    }
   ],
   "source": [
    "spm.SentencePieceTrainer.train('--input=input_texts.txt --model_prefix=m --vocab_size=4000 --model_type=bpe --pad_id=3')\n",
    "\n",
    "# makes segmenter instance and loads the model file (m.model)\n",
    "sp = spm.SentencePieceProcessor()\n",
    "sp.load('m.model')\n",
    "\n",
    "sp.SetEncodeExtraOptions(\"bos:eos\")\n",
    "sp.SetDecodeExtraOptions(\"bos:eos\")\n",
    "\n",
    "# encode: text => id\n",
    "print(sp.encode_as_pieces('This is a test'))\n",
    "print(sp.encode_as_ids('This is a test'))\n",
    "\n",
    "# decode: id => text\n",
    "print(sp.decode_pieces(['▁This', '▁is', '▁a', '▁t', 'est']))\n",
    "print(sp.decode_ids([1, 665, 64, 5, 4, 134, 2]))"
   ]
  },
  {
   "cell_type": "code",
   "execution_count": 202,
   "metadata": {},
   "outputs": [
    {
     "name": "stderr",
     "output_type": "stream",
     "text": [
      "=1387 piece=▁jord\n",
      "bpe_model_trainer.cc(159) LOG(INFO) Updating active symbols. max_freq=13 min_freq=7\n",
      "bpe_model_trainer.cc(268) LOG(INFO) Added: freq=13 size=1420 all=18619 active=1013 piece=Lukasev\n",
      "bpe_model_trainer.cc(268) LOG(INFO) Added: freq=12 size=1440 all=18665 active=1059 piece=:17\n",
      "bpe_model_trainer.cc(268) LOG(INFO) Added: freq=12 size=1460 all=18781 active=1175 piece=▁50\n",
      "bpe_model_trainer.cc(268) LOG(INFO) Added: freq=12 size=1480 all=18844 active=1238 piece=▁död\n",
      "bpe_model_trainer.cc(268) LOG(INFO) Added: freq=12 size=1500 all=18901 active=1295 piece=▁(142\n",
      "bpe_model_trainer.cc(159) LOG(INFO) Updating active symbols. max_freq=12 min_freq=7\n",
      "bpe_model_trainer.cc(268) LOG(INFO) Added: freq=12 size=1520 all=18907 active=1007 piece=▁många\n",
      "bpe_model_trainer.cc(268) LOG(INFO) Added: freq=11 size=1540 all=18909 active=1009 piece=IT\n",
      "bpe_model_trainer.cc(268) LOG(INFO) Added: freq=11 size=1560 all=19013 active=1113 piece=ret\n",
      "bpe_model_trainer.cc(268) LOG(INFO) Added: freq=11 size=1580 all=19098 active=1198 piece=line\n",
      "bpe_model_trainer.cc(268) LOG(INFO) Added: freq=11 size=1600 all=19142 active=1242 piece=▁pop\n",
      "bpe_model_trainer.cc(159) LOG(INFO) Updating active symbols. max_freq=11 min_freq=7\n",
      "bpe_model_trainer.cc(268) LOG(INFO) Added: freq=11 size=1620 all=19199 active=1057 piece=▁prof\n",
      "bpe_model_trainer.cc(268) LOG(INFO) Added: freq=11 size=1640 all=19210 active=1068 piece=▁bättre\n",
      "bpe_model_trainer.cc(268) LOG(INFO) Added: freq=10 size=1660 all=19246 active=1104 piece=ej\n",
      "bpe_model_trainer.cc(268) LOG(INFO) Added: freq=10 size=1680 all=19349 active=1207 piece=ris\n",
      "bpe_model_trainer.cc(268) LOG(INFO) Added: freq=10 size=1700 all=19423 active=1281 piece=ella\n",
      "bpe_model_trainer.cc(159) LOG(INFO) Updating active symbols. max_freq=10 min_freq=6\n",
      "bpe_model_trainer.cc(268) LOG(INFO) Added: freq=10 size=1720 all=19481 active=1054 piece=▁cho\n",
      "bpe_model_trainer.cc(268) LOG(INFO) Added: freq=10 size=1740 all=19529 active=1102 piece=▁(1.1\n",
      "bpe_model_trainer.cc(268) LOG(INFO) Added: freq=10 size=1760 all=19531 active=1104 piece=▁arbet\n",
      "bpe_model_trainer.cc(268) LOG(INFO) Added: freq=10 size=1780 all=19558 active=1131 piece=▁interest\n",
      "bpe_model_trainer.cc(268) LOG(INFO) Added: freq=9 size=1800 all=19654 active=1227 piece=alt\n",
      "bpe_model_trainer.cc(159) LOG(INFO) Updating active symbols. max_freq=9 min_freq=6\n",
      "bpe_model_trainer.cc(268) LOG(INFO) Added: freq=9 size=1820 all=19739 active=1076 piece=äst\n",
      "bpe_model_trainer.cc(268) LOG(INFO) Added: freq=9 size=1840 all=19818 active=1155 piece=ever\n",
      "bpe_model_trainer.cc(268) LOG(INFO) Added: freq=9 size=1860 all=19881 active=1218 piece=▁His\n",
      "bpe_model_trainer.cc(268) LOG(INFO) Added: freq=9 size=1880 all=19921 active=1258 piece=▁sky\n",
      "bpe_model_trainer.cc(268) LOG(INFO) Added: freq=9 size=1900 all=20000 active=1337 piece=▁Dest\n",
      "bpe_model_trainer.cc(159) LOG(INFO) Updating active symbols. max_freq=9 min_freq=6\n",
      "bpe_model_trainer.cc(268) LOG(INFO) Added: freq=9 size=1920 all=20013 active=1012 piece=▁sitt\n",
      "bpe_model_trainer.cc(268) LOG(INFO) Added: freq=9 size=1940 all=20029 active=1028 piece=▁total\n",
      "bpe_model_trainer.cc(268) LOG(INFO) Added: freq=9 size=1960 all=20023 active=1022 piece=▁reviderad\n",
      "bpe_model_trainer.cc(268) LOG(INFO) Added: freq=8 size=1980 all=20102 active=1101 piece=▁^\n",
      "bpe_model_trainer.cc(268) LOG(INFO) Added: freq=8 size=2000 all=20152 active=1151 piece=not\n",
      "bpe_model_trainer.cc(159) LOG(INFO) Updating active symbols. max_freq=8 min_freq=6\n",
      "bpe_model_trainer.cc(268) LOG(INFO) Added: freq=8 size=2020 all=20233 active=1088 piece=▁ye\n",
      "bpe_model_trainer.cc(268) LOG(INFO) Added: freq=8 size=2040 all=20305 active=1160 piece=ites\n",
      "bpe_model_trainer.cc(268) LOG(INFO) Added: freq=8 size=2060 all=20353 active=1208 piece=▁fut\n",
      "bpe_model_trainer.cc(268) LOG(INFO) Added: freq=8 size=2080 all=20389 active=1244 piece=aktiv\n",
      "bpe_model_trainer.cc(268) LOG(INFO) Added: freq=8 size=2100 all=20424 active=1279 piece=▁2011\n",
      "bpe_model_trainer.cc(159) LOG(INFO) Updating active symbols. max_freq=8 min_freq=5\n",
      "bpe_model_trainer.cc(268) LOG(INFO) Added: freq=8 size=2120 all=20436 active=1033 piece=▁poss\n",
      "bpe_model_trainer.cc(268) LOG(INFO) Added: freq=8 size=2140 all=20466 active=1063 piece=▁Krist\n",
      "bpe_model_trainer.cc(268) LOG(INFO) Added: freq=8 size=2160 all=20477 active=1074 piece=▁Yahweh\n",
      "bpe_model_trainer.cc(268) LOG(INFO) Added: freq=8 size=2180 all=20480 active=1077 piece=▁Kommission\n",
      "bpe_model_trainer.cc(268) LOG(INFO) Added: freq=7 size=2200 all=20540 active=1137 piece=Jes\n",
      "bpe_model_trainer.cc(159) LOG(INFO) Updating active symbols. max_freq=7 min_freq=5\n",
      "bpe_model_trainer.cc(268) LOG(INFO) Added: freq=7 size=2220 all=20637 active=1122 piece=put\n",
      "bpe_model_trainer.cc(268) LOG(INFO) Added: freq=7 size=2240 all=20699 active=1184 piece=▁hö\n",
      "bpe_model_trainer.cc(268) LOG(INFO) Added: freq=7 size=2260 all=20743 active=1228 piece=ctor\n",
      "bpe_model_trainer.cc(268) LOG(INFO) Added: freq=7 size=2280 all=20816 active=1301 piece=utom\n",
      "bpe_model_trainer.cc(268) LOG(INFO) Added: freq=7 size=2300 all=20854 active=1339 piece=▁abs\n",
      "bpe_model_trainer.cc(159) LOG(INFO) Updating active symbols. max_freq=7 min_freq=5\n",
      "bpe_model_trainer.cc(268) LOG(INFO) Added: freq=7 size=2320 all=20888 active=1075 piece=▁mag\n",
      "bpe_model_trainer.cc(268) LOG(INFO) Added: freq=7 size=2340 all=20942 active=1129 piece=ished\n",
      "bpe_model_trainer.cc(268) LOG(INFO) Added: freq=7 size=2360 all=20966 active=1153 piece=▁blir\n",
      "bpe_model_trainer.cc(268) LOG(INFO) Added: freq=7 size=2380 all=20979 active=1166 piece=▁tell\n",
      "bpe_model_trainer.cc(268) LOG(INFO) Added: freq=7 size=2400 all=21009 active=1196 piece=▁fader\n",
      "bpe_model_trainer.cc(159) LOG(INFO) Updating active symbols. max_freq=7 min_freq=5\n",
      "bpe_model_trainer.cc(268) LOG(INFO) Added: freq=7 size=2420 all=21025 active=1067 piece=▁backup\n",
      "bpe_model_trainer.cc(268) LOG(INFO) Added: freq=7 size=2440 all=21023 active=1065 piece=▁minuter\n",
      "bpe_model_trainer.cc(268) LOG(INFO) Added: freq=6 size=2460 all=21034 active=1076 piece=?)\n",
      "bpe_model_trainer.cc(268) LOG(INFO) Added: freq=6 size=2480 all=21117 active=1159 piece=äv\n",
      "bpe_model_trainer.cc(268) LOG(INFO) Added: freq=6 size=2500 all=21158 active=1200 piece=agn\n",
      "bpe_model_trainer.cc(159) LOG(INFO) Updating active symbols. max_freq=6 min_freq=4\n",
      "bpe_model_trainer.cc(268) LOG(INFO) Added: freq=6 size=2520 all=21225 active=1121 piece=och\n",
      "bpe_model_trainer.cc(268) LOG(INFO) Added: freq=6 size=2540 all=21274 active=1170 piece=▁Om\n",
      "bpe_model_trainer.cc(268) LOG(INFO) Added: freq=6 size=2560 all=21306 active=1202 piece=Lidz\n",
      "bpe_model_trainer.cc(268) LOG(INFO) Added: freq=6 size=2580 all=21354 active=1250 piece=just\n",
      "bpe_model_trainer.cc(268) LOG(INFO) Added: freq=6 size=2600 all=21398 active=1294 piece=▁..\"\n",
      "bpe_model_trainer.cc(159) LOG(INFO) Updating active symbols. max_freq=6 min_freq=4\n",
      "bpe_model_trainer.cc(268) LOG(INFO) Added: freq=6 size=2620 all=21413 active=1085 piece=▁bea\n",
      "bpe_model_trainer.cc(268) LOG(INFO) Added: freq=6 size=2640 all=21453 active=1125 piece=▁pot\n",
      "bpe_model_trainer.cc(268) LOG(INFO) Added: freq=6 size=2660 all=21481 active=1153 piece=assad\n",
      "bpe_model_trainer.cc(268) LOG(INFO) Added: freq=6 size=2680 all=21519 active=1191 piece=▁(129\n",
      "bpe_model_trainer.cc(268) LOG(INFO) Added: freq=6 size=2700 all=21516 active=1188 piece=▁Lind\n",
      "bpe_model_trainer.cc(159) LOG(INFO) Updating active symbols. max_freq=6 min_freq=4\n",
      "bpe_model_trainer.cc(268) LOG(INFO) Added: freq=6 size=2720 all=21525 active=1081 piece=▁hitt\n",
      "bpe_model_trainer.cc(268) LOG(INFO) Added: freq=6 size=2740 all=21540 active=1096 piece=▁resp\n",
      "bpe_model_trainer.cc(268) LOG(INFO) Added: freq=6 size=2760 all=21553 active=1109 piece=Mastan\n",
      "bpe_model_trainer.cc(268) LOG(INFO) Added: freq=6 size=2780 all=21563 active=1119 piece=▁blasp\n",
      "bpe_model_trainer.cc(268) LOG(INFO) Added: freq=6 size=2800 all=21568 active=1124 piece=▁peace\n",
      "bpe_model_trainer.cc(159) LOG(INFO) Updating active symbols. max_freq=6 min_freq=4\n",
      "bpe_model_trainer.cc(268) LOG(INFO) Added: freq=6 size=2820 all=21574 active=1085 piece=ationer\n",
      "bpe_model_trainer.cc(268) LOG(INFO) Added: freq=6 size=2840 all=21579 active=1090 piece=▁called\n",
      "bpe_model_trainer.cc(268) LOG(INFO) Added: freq=6 size=2860 all=21584 active=1095 piece=ligheten\n",
      "bpe_model_trainer.cc(268) LOG(INFO) Added: freq=6 size=2880 all=21584 active=1095 piece=▁American\n",
      "bpe_model_trainer.cc(268) LOG(INFO) Added: freq=6 size=2900 all=21572 active=1083 piece=▁färgglada\n",
      "bpe_model_trainer.cc(159) LOG(INFO) Updating active symbols. max_freq=6 min_freq=4\n",
      "bpe_model_trainer.cc(268) LOG(INFO) Added: freq=5 size=2920 all=21591 active=1098 piece=OU\n",
      "bpe_model_trainer.cc(268) LOG(INFO) Added: freq=5 size=2940 all=21656 active=1163 piece=Men\n",
      "bpe_model_trainer.cc(268) LOG(INFO) Added: freq=5 size=2960 all=21713 active=1220 piece=esk\n",
      "bpe_model_trainer.cc(268) LOG(INFO) Added: freq=5 size=2980 all=21798 active=1305 piece=mån\n",
      "bpe_model_trainer.cc(268) LOG(INFO) Added: freq=5 size=3000 all=21866 active=1373 piece=▁25\n",
      "bpe_model_trainer.cc(159) LOG(INFO) Updating active symbols. max_freq=5 min_freq=4\n",
      "bpe_model_trainer.cc(268) LOG(INFO) Added: freq=5 size=3020 all=21873 active=1099 piece=▁ju\n",
      "bpe_model_trainer.cc(268) LOG(INFO) Added: freq=5 size=3040 all=21914 active=1140 piece=enom\n",
      "bpe_model_trainer.cc(268) LOG(INFO) Added: freq=5 size=3060 all=21972 active=1198 piece=sign\n",
      "bpe_model_trainer.cc(268) LOG(INFO) Added: freq=5 size=3080 all=22008 active=1234 piece=▁Gör\n",
      "bpe_model_trainer.cc(268) LOG(INFO) Added: freq=5 size=3100 all=22033 active=1259 piece=▁bus\n",
      "bpe_model_trainer.cc(159) LOG(INFO) Updating active symbols. max_freq=5 min_freq=4\n",
      "bpe_model_trainer.cc(268) LOG(INFO) Added: freq=5 size=3120 all=22057 active=1125 piece=▁law\n",
      "bpe_model_trainer.cc(268) LOG(INFO) Added: freq=5 size=3140 all=22069 active=1137 piece=centr\n",
      "bpe_model_trainer.cc(268) LOG(INFO) Added: freq=5 size=3160 all=22112 active=1180 piece=words\n",
      "bpe_model_trainer.cc(268) LOG(INFO) Added: freq=5 size=3180 all=22121 active=1189 piece=▁bröd\n",
      "bpe_model_trainer.cc(268) LOG(INFO) Added: freq=5 size=3200 all=22124 active=1192 piece=▁käns\n",
      "bpe_model_trainer.cc(159) LOG(INFO) Updating active symbols. max_freq=5 min_freq=4\n",
      "bpe_model_trainer.cc(268) LOG(INFO) Added: freq=5 size=3220 all=22127 active=1108 piece=▁stöd\n",
      "bpe_model_trainer.cc(268) LOG(INFO) Added: freq=5 size=3240 all=22146 active=1127 piece=ostnad\n",
      "bpe_model_trainer.cc(268) LOG(INFO) Added: freq=5 size=3260 all=22152 active=1133 piece=▁dator\n",
      "bpe_model_trainer.cc(268) LOG(INFO) Added: freq=5 size=3280 all=22155 active=1136 piece=▁spela\n",
      "bpe_model_trainer.cc(268) LOG(INFO) Added: freq=5 size=3300 all=22163 active=1144 piece=▁active\n",
      "bpe_model_trainer.cc(159) LOG(INFO) Updating active symbols. max_freq=5 min_freq=4\n",
      "bpe_model_trainer.cc(268) LOG(INFO) Added: freq=5 size=3320 all=22166 active=1112 piece=▁includ\n",
      "bpe_model_trainer.cc(268) LOG(INFO) Added: freq=5 size=3340 all=22162 active=1108 piece=▁within\n",
      "bpe_model_trainer.cc(268) LOG(INFO) Added: freq=5 size=3360 all=22159 active=1105 piece=▁picture\n",
      "bpe_model_trainer.cc(268) LOG(INFO) Added: freq=5 size=3380 all=22148 active=1094 piece=▁rättvisa\n",
      "bpe_model_trainer.cc(268) LOG(INFO) Added: freq=5 size=3400 all=22144 active=1090 piece=▁adjustable\n",
      "bpe_model_trainer.cc(159) LOG(INFO) Updating active symbols. max_freq=5 min_freq=3\n",
      "bpe_model_trainer.cc(268) LOG(INFO) Added: freq=4 size=3420 all=22146 active=1110 piece=4\"\n",
      "bpe_model_trainer.cc(268) LOG(INFO) Added: freq=4 size=3440 all=22164 active=1128 piece=FO\n",
      "bpe_model_trainer.cc(268) LOG(INFO) Added: freq=4 size=3460 all=22193 active=1157 piece=bl\n",
      "bpe_model_trainer.cc(268) LOG(INFO) Added: freq=4 size=3480 all=22237 active=1201 piece=▁>\n",
      "bpe_model_trainer.cc(268) LOG(INFO) Added: freq=4 size=3500 all=22254 active=1218 piece=Bir\n",
      "bpe_model_trainer.cc(159) LOG(INFO) Updating active symbols. max_freq=4 min_freq=3\n",
      "bpe_model_trainer.cc(268) LOG(INFO) Added: freq=4 size=3520 all=22262 active=1120 piece=TSC\n",
      "bpe_model_trainer.cc(268) LOG(INFO) Added: freq=4 size=3540 all=22299 active=1157 piece=ebr\n",
      "bpe_model_trainer.cc(268) LOG(INFO) Added: freq=4 size=3560 all=22359 active=1217 piece=lan\n",
      "bpe_model_trainer.cc(268) LOG(INFO) Added: freq=4 size=3580 all=22407 active=1265 piece=vet\n",
      "bpe_model_trainer.cc(268) LOG(INFO) Added: freq=4 size=3600 all=22433 active=1291 piece=▁91\n",
      "bpe_model_trainer.cc(159) LOG(INFO) Updating active symbols. max_freq=4 min_freq=3\n",
      "bpe_model_trainer.cc(268) LOG(INFO) Added: freq=4 size=3620 all=22448 active=1137 piece=▁mp\n",
      "bpe_model_trainer.cc(268) LOG(INFO) Added: freq=4 size=3640 all=22456 active=1145 piece=Read\n",
      "bpe_model_trainer.cc(268) LOG(INFO) Added: freq=4 size=3660 all=22485 active=1174 piece=edom\n",
      "bpe_model_trainer.cc(268) LOG(INFO) Added: freq=4 size=3680 all=22511 active=1200 piece=itle\n",
      "bpe_model_trainer.cc(268) LOG(INFO) Added: freq=4 size=3700 all=22555 active=1244 piece=oser\n",
      "bpe_model_trainer.cc(159) LOG(INFO) Updating active symbols. max_freq=4 min_freq=3\n",
      "bpe_model_trainer.cc(268) LOG(INFO) Added: freq=4 size=3720 all=22611 active=1181 piece=xter\n",
      "bpe_model_trainer.cc(268) LOG(INFO) Added: freq=4 size=3740 all=22609 active=1179 piece=▁Bab\n",
      "bpe_model_trainer.cc(268) LOG(INFO) Added: freq=4 size=3760 all=22615 active=1185 piece=▁MSD\n",
      "bpe_model_trainer.cc(268) LOG(INFO) Added: freq=4 size=3780 all=22628 active=1198 piece=▁WAV\n",
      "bpe_model_trainer.cc(268) LOG(INFO) Added: freq=4 size=3800 all=22639 active=1209 piece=▁eat\n",
      "bpe_model_trainer.cc(159) LOG(INFO) Updating active symbols. max_freq=4 min_freq=3\n",
      "bpe_model_trainer.cc(268) LOG(INFO) Added: freq=4 size=3820 all=22652 active=1145 piece=▁mob\n",
      "bpe_model_trainer.cc(268) LOG(INFO) Added: freq=4 size=3840 all=22668 active=1161 piece=▁why\n",
      "bpe_model_trainer.cc(268) LOG(INFO) Added: freq=4 size=3860 all=22686 active=1179 piece=blems\n",
      "bpe_model_trainer.cc(268) LOG(INFO) Added: freq=4 size=3880 all=22719 active=1212 piece=orter\n",
      "trainer_interface.cc(687) LOG(INFO) Saving model: m.model\n",
      "trainer_interface.cc(699) LOG(INFO) Saving vocabs: m.vocab\n"
     ]
    }
   ],
   "source": [
    "def text2codes(texts, sp):\n",
    "    codes = []\n",
    "    for text in texts:\n",
    "        text_l = text[0]\n",
    "        code = sp.encode_as_ids(text_l)\n",
    "        n_code = torch.tensor(code)\n",
    "        codes.append(n_code)\n",
    "\n",
    "    return codes\n",
    "\n"
   ]
  },
  {
   "cell_type": "code",
   "execution_count": 203,
   "metadata": {},
   "outputs": [
    {
     "data": {
      "text/plain": [
       "([[\"!!TheM!Z!! hasn't added any friends yet!\"],\n",
       "  ['\" Memory / Summerday\" gouache/wood/butterfly 48x75 / 48x92cm 2006'],\n",
       "  ['\" child safety in Egypt \"\" harmfulness of the sun in Egypt on baby skin \"\" what medications the child in Egypt \"\" where on holiday with his family to Egypt \"\" pediatrician \"\" in which the child free hotels \"']],\n",
       " [['!!TheM!Z!! har inte lagt till några vänner ännu!'],\n",
       "  ['\"Hågkomst / Sommardag\" gouache/trä 48x75 /48x92cm2006'],\n",
       "  ['\" barnsäkerhet i Egypten \"\" skadlighet solen i Egypten på baby hud \"\" vilka mediciner barnet i Egypten \"\" där på semester med sin familj till Egypten \"\" barnläkare \"\" där barnet hotellsökningen \"']])"
      ]
     },
     "execution_count": 203,
     "metadata": {},
     "output_type": "execute_result"
    }
   ],
   "source": [
    "train_input_texts[:3], train_target_texts[:3]"
   ]
  },
  {
   "cell_type": "code",
   "execution_count": 204,
   "metadata": {},
   "outputs": [
    {
     "data": {
      "text/plain": [
       "[tensor([   1,  311, 3644, 3937, 3980,  592,  611, 3958, 3896, 3256,  403, 1955,\n",
       "          526, 3937,    2]),\n",
       " tensor([   1,    8,   69,  173,  651,  439,   58,  174,  521, 2510, 3907,   52,\n",
       "           48,  447,   13, 3964, 2599, 3964, 3915, 3908, 1279, 2964,  390, 3960,\n",
       "         3954, 2461,  439,  390, 3960, 3954, 1787,  987,  321, 3953,    2]),\n",
       " tensor([   1,    8,  353,  398, 3828,   19, 3916,   37,  158,   75,  175, 3905,\n",
       "          520,  808,   44,   29, 2646,   37,  158,  153,   21, 2948, 3220,   75,\n",
       "          482, 1938,  663,   29,  353,  398,   37,  158,   75, 1312,  153, 2875,\n",
       "          202,  410, 3317,   61,  158,   75,   31,   35, 2968, 1347,  578,   75,\n",
       "           37,  382,   29,  353,  398,   14,  770, 1948,    8,    2])]"
      ]
     },
     "execution_count": 204,
     "metadata": {},
     "output_type": "execute_result"
    }
   ],
   "source": [
    "text2codes(train_input_texts[:3], sp)[:3]"
   ]
  },
  {
   "cell_type": "code",
   "execution_count": 205,
   "metadata": {},
   "outputs": [],
   "source": [
    "def codes2text(codes):\n",
    "    texts = []\n",
    "    for code in codes:\n",
    "        code_l = list(code)\n",
    "        for p in code_l:\n",
    "            texts.append(sp.id_to_piece(p.item()))\n",
    "    return texts"
   ]
  },
  {
   "cell_type": "code",
   "execution_count": 206,
   "metadata": {},
   "outputs": [
    {
     "data": {
      "text/plain": [
       "['<s>',\n",
       " '▁!!',\n",
       " 'TheM',\n",
       " '!',\n",
       " 'Z',\n",
       " '!!',\n",
       " '▁hasn',\n",
       " \"'\",\n",
       " 't',\n",
       " '▁added',\n",
       " '▁any',\n",
       " '▁friends',\n",
       " '▁yet',\n",
       " '!',\n",
       " '</s>',\n",
       " '<s>',\n",
       " '▁\"',\n",
       " '▁M',\n",
       " 'em',\n",
       " 'ory',\n",
       " '▁/',\n",
       " '▁S',\n",
       " 'um',\n",
       " 'mer',\n",
       " 'day',\n",
       " '\"',\n",
       " '▁g',\n",
       " 'ou',\n",
       " 'ac',\n",
       " 'he',\n",
       " '/',\n",
       " 'wood',\n",
       " '/',\n",
       " 'b',\n",
       " 'u',\n",
       " 'tter',\n",
       " 'fly',\n",
       " '▁4',\n",
       " '8',\n",
       " 'x',\n",
       " '75',\n",
       " '▁/',\n",
       " '▁4',\n",
       " '8',\n",
       " 'x',\n",
       " '92',\n",
       " 'cm',\n",
       " '▁200',\n",
       " '6',\n",
       " '</s>',\n",
       " '<s>',\n",
       " '▁\"',\n",
       " '▁ch',\n",
       " 'ild',\n",
       " '▁saf',\n",
       " 'et',\n",
       " 'y',\n",
       " '▁in',\n",
       " '▁Egypt',\n",
       " '▁\"\"',\n",
       " '▁har',\n",
       " 'm',\n",
       " 'ful',\n",
       " 'ness',\n",
       " '▁of',\n",
       " '▁the',\n",
       " '▁sun',\n",
       " '▁in',\n",
       " '▁Egypt',\n",
       " '▁on',\n",
       " '▁b',\n",
       " 'aby',\n",
       " '▁skin',\n",
       " '▁\"\"',\n",
       " '▁what',\n",
       " '▁medic',\n",
       " 'ations',\n",
       " '▁the',\n",
       " '▁ch',\n",
       " 'ild',\n",
       " '▁in',\n",
       " '▁Egypt',\n",
       " '▁\"\"',\n",
       " '▁where',\n",
       " '▁on',\n",
       " '▁holiday',\n",
       " '▁with',\n",
       " '▁his',\n",
       " '▁family',\n",
       " '▁to',\n",
       " '▁Egypt',\n",
       " '▁\"\"',\n",
       " '▁p',\n",
       " 'ed',\n",
       " 'iat',\n",
       " 'ric',\n",
       " 'ian',\n",
       " '▁\"\"',\n",
       " '▁in',\n",
       " '▁which',\n",
       " '▁the',\n",
       " '▁ch',\n",
       " 'ild',\n",
       " '▁f',\n",
       " 'ree',\n",
       " '▁hotels',\n",
       " '▁\"',\n",
       " '</s>']"
      ]
     },
     "execution_count": 206,
     "metadata": {},
     "output_type": "execute_result"
    }
   ],
   "source": [
    "codes2text(text2codes(train_input_texts[:3], sp)[:3])"
   ]
  },
  {
   "cell_type": "code",
   "execution_count": 207,
   "metadata": {},
   "outputs": [],
   "source": [
    "class PositionalEncoding(nn.Module):\n",
    "    def __init__(self,\n",
    "                 emb_size: int,\n",
    "                 dropout: float,\n",
    "                 maxlen: int = 5000):\n",
    "        super().__init__()\n",
    "        den = torch.exp(- torch.arange(0, emb_size, 2)\n",
    "                        * math.log(10000) / emb_size)\n",
    "        pos = torch.arange(0, maxlen).reshape(maxlen, 1)\n",
    "        pos_embedding = torch.zeros((maxlen, emb_size))\n",
    "        pos_embedding[:, 0::2] = torch.sin(pos * den)\n",
    "        pos_embedding[:, 1::2] = torch.cos(pos * den)\n",
    "        pos_embedding = pos_embedding.unsqueeze(-2)\n",
    "\n",
    "        self.dropout = nn.Dropout(dropout)\n",
    "        self.register_buffer('pos_embedding', pos_embedding)\n",
    "        self.emb_size = emb_size\n",
    "\n",
    "    def forward(self, token_embedding: Tensor):\n",
    "        return self.dropout(token_embedding * math.sqrt(self.emb_size)\n",
    "                            + self.pos_embedding[:token_embedding.size(0), :])"
   ]
  },
  {
   "cell_type": "code",
   "execution_count": 208,
   "metadata": {},
   "outputs": [],
   "source": [
    "pe = PositionalEncoding(10, 0.1)"
   ]
  },
  {
   "cell_type": "code",
   "execution_count": 209,
   "metadata": {},
   "outputs": [
    {
     "data": {
      "text/plain": [
       "tensor([[[0., 0., 0., 0., 0., 0., 0., 0., 0., 0.],\n",
       "         [0., 0., 0., 0., 0., 0., 0., 0., 0., 0.],\n",
       "         [0., 0., 0., 0., 0., 0., 0., 0., 0., 0.],\n",
       "         [0., 0., 0., 0., 0., 0., 0., 0., 0., 0.],\n",
       "         [0., 0., 0., 0., 0., 0., 0., 0., 0., 0.]]])"
      ]
     },
     "execution_count": 209,
     "metadata": {},
     "output_type": "execute_result"
    }
   ],
   "source": [
    "torch.zeros(1, 5, 10)"
   ]
  },
  {
   "cell_type": "code",
   "execution_count": 210,
   "metadata": {},
   "outputs": [
    {
     "data": {
      "text/plain": [
       "tensor([[[0.0000, 1.1111, 0.0000, 1.1111, 0.0000, 1.1111, 0.0000, 1.1111,\n",
       "          0.0000, 0.0000],\n",
       "         [0.0000, 1.1111, 0.0000, 1.1111, 0.0000, 1.1111, 0.0000, 1.1111,\n",
       "          0.0000, 1.1111],\n",
       "         [0.0000, 1.1111, 0.0000, 1.1111, 0.0000, 1.1111, 0.0000, 1.1111,\n",
       "          0.0000, 1.1111],\n",
       "         [0.0000, 1.1111, 0.0000, 1.1111, 0.0000, 0.0000, 0.0000, 1.1111,\n",
       "          0.0000, 1.1111],\n",
       "         [0.0000, 1.1111, 0.0000, 1.1111, 0.0000, 1.1111, 0.0000, 1.1111,\n",
       "          0.0000, 1.1111]]])"
      ]
     },
     "execution_count": 210,
     "metadata": {},
     "output_type": "execute_result"
    }
   ],
   "source": [
    "pe(torch.zeros(1, 5, 10))"
   ]
  },
  {
   "cell_type": "code",
   "execution_count": null,
   "metadata": {},
   "outputs": [],
   "source": [
    "# # Seq2Seq Network\n",
    "# import torch\n",
    "# import torch.nn as nn\n",
    "# from torch import Tensor\n",
    "# from torch.nn import TransformerEncoder, TransformerDecoder, TransformerEncoderLayer, TransformerDecoderLayer\n",
    "\n",
    "# class Seq2SeqTransformer(nn.Module):\n",
    "#     def __init__(self,\n",
    "#                  num_encoder_layers: int,\n",
    "#                  num_decoder_layers: int,\n",
    "#                  emb_size: int,\n",
    "#                  nhead: int,\n",
    "#                  vocab_size: int,\n",
    "#                  dim_feedforward: int = 512,\n",
    "#                  dropout: float = 0.1):\n",
    "#         super().__init__()\n",
    "#         encoder_layers = TransformerEncoderLayer(emb_size, nhead, dim_feedforward, dropout)\n",
    "#         decoder_layers = TransformerDecoderLayer(emb_size, nhead, dim_feedforward, dropout)\n",
    "#         self.transformer_encoder = TransformerEncoder(encoder_layers, num_encoder_layers)\n",
    "#         self.transformer_decoder = TransformerDecoder(decoder_layers, num_decoder_layers)\n",
    "\n",
    "#         self.emb_size = emb_size\n",
    "#         self.embedding = nn.Embedding(\n",
    "#             vocab_size, emb_size, padding_idx=3)\n",
    "#         self.positional_encoding = PositionalEncoding(\n",
    "#             emb_size, dropout=dropout)\n",
    "#         self.generator = nn.Linear(emb_size, vocab_size, bias=False)\n",
    "#         self.generator.weight = self.embedding.weight\n",
    "\n",
    "#     def forward(self,\n",
    "#                 src: Tensor,\n",
    "#                 trg: Tensor,\n",
    "#                 src_mask: Tensor,\n",
    "#                 tgt_mask: Tensor,\n",
    "#                 src_padding_mask: Tensor,\n",
    "#                 tgt_padding_mask: Tensor,\n",
    "#                 memory_key_padding_mask: Tensor):\n",
    "#         src_emb = self.positional_encoding(self.embedding(src))\n",
    "#         tgt_emb = self.positional_encoding(self.embedding(trg))\n",
    "        \n",
    "#         memory = self.transformer_encoder(src_emb, src_mask, src_padding_mask)\n",
    "#         outs = self.transformer_decoder(tgt_emb, memory, tgt_mask, None,\n",
    "#                                         tgt_padding_mask, memory_key_padding_mask)\n",
    "#         return self.generator(outs)\n",
    "\n",
    "#     def encode(self, src: Tensor, src_mask: Tensor):\n",
    "#         return self.transformer_encoder(self.positional_encoding(\n",
    "#             self.embedding(src)), src_mask)\n",
    "\n",
    "#     def decode(self, tgt: Tensor, memory: Tensor, tgt_mask: Tensor):\n",
    "#         return self.transformer_decoder(self.positional_encoding(\n",
    "#             self.embedding(tgt)), memory,\n",
    "#             tgt_mask)"
   ]
  },
  {
   "cell_type": "code",
   "execution_count": 211,
   "metadata": {},
   "outputs": [],
   "source": [
    "# Seq2Seq Network\n",
    "class Seq2SeqTransformer(nn.Module):\n",
    "    def __init__(self,\n",
    "                 num_encoder_layers: int,\n",
    "                 num_decoder_layers: int,\n",
    "                 emb_size: int,\n",
    "                 nhead: int,\n",
    "                 vocab_size: int,\n",
    "                 dim_feedforward: int = 512,\n",
    "                 dropout: float = 0.1):\n",
    "        super().__init__()\n",
    "        self.transformer = Transformer(d_model=emb_size,\n",
    "                                       nhead=nhead,\n",
    "                                       num_encoder_layers=num_encoder_layers,\n",
    "                                       num_decoder_layers=num_decoder_layers,\n",
    "                                       dim_feedforward=dim_feedforward,\n",
    "                                       dropout=dropout)\n",
    "\n",
    "        self.emb_size = emb_size\n",
    "        # Same source and target embs Sect. 3.4\n",
    "        self.embedding = nn.Embedding(\n",
    "            vocab_size, emb_size, padding_idx=3)\n",
    "        self.positional_encoding = PositionalEncoding(\n",
    "            emb_size, dropout=dropout)\n",
    "        # Bias to be compatible with embeddings\n",
    "        self.generator = nn.Linear(emb_size, vocab_size, bias=False)\n",
    "        self.generator.weight = self.embedding.weight  # Shared weights Sect. 3.4\n",
    "\n",
    "    def forward(self,\n",
    "                src: Tensor,\n",
    "                trg: Tensor,\n",
    "                src_mask: Tensor,\n",
    "                tgt_mask: Tensor,\n",
    "                src_padding_mask: Tensor,\n",
    "                tgt_padding_mask: Tensor,\n",
    "                memory_key_padding_mask: Tensor):\n",
    "        src_emb = self.positional_encoding(self.embedding(src))\n",
    "        tgt_emb = self.positional_encoding(self.embedding(trg))\n",
    "        outs = self.transformer(src_emb, tgt_emb, src_mask, tgt_mask, None,\n",
    "                                src_padding_mask, tgt_padding_mask, memory_key_padding_mask)\n",
    "        return self.generator(outs)\n",
    "\n",
    "    def encode(self, src: Tensor, src_mask: Tensor):\n",
    "        return self.transformer.encoder(self.positional_encoding(\n",
    "            self.embedding(src)), src_mask)\n",
    "\n",
    "    def decode(self, tgt: Tensor, memory: Tensor, tgt_mask: Tensor):\n",
    "        return self.transformer.decoder(self.positional_encoding(\n",
    "            self.embedding(tgt)), memory,\n",
    "            tgt_mask)\n"
   ]
  },
  {
   "cell_type": "code",
   "execution_count": 212,
   "metadata": {},
   "outputs": [],
   "source": [
    "def generate_square_subsequent_mask(sz):\n",
    "    mask = (torch.triu(torch.ones((sz, sz), device=DEVICE)) == 1).transpose(0, 1)\n",
    "    mask = mask.float().masked_fill(mask == 0, float(\n",
    "        '-inf')).masked_fill(mask == 1, float(0.0))\n",
    "    return mask"
   ]
  },
  {
   "cell_type": "code",
   "execution_count": 213,
   "metadata": {},
   "outputs": [
    {
     "data": {
      "text/plain": [
       "tensor([[0., -inf, -inf, -inf, -inf, -inf, -inf, -inf, -inf, -inf],\n",
       "        [0., 0., -inf, -inf, -inf, -inf, -inf, -inf, -inf, -inf],\n",
       "        [0., 0., 0., -inf, -inf, -inf, -inf, -inf, -inf, -inf],\n",
       "        [0., 0., 0., 0., -inf, -inf, -inf, -inf, -inf, -inf],\n",
       "        [0., 0., 0., 0., 0., -inf, -inf, -inf, -inf, -inf],\n",
       "        [0., 0., 0., 0., 0., 0., -inf, -inf, -inf, -inf],\n",
       "        [0., 0., 0., 0., 0., 0., 0., -inf, -inf, -inf],\n",
       "        [0., 0., 0., 0., 0., 0., 0., 0., -inf, -inf],\n",
       "        [0., 0., 0., 0., 0., 0., 0., 0., 0., -inf],\n",
       "        [0., 0., 0., 0., 0., 0., 0., 0., 0., 0.]])"
      ]
     },
     "execution_count": 213,
     "metadata": {},
     "output_type": "execute_result"
    }
   ],
   "source": [
    "generate_square_subsequent_mask(10)"
   ]
  },
  {
   "cell_type": "code",
   "execution_count": 214,
   "metadata": {},
   "outputs": [],
   "source": [
    "def create_mask(src, tgt):\n",
    "    src_seq_len = src.shape[0]\n",
    "    tgt_seq_len = tgt.shape[0]\n",
    "\n",
    "    tgt_mask = generate_square_subsequent_mask(tgt_seq_len)\n",
    "    src_mask = torch.zeros((src_seq_len, src_seq_len),\n",
    "                           device=DEVICE).type(torch.bool)\n",
    "\n",
    "    src_padding_mask = (src == 3).transpose(0, 1)\n",
    "    tgt_padding_mask = (tgt == 3).transpose(0, 1).type(torch.float32)\n",
    "    return src_mask, tgt_mask, src_padding_mask, tgt_padding_mask\n"
   ]
  },
  {
   "cell_type": "code",
   "execution_count": 215,
   "metadata": {},
   "outputs": [],
   "source": [
    "src = pad_sequence(text2codes(\n",
    "    train_input_texts[:3], sp), padding_value=3)\n",
    "tgt = pad_sequence(text2codes(\n",
    "    train_target_texts[:3], sp), padding_value=3)"
   ]
  },
  {
   "cell_type": "code",
   "execution_count": 216,
   "metadata": {},
   "outputs": [
    {
     "data": {
      "text/plain": [
       "([[\"!!TheM!Z!! hasn't added any friends yet!\"],\n",
       "  ['\" Memory / Summerday\" gouache/wood/butterfly 48x75 / 48x92cm 2006'],\n",
       "  ['\" child safety in Egypt \"\" harmfulness of the sun in Egypt on baby skin \"\" what medications the child in Egypt \"\" where on holiday with his family to Egypt \"\" pediatrician \"\" in which the child free hotels \"']],\n",
       " [['!!TheM!Z!! har inte lagt till några vänner ännu!'],\n",
       "  ['\"Hågkomst / Sommardag\" gouache/trä 48x75 /48x92cm2006'],\n",
       "  ['\" barnsäkerhet i Egypten \"\" skadlighet solen i Egypten på baby hud \"\" vilka mediciner barnet i Egypten \"\" där på semester med sin familj till Egypten \"\" barnläkare \"\" där barnet hotellsökningen \"']])"
      ]
     },
     "execution_count": 216,
     "metadata": {},
     "output_type": "execute_result"
    }
   ],
   "source": [
    "train_input_texts[:3], train_target_texts[:3]"
   ]
  },
  {
   "cell_type": "code",
   "execution_count": 217,
   "metadata": {},
   "outputs": [
    {
     "data": {
      "text/plain": [
       "(tensor([[False, False, False,  ..., False, False, False],\n",
       "         [False, False, False,  ..., False, False, False],\n",
       "         [False, False, False,  ..., False, False, False],\n",
       "         ...,\n",
       "         [False, False, False,  ..., False, False, False],\n",
       "         [False, False, False,  ..., False, False, False],\n",
       "         [False, False, False,  ..., False, False, False]]),\n",
       " tensor([[0., -inf, -inf,  ..., -inf, -inf, -inf],\n",
       "         [0., 0., -inf,  ..., -inf, -inf, -inf],\n",
       "         [0., 0., 0.,  ..., -inf, -inf, -inf],\n",
       "         ...,\n",
       "         [0., 0., 0.,  ..., 0., -inf, -inf],\n",
       "         [0., 0., 0.,  ..., 0., 0., -inf],\n",
       "         [0., 0., 0.,  ..., 0., 0., 0.]]),\n",
       " tensor([[False, False, False, False, False, False, False, False, False, False,\n",
       "          False, False, False, False, False,  True,  True,  True,  True,  True,\n",
       "           True,  True,  True,  True,  True,  True,  True,  True,  True,  True,\n",
       "           True,  True,  True,  True,  True,  True,  True,  True,  True,  True,\n",
       "           True,  True,  True,  True,  True,  True,  True,  True,  True,  True,\n",
       "           True,  True,  True,  True,  True,  True,  True,  True],\n",
       "         [False, False, False, False, False, False, False, False, False, False,\n",
       "          False, False, False, False, False, False, False, False, False, False,\n",
       "          False, False, False, False, False, False, False, False, False, False,\n",
       "          False, False, False, False, False,  True,  True,  True,  True,  True,\n",
       "           True,  True,  True,  True,  True,  True,  True,  True,  True,  True,\n",
       "           True,  True,  True,  True,  True,  True,  True,  True],\n",
       "         [False, False, False, False, False, False, False, False, False, False,\n",
       "          False, False, False, False, False, False, False, False, False, False,\n",
       "          False, False, False, False, False, False, False, False, False, False,\n",
       "          False, False, False, False, False, False, False, False, False, False,\n",
       "          False, False, False, False, False, False, False, False, False, False,\n",
       "          False, False, False, False, False, False, False, False]]),\n",
       " tensor([[0., 0., 0., 0., 0., 0., 0., 0., 0., 0., 0., 0., 0., 0., 0., 1., 1., 1.,\n",
       "          1., 1., 1., 1., 1., 1., 1., 1., 1., 1., 1., 1., 1., 1., 1., 1., 1., 1.,\n",
       "          1., 1., 1., 1., 1., 1., 1., 1., 1., 1., 1., 1., 1., 1., 1., 1.],\n",
       "         [0., 0., 0., 0., 0., 0., 0., 0., 0., 0., 0., 0., 0., 0., 0., 0., 0., 0.,\n",
       "          0., 0., 0., 0., 0., 0., 0., 0., 0., 0., 0., 0., 0., 1., 1., 1., 1., 1.,\n",
       "          1., 1., 1., 1., 1., 1., 1., 1., 1., 1., 1., 1., 1., 1., 1., 1.],\n",
       "         [0., 0., 0., 0., 0., 0., 0., 0., 0., 0., 0., 0., 0., 0., 0., 0., 0., 0.,\n",
       "          0., 0., 0., 0., 0., 0., 0., 0., 0., 0., 0., 0., 0., 0., 0., 0., 0., 0.,\n",
       "          0., 0., 0., 0., 0., 0., 0., 0., 0., 0., 0., 0., 0., 0., 0., 0.]]))"
      ]
     },
     "execution_count": 217,
     "metadata": {},
     "output_type": "execute_result"
    }
   ],
   "source": [
    "create_mask(src, tgt)"
   ]
  },
  {
   "cell_type": "code",
   "execution_count": 229,
   "metadata": {},
   "outputs": [],
   "source": [
    "VOCAB_SIZE = 4000 #max(token2idx.values()) + 1  # or len(token2idx)\n",
    "EMB_SIZE = 512\n",
    "NHEAD = 8\n",
    "FFN_HID_DIM = 512\n",
    "BATCH_SIZE = 128\n",
    "NUM_ENCODER_LAYERS = 6\n",
    "NUM_DECODER_LAYERS = 6\n"
   ]
  },
  {
   "cell_type": "code",
   "execution_count": 231,
   "metadata": {},
   "outputs": [],
   "source": [
    "def rate(step, model_size, factor, warmup):\n",
    "    \"\"\"\n",
    "    we have to default the step to 1 for LambdaLR function\n",
    "    to avoid zero raising to negative power.\n",
    "    \"\"\"\n",
    "    if step == 0:\n",
    "        step = 1\n",
    "    return factor * (\n",
    "        model_size ** (-0.5) * min(step ** (-0.5), step * warmup ** (-1.5))\n",
    "    )"
   ]
  },
  {
   "cell_type": "code",
   "execution_count": 232,
   "metadata": {},
   "outputs": [],
   "source": [
    "transformer = Seq2SeqTransformer(NUM_ENCODER_LAYERS, NUM_DECODER_LAYERS, EMB_SIZE,\n",
    "                                 NHEAD, VOCAB_SIZE, FFN_HID_DIM)\n",
    "\n",
    "for p in transformer.parameters():\n",
    "    if p.dim() > 1:\n",
    "        nn.init.xavier_uniform_(p)\n",
    "\n",
    "transformer = transformer.to(DEVICE)\n",
    "\n",
    "loss_fn = torch.nn.CrossEntropyLoss(ignore_index=3)\n",
    "\n",
    "optimizer = torch.optim.Adam(\n",
    "            transformer.parameters(), lr=0.5, betas=(0.9, 0.98), eps=1e-9\n",
    "        )\n",
    "lr_scheduler = LambdaLR(\n",
    "        optimizer=optimizer,\n",
    "        lr_lambda=lambda step: rate(\n",
    "            step, model_size=transformer.emb_size, factor=1.0, warmup=4000\n",
    "        ),\n",
    "    )"
   ]
  },
  {
   "cell_type": "code",
   "execution_count": 233,
   "metadata": {},
   "outputs": [],
   "source": [
    "from torch.utils.data import Dataset, DataLoader"
   ]
  },
  {
   "cell_type": "code",
   "execution_count": 234,
   "metadata": {},
   "outputs": [],
   "source": [
    "class PairDataset(Dataset):\n",
    "    def __init__(self, input_texts, target_texts, token2idx):\n",
    "        self.input_texts = input_texts\n",
    "        self.target_texts = target_texts\n",
    "        self.token2idx = token2idx\n",
    "\n",
    "    def __len__(self):\n",
    "        return len(self.input_texts)\n",
    "\n",
    "    def __getitem__(self, idx):\n",
    "        src_batch = text2codes([input_texts[idx]], self.token2idx)\n",
    "        tgt_batch = text2codes([target_texts[idx]], self.token2idx)\n",
    "\n",
    "        return src_batch[0], tgt_batch[0]\n",
    "\n",
    "    def collate(self, batch):\n",
    "        src_batch, tgt_batch = list(zip(*batch))\n",
    "        src_batch = pad_sequence(src_batch, padding_value=3)\n",
    "        tgt_batch = pad_sequence(tgt_batch, padding_value=3)\n",
    "\n",
    "        return src_batch, tgt_batch"
   ]
  },
  {
   "cell_type": "code",
   "execution_count": 235,
   "metadata": {},
   "outputs": [],
   "source": [
    "train_dataset = PairDataset(train_input_texts, train_target_texts, sp)\n",
    "train_dataloader = DataLoader(train_dataset, batch_size=32,\n",
    "                              shuffle=True, collate_fn=train_dataset.collate)"
   ]
  },
  {
   "cell_type": "code",
   "execution_count": 236,
   "metadata": {},
   "outputs": [],
   "source": [
    "val_dataset = PairDataset(val_input_texts, val_target_texts, sp)\n",
    "val_dataloader = DataLoader(\n",
    "    val_dataset, batch_size=32, collate_fn=val_dataset.collate)"
   ]
  },
  {
   "cell_type": "code",
   "execution_count": 237,
   "metadata": {},
   "outputs": [],
   "source": [
    "class TrainState:\n",
    "    \"\"\"Track number of steps, examples, and tokens processed\"\"\"\n",
    "\n",
    "    step: int = 0  # Steps in the current epoch\n",
    "    accum_step: int = 0  # Number of gradient accumulation steps\n",
    "    samples: int = 0  # total # of examples used\n",
    "    tokens: int = 0  # total # of tokens processed"
   ]
  },
  {
   "cell_type": "code",
   "execution_count": 238,
   "metadata": {},
   "outputs": [],
   "source": [
    "def train_epoch(model, optimizer, dataloader, scheduler, accum_iter=1, train_state=TrainState()):\n",
    "    model.train()\n",
    "    losses = 0\n",
    "    sent_cnt = 0\n",
    "    correct, total = 0, 0\n",
    "    for src_batch, tgt_batch in tqdm(dataloader):\n",
    "        src = src_batch.to(DEVICE)\n",
    "        tgt = tgt_batch.to(DEVICE)\n",
    "\n",
    "        tgt_input = tgt[:-1, :]\n",
    "\n",
    "        src_mask, tgt_mask, src_padding_mask, tgt_padding_mask = create_mask(\n",
    "            src, tgt_input)\n",
    "\n",
    "        logits = model(src,\n",
    "                       tgt_input,\n",
    "                       src_mask,\n",
    "                       tgt_mask,\n",
    "                       src_padding_mask,\n",
    "                       tgt_padding_mask,\n",
    "                       src_padding_mask)\n",
    "\n",
    "        optimizer.zero_grad()\n",
    "\n",
    "        tgt_out = tgt[1:, :]\n",
    "        loss = loss_fn(\n",
    "            logits.reshape(-1, logits.shape[-1]), tgt_out.reshape(-1))\n",
    "        loss.backward()\n",
    "\n",
    "        optimizer.step()\n",
    "        lr_scheduler.step()\n",
    "        losses += loss.item()\n",
    "\n",
    "        with torch.no_grad():\n",
    "            sent_cnt += tgt_out.size()[-1]\n",
    "\n",
    "            total += torch.numel(tgt_input)\n",
    "            _, char_pred = torch.max(logits, -1)\n",
    "            correct += (char_pred == tgt_out).sum().item()\n",
    "\n",
    "    return losses / sent_cnt, correct / total\n"
   ]
  },
  {
   "cell_type": "code",
   "execution_count": 239,
   "metadata": {},
   "outputs": [],
   "source": [
    "def evaluate(model, dataloader):\n",
    "    model.eval()\n",
    "    losses = 0\n",
    "    sent_cnt = 0\n",
    "    correct, total = 0, 0\n",
    "\n",
    "    for src_batch, tgt_batch in dataloader:\n",
    "        src = src_batch.to(DEVICE)\n",
    "        tgt = tgt_batch.to(DEVICE)\n",
    "\n",
    "        tgt_input = tgt[:-1, :]\n",
    "\n",
    "        src_mask, tgt_mask, src_padding_mask, tgt_padding_mask = create_mask(\n",
    "            src, tgt_input)\n",
    "\n",
    "        logits = model(src, tgt_input, src_mask, tgt_mask,\n",
    "                       src_padding_mask, tgt_padding_mask, src_padding_mask)\n",
    "\n",
    "        tgt_out = tgt[1:, :]\n",
    "        loss = loss_fn(\n",
    "            logits.reshape(-1, logits.shape[-1]), tgt_out.reshape(-1))\n",
    "        losses += loss.item()\n",
    "        sent_cnt += tgt_out.size()[-1]\n",
    "\n",
    "        total += torch.numel(tgt_input)\n",
    "        _, char_pred = torch.max(logits, -1)\n",
    "        correct += (char_pred == tgt_out).sum().item()\n",
    "\n",
    "    return losses / sent_cnt, correct / total\n"
   ]
  },
  {
   "cell_type": "code",
   "execution_count": 240,
   "metadata": {},
   "outputs": [
    {
     "name": "stderr",
     "output_type": "stream",
     "text": [
      "100%|██████████| 25/25 [00:42<00:00,  1.72s/it]\n"
     ]
    },
    {
     "name": "stdout",
     "output_type": "stream",
     "text": [
      "Epoch: 1, Train loss: 0.262, Val loss: 0.292, Train acc.: 0.008, Val acc.: 0.001, Epoch time = 42.894s\n"
     ]
    },
    {
     "name": "stderr",
     "output_type": "stream",
     "text": [
      "100%|██████████| 25/25 [00:41<00:00,  1.65s/it]\n"
     ]
    },
    {
     "name": "stdout",
     "output_type": "stream",
     "text": [
      "Epoch: 2, Train loss: 0.259, Val loss: 0.287, Train acc.: 0.002, Val acc.: 0.001, Epoch time = 41.186s\n"
     ]
    },
    {
     "name": "stderr",
     "output_type": "stream",
     "text": [
      "100%|██████████| 25/25 [00:39<00:00,  1.60s/it]\n"
     ]
    },
    {
     "name": "stdout",
     "output_type": "stream",
     "text": [
      "Epoch: 3, Train loss: 0.255, Val loss: 0.280, Train acc.: 0.003, Val acc.: 0.009, Epoch time = 39.952s\n"
     ]
    },
    {
     "name": "stderr",
     "output_type": "stream",
     "text": [
      "100%|██████████| 25/25 [00:40<00:00,  1.64s/it]\n"
     ]
    },
    {
     "name": "stdout",
     "output_type": "stream",
     "text": [
      "Epoch: 4, Train loss: 0.250, Val loss: 0.275, Train acc.: 0.009, Val acc.: 0.011, Epoch time = 40.963s\n"
     ]
    },
    {
     "name": "stderr",
     "output_type": "stream",
     "text": [
      "100%|██████████| 25/25 [00:38<00:00,  1.53s/it]\n"
     ]
    },
    {
     "name": "stdout",
     "output_type": "stream",
     "text": [
      "Epoch: 5, Train loss: 0.245, Val loss: 0.270, Train acc.: 0.011, Val acc.: 0.012, Epoch time = 38.248s\n"
     ]
    },
    {
     "name": "stderr",
     "output_type": "stream",
     "text": [
      "100%|██████████| 25/25 [00:40<00:00,  1.64s/it]\n"
     ]
    },
    {
     "name": "stdout",
     "output_type": "stream",
     "text": [
      "Epoch: 6, Train loss: 0.241, Val loss: 0.266, Train acc.: 0.011, Val acc.: 0.013, Epoch time = 40.929s\n"
     ]
    },
    {
     "name": "stderr",
     "output_type": "stream",
     "text": [
      " 20%|██        | 5/25 [00:08<00:32,  1.62s/it]\n",
      "[E thread_pool.cpp:110] Exception in thread pool task: mutex lock failed: Invalid argument\n",
      "[E thread_pool.cpp:110] Exception in thread pool task: mutex lock failed: Invalid argument\n",
      "[E thread_pool.cpp:110] Exception in thread pool task: mutex lock failed: Invalid argument\n",
      "[E thread_pool.cpp:110] Exception in thread pool task: mutex lock failed: Invalid argument\n",
      "[E thread_pool.cpp:110] Exception in thread pool task: mutex lock failed: Invalid argument\n"
     ]
    },
    {
     "ename": "KeyboardInterrupt",
     "evalue": "",
     "output_type": "error",
     "traceback": [
      "\u001b[0;31m---------------------------------------------------------------------------\u001b[0m",
      "\u001b[0;31mKeyboardInterrupt\u001b[0m                         Traceback (most recent call last)",
      "Cell \u001b[0;32mIn[240], line 10\u001b[0m\n\u001b[1;32m      8\u001b[0m \u001b[38;5;28;01mfor\u001b[39;00m epoch \u001b[38;5;129;01min\u001b[39;00m \u001b[38;5;28mrange\u001b[39m(\u001b[38;5;241m1\u001b[39m, NUM_EPOCHS \u001b[38;5;241m+\u001b[39m \u001b[38;5;241m1\u001b[39m):\n\u001b[1;32m      9\u001b[0m     start_time \u001b[38;5;241m=\u001b[39m timer()\n\u001b[0;32m---> 10\u001b[0m     train_loss, train_acc \u001b[38;5;241m=\u001b[39m train_epoch(\n\u001b[1;32m     11\u001b[0m         transformer, optimizer, train_dataloader, lr_scheduler)\n\u001b[1;32m     12\u001b[0m     train_losses \u001b[38;5;241m+\u001b[39m\u001b[38;5;241m=\u001b[39m [train_loss]\n\u001b[1;32m     13\u001b[0m     train_accs \u001b[38;5;241m+\u001b[39m\u001b[38;5;241m=\u001b[39m [train_acc]\n",
      "Cell \u001b[0;32mIn[238], line 15\u001b[0m, in \u001b[0;36mtrain_epoch\u001b[0;34m(model, optimizer, dataloader, scheduler, accum_iter, train_state)\u001b[0m\n\u001b[1;32m     10\u001b[0m tgt_input \u001b[38;5;241m=\u001b[39m tgt[:\u001b[38;5;241m-\u001b[39m\u001b[38;5;241m1\u001b[39m, :]\n\u001b[1;32m     12\u001b[0m src_mask, tgt_mask, src_padding_mask, tgt_padding_mask \u001b[38;5;241m=\u001b[39m create_mask(\n\u001b[1;32m     13\u001b[0m     src, tgt_input)\n\u001b[0;32m---> 15\u001b[0m logits \u001b[38;5;241m=\u001b[39m model(src,\n\u001b[1;32m     16\u001b[0m                tgt_input,\n\u001b[1;32m     17\u001b[0m                src_mask,\n\u001b[1;32m     18\u001b[0m                tgt_mask,\n\u001b[1;32m     19\u001b[0m                src_padding_mask,\n\u001b[1;32m     20\u001b[0m                tgt_padding_mask,\n\u001b[1;32m     21\u001b[0m                src_padding_mask)\n\u001b[1;32m     23\u001b[0m optimizer\u001b[38;5;241m.\u001b[39mzero_grad()\n\u001b[1;32m     25\u001b[0m tgt_out \u001b[38;5;241m=\u001b[39m tgt[\u001b[38;5;241m1\u001b[39m:, :]\n",
      "File \u001b[0;32m~/anaconda3/lib/python3.11/site-packages/torch/nn/modules/module.py:1518\u001b[0m, in \u001b[0;36mModule._wrapped_call_impl\u001b[0;34m(self, *args, **kwargs)\u001b[0m\n\u001b[1;32m   1516\u001b[0m     \u001b[38;5;28;01mreturn\u001b[39;00m \u001b[38;5;28mself\u001b[39m\u001b[38;5;241m.\u001b[39m_compiled_call_impl(\u001b[38;5;241m*\u001b[39margs, \u001b[38;5;241m*\u001b[39m\u001b[38;5;241m*\u001b[39mkwargs)  \u001b[38;5;66;03m# type: ignore[misc]\u001b[39;00m\n\u001b[1;32m   1517\u001b[0m \u001b[38;5;28;01melse\u001b[39;00m:\n\u001b[0;32m-> 1518\u001b[0m     \u001b[38;5;28;01mreturn\u001b[39;00m \u001b[38;5;28mself\u001b[39m\u001b[38;5;241m.\u001b[39m_call_impl(\u001b[38;5;241m*\u001b[39margs, \u001b[38;5;241m*\u001b[39m\u001b[38;5;241m*\u001b[39mkwargs)\n",
      "File \u001b[0;32m~/anaconda3/lib/python3.11/site-packages/torch/nn/modules/module.py:1527\u001b[0m, in \u001b[0;36mModule._call_impl\u001b[0;34m(self, *args, **kwargs)\u001b[0m\n\u001b[1;32m   1522\u001b[0m \u001b[38;5;66;03m# If we don't have any hooks, we want to skip the rest of the logic in\u001b[39;00m\n\u001b[1;32m   1523\u001b[0m \u001b[38;5;66;03m# this function, and just call forward.\u001b[39;00m\n\u001b[1;32m   1524\u001b[0m \u001b[38;5;28;01mif\u001b[39;00m \u001b[38;5;129;01mnot\u001b[39;00m (\u001b[38;5;28mself\u001b[39m\u001b[38;5;241m.\u001b[39m_backward_hooks \u001b[38;5;129;01mor\u001b[39;00m \u001b[38;5;28mself\u001b[39m\u001b[38;5;241m.\u001b[39m_backward_pre_hooks \u001b[38;5;129;01mor\u001b[39;00m \u001b[38;5;28mself\u001b[39m\u001b[38;5;241m.\u001b[39m_forward_hooks \u001b[38;5;129;01mor\u001b[39;00m \u001b[38;5;28mself\u001b[39m\u001b[38;5;241m.\u001b[39m_forward_pre_hooks\n\u001b[1;32m   1525\u001b[0m         \u001b[38;5;129;01mor\u001b[39;00m _global_backward_pre_hooks \u001b[38;5;129;01mor\u001b[39;00m _global_backward_hooks\n\u001b[1;32m   1526\u001b[0m         \u001b[38;5;129;01mor\u001b[39;00m _global_forward_hooks \u001b[38;5;129;01mor\u001b[39;00m _global_forward_pre_hooks):\n\u001b[0;32m-> 1527\u001b[0m     \u001b[38;5;28;01mreturn\u001b[39;00m forward_call(\u001b[38;5;241m*\u001b[39margs, \u001b[38;5;241m*\u001b[39m\u001b[38;5;241m*\u001b[39mkwargs)\n\u001b[1;32m   1529\u001b[0m \u001b[38;5;28;01mtry\u001b[39;00m:\n\u001b[1;32m   1530\u001b[0m     result \u001b[38;5;241m=\u001b[39m \u001b[38;5;28;01mNone\u001b[39;00m\n",
      "Cell \u001b[0;32mIn[211], line 42\u001b[0m, in \u001b[0;36mSeq2SeqTransformer.forward\u001b[0;34m(self, src, trg, src_mask, tgt_mask, src_padding_mask, tgt_padding_mask, memory_key_padding_mask)\u001b[0m\n\u001b[1;32m     39\u001b[0m tgt_emb \u001b[38;5;241m=\u001b[39m \u001b[38;5;28mself\u001b[39m\u001b[38;5;241m.\u001b[39mpositional_encoding(\u001b[38;5;28mself\u001b[39m\u001b[38;5;241m.\u001b[39membedding(trg))\n\u001b[1;32m     41\u001b[0m memory \u001b[38;5;241m=\u001b[39m \u001b[38;5;28mself\u001b[39m\u001b[38;5;241m.\u001b[39mtransformer_encoder(src_emb, src_mask, src_padding_mask)\n\u001b[0;32m---> 42\u001b[0m outs \u001b[38;5;241m=\u001b[39m \u001b[38;5;28mself\u001b[39m\u001b[38;5;241m.\u001b[39mtransformer_decoder(tgt_emb, memory, tgt_mask, \u001b[38;5;28;01mNone\u001b[39;00m,\n\u001b[1;32m     43\u001b[0m                                 tgt_padding_mask, memory_key_padding_mask)\n\u001b[1;32m     44\u001b[0m \u001b[38;5;28;01mreturn\u001b[39;00m \u001b[38;5;28mself\u001b[39m\u001b[38;5;241m.\u001b[39mgenerator(outs)\n",
      "File \u001b[0;32m~/anaconda3/lib/python3.11/site-packages/torch/nn/modules/module.py:1518\u001b[0m, in \u001b[0;36mModule._wrapped_call_impl\u001b[0;34m(self, *args, **kwargs)\u001b[0m\n\u001b[1;32m   1516\u001b[0m     \u001b[38;5;28;01mreturn\u001b[39;00m \u001b[38;5;28mself\u001b[39m\u001b[38;5;241m.\u001b[39m_compiled_call_impl(\u001b[38;5;241m*\u001b[39margs, \u001b[38;5;241m*\u001b[39m\u001b[38;5;241m*\u001b[39mkwargs)  \u001b[38;5;66;03m# type: ignore[misc]\u001b[39;00m\n\u001b[1;32m   1517\u001b[0m \u001b[38;5;28;01melse\u001b[39;00m:\n\u001b[0;32m-> 1518\u001b[0m     \u001b[38;5;28;01mreturn\u001b[39;00m \u001b[38;5;28mself\u001b[39m\u001b[38;5;241m.\u001b[39m_call_impl(\u001b[38;5;241m*\u001b[39margs, \u001b[38;5;241m*\u001b[39m\u001b[38;5;241m*\u001b[39mkwargs)\n",
      "File \u001b[0;32m~/anaconda3/lib/python3.11/site-packages/torch/nn/modules/module.py:1527\u001b[0m, in \u001b[0;36mModule._call_impl\u001b[0;34m(self, *args, **kwargs)\u001b[0m\n\u001b[1;32m   1522\u001b[0m \u001b[38;5;66;03m# If we don't have any hooks, we want to skip the rest of the logic in\u001b[39;00m\n\u001b[1;32m   1523\u001b[0m \u001b[38;5;66;03m# this function, and just call forward.\u001b[39;00m\n\u001b[1;32m   1524\u001b[0m \u001b[38;5;28;01mif\u001b[39;00m \u001b[38;5;129;01mnot\u001b[39;00m (\u001b[38;5;28mself\u001b[39m\u001b[38;5;241m.\u001b[39m_backward_hooks \u001b[38;5;129;01mor\u001b[39;00m \u001b[38;5;28mself\u001b[39m\u001b[38;5;241m.\u001b[39m_backward_pre_hooks \u001b[38;5;129;01mor\u001b[39;00m \u001b[38;5;28mself\u001b[39m\u001b[38;5;241m.\u001b[39m_forward_hooks \u001b[38;5;129;01mor\u001b[39;00m \u001b[38;5;28mself\u001b[39m\u001b[38;5;241m.\u001b[39m_forward_pre_hooks\n\u001b[1;32m   1525\u001b[0m         \u001b[38;5;129;01mor\u001b[39;00m _global_backward_pre_hooks \u001b[38;5;129;01mor\u001b[39;00m _global_backward_hooks\n\u001b[1;32m   1526\u001b[0m         \u001b[38;5;129;01mor\u001b[39;00m _global_forward_hooks \u001b[38;5;129;01mor\u001b[39;00m _global_forward_pre_hooks):\n\u001b[0;32m-> 1527\u001b[0m     \u001b[38;5;28;01mreturn\u001b[39;00m forward_call(\u001b[38;5;241m*\u001b[39margs, \u001b[38;5;241m*\u001b[39m\u001b[38;5;241m*\u001b[39mkwargs)\n\u001b[1;32m   1529\u001b[0m \u001b[38;5;28;01mtry\u001b[39;00m:\n\u001b[1;32m   1530\u001b[0m     result \u001b[38;5;241m=\u001b[39m \u001b[38;5;28;01mNone\u001b[39;00m\n",
      "File \u001b[0;32m~/anaconda3/lib/python3.11/site-packages/torch/nn/modules/transformer.py:460\u001b[0m, in \u001b[0;36mTransformerDecoder.forward\u001b[0;34m(self, tgt, memory, tgt_mask, memory_mask, tgt_key_padding_mask, memory_key_padding_mask, tgt_is_causal, memory_is_causal)\u001b[0m\n\u001b[1;32m    457\u001b[0m tgt_is_causal \u001b[38;5;241m=\u001b[39m _detect_is_causal_mask(tgt_mask, tgt_is_causal, seq_len)\n\u001b[1;32m    459\u001b[0m \u001b[38;5;28;01mfor\u001b[39;00m mod \u001b[38;5;129;01min\u001b[39;00m \u001b[38;5;28mself\u001b[39m\u001b[38;5;241m.\u001b[39mlayers:\n\u001b[0;32m--> 460\u001b[0m     output \u001b[38;5;241m=\u001b[39m mod(output, memory, tgt_mask\u001b[38;5;241m=\u001b[39mtgt_mask,\n\u001b[1;32m    461\u001b[0m                  memory_mask\u001b[38;5;241m=\u001b[39mmemory_mask,\n\u001b[1;32m    462\u001b[0m                  tgt_key_padding_mask\u001b[38;5;241m=\u001b[39mtgt_key_padding_mask,\n\u001b[1;32m    463\u001b[0m                  memory_key_padding_mask\u001b[38;5;241m=\u001b[39mmemory_key_padding_mask,\n\u001b[1;32m    464\u001b[0m                  tgt_is_causal\u001b[38;5;241m=\u001b[39mtgt_is_causal,\n\u001b[1;32m    465\u001b[0m                  memory_is_causal\u001b[38;5;241m=\u001b[39mmemory_is_causal)\n\u001b[1;32m    467\u001b[0m \u001b[38;5;28;01mif\u001b[39;00m \u001b[38;5;28mself\u001b[39m\u001b[38;5;241m.\u001b[39mnorm \u001b[38;5;129;01mis\u001b[39;00m \u001b[38;5;129;01mnot\u001b[39;00m \u001b[38;5;28;01mNone\u001b[39;00m:\n\u001b[1;32m    468\u001b[0m     output \u001b[38;5;241m=\u001b[39m \u001b[38;5;28mself\u001b[39m\u001b[38;5;241m.\u001b[39mnorm(output)\n",
      "File \u001b[0;32m~/anaconda3/lib/python3.11/site-packages/torch/nn/modules/module.py:1518\u001b[0m, in \u001b[0;36mModule._wrapped_call_impl\u001b[0;34m(self, *args, **kwargs)\u001b[0m\n\u001b[1;32m   1516\u001b[0m     \u001b[38;5;28;01mreturn\u001b[39;00m \u001b[38;5;28mself\u001b[39m\u001b[38;5;241m.\u001b[39m_compiled_call_impl(\u001b[38;5;241m*\u001b[39margs, \u001b[38;5;241m*\u001b[39m\u001b[38;5;241m*\u001b[39mkwargs)  \u001b[38;5;66;03m# type: ignore[misc]\u001b[39;00m\n\u001b[1;32m   1517\u001b[0m \u001b[38;5;28;01melse\u001b[39;00m:\n\u001b[0;32m-> 1518\u001b[0m     \u001b[38;5;28;01mreturn\u001b[39;00m \u001b[38;5;28mself\u001b[39m\u001b[38;5;241m.\u001b[39m_call_impl(\u001b[38;5;241m*\u001b[39margs, \u001b[38;5;241m*\u001b[39m\u001b[38;5;241m*\u001b[39mkwargs)\n",
      "File \u001b[0;32m~/anaconda3/lib/python3.11/site-packages/torch/nn/modules/module.py:1527\u001b[0m, in \u001b[0;36mModule._call_impl\u001b[0;34m(self, *args, **kwargs)\u001b[0m\n\u001b[1;32m   1522\u001b[0m \u001b[38;5;66;03m# If we don't have any hooks, we want to skip the rest of the logic in\u001b[39;00m\n\u001b[1;32m   1523\u001b[0m \u001b[38;5;66;03m# this function, and just call forward.\u001b[39;00m\n\u001b[1;32m   1524\u001b[0m \u001b[38;5;28;01mif\u001b[39;00m \u001b[38;5;129;01mnot\u001b[39;00m (\u001b[38;5;28mself\u001b[39m\u001b[38;5;241m.\u001b[39m_backward_hooks \u001b[38;5;129;01mor\u001b[39;00m \u001b[38;5;28mself\u001b[39m\u001b[38;5;241m.\u001b[39m_backward_pre_hooks \u001b[38;5;129;01mor\u001b[39;00m \u001b[38;5;28mself\u001b[39m\u001b[38;5;241m.\u001b[39m_forward_hooks \u001b[38;5;129;01mor\u001b[39;00m \u001b[38;5;28mself\u001b[39m\u001b[38;5;241m.\u001b[39m_forward_pre_hooks\n\u001b[1;32m   1525\u001b[0m         \u001b[38;5;129;01mor\u001b[39;00m _global_backward_pre_hooks \u001b[38;5;129;01mor\u001b[39;00m _global_backward_hooks\n\u001b[1;32m   1526\u001b[0m         \u001b[38;5;129;01mor\u001b[39;00m _global_forward_hooks \u001b[38;5;129;01mor\u001b[39;00m _global_forward_pre_hooks):\n\u001b[0;32m-> 1527\u001b[0m     \u001b[38;5;28;01mreturn\u001b[39;00m forward_call(\u001b[38;5;241m*\u001b[39margs, \u001b[38;5;241m*\u001b[39m\u001b[38;5;241m*\u001b[39mkwargs)\n\u001b[1;32m   1529\u001b[0m \u001b[38;5;28;01mtry\u001b[39;00m:\n\u001b[1;32m   1530\u001b[0m     result \u001b[38;5;241m=\u001b[39m \u001b[38;5;28;01mNone\u001b[39;00m\n",
      "File \u001b[0;32m~/anaconda3/lib/python3.11/site-packages/torch/nn/modules/transformer.py:846\u001b[0m, in \u001b[0;36mTransformerDecoderLayer.forward\u001b[0;34m(self, tgt, memory, tgt_mask, memory_mask, tgt_key_padding_mask, memory_key_padding_mask, tgt_is_causal, memory_is_causal)\u001b[0m\n\u001b[1;32m    844\u001b[0m     x \u001b[38;5;241m=\u001b[39m x \u001b[38;5;241m+\u001b[39m \u001b[38;5;28mself\u001b[39m\u001b[38;5;241m.\u001b[39m_ff_block(\u001b[38;5;28mself\u001b[39m\u001b[38;5;241m.\u001b[39mnorm3(x))\n\u001b[1;32m    845\u001b[0m \u001b[38;5;28;01melse\u001b[39;00m:\n\u001b[0;32m--> 846\u001b[0m     x \u001b[38;5;241m=\u001b[39m \u001b[38;5;28mself\u001b[39m\u001b[38;5;241m.\u001b[39mnorm1(x \u001b[38;5;241m+\u001b[39m \u001b[38;5;28mself\u001b[39m\u001b[38;5;241m.\u001b[39m_sa_block(x, tgt_mask, tgt_key_padding_mask, tgt_is_causal))\n\u001b[1;32m    847\u001b[0m     x \u001b[38;5;241m=\u001b[39m \u001b[38;5;28mself\u001b[39m\u001b[38;5;241m.\u001b[39mnorm2(x \u001b[38;5;241m+\u001b[39m \u001b[38;5;28mself\u001b[39m\u001b[38;5;241m.\u001b[39m_mha_block(x, memory, memory_mask, memory_key_padding_mask, memory_is_causal))\n\u001b[1;32m    848\u001b[0m     x \u001b[38;5;241m=\u001b[39m \u001b[38;5;28mself\u001b[39m\u001b[38;5;241m.\u001b[39mnorm3(x \u001b[38;5;241m+\u001b[39m \u001b[38;5;28mself\u001b[39m\u001b[38;5;241m.\u001b[39m_ff_block(x))\n",
      "File \u001b[0;32m~/anaconda3/lib/python3.11/site-packages/torch/nn/modules/transformer.py:855\u001b[0m, in \u001b[0;36mTransformerDecoderLayer._sa_block\u001b[0;34m(self, x, attn_mask, key_padding_mask, is_causal)\u001b[0m\n\u001b[1;32m    853\u001b[0m \u001b[38;5;28;01mdef\u001b[39;00m \u001b[38;5;21m_sa_block\u001b[39m(\u001b[38;5;28mself\u001b[39m, x: Tensor,\n\u001b[1;32m    854\u001b[0m               attn_mask: Optional[Tensor], key_padding_mask: Optional[Tensor], is_causal: \u001b[38;5;28mbool\u001b[39m \u001b[38;5;241m=\u001b[39m \u001b[38;5;28;01mFalse\u001b[39;00m) \u001b[38;5;241m-\u001b[39m\u001b[38;5;241m>\u001b[39m Tensor:\n\u001b[0;32m--> 855\u001b[0m     x \u001b[38;5;241m=\u001b[39m \u001b[38;5;28mself\u001b[39m\u001b[38;5;241m.\u001b[39mself_attn(x, x, x,\n\u001b[1;32m    856\u001b[0m                        attn_mask\u001b[38;5;241m=\u001b[39mattn_mask,\n\u001b[1;32m    857\u001b[0m                        key_padding_mask\u001b[38;5;241m=\u001b[39mkey_padding_mask,\n\u001b[1;32m    858\u001b[0m                        is_causal\u001b[38;5;241m=\u001b[39mis_causal,\n\u001b[1;32m    859\u001b[0m                        need_weights\u001b[38;5;241m=\u001b[39m\u001b[38;5;28;01mFalse\u001b[39;00m)[\u001b[38;5;241m0\u001b[39m]\n\u001b[1;32m    860\u001b[0m     \u001b[38;5;28;01mreturn\u001b[39;00m \u001b[38;5;28mself\u001b[39m\u001b[38;5;241m.\u001b[39mdropout1(x)\n",
      "File \u001b[0;32m~/anaconda3/lib/python3.11/site-packages/torch/nn/modules/module.py:1518\u001b[0m, in \u001b[0;36mModule._wrapped_call_impl\u001b[0;34m(self, *args, **kwargs)\u001b[0m\n\u001b[1;32m   1516\u001b[0m     \u001b[38;5;28;01mreturn\u001b[39;00m \u001b[38;5;28mself\u001b[39m\u001b[38;5;241m.\u001b[39m_compiled_call_impl(\u001b[38;5;241m*\u001b[39margs, \u001b[38;5;241m*\u001b[39m\u001b[38;5;241m*\u001b[39mkwargs)  \u001b[38;5;66;03m# type: ignore[misc]\u001b[39;00m\n\u001b[1;32m   1517\u001b[0m \u001b[38;5;28;01melse\u001b[39;00m:\n\u001b[0;32m-> 1518\u001b[0m     \u001b[38;5;28;01mreturn\u001b[39;00m \u001b[38;5;28mself\u001b[39m\u001b[38;5;241m.\u001b[39m_call_impl(\u001b[38;5;241m*\u001b[39margs, \u001b[38;5;241m*\u001b[39m\u001b[38;5;241m*\u001b[39mkwargs)\n",
      "File \u001b[0;32m~/anaconda3/lib/python3.11/site-packages/torch/nn/modules/module.py:1527\u001b[0m, in \u001b[0;36mModule._call_impl\u001b[0;34m(self, *args, **kwargs)\u001b[0m\n\u001b[1;32m   1522\u001b[0m \u001b[38;5;66;03m# If we don't have any hooks, we want to skip the rest of the logic in\u001b[39;00m\n\u001b[1;32m   1523\u001b[0m \u001b[38;5;66;03m# this function, and just call forward.\u001b[39;00m\n\u001b[1;32m   1524\u001b[0m \u001b[38;5;28;01mif\u001b[39;00m \u001b[38;5;129;01mnot\u001b[39;00m (\u001b[38;5;28mself\u001b[39m\u001b[38;5;241m.\u001b[39m_backward_hooks \u001b[38;5;129;01mor\u001b[39;00m \u001b[38;5;28mself\u001b[39m\u001b[38;5;241m.\u001b[39m_backward_pre_hooks \u001b[38;5;129;01mor\u001b[39;00m \u001b[38;5;28mself\u001b[39m\u001b[38;5;241m.\u001b[39m_forward_hooks \u001b[38;5;129;01mor\u001b[39;00m \u001b[38;5;28mself\u001b[39m\u001b[38;5;241m.\u001b[39m_forward_pre_hooks\n\u001b[1;32m   1525\u001b[0m         \u001b[38;5;129;01mor\u001b[39;00m _global_backward_pre_hooks \u001b[38;5;129;01mor\u001b[39;00m _global_backward_hooks\n\u001b[1;32m   1526\u001b[0m         \u001b[38;5;129;01mor\u001b[39;00m _global_forward_hooks \u001b[38;5;129;01mor\u001b[39;00m _global_forward_pre_hooks):\n\u001b[0;32m-> 1527\u001b[0m     \u001b[38;5;28;01mreturn\u001b[39;00m forward_call(\u001b[38;5;241m*\u001b[39margs, \u001b[38;5;241m*\u001b[39m\u001b[38;5;241m*\u001b[39mkwargs)\n\u001b[1;32m   1529\u001b[0m \u001b[38;5;28;01mtry\u001b[39;00m:\n\u001b[1;32m   1530\u001b[0m     result \u001b[38;5;241m=\u001b[39m \u001b[38;5;28;01mNone\u001b[39;00m\n",
      "File \u001b[0;32m~/anaconda3/lib/python3.11/site-packages/torch/nn/modules/activation.py:1241\u001b[0m, in \u001b[0;36mMultiheadAttention.forward\u001b[0;34m(self, query, key, value, key_padding_mask, need_weights, attn_mask, average_attn_weights, is_causal)\u001b[0m\n\u001b[1;32m   1227\u001b[0m     attn_output, attn_output_weights \u001b[38;5;241m=\u001b[39m F\u001b[38;5;241m.\u001b[39mmulti_head_attention_forward(\n\u001b[1;32m   1228\u001b[0m         query, key, value, \u001b[38;5;28mself\u001b[39m\u001b[38;5;241m.\u001b[39membed_dim, \u001b[38;5;28mself\u001b[39m\u001b[38;5;241m.\u001b[39mnum_heads,\n\u001b[1;32m   1229\u001b[0m         \u001b[38;5;28mself\u001b[39m\u001b[38;5;241m.\u001b[39min_proj_weight, \u001b[38;5;28mself\u001b[39m\u001b[38;5;241m.\u001b[39min_proj_bias,\n\u001b[0;32m   (...)\u001b[0m\n\u001b[1;32m   1238\u001b[0m         average_attn_weights\u001b[38;5;241m=\u001b[39maverage_attn_weights,\n\u001b[1;32m   1239\u001b[0m         is_causal\u001b[38;5;241m=\u001b[39mis_causal)\n\u001b[1;32m   1240\u001b[0m \u001b[38;5;28;01melse\u001b[39;00m:\n\u001b[0;32m-> 1241\u001b[0m     attn_output, attn_output_weights \u001b[38;5;241m=\u001b[39m F\u001b[38;5;241m.\u001b[39mmulti_head_attention_forward(\n\u001b[1;32m   1242\u001b[0m         query, key, value, \u001b[38;5;28mself\u001b[39m\u001b[38;5;241m.\u001b[39membed_dim, \u001b[38;5;28mself\u001b[39m\u001b[38;5;241m.\u001b[39mnum_heads,\n\u001b[1;32m   1243\u001b[0m         \u001b[38;5;28mself\u001b[39m\u001b[38;5;241m.\u001b[39min_proj_weight, \u001b[38;5;28mself\u001b[39m\u001b[38;5;241m.\u001b[39min_proj_bias,\n\u001b[1;32m   1244\u001b[0m         \u001b[38;5;28mself\u001b[39m\u001b[38;5;241m.\u001b[39mbias_k, \u001b[38;5;28mself\u001b[39m\u001b[38;5;241m.\u001b[39mbias_v, \u001b[38;5;28mself\u001b[39m\u001b[38;5;241m.\u001b[39madd_zero_attn,\n\u001b[1;32m   1245\u001b[0m         \u001b[38;5;28mself\u001b[39m\u001b[38;5;241m.\u001b[39mdropout, \u001b[38;5;28mself\u001b[39m\u001b[38;5;241m.\u001b[39mout_proj\u001b[38;5;241m.\u001b[39mweight, \u001b[38;5;28mself\u001b[39m\u001b[38;5;241m.\u001b[39mout_proj\u001b[38;5;241m.\u001b[39mbias,\n\u001b[1;32m   1246\u001b[0m         training\u001b[38;5;241m=\u001b[39m\u001b[38;5;28mself\u001b[39m\u001b[38;5;241m.\u001b[39mtraining,\n\u001b[1;32m   1247\u001b[0m         key_padding_mask\u001b[38;5;241m=\u001b[39mkey_padding_mask,\n\u001b[1;32m   1248\u001b[0m         need_weights\u001b[38;5;241m=\u001b[39mneed_weights,\n\u001b[1;32m   1249\u001b[0m         attn_mask\u001b[38;5;241m=\u001b[39mattn_mask,\n\u001b[1;32m   1250\u001b[0m         average_attn_weights\u001b[38;5;241m=\u001b[39maverage_attn_weights,\n\u001b[1;32m   1251\u001b[0m         is_causal\u001b[38;5;241m=\u001b[39mis_causal)\n\u001b[1;32m   1252\u001b[0m \u001b[38;5;28;01mif\u001b[39;00m \u001b[38;5;28mself\u001b[39m\u001b[38;5;241m.\u001b[39mbatch_first \u001b[38;5;129;01mand\u001b[39;00m is_batched:\n\u001b[1;32m   1253\u001b[0m     \u001b[38;5;28;01mreturn\u001b[39;00m attn_output\u001b[38;5;241m.\u001b[39mtranspose(\u001b[38;5;241m1\u001b[39m, \u001b[38;5;241m0\u001b[39m), attn_output_weights\n",
      "File \u001b[0;32m~/anaconda3/lib/python3.11/site-packages/torch/nn/functional.py:5300\u001b[0m, in \u001b[0;36mmulti_head_attention_forward\u001b[0;34m(query, key, value, embed_dim_to_check, num_heads, in_proj_weight, in_proj_bias, bias_k, bias_v, add_zero_attn, dropout_p, out_proj_weight, out_proj_bias, training, key_padding_mask, need_weights, attn_mask, use_separate_proj_weight, q_proj_weight, k_proj_weight, v_proj_weight, static_k, static_v, average_attn_weights, is_causal)\u001b[0m\n\u001b[1;32m   5298\u001b[0m \u001b[38;5;28;01mif\u001b[39;00m \u001b[38;5;129;01mnot\u001b[39;00m use_separate_proj_weight:\n\u001b[1;32m   5299\u001b[0m     \u001b[38;5;28;01massert\u001b[39;00m in_proj_weight \u001b[38;5;129;01mis\u001b[39;00m \u001b[38;5;129;01mnot\u001b[39;00m \u001b[38;5;28;01mNone\u001b[39;00m, \u001b[38;5;124m\"\u001b[39m\u001b[38;5;124muse_separate_proj_weight is False but in_proj_weight is None\u001b[39m\u001b[38;5;124m\"\u001b[39m\n\u001b[0;32m-> 5300\u001b[0m     q, k, v \u001b[38;5;241m=\u001b[39m _in_projection_packed(query, key, value, in_proj_weight, in_proj_bias)\n\u001b[1;32m   5301\u001b[0m \u001b[38;5;28;01melse\u001b[39;00m:\n\u001b[1;32m   5302\u001b[0m     \u001b[38;5;28;01massert\u001b[39;00m q_proj_weight \u001b[38;5;129;01mis\u001b[39;00m \u001b[38;5;129;01mnot\u001b[39;00m \u001b[38;5;28;01mNone\u001b[39;00m, \u001b[38;5;124m\"\u001b[39m\u001b[38;5;124muse_separate_proj_weight is True but q_proj_weight is None\u001b[39m\u001b[38;5;124m\"\u001b[39m\n",
      "File \u001b[0;32m~/anaconda3/lib/python3.11/site-packages/torch/nn/functional.py:4826\u001b[0m, in \u001b[0;36m_in_projection_packed\u001b[0;34m(q, k, v, w, b)\u001b[0m\n\u001b[1;32m   4824\u001b[0m     proj \u001b[38;5;241m=\u001b[39m linear(q, w, b)\n\u001b[1;32m   4825\u001b[0m     \u001b[38;5;66;03m# reshape to 3, E and not E, 3 is deliberate for better memory coalescing and keeping same order as chunk()\u001b[39;00m\n\u001b[0;32m-> 4826\u001b[0m     proj \u001b[38;5;241m=\u001b[39m proj\u001b[38;5;241m.\u001b[39munflatten(\u001b[38;5;241m-\u001b[39m\u001b[38;5;241m1\u001b[39m, (\u001b[38;5;241m3\u001b[39m, E))\u001b[38;5;241m.\u001b[39munsqueeze(\u001b[38;5;241m0\u001b[39m)\u001b[38;5;241m.\u001b[39mtranspose(\u001b[38;5;241m0\u001b[39m, \u001b[38;5;241m-\u001b[39m\u001b[38;5;241m2\u001b[39m)\u001b[38;5;241m.\u001b[39msqueeze(\u001b[38;5;241m-\u001b[39m\u001b[38;5;241m2\u001b[39m)\u001b[38;5;241m.\u001b[39mcontiguous()\n\u001b[1;32m   4827\u001b[0m     \u001b[38;5;28;01mreturn\u001b[39;00m proj[\u001b[38;5;241m0\u001b[39m], proj[\u001b[38;5;241m1\u001b[39m], proj[\u001b[38;5;241m2\u001b[39m]\n\u001b[1;32m   4828\u001b[0m \u001b[38;5;28;01melse\u001b[39;00m:\n\u001b[1;32m   4829\u001b[0m     \u001b[38;5;66;03m# encoder-decoder attention\u001b[39;00m\n",
      "\u001b[0;31mKeyboardInterrupt\u001b[0m: "
     ]
    }
   ],
   "source": [
    "from timeit import default_timer as timer\n",
    "NUM_EPOCHS = 15\n",
    "train_losses = []\n",
    "train_accs = []\n",
    "val_losses = []\n",
    "val_accs = []\n",
    "\n",
    "for epoch in range(1, NUM_EPOCHS + 1):\n",
    "    start_time = timer()\n",
    "    train_loss, train_acc = train_epoch(\n",
    "        transformer, optimizer, train_dataloader, lr_scheduler)\n",
    "    train_losses += [train_loss]\n",
    "    train_accs += [train_acc]\n",
    "    end_time = timer()\n",
    "    val_loss, val_acc = evaluate(transformer, val_dataloader)\n",
    "    val_losses += [val_loss]\n",
    "    val_accs += [val_acc]\n",
    "    print((f\"Epoch: {epoch}, Train loss: {train_loss:.3f}, Val loss: {val_loss:.3f}, Train acc.: {train_acc:.3f}, Val acc.: {val_acc:.3f}, Epoch time = {(end_time - start_time):.3f}s\"))\n"
   ]
  },
  {
   "cell_type": "code",
   "execution_count": 89,
   "metadata": {},
   "outputs": [
    {
     "data": {
      "image/png": "[encoded data removed]",
      "text/plain": [
       "<Figure size 640x480 with 1 Axes>"
      ]
     },
     "metadata": {},
     "output_type": "display_data"
    }
   ],
   "source": [
    "epochs = range(NUM_EPOCHS)\n",
    "\n",
    "plt.plot(epochs, train_losses, 'bo', label='Training loss')\n",
    "plt.plot(epochs, val_losses, 'b', label='Validation loss')\n",
    "plt.title('Training and validation loss')\n",
    "plt.xlabel('Epochs')\n",
    "plt.ylabel('Loss')\n",
    "plt.legend()\n",
    "plt.show()"
   ]
  },
  {
   "cell_type": "code",
   "execution_count": 90,
   "metadata": {},
   "outputs": [
    {
     "data": {
      "image/png": "[encoded data removed]",
      "text/plain": [
       "<Figure size 640x480 with 1 Axes>"
      ]
     },
     "metadata": {},
     "output_type": "display_data"
    }
   ],
   "source": [
    "plt.plot(epochs, train_accs, 'bo', label='Training acc')\n",
    "plt.plot(epochs, val_accs, 'b', label='Validation acc')\n",
    "plt.title('Training and validation accuracy')\n",
    "plt.xlabel('Epochs')\n",
    "plt.ylabel('Accuracy')\n",
    "plt.show()"
   ]
  },
  {
   "cell_type": "code",
   "execution_count": 91,
   "metadata": {},
   "outputs": [],
   "source": [
    "# function to generate output sequence using greedy algorithm\n",
    "def greedy_decode(model, src, src_mask, max_len, start_symbol):\n",
    "    src = src.to(DEVICE)\n",
    "    src_mask = src_mask.to(DEVICE)\n",
    "\n",
    "    memory = model.encode(src, src_mask)\n",
    "    ys = torch.ones(1, 1).fill_(start_symbol).type(torch.long).to(DEVICE)\n",
    "    # print(ys)\n",
    "    for i in range(max_len-1):\n",
    "        memory = memory.to(DEVICE)\n",
    "        tgt_mask = (generate_square_subsequent_mask(ys.size(0))\n",
    "                    .type(torch.bool)).to(DEVICE)\n",
    "        out = model.decode(ys, memory, tgt_mask)\n",
    "        out = out.transpose(0, 1)\n",
    "        prob = model.generator(out[:, -1])\n",
    "        _, next_word = torch.max(prob, dim=1)\n",
    "        next_word = next_word.item()\n",
    "\n",
    "        ys = torch.cat([ys,\n",
    "                        torch.ones(1, 1).type_as(src.data).fill_(next_word)], dim=0)\n",
    "        # print(ys) # Remove the comment to understand the loop\n",
    "        if next_word == 2:\n",
    "            break\n",
    "    return ys\n"
   ]
  },
  {
   "cell_type": "code",
   "execution_count": 92,
   "metadata": {},
   "outputs": [
    {
     "data": {
      "text/plain": [
       "tensor([[  1],\n",
       "        [138],\n",
       "        [  2]])"
      ]
     },
     "execution_count": 92,
     "metadata": {},
     "output_type": "execute_result"
    }
   ],
   "source": [
    "text2codes(['Go!'], sp)[0].view(-1, 1)"
   ]
  },
  {
   "cell_type": "code",
   "execution_count": 93,
   "metadata": {},
   "outputs": [],
   "source": [
    "# actual function to translate input sentence into target language\n",
    "def translate(model: torch.nn.Module, src_sentence: str):\n",
    "    model.eval()\n",
    "    src = text2codes([src_sentence], sp)[0].view(-1, 1)\n",
    "    print(\"SRC: \", src)\n",
    "    num_tokens = src.shape[0]\n",
    "    src_mask = (torch.zeros(num_tokens, num_tokens)).type(torch.bool)\n",
    "    tgt_tokens = greedy_decode(\n",
    "        model, src, src_mask, max_len=num_tokens + 20, start_symbol=1).flatten()\n",
    "    print(\"Targ: \", tgt_tokens)\n",
    "    tgt_chars_specials = codes2text([tgt_tokens])\n",
    "    tgt_chars = []\n",
    "    for char in tgt_chars_specials:\n",
    "        if char != '<s>' and char != '<\\s>':\n",
    "            tgt_chars += [char]\n",
    "    tgt_chars = ''.join(tgt_chars)\n",
    "    return tgt_chars\n"
   ]
  },
  {
   "cell_type": "code",
   "execution_count": 94,
   "metadata": {},
   "outputs": [
    {
     "name": "stdout",
     "output_type": "stream",
     "text": [
      "SRC:  tensor([[ 1],\n",
      "        [74],\n",
      "        [ 2]])\n",
      "Targ:  tensor([  1,   8,   8, 209, 209, 209, 209, 209, 209, 209, 209, 209, 209, 209,\n",
      "        209, 209,   2])\n"
     ]
    },
    {
     "data": {
      "text/plain": [
       "'▁\"▁\"▁jag▁jag▁jag▁jag▁jag▁jag▁jag▁jag▁jag▁jag▁jag▁jag▁jag</s>'"
      ]
     },
     "execution_count": 94,
     "metadata": {},
     "output_type": "execute_result"
    }
   ],
   "source": [
    "tgt_sent = translate(transformer, 'I drink water every day')\n",
    "tgt_sent"
   ]
  },
  {
   "cell_type": "code",
   "execution_count": 95,
   "metadata": {},
   "outputs": [
    {
     "name": "stdout",
     "output_type": "stream",
     "text": [
      "SRC:  tensor([[ 1],\n",
      "        [85],\n",
      "        [ 2]])\n",
      "Targ:  tensor([1, 8, 2])\n"
     ]
    },
    {
     "data": {
      "text/plain": [
       "'▁\"</s>'"
      ]
     },
     "execution_count": 95,
     "metadata": {},
     "output_type": "execute_result"
    }
   ],
   "source": [
    "tgt = translate(transformer, \"The house at the end of my street is red\")\n",
    "tgt"
   ]
  },
  {
   "cell_type": "code",
   "execution_count": 96,
   "metadata": {},
   "outputs": [
    {
     "name": "stdout",
     "output_type": "stream",
     "text": [
      "\"kt reara reara reara reara reara reara reara reara re\n"
     ]
    }
   ],
   "source": [
    "print(sp.decode_ids([  1,   8, 129, 144, 254, 144, 254, 144, 254, 144, 254, 144, 254, 144,\n",
    "        254, 144, 254, 144, 254, 144,   2]))"
   ]
  }
 ],
 "metadata": {
  "kernelspec": {
   "display_name": "Python 3",
   "language": "python",
   "name": "python3"
  },
  "language_info": {
   "codemirror_mode": {
    "name": "ipython",
    "version": 3
   },
   "file_extension": ".py",
   "mimetype": "text/x-python",
   "name": "python",
   "nbconvert_exporter": "python",
   "pygments_lexer": "ipython3",
   "version": "3.11.5"
  }
 },
 "nbformat": 4,
 "nbformat_minor": 2
}
